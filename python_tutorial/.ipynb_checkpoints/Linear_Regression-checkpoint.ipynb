{
 "cells": [
  {
   "cell_type": "markdown",
   "id": "f3bbae4c-9738-4eed-934b-39acda879d5c",
   "metadata": {
    "tags": []
   },
   "source": [
    "# MACHINELEARNING"
   ]
  },
  {
   "cell_type": "code",
   "execution_count": 1,
   "id": "49d38ee0-3477-47d3-81de-890a7b3c72b0",
   "metadata": {},
   "outputs": [],
   "source": [
    "import pandas as pd\n",
    "import seaborn as sns\n",
    "import matplotlib.pyplot as plt\n",
    "from sklearn.model_selection import train_test_split\n",
    "from sklearn.linear_model import LogisticRegression\n",
    "from sklearn import metrics\n",
    "from sklearn.linear_model import LinearRegression\n",
    "from sklearn.metrics import r2_score\n",
    "import statsmodels.formula.api as sm\n",
    "import numpy as np\n",
    "import pingouin as pg"
   ]
  },
  {
   "cell_type": "code",
   "execution_count": 2,
   "id": "e2d969fc-76b8-4cdd-9451-fd21a54a563e",
   "metadata": {},
   "outputs": [],
   "source": [
    "def multiline(dataframe, exemptions):\n",
    "    for col in dataframe.columns:\n",
    "        if not col == exemptions:\n",
    "            ax = plt.plot(dataframe.index, dataframe[col], label=col)\n",
    "            listOf_Xticks = np.arange(0, len(dataframe), 24 )\n",
    "            plt.xticks(listOf_Xticks)\n",
    "    plt.xticks(rotation=45)\n",
    "    plt.legend()\n",
    "    plt.show()"
   ]
  },
  {
   "cell_type": "code",
   "execution_count": 3,
   "id": "d455eb3a-8076-4320-bcd8-02b569891817",
   "metadata": {},
   "outputs": [],
   "source": [
    "df = pd.read_csv(\"/Users/natemcdowell/Desktop/python_for_the_datajam/datasets/for_ml.csv\")"
   ]
  },
  {
   "cell_type": "markdown",
   "id": "f78b0521-73f6-46b3-820b-a391a76bbc93",
   "metadata": {},
   "source": [
    "## Terms to Know\n",
    "- **R-squared**: the r2(2=squared) value represents how much of the variance in the data can be explained by the model. The higher the value, the better the model fits. \n",
    "- **Adjusted R-squared**: The adjusted r2 value is used to correct some of the problems with raw r2 score. Adjusted r2 accounts for the number of variables with a dataset, only increasing the r2 score if the variable aids in prediction to a degree greater than what would occur simply by chance. The adjusted r2 value can be used as a more accurate way to determine the fit of a model. \n",
    "    - **Best**: above 0.75\n",
    "    - **Decent**: above 0.4\n",
    "- **RMSE**: RMSE stands for root-mean-square deviation. In statistical terms, RMSE is the standard deviation of the residuals, residuals meausring the distance between data points and teh regression line. RMSE tells you how spread the data points are around the regression line; how well the data fits to the model. Lower values for RMSE mean a better fit because ethe data is *less* far from the model.\n",
    "    - **Best**: below 0.2\n",
    "    - **Decent**: below 0.5"
   ]
  },
  {
   "cell_type": "markdown",
   "id": "84c069aa-7109-45bb-8085-d3391d697b8d",
   "metadata": {},
   "source": [
    "## Contents\n",
    "1. [DUMMY_VARIABLES](#1.-DUMMY_VARIABLES)\n",
    "\n",
    "2. [LINEAR_REGRESSION](#2.-LINEAR_REGRESSION)\n",
    "    \n",
    "    2.1 [COVID](#2.1-COVID)\n",
    "    \n",
    "    2.2 [H1N1](#3.-H1N1)\n",
    "\n",
    "    2.3 [Both](#4.-Both)\n",
    "\n",
    "3. [DISCUSSION](#2.-DISCUSSION)"
   ]
  },
  {
   "cell_type": "code",
   "execution_count": 4,
   "id": "eb35014f-093f-4cd7-8c47-f4e273dde460",
   "metadata": {},
   "outputs": [
    {
     "name": "stdout",
     "output_type": "stream",
     "text": [
      "(252, 9)\n"
     ]
    },
    {
     "data": {
      "text/html": [
       "<div>\n",
       "<style scoped>\n",
       "    .dataframe tbody tr th:only-of-type {\n",
       "        vertical-align: middle;\n",
       "    }\n",
       "\n",
       "    .dataframe tbody tr th {\n",
       "        vertical-align: top;\n",
       "    }\n",
       "\n",
       "    .dataframe thead th {\n",
       "        text-align: right;\n",
       "    }\n",
       "</style>\n",
       "<table border=\"1\" class=\"dataframe\">\n",
       "  <thead>\n",
       "    <tr style=\"text-align: right;\">\n",
       "      <th></th>\n",
       "      <th>date</th>\n",
       "      <th>alcohol_deaths</th>\n",
       "      <th>alcohol_sales</th>\n",
       "      <th>drug_deaths</th>\n",
       "      <th>homicides</th>\n",
       "      <th>perc_unemp</th>\n",
       "      <th>suicide_deaths</th>\n",
       "      <th>h1n1_deaths</th>\n",
       "      <th>covid_deaths</th>\n",
       "    </tr>\n",
       "  </thead>\n",
       "  <tbody>\n",
       "    <tr>\n",
       "      <th>0</th>\n",
       "      <td>2000-01-31</td>\n",
       "      <td>0.665408</td>\n",
       "      <td>1.511417</td>\n",
       "      <td>0.631568</td>\n",
       "      <td>0.0</td>\n",
       "      <td>0.0</td>\n",
       "      <td>0.923307</td>\n",
       "      <td>0.0</td>\n",
       "      <td>0.0</td>\n",
       "    </tr>\n",
       "    <tr>\n",
       "      <th>1</th>\n",
       "      <td>2000-02-29</td>\n",
       "      <td>0.584110</td>\n",
       "      <td>1.762654</td>\n",
       "      <td>0.590162</td>\n",
       "      <td>0.0</td>\n",
       "      <td>0.0</td>\n",
       "      <td>0.832206</td>\n",
       "      <td>0.0</td>\n",
       "      <td>0.0</td>\n",
       "    </tr>\n",
       "    <tr>\n",
       "      <th>2</th>\n",
       "      <td>2000-03-31</td>\n",
       "      <td>0.578318</td>\n",
       "      <td>2.136862</td>\n",
       "      <td>0.609973</td>\n",
       "      <td>0.0</td>\n",
       "      <td>0.0</td>\n",
       "      <td>0.896287</td>\n",
       "      <td>0.0</td>\n",
       "      <td>0.0</td>\n",
       "    </tr>\n",
       "    <tr>\n",
       "      <th>3</th>\n",
       "      <td>2000-04-30</td>\n",
       "      <td>0.552910</td>\n",
       "      <td>1.902139</td>\n",
       "      <td>0.627176</td>\n",
       "      <td>0.0</td>\n",
       "      <td>0.0</td>\n",
       "      <td>0.882311</td>\n",
       "      <td>0.0</td>\n",
       "      <td>0.0</td>\n",
       "    </tr>\n",
       "    <tr>\n",
       "      <th>4</th>\n",
       "      <td>2000-05-31</td>\n",
       "      <td>0.563840</td>\n",
       "      <td>2.284832</td>\n",
       "      <td>0.646570</td>\n",
       "      <td>0.0</td>\n",
       "      <td>0.0</td>\n",
       "      <td>0.930976</td>\n",
       "      <td>0.0</td>\n",
       "      <td>0.0</td>\n",
       "    </tr>\n",
       "  </tbody>\n",
       "</table>\n",
       "</div>"
      ],
      "text/plain": [
       "         date  alcohol_deaths  alcohol_sales  drug_deaths  homicides  \\\n",
       "0  2000-01-31        0.665408       1.511417     0.631568        0.0   \n",
       "1  2000-02-29        0.584110       1.762654     0.590162        0.0   \n",
       "2  2000-03-31        0.578318       2.136862     0.609973        0.0   \n",
       "3  2000-04-30        0.552910       1.902139     0.627176        0.0   \n",
       "4  2000-05-31        0.563840       2.284832     0.646570        0.0   \n",
       "\n",
       "   perc_unemp  suicide_deaths  h1n1_deaths  covid_deaths  \n",
       "0         0.0        0.923307          0.0           0.0  \n",
       "1         0.0        0.832206          0.0           0.0  \n",
       "2         0.0        0.896287          0.0           0.0  \n",
       "3         0.0        0.882311          0.0           0.0  \n",
       "4         0.0        0.930976          0.0           0.0  "
      ]
     },
     "execution_count": 4,
     "metadata": {},
     "output_type": "execute_result"
    }
   ],
   "source": [
    "print(df.shape)\n",
    "df.head()"
   ]
  },
  {
   "cell_type": "markdown",
   "id": "08d9f6c2-ad40-4721-b147-06cb72095fe4",
   "metadata": {},
   "source": [
    "## 1. CORRELATION\n",
    "Correlation is a meaurment between -1 and 1 that shows the strenght of a linear relationship between two variables. Since we have many factors in our dataframe, we will be looking at the correlation between many different factors. The correlation below shows the many relationships within our dataframe. "
   ]
  },
  {
   "cell_type": "code",
   "execution_count": 5,
   "id": "d084442a-0107-4e8b-b663-1da13677867a",
   "metadata": {},
   "outputs": [
    {
     "data": {
      "text/html": [
       "<div>\n",
       "<style scoped>\n",
       "    .dataframe tbody tr th:only-of-type {\n",
       "        vertical-align: middle;\n",
       "    }\n",
       "\n",
       "    .dataframe tbody tr th {\n",
       "        vertical-align: top;\n",
       "    }\n",
       "\n",
       "    .dataframe thead th {\n",
       "        text-align: right;\n",
       "    }\n",
       "</style>\n",
       "<table border=\"1\" class=\"dataframe\">\n",
       "  <thead>\n",
       "    <tr style=\"text-align: right;\">\n",
       "      <th></th>\n",
       "      <th>alcohol_deaths</th>\n",
       "      <th>alcohol_sales</th>\n",
       "      <th>drug_deaths</th>\n",
       "      <th>homicides</th>\n",
       "      <th>perc_unemp</th>\n",
       "      <th>suicide_deaths</th>\n",
       "      <th>h1n1_deaths</th>\n",
       "      <th>covid_deaths</th>\n",
       "    </tr>\n",
       "  </thead>\n",
       "  <tbody>\n",
       "    <tr>\n",
       "      <th>alcohol_deaths</th>\n",
       "      <td>1.000</td>\n",
       "      <td>0.797</td>\n",
       "      <td>0.945</td>\n",
       "      <td>0.644</td>\n",
       "      <td>0.192</td>\n",
       "      <td>0.740</td>\n",
       "      <td>-0.061</td>\n",
       "      <td>0.576</td>\n",
       "    </tr>\n",
       "    <tr>\n",
       "      <th>alcohol_sales</th>\n",
       "      <td>0.797</td>\n",
       "      <td>1.000</td>\n",
       "      <td>0.823</td>\n",
       "      <td>0.719</td>\n",
       "      <td>0.295</td>\n",
       "      <td>0.755</td>\n",
       "      <td>-0.054</td>\n",
       "      <td>0.387</td>\n",
       "    </tr>\n",
       "    <tr>\n",
       "      <th>drug_deaths</th>\n",
       "      <td>0.945</td>\n",
       "      <td>0.823</td>\n",
       "      <td>1.000</td>\n",
       "      <td>0.715</td>\n",
       "      <td>0.252</td>\n",
       "      <td>0.799</td>\n",
       "      <td>-0.057</td>\n",
       "      <td>0.461</td>\n",
       "    </tr>\n",
       "    <tr>\n",
       "      <th>homicides</th>\n",
       "      <td>0.644</td>\n",
       "      <td>0.719</td>\n",
       "      <td>0.715</td>\n",
       "      <td>1.000</td>\n",
       "      <td>0.444</td>\n",
       "      <td>0.676</td>\n",
       "      <td>0.065</td>\n",
       "      <td>0.261</td>\n",
       "    </tr>\n",
       "    <tr>\n",
       "      <th>perc_unemp</th>\n",
       "      <td>0.192</td>\n",
       "      <td>0.295</td>\n",
       "      <td>0.252</td>\n",
       "      <td>0.444</td>\n",
       "      <td>1.000</td>\n",
       "      <td>0.209</td>\n",
       "      <td>0.282</td>\n",
       "      <td>0.190</td>\n",
       "    </tr>\n",
       "    <tr>\n",
       "      <th>suicide_deaths</th>\n",
       "      <td>0.740</td>\n",
       "      <td>0.755</td>\n",
       "      <td>0.799</td>\n",
       "      <td>0.676</td>\n",
       "      <td>0.209</td>\n",
       "      <td>1.000</td>\n",
       "      <td>-0.073</td>\n",
       "      <td>0.147</td>\n",
       "    </tr>\n",
       "    <tr>\n",
       "      <th>h1n1_deaths</th>\n",
       "      <td>-0.061</td>\n",
       "      <td>-0.054</td>\n",
       "      <td>-0.057</td>\n",
       "      <td>0.065</td>\n",
       "      <td>0.282</td>\n",
       "      <td>-0.073</td>\n",
       "      <td>1.000</td>\n",
       "      <td>-0.031</td>\n",
       "    </tr>\n",
       "    <tr>\n",
       "      <th>covid_deaths</th>\n",
       "      <td>0.576</td>\n",
       "      <td>0.387</td>\n",
       "      <td>0.461</td>\n",
       "      <td>0.261</td>\n",
       "      <td>0.190</td>\n",
       "      <td>0.147</td>\n",
       "      <td>-0.031</td>\n",
       "      <td>1.000</td>\n",
       "    </tr>\n",
       "  </tbody>\n",
       "</table>\n",
       "</div>"
      ],
      "text/plain": [
       "                alcohol_deaths  alcohol_sales  drug_deaths  homicides  \\\n",
       "alcohol_deaths           1.000          0.797        0.945      0.644   \n",
       "alcohol_sales            0.797          1.000        0.823      0.719   \n",
       "drug_deaths              0.945          0.823        1.000      0.715   \n",
       "homicides                0.644          0.719        0.715      1.000   \n",
       "perc_unemp               0.192          0.295        0.252      0.444   \n",
       "suicide_deaths           0.740          0.755        0.799      0.676   \n",
       "h1n1_deaths             -0.061         -0.054       -0.057      0.065   \n",
       "covid_deaths             0.576          0.387        0.461      0.261   \n",
       "\n",
       "                perc_unemp  suicide_deaths  h1n1_deaths  covid_deaths  \n",
       "alcohol_deaths       0.192           0.740       -0.061         0.576  \n",
       "alcohol_sales        0.295           0.755       -0.054         0.387  \n",
       "drug_deaths          0.252           0.799       -0.057         0.461  \n",
       "homicides            0.444           0.676        0.065         0.261  \n",
       "perc_unemp           1.000           0.209        0.282         0.190  \n",
       "suicide_deaths       0.209           1.000       -0.073         0.147  \n",
       "h1n1_deaths          0.282          -0.073        1.000        -0.031  \n",
       "covid_deaths         0.190           0.147       -0.031         1.000  "
      ]
     },
     "execution_count": 5,
     "metadata": {},
     "output_type": "execute_result"
    }
   ],
   "source": [
    "df.corr().round(3)"
   ]
  },
  {
   "cell_type": "markdown",
   "id": "2234ef1f-a441-4574-8776-7c730ee8cbe0",
   "metadata": {},
   "source": [
    "The table has a diagnol line of 1.000 running through it. This is because the each factor is featured on both the x axis and y axis. The 1 is a result of a factor measures its correlation with itself. Positive numbers are interpretted as positive correlations. The stronger the positive correlation the more likely the factors will \"move\" together(when one goes up the other one does too). Negative numbers are interepretted as negative correlations. The closer to -1 the stronger the NEGATIVE relationship, the likelihood that one factor will increase and the other will decrease. "
   ]
  },
  {
   "cell_type": "code",
   "execution_count": 6,
   "id": "12146590-41c2-4a8a-8185-e319d256c287",
   "metadata": {},
   "outputs": [
    {
     "data": {
      "text/plain": [
       "alcohol_sales   alcohol_deaths    0.797358\n",
       "suicide_deaths  drug_deaths       0.799104\n",
       "drug_deaths     alcohol_sales     0.823369\n",
       "alcohol_deaths  drug_deaths       0.945271\n",
       "                alcohol_deaths    1.000000\n",
       "dtype: float64"
      ]
     },
     "execution_count": 6,
     "metadata": {},
     "output_type": "execute_result"
    }
   ],
   "source": [
    "df.corr().unstack().sort_values().drop_duplicates().tail()\n",
    "# this command will output the strongest positive correlations"
   ]
  },
  {
   "cell_type": "code",
   "execution_count": 7,
   "id": "2df49d57-96b6-48c4-9569-f607cb04fb38",
   "metadata": {},
   "outputs": [
    {
     "data": {
      "text/plain": [
       "suicide_deaths  h1n1_deaths      -0.073000\n",
       "h1n1_deaths     alcohol_deaths   -0.061280\n",
       "drug_deaths     h1n1_deaths      -0.057400\n",
       "h1n1_deaths     alcohol_sales    -0.054427\n",
       "covid_deaths    h1n1_deaths      -0.030727\n",
       "dtype: float64"
      ]
     },
     "execution_count": 7,
     "metadata": {},
     "output_type": "execute_result"
    }
   ],
   "source": [
    "df.corr().unstack().sort_values().drop_duplicates().head()\n",
    "# this command will output the strongest negative correlations"
   ]
  },
  {
   "cell_type": "markdown",
   "id": "316bf864-b2ab-4ea8-b722-871c709da739",
   "metadata": {},
   "source": [
    "Partial Correlation is a measure of correlation between two factors that excludes the influence of the surrounding factors. This meaasure gives us a better idea of how two factors are truly related to each other. "
   ]
  },
  {
   "cell_type": "code",
   "execution_count": 8,
   "id": "ef08ad22-bd3f-4b5b-ac48-8fd1f1479b37",
   "metadata": {},
   "outputs": [
    {
     "data": {
      "text/html": [
       "<div>\n",
       "<style scoped>\n",
       "    .dataframe tbody tr th:only-of-type {\n",
       "        vertical-align: middle;\n",
       "    }\n",
       "\n",
       "    .dataframe tbody tr th {\n",
       "        vertical-align: top;\n",
       "    }\n",
       "\n",
       "    .dataframe thead th {\n",
       "        text-align: right;\n",
       "    }\n",
       "</style>\n",
       "<table border=\"1\" class=\"dataframe\">\n",
       "  <thead>\n",
       "    <tr style=\"text-align: right;\">\n",
       "      <th></th>\n",
       "      <th>alcohol_deaths</th>\n",
       "      <th>alcohol_sales</th>\n",
       "      <th>drug_deaths</th>\n",
       "      <th>homicides</th>\n",
       "      <th>perc_unemp</th>\n",
       "      <th>suicide_deaths</th>\n",
       "      <th>h1n1_deaths</th>\n",
       "      <th>covid_deaths</th>\n",
       "    </tr>\n",
       "  </thead>\n",
       "  <tbody>\n",
       "    <tr>\n",
       "      <th>alcohol_deaths</th>\n",
       "      <td>1.000</td>\n",
       "      <td>0.124</td>\n",
       "      <td>0.780</td>\n",
       "      <td>-0.087</td>\n",
       "      <td>-0.204</td>\n",
       "      <td>0.145</td>\n",
       "      <td>0.071</td>\n",
       "      <td>0.507</td>\n",
       "    </tr>\n",
       "    <tr>\n",
       "      <th>alcohol_sales</th>\n",
       "      <td>0.124</td>\n",
       "      <td>1.000</td>\n",
       "      <td>0.114</td>\n",
       "      <td>0.253</td>\n",
       "      <td>0.081</td>\n",
       "      <td>0.242</td>\n",
       "      <td>-0.067</td>\n",
       "      <td>0.067</td>\n",
       "    </tr>\n",
       "    <tr>\n",
       "      <th>drug_deaths</th>\n",
       "      <td>0.780</td>\n",
       "      <td>0.114</td>\n",
       "      <td>1.000</td>\n",
       "      <td>0.209</td>\n",
       "      <td>0.104</td>\n",
       "      <td>0.213</td>\n",
       "      <td>-0.054</td>\n",
       "      <td>-0.148</td>\n",
       "    </tr>\n",
       "    <tr>\n",
       "      <th>homicides</th>\n",
       "      <td>-0.087</td>\n",
       "      <td>0.253</td>\n",
       "      <td>0.209</td>\n",
       "      <td>1.000</td>\n",
       "      <td>0.322</td>\n",
       "      <td>0.156</td>\n",
       "      <td>0.067</td>\n",
       "      <td>-0.029</td>\n",
       "    </tr>\n",
       "    <tr>\n",
       "      <th>perc_unemp</th>\n",
       "      <td>-0.204</td>\n",
       "      <td>0.081</td>\n",
       "      <td>0.104</td>\n",
       "      <td>0.322</td>\n",
       "      <td>1.000</td>\n",
       "      <td>-0.002</td>\n",
       "      <td>0.282</td>\n",
       "      <td>0.199</td>\n",
       "    </tr>\n",
       "    <tr>\n",
       "      <th>suicide_deaths</th>\n",
       "      <td>0.145</td>\n",
       "      <td>0.242</td>\n",
       "      <td>0.213</td>\n",
       "      <td>0.156</td>\n",
       "      <td>-0.002</td>\n",
       "      <td>1.000</td>\n",
       "      <td>-0.072</td>\n",
       "      <td>-0.431</td>\n",
       "    </tr>\n",
       "    <tr>\n",
       "      <th>h1n1_deaths</th>\n",
       "      <td>0.071</td>\n",
       "      <td>-0.067</td>\n",
       "      <td>-0.054</td>\n",
       "      <td>0.067</td>\n",
       "      <td>0.282</td>\n",
       "      <td>-0.072</td>\n",
       "      <td>1.000</td>\n",
       "      <td>-0.077</td>\n",
       "    </tr>\n",
       "    <tr>\n",
       "      <th>covid_deaths</th>\n",
       "      <td>0.507</td>\n",
       "      <td>0.067</td>\n",
       "      <td>-0.148</td>\n",
       "      <td>-0.029</td>\n",
       "      <td>0.199</td>\n",
       "      <td>-0.431</td>\n",
       "      <td>-0.077</td>\n",
       "      <td>1.000</td>\n",
       "    </tr>\n",
       "  </tbody>\n",
       "</table>\n",
       "</div>"
      ],
      "text/plain": [
       "                alcohol_deaths  alcohol_sales  drug_deaths  homicides  \\\n",
       "alcohol_deaths           1.000          0.124        0.780     -0.087   \n",
       "alcohol_sales            0.124          1.000        0.114      0.253   \n",
       "drug_deaths              0.780          0.114        1.000      0.209   \n",
       "homicides               -0.087          0.253        0.209      1.000   \n",
       "perc_unemp              -0.204          0.081        0.104      0.322   \n",
       "suicide_deaths           0.145          0.242        0.213      0.156   \n",
       "h1n1_deaths              0.071         -0.067       -0.054      0.067   \n",
       "covid_deaths             0.507          0.067       -0.148     -0.029   \n",
       "\n",
       "                perc_unemp  suicide_deaths  h1n1_deaths  covid_deaths  \n",
       "alcohol_deaths      -0.204           0.145        0.071         0.507  \n",
       "alcohol_sales        0.081           0.242       -0.067         0.067  \n",
       "drug_deaths          0.104           0.213       -0.054        -0.148  \n",
       "homicides            0.322           0.156        0.067        -0.029  \n",
       "perc_unemp           1.000          -0.002        0.282         0.199  \n",
       "suicide_deaths      -0.002           1.000       -0.072        -0.431  \n",
       "h1n1_deaths          0.282          -0.072        1.000        -0.077  \n",
       "covid_deaths         0.199          -0.431       -0.077         1.000  "
      ]
     },
     "execution_count": 8,
     "metadata": {},
     "output_type": "execute_result"
    }
   ],
   "source": [
    "df.pcorr().round(3)"
   ]
  },
  {
   "cell_type": "code",
   "execution_count": 9,
   "id": "7f1b5bac-9475-4e68-9990-37c41fceb6d2",
   "metadata": {},
   "outputs": [
    {
     "data": {
      "text/plain": [
       "perc_unemp      homicides         0.321795\n",
       "homicides       perc_unemp        0.321795\n",
       "covid_deaths    alcohol_deaths    0.506915\n",
       "drug_deaths     alcohol_deaths    0.779932\n",
       "alcohol_deaths  alcohol_deaths    1.000000\n",
       "dtype: float64"
      ]
     },
     "execution_count": 9,
     "metadata": {},
     "output_type": "execute_result"
    }
   ],
   "source": [
    "df.pcorr().unstack().sort_values().drop_duplicates().tail()"
   ]
  },
  {
   "cell_type": "code",
   "execution_count": 10,
   "id": "3a54c2ea-c284-45a6-a9a6-f56cdde18cd7",
   "metadata": {},
   "outputs": [
    {
     "data": {
      "text/plain": [
       "suicide_deaths  covid_deaths     -0.431050\n",
       "covid_deaths    suicide_deaths   -0.431050\n",
       "alcohol_deaths  perc_unemp       -0.204477\n",
       "perc_unemp      alcohol_deaths   -0.204477\n",
       "covid_deaths    drug_deaths      -0.147779\n",
       "dtype: float64"
      ]
     },
     "execution_count": 10,
     "metadata": {},
     "output_type": "execute_result"
    }
   ],
   "source": [
    "df.pcorr().unstack().sort_values().drop_duplicates().head()"
   ]
  },
  {
   "cell_type": "markdown",
   "id": "53d47bd3-7f53-44d0-a058-05708a565fea",
   "metadata": {},
   "source": [
    "# 2. LINEAR_REGRESSION\n",
    "<hr>\n",
    "Linear Regression is a statistical approach that models the relationship of indepencdent variables and a single dependent variable. We will be using the 3 dummy variables we created as our dependent variables(as we are trying to prove how much a pandemic \"depends\" on our selected factors). The linear regression will help us deteremine how strongly each independent variable affects the different dependent variables. "
   ]
  },
  {
   "cell_type": "code",
   "execution_count": 11,
   "id": "cf88220c-555a-458c-bcd3-3195011e08b5",
   "metadata": {},
   "outputs": [],
   "source": [
    "# here we set our variables. \"X\" = independent, \"y\" = dependent. \n",
    "#X=df[['alcohol_deaths','alcohol_sales','drug_deaths','homicides','suicide_deaths','perc_unemp','gdp_period','yearly_infl']]\n",
    "X=df[['alcohol_deaths','alcohol_sales','drug_deaths','homicides','covid_deaths','h1n1_deaths','perc_unemp']]\n",
    "\n",
    "\n",
    "y=df[['suicide_deaths']]"
   ]
  },
  {
   "cell_type": "markdown",
   "id": "45b5ad85-4203-4013-8af8-73c97c511de9",
   "metadata": {},
   "source": [
    "The commanand below splits our data into the test and training set. The training set is used to train the model, basically teaching the model the best weights to set each vaiable at. The test set is used for testing the trained model on. The testing of the model will be explained via demonstration below. \n",
    "\n",
    "As for my split, I put 20% of the data in the training set and 80% of data in the testing set. This is set with the \"test_size\" parameter in the \"train_test_split\" function. I found this split to be effective at building a good model; however, feel free to play around with differnt sizes to see how it affects your model. "
   ]
  },
  {
   "cell_type": "code",
   "execution_count": 12,
   "id": "37f72768-3a32-4245-9b56-565a8edc493d",
   "metadata": {},
   "outputs": [],
   "source": [
    "X_train, X_test, y_train, y_test = train_test_split(X, y, test_size=0.2, random_state=1)"
   ]
  },
  {
   "cell_type": "code",
   "execution_count": 13,
   "id": "17bef750-0198-4f7a-938f-31ae9cb23022",
   "metadata": {},
   "outputs": [
    {
     "data": {
      "text/plain": [
       "LinearRegression()"
      ]
     },
     "execution_count": 13,
     "metadata": {},
     "output_type": "execute_result"
    }
   ],
   "source": [
    "regression_model = LinearRegression()\n",
    "regression_model.fit(X_train, y_train)"
   ]
  },
  {
   "cell_type": "markdown",
   "id": "2bf3dc06-5e94-4ffb-acfd-d73b9017e337",
   "metadata": {},
   "source": [
    "### Model"
   ]
  },
  {
   "cell_type": "code",
   "execution_count": 14,
   "id": "d1fc8664-0746-4742-998b-b5e0744e4612",
   "metadata": {},
   "outputs": [
    {
     "name": "stdout",
     "output_type": "stream",
     "text": [
      "The coefficient for alcohol_deaths is 0.1474922442037885\n",
      "The coefficient for alcohol_sales is 0.04424300762766949\n",
      "The coefficient for drug_deaths is 0.1434200522662822\n",
      "The coefficient for homicides is 0.06381968069648356\n",
      "The coefficient for covid_deaths is -0.004278357870728257\n",
      "The coefficient for h1n1_deaths is -0.005993410056251478\n",
      "The coefficient for perc_unemp is 0.0005237198255524248\n"
     ]
    }
   ],
   "source": [
    "for idx, col_name in enumerate(X_train.columns):\n",
    "    print(\"The coefficient for {} is {}\".format(col_name, regression_model.coef_[0][idx]))\n",
    "    # This function trains the model and assigns the weight for each function. The higher the value of coefficient indicates that as the \n",
    "# indepenent variable increases the dependent variable also tends to increase."
   ]
  },
  {
   "cell_type": "code",
   "execution_count": 15,
   "id": "a3a83a87-fb25-4493-8f67-22c633d543f0",
   "metadata": {},
   "outputs": [
    {
     "name": "stdout",
     "output_type": "stream",
     "text": [
      "The intercept for our model is 0.5975400056055207\n"
     ]
    }
   ],
   "source": [
    "intercept = regression_model.intercept_[0]\n",
    "print(\"The intercept for our model is {}\".format(intercept))\n",
    "# this function is used to find the y intercept of our data(the value of our y variable when x = 0)"
   ]
  },
  {
   "cell_type": "code",
   "execution_count": 16,
   "id": "b1b3fdd2-9f37-4118-becd-15dd39ff6011",
   "metadata": {},
   "outputs": [
    {
     "name": "stdout",
     "output_type": "stream",
     "text": [
      "y =  0.5975400056055207 +\n",
      "alcohol_deaths(0.15) + \n",
      "alcohol_sales(0.04) + \n",
      "drug_deaths(0.14) + \n",
      "homicides(0.06) + \n",
      "covid_deaths(-0.0) + \n",
      "h1n1_deaths(-0.01) + \n",
      "perc_unemp(0.0) + \n"
     ]
    }
   ],
   "source": [
    "print(\"y = \",intercept, \"+\")\n",
    "for idx, col_name in enumerate(X_train.columns):\n",
    "    print(\"{}({}) + \".format(col_name, round(regression_model.coef_[0][idx],2)))\n",
    "#Our regression line for this model is: "
   ]
  },
  {
   "cell_type": "markdown",
   "id": "2db8c6cc-39c3-42f7-b581-8ae605be6d07",
   "metadata": {},
   "source": [
    " In THIS model(COVID) the highest coeffecient is for alcohol_deaths. This means that it is likely more alcohol deaths will occur if COVID deaths rise. The other variables in this model have negative correlations. This means the as COVID deaths rise their repspective values will fall. "
   ]
  },
  {
   "cell_type": "markdown",
   "id": "d807dc6a-8500-48dd-96b0-661961f94d43",
   "metadata": {},
   "source": [
    "### R squared"
   ]
  },
  {
   "cell_type": "code",
   "execution_count": 17,
   "id": "e4d7ce4f-c041-4f65-a573-a6dc517451a6",
   "metadata": {},
   "outputs": [
    {
     "data": {
      "text/plain": [
       "0.6673326963243675"
      ]
     },
     "execution_count": 17,
     "metadata": {},
     "output_type": "execute_result"
    }
   ],
   "source": [
    "regression_model.score(X_test, y_test)"
   ]
  },
  {
   "cell_type": "code",
   "execution_count": 18,
   "id": "4f649163-e42a-433b-9d0a-48d9222b190d",
   "metadata": {},
   "outputs": [
    {
     "data": {
      "text/html": [
       "<table class=\"simpletable\">\n",
       "<caption>OLS Regression Results</caption>\n",
       "<tr>\n",
       "  <th>Dep. Variable:</th>     <td>suicide_deaths</td>  <th>  R-squared:         </th> <td>   0.744</td>\n",
       "</tr>\n",
       "<tr>\n",
       "  <th>Model:</th>                   <td>OLS</td>       <th>  Adj. R-squared:    </th> <td>   0.736</td>\n",
       "</tr>\n",
       "<tr>\n",
       "  <th>Method:</th>             <td>Least Squares</td>  <th>  F-statistic:       </th> <td>   101.1</td>\n",
       "</tr>\n",
       "<tr>\n",
       "  <th>Date:</th>             <td>Fri, 29 Jul 2022</td> <th>  Prob (F-statistic):</th> <td>1.93e-68</td>\n",
       "</tr>\n",
       "<tr>\n",
       "  <th>Time:</th>                 <td>14:48:45</td>     <th>  Log-Likelihood:    </th> <td>  327.53</td>\n",
       "</tr>\n",
       "<tr>\n",
       "  <th>No. Observations:</th>      <td>   252</td>      <th>  AIC:               </th> <td>  -639.1</td>\n",
       "</tr>\n",
       "<tr>\n",
       "  <th>Df Residuals:</th>          <td>   244</td>      <th>  BIC:               </th> <td>  -610.8</td>\n",
       "</tr>\n",
       "<tr>\n",
       "  <th>Df Model:</th>              <td>     7</td>      <th>                     </th>     <td> </td>   \n",
       "</tr>\n",
       "<tr>\n",
       "  <th>Covariance Type:</th>      <td>nonrobust</td>    <th>                     </th>     <td> </td>   \n",
       "</tr>\n",
       "</table>\n",
       "<table class=\"simpletable\">\n",
       "<tr>\n",
       "         <td></td>           <th>coef</th>     <th>std err</th>      <th>t</th>      <th>P>|t|</th>  <th>[0.025</th>    <th>0.975]</th>  \n",
       "</tr>\n",
       "<tr>\n",
       "  <th>Intercept</th>      <td>    0.5978</td> <td>    0.037</td> <td>   16.177</td> <td> 0.000</td> <td>    0.525</td> <td>    0.671</td>\n",
       "</tr>\n",
       "<tr>\n",
       "  <th>alcohol_deaths</th> <td>    0.2011</td> <td>    0.088</td> <td>    2.282</td> <td> 0.023</td> <td>    0.028</td> <td>    0.375</td>\n",
       "</tr>\n",
       "<tr>\n",
       "  <th>alcohol_sales</th>  <td>    0.0434</td> <td>    0.011</td> <td>    3.894</td> <td> 0.000</td> <td>    0.021</td> <td>    0.065</td>\n",
       "</tr>\n",
       "<tr>\n",
       "  <th>drug_deaths</th>    <td>    0.1112</td> <td>    0.033</td> <td>    3.406</td> <td> 0.001</td> <td>    0.047</td> <td>    0.176</td>\n",
       "</tr>\n",
       "<tr>\n",
       "  <th>homicides</th>      <td>    0.0774</td> <td>    0.031</td> <td>    2.472</td> <td> 0.014</td> <td>    0.016</td> <td>    0.139</td>\n",
       "</tr>\n",
       "<tr>\n",
       "  <th>covid_deaths</th>   <td>   -0.0036</td> <td>    0.000</td> <td>   -7.462</td> <td> 0.000</td> <td>   -0.005</td> <td>   -0.003</td>\n",
       "</tr>\n",
       "<tr>\n",
       "  <th>h1n1_deaths</th>    <td>   -0.0084</td> <td>    0.007</td> <td>   -1.125</td> <td> 0.262</td> <td>   -0.023</td> <td>    0.006</td>\n",
       "</tr>\n",
       "<tr>\n",
       "  <th>perc_unemp</th>     <td>-6.179e-05</td> <td>    0.002</td> <td>   -0.033</td> <td> 0.974</td> <td>   -0.004</td> <td>    0.004</td>\n",
       "</tr>\n",
       "</table>\n",
       "<table class=\"simpletable\">\n",
       "<tr>\n",
       "  <th>Omnibus:</th>       <td> 5.759</td> <th>  Durbin-Watson:     </th> <td>   0.987</td>\n",
       "</tr>\n",
       "<tr>\n",
       "  <th>Prob(Omnibus):</th> <td> 0.056</td> <th>  Jarque-Bera (JB):  </th> <td>   5.620</td>\n",
       "</tr>\n",
       "<tr>\n",
       "  <th>Skew:</th>          <td>-0.364</td> <th>  Prob(JB):          </th> <td>  0.0602</td>\n",
       "</tr>\n",
       "<tr>\n",
       "  <th>Kurtosis:</th>      <td> 3.073</td> <th>  Cond. No.          </th> <td>    272.</td>\n",
       "</tr>\n",
       "</table><br/><br/>Notes:<br/>[1] Standard Errors assume that the covariance matrix of the errors is correctly specified."
      ],
      "text/plain": [
       "<class 'statsmodels.iolib.summary.Summary'>\n",
       "\"\"\"\n",
       "                            OLS Regression Results                            \n",
       "==============================================================================\n",
       "Dep. Variable:         suicide_deaths   R-squared:                       0.744\n",
       "Model:                            OLS   Adj. R-squared:                  0.736\n",
       "Method:                 Least Squares   F-statistic:                     101.1\n",
       "Date:                Fri, 29 Jul 2022   Prob (F-statistic):           1.93e-68\n",
       "Time:                        14:48:45   Log-Likelihood:                 327.53\n",
       "No. Observations:                 252   AIC:                            -639.1\n",
       "Df Residuals:                     244   BIC:                            -610.8\n",
       "Df Model:                           7                                         \n",
       "Covariance Type:            nonrobust                                         \n",
       "==================================================================================\n",
       "                     coef    std err          t      P>|t|      [0.025      0.975]\n",
       "----------------------------------------------------------------------------------\n",
       "Intercept          0.5978      0.037     16.177      0.000       0.525       0.671\n",
       "alcohol_deaths     0.2011      0.088      2.282      0.023       0.028       0.375\n",
       "alcohol_sales      0.0434      0.011      3.894      0.000       0.021       0.065\n",
       "drug_deaths        0.1112      0.033      3.406      0.001       0.047       0.176\n",
       "homicides          0.0774      0.031      2.472      0.014       0.016       0.139\n",
       "covid_deaths      -0.0036      0.000     -7.462      0.000      -0.005      -0.003\n",
       "h1n1_deaths       -0.0084      0.007     -1.125      0.262      -0.023       0.006\n",
       "perc_unemp     -6.179e-05      0.002     -0.033      0.974      -0.004       0.004\n",
       "==============================================================================\n",
       "Omnibus:                        5.759   Durbin-Watson:                   0.987\n",
       "Prob(Omnibus):                  0.056   Jarque-Bera (JB):                5.620\n",
       "Skew:                          -0.364   Prob(JB):                       0.0602\n",
       "Kurtosis:                       3.073   Cond. No.                         272.\n",
       "==============================================================================\n",
       "\n",
       "Notes:\n",
       "[1] Standard Errors assume that the covariance matrix of the errors is correctly specified.\n",
       "\"\"\""
      ]
     },
     "execution_count": 18,
     "metadata": {},
     "output_type": "execute_result"
    }
   ],
   "source": [
    "#lm = sm.ols(formula='covid_dum ~ alcohol_deaths + alcohol_sales + drug_deaths + homicides + suicide_deaths + perc_unemp + gdp_period + yearly_infl', data=df)\n",
    "lm = sm.ols(formula='suicide_deaths ~ alcohol_deaths + alcohol_sales + drug_deaths + homicides + covid_deaths + h1n1_deaths + perc_unemp', data=df)\n",
    "fit = lm.fit()\n",
    "fit.summary()"
   ]
  },
  {
   "cell_type": "markdown",
   "id": "b7bfa31b-7ca0-4879-bce1-f84f51ea1d03",
   "metadata": {},
   "source": [
    "Our adjusted R-squared for this model is 0.565. This value represents the percent of variation in the dependent variable that can be predicted by the indendent variable(s). In other words this is how well the different factors can be used to forecast when there will be covid deaths.  Although the optimal range for adjusted r is above 0.75, the value we produced still tells us that our model is relatively effective at predicting the dependent variable(covid_deaths). "
   ]
  },
  {
   "cell_type": "code",
   "execution_count": 19,
   "id": "1aed67a8-b7b7-4702-882d-166cdc595f34",
   "metadata": {},
   "outputs": [
    {
     "data": {
      "text/html": [
       "<div>\n",
       "<style scoped>\n",
       "    .dataframe tbody tr th:only-of-type {\n",
       "        vertical-align: middle;\n",
       "    }\n",
       "\n",
       "    .dataframe tbody tr th {\n",
       "        vertical-align: top;\n",
       "    }\n",
       "\n",
       "    .dataframe thead th {\n",
       "        text-align: right;\n",
       "    }\n",
       "</style>\n",
       "<table border=\"1\" class=\"dataframe\">\n",
       "  <thead>\n",
       "    <tr style=\"text-align: right;\">\n",
       "      <th></th>\n",
       "      <th>alcohol_deaths</th>\n",
       "      <th>alcohol_sales</th>\n",
       "      <th>drug_deaths</th>\n",
       "      <th>homicides</th>\n",
       "      <th>covid_deaths</th>\n",
       "      <th>h1n1_deaths</th>\n",
       "      <th>perc_unemp</th>\n",
       "    </tr>\n",
       "  </thead>\n",
       "  <tbody>\n",
       "    <tr>\n",
       "      <th>67</th>\n",
       "      <td>0.584914</td>\n",
       "      <td>2.872502</td>\n",
       "      <td>0.908476</td>\n",
       "      <td>0.000000</td>\n",
       "      <td>0.000000</td>\n",
       "      <td>0.0</td>\n",
       "      <td>4.9</td>\n",
       "    </tr>\n",
       "    <tr>\n",
       "      <th>251</th>\n",
       "      <td>1.399548</td>\n",
       "      <td>4.923888</td>\n",
       "      <td>2.387641</td>\n",
       "      <td>0.667069</td>\n",
       "      <td>104.310475</td>\n",
       "      <td>0.0</td>\n",
       "      <td>6.7</td>\n",
       "    </tr>\n",
       "    <tr>\n",
       "      <th>231</th>\n",
       "      <td>0.951684</td>\n",
       "      <td>3.948267</td>\n",
       "      <td>1.788982</td>\n",
       "      <td>0.440459</td>\n",
       "      <td>0.000000</td>\n",
       "      <td>0.0</td>\n",
       "      <td>3.6</td>\n",
       "    </tr>\n",
       "    <tr>\n",
       "      <th>161</th>\n",
       "      <td>0.726703</td>\n",
       "      <td>3.591400</td>\n",
       "      <td>1.233020</td>\n",
       "      <td>0.471169</td>\n",
       "      <td>0.000000</td>\n",
       "      <td>0.0</td>\n",
       "      <td>7.5</td>\n",
       "    </tr>\n",
       "    <tr>\n",
       "      <th>91</th>\n",
       "      <td>0.633499</td>\n",
       "      <td>3.165174</td>\n",
       "      <td>1.093864</td>\n",
       "      <td>0.566833</td>\n",
       "      <td>0.000000</td>\n",
       "      <td>0.0</td>\n",
       "      <td>4.6</td>\n",
       "    </tr>\n",
       "  </tbody>\n",
       "</table>\n",
       "</div>"
      ],
      "text/plain": [
       "     alcohol_deaths  alcohol_sales  drug_deaths  homicides  covid_deaths  \\\n",
       "67         0.584914       2.872502     0.908476   0.000000      0.000000   \n",
       "251        1.399548       4.923888     2.387641   0.667069    104.310475   \n",
       "231        0.951684       3.948267     1.788982   0.440459      0.000000   \n",
       "161        0.726703       3.591400     1.233020   0.471169      0.000000   \n",
       "91         0.633499       3.165174     1.093864   0.566833      0.000000   \n",
       "\n",
       "     h1n1_deaths  perc_unemp  \n",
       "67           0.0         4.9  \n",
       "251          0.0         6.7  \n",
       "231          0.0         3.6  \n",
       "161          0.0         7.5  \n",
       "91           0.0         4.6  "
      ]
     },
     "execution_count": 19,
     "metadata": {},
     "output_type": "execute_result"
    }
   ],
   "source": [
    "X_test.head()"
   ]
  },
  {
   "cell_type": "code",
   "execution_count": 20,
   "id": "18f043e7-88ed-40b0-8c12-3ff564c46b1c",
   "metadata": {},
   "outputs": [],
   "source": [
    "from sklearn.metrics import mean_squared_error\n",
    "y_predict = regression_model.predict(X_test)"
   ]
  },
  {
   "cell_type": "code",
   "execution_count": 21,
   "id": "4e6bce4b-cf8d-4080-b72d-a63d81752186",
   "metadata": {},
   "outputs": [
    {
     "data": {
      "text/plain": [
       "0.0056526235461199946"
      ]
     },
     "execution_count": 21,
     "metadata": {},
     "output_type": "execute_result"
    }
   ],
   "source": [
    "regression_model_mse = mean_squared_error(y_predict, y_test)\n",
    "regression_model_mse"
   ]
  },
  {
   "cell_type": "markdown",
   "id": "b6b72e82-ac65-4e52-9945-b565c81bb15a",
   "metadata": {},
   "source": [
    "### RMSE"
   ]
  },
  {
   "cell_type": "code",
   "execution_count": 22,
   "id": "d986da18-0285-4ad9-a9a9-65468147f5e5",
   "metadata": {},
   "outputs": [
    {
     "data": {
      "text/plain": [
       "0.0751839314356465"
      ]
     },
     "execution_count": 22,
     "metadata": {},
     "output_type": "execute_result"
    }
   ],
   "source": [
    "import math\n",
    "math.sqrt(regression_model_mse)"
   ]
  },
  {
   "cell_type": "markdown",
   "id": "a0302deb-4055-48a5-bde9-b90f519377ea",
   "metadata": {},
   "source": [
    "Our model has an RMSE below 0.2 meaning that the average variation of the data from the linear model is very small. This indicates that the model is effective at prediction."
   ]
  },
  {
   "cell_type": "markdown",
   "id": "e3a78da1-fc58-48b6-92d6-9b187e5c56db",
   "metadata": {},
   "source": [
    "# 3. Discussion"
   ]
  },
  {
   "cell_type": "markdown",
   "id": "539bc9db-af3f-4651-9a36-e192c85937fa",
   "metadata": {},
   "source": [
    "Research question:\n",
    "- Do h1n1 classify as a pandemic compared to the covid 19 pandemic?\n",
    "- What factors are correlated most with mental health decline during a pandemic?\n",
    "- Did the H1N1 pandemic (2009-2010) have a negative effect on mental health?\n",
    "\n",
    "\n",
    "- Covid: \n",
    "    - alcohol_deaths(0.79) \n",
    "    - suicide_deaths(-0.83)\n",
    "    - R = 0.565\n",
    "    - RMSE = 0.18186618637885996\n",
    "- h1n1: \n",
    "    - alcohol_deaths(-0.23)\n",
    "    - homicide(0.14)\n",
    "    - R = 0.156\n",
    "    - RMSE = 0.20981691979048442\n",
    "- both: \n",
    "    - alcohol_deaths(0.56)\n",
    "    - suicide_deaths(-0.76)\n",
    "    - R = 0.329\n",
    "    - RMSE = 0.26987030762879516"
   ]
  },
  {
   "cell_type": "markdown",
   "id": "c89963df-c098-4b46-9fde-9dee03a0f3cd",
   "metadata": {},
   "source": [
    "After our analysis, which includes the visualitions as well as the linear models above, we have created a story that shows the differences between h1n1 and covid. In our scaled visualizations we saw the huge difference between the number of h1n1 deaths and the number of COVID deaths. We investigated the differnces further by conduction a linear regression that we built to predict the occurence of deaths due to each virus based on the a group of independent  variables: alcohol_deaths, alcohol sales, drug_deaths, homicides, suicide_deaths, percent unemployed. The adjusted r score of our COVID model was 0.565, 3 times higher than the R score for the H1N1 model. This indicates that the COVID model was a much better fit for the data; the changes in the data could be explained 3 times better with the COVID model than the h1n1 model. Our RMSE scores for both models were slightly more similiar. COVID scored 0.18 and H1N1 scored 0.21. This score also supports that the covid model was more prescise as the average varaince of the model from the data was lower. I ran a third model that group the dummy variables from bith H1N1 and COVID. The R score was right in the middle of the other two but the RMSE was the highest out of all three. I believe that this is because the model was being built to predict at two different points, making the likelihood for error higher."
   ]
  },
  {
   "cell_type": "code",
   "execution_count": null,
   "id": "a98d4af4-1060-4b83-9e7c-d9ed45077467",
   "metadata": {},
   "outputs": [],
   "source": []
  }
 ],
 "metadata": {
  "kernelspec": {
   "display_name": "Python 3",
   "language": "python",
   "name": "python3"
  },
  "language_info": {
   "codemirror_mode": {
    "name": "ipython",
    "version": 3
   },
   "file_extension": ".py",
   "mimetype": "text/x-python",
   "name": "python",
   "nbconvert_exporter": "python",
   "pygments_lexer": "ipython3",
   "version": "3.8.8"
  }
 },
 "nbformat": 4,
 "nbformat_minor": 5
}
