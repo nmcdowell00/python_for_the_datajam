{
 "cells": [
  {
   "cell_type": "markdown",
   "id": "f3bbae4c-9738-4eed-934b-39acda879d5c",
   "metadata": {
    "tags": []
   },
   "source": [
    "# MACHINELEARNING"
   ]
  },
  {
   "cell_type": "code",
   "execution_count": 1,
   "id": "49d38ee0-3477-47d3-81de-890a7b3c72b0",
   "metadata": {},
   "outputs": [],
   "source": [
    "import pandas as pd\n",
    "import seaborn as sns\n",
    "import matplotlib.pyplot as plt\n",
    "from sklearn.model_selection import train_test_split\n",
    "from sklearn.linear_model import LogisticRegression\n",
    "from sklearn import metrics\n",
    "from sklearn.linear_model import LinearRegression\n",
    "from sklearn.metrics import r2_score\n",
    "import statsmodels.formula.api as sm\n",
    "import numpy as np\n",
    "import pingouin as pg"
   ]
  },
  {
   "cell_type": "code",
   "execution_count": 2,
   "id": "e2d969fc-76b8-4cdd-9451-fd21a54a563e",
   "metadata": {},
   "outputs": [],
   "source": [
    "def multiline(dataframe, exemptions):\n",
    "    for col in dataframe.columns:\n",
    "        if not col == exemptions:\n",
    "            ax = plt.plot(dataframe.index, dataframe[col], label=col)\n",
    "            listOf_Xticks = np.arange(0, len(dataframe), 24 )\n",
    "            plt.xticks(listOf_Xticks)\n",
    "    plt.xticks(rotation=45)\n",
    "    plt.legend()\n",
    "    plt.show()"
   ]
  },
  {
   "cell_type": "code",
   "execution_count": 3,
   "id": "d455eb3a-8076-4320-bcd8-02b569891817",
   "metadata": {},
   "outputs": [],
   "source": [
    "df = pd.read_csv(\"/Users/natemcdowell/Desktop/python_for_the_datajam/datasets/for_ml.csv\")"
   ]
  },
  {
   "cell_type": "markdown",
   "id": "f78b0521-73f6-46b3-820b-a391a76bbc93",
   "metadata": {},
   "source": [
    "## Terms to Know\n",
    "- **R-squared**: the r2(2=squared) value represents how much of the variance in the data can be explained by the model. The higher the value, the better the model fits. \n",
    "- **Adjusted R-squared**: The adjusted r2 value is used to correct some of the problems with raw r2 score. Adjusted r2 accounts for the number of variables with a dataset, only increasing the r2 score if the variable aids in prediction to a degree greater than what would occur simply by chance. The adjusted r2 value can be used as a more accurate way to determine the fit of a model. \n",
    "    - **Best**: above 0.75\n",
    "    - **Decent**: above 0.4\n",
    "- **RMSE**: RMSE stands for root-mean-square deviation. In statistical terms, RMSE is the standard deviation of the residuals, residuals meausring the distance between data points and teh regression line. RMSE tells you how spread the data points are around the regression line; how well the data fits to the model. Lower values for RMSE mean a better fit because ethe data is *less* far from the model.\n",
    "    - **Best**: below 0.2\n",
    "    - **Decent**: below 0.5"
   ]
  },
  {
   "cell_type": "markdown",
   "id": "84c069aa-7109-45bb-8085-d3391d697b8d",
   "metadata": {},
   "source": [
    "## Contents\n",
    "1. [DUMMY_VARIABLES](#1.-DUMMY_VARIABLES)\n",
    "\n",
    "2. [LINEAR_REGRESSION](#2.-LINEAR_REGRESSION)\n",
    "    \n",
    "    2.1 [COVID](#2.1-COVID)\n",
    "    \n",
    "    2.2 [H1N1](#3.-H1N1)\n",
    "\n",
    "    2.3 [Both](#4.-Both)\n",
    "\n",
    "3. [DISCUSSION](#2.-DISCUSSION)"
   ]
  },
  {
   "cell_type": "code",
   "execution_count": 4,
   "id": "eb35014f-093f-4cd7-8c47-f4e273dde460",
   "metadata": {},
   "outputs": [
    {
     "name": "stdout",
     "output_type": "stream",
     "text": [
      "(252, 9)\n"
     ]
    },
    {
     "data": {
      "text/html": [
       "<div>\n",
       "<style scoped>\n",
       "    .dataframe tbody tr th:only-of-type {\n",
       "        vertical-align: middle;\n",
       "    }\n",
       "\n",
       "    .dataframe tbody tr th {\n",
       "        vertical-align: top;\n",
       "    }\n",
       "\n",
       "    .dataframe thead th {\n",
       "        text-align: right;\n",
       "    }\n",
       "</style>\n",
       "<table border=\"1\" class=\"dataframe\">\n",
       "  <thead>\n",
       "    <tr style=\"text-align: right;\">\n",
       "      <th></th>\n",
       "      <th>date</th>\n",
       "      <th>alcohol_deaths</th>\n",
       "      <th>alcohol_sales</th>\n",
       "      <th>drug_deaths</th>\n",
       "      <th>homicides</th>\n",
       "      <th>perc_unemp</th>\n",
       "      <th>suicide_deaths</th>\n",
       "      <th>h1n1_deaths</th>\n",
       "      <th>covid_deaths</th>\n",
       "    </tr>\n",
       "  </thead>\n",
       "  <tbody>\n",
       "    <tr>\n",
       "      <th>0</th>\n",
       "      <td>2000-01-31</td>\n",
       "      <td>0.665408</td>\n",
       "      <td>0.353813</td>\n",
       "      <td>0.631568</td>\n",
       "      <td>0.0</td>\n",
       "      <td>0.0</td>\n",
       "      <td>0.923307</td>\n",
       "      <td>0.0</td>\n",
       "      <td>0.0</td>\n",
       "    </tr>\n",
       "    <tr>\n",
       "      <th>1</th>\n",
       "      <td>2000-02-29</td>\n",
       "      <td>0.584110</td>\n",
       "      <td>0.412626</td>\n",
       "      <td>0.590162</td>\n",
       "      <td>0.0</td>\n",
       "      <td>0.0</td>\n",
       "      <td>0.832206</td>\n",
       "      <td>0.0</td>\n",
       "      <td>0.0</td>\n",
       "    </tr>\n",
       "    <tr>\n",
       "      <th>2</th>\n",
       "      <td>2000-03-31</td>\n",
       "      <td>0.578318</td>\n",
       "      <td>0.500226</td>\n",
       "      <td>0.609973</td>\n",
       "      <td>0.0</td>\n",
       "      <td>0.0</td>\n",
       "      <td>0.896287</td>\n",
       "      <td>0.0</td>\n",
       "      <td>0.0</td>\n",
       "    </tr>\n",
       "    <tr>\n",
       "      <th>3</th>\n",
       "      <td>2000-04-30</td>\n",
       "      <td>0.552910</td>\n",
       "      <td>0.445279</td>\n",
       "      <td>0.627176</td>\n",
       "      <td>0.0</td>\n",
       "      <td>0.0</td>\n",
       "      <td>0.882311</td>\n",
       "      <td>0.0</td>\n",
       "      <td>0.0</td>\n",
       "    </tr>\n",
       "    <tr>\n",
       "      <th>4</th>\n",
       "      <td>2000-05-31</td>\n",
       "      <td>0.563840</td>\n",
       "      <td>0.534864</td>\n",
       "      <td>0.646570</td>\n",
       "      <td>0.0</td>\n",
       "      <td>0.0</td>\n",
       "      <td>0.930976</td>\n",
       "      <td>0.0</td>\n",
       "      <td>0.0</td>\n",
       "    </tr>\n",
       "  </tbody>\n",
       "</table>\n",
       "</div>"
      ],
      "text/plain": [
       "         date  alcohol_deaths  alcohol_sales  drug_deaths  homicides  \\\n",
       "0  2000-01-31        0.665408       0.353813     0.631568        0.0   \n",
       "1  2000-02-29        0.584110       0.412626     0.590162        0.0   \n",
       "2  2000-03-31        0.578318       0.500226     0.609973        0.0   \n",
       "3  2000-04-30        0.552910       0.445279     0.627176        0.0   \n",
       "4  2000-05-31        0.563840       0.534864     0.646570        0.0   \n",
       "\n",
       "   perc_unemp  suicide_deaths  h1n1_deaths  covid_deaths  \n",
       "0         0.0        0.923307          0.0           0.0  \n",
       "1         0.0        0.832206          0.0           0.0  \n",
       "2         0.0        0.896287          0.0           0.0  \n",
       "3         0.0        0.882311          0.0           0.0  \n",
       "4         0.0        0.930976          0.0           0.0  "
      ]
     },
     "execution_count": 4,
     "metadata": {},
     "output_type": "execute_result"
    }
   ],
   "source": [
    "print(df.shape)\n",
    "df.head()"
   ]
  },
  {
   "cell_type": "markdown",
   "id": "08d9f6c2-ad40-4721-b147-06cb72095fe4",
   "metadata": {},
   "source": [
    "## 1. CORRELATION\n",
    "Correlation is a meaurment between -1 and 1 that shows the strength of a linear relationship between two variables. Since we have many factors in our dataframe, we will be looking at the many correlations. The correlation below shows the many relationships within our dataframe. "
   ]
  },
  {
   "cell_type": "code",
   "execution_count": 5,
   "id": "d084442a-0107-4e8b-b663-1da13677867a",
   "metadata": {},
   "outputs": [
    {
     "data": {
      "text/html": [
       "<div>\n",
       "<style scoped>\n",
       "    .dataframe tbody tr th:only-of-type {\n",
       "        vertical-align: middle;\n",
       "    }\n",
       "\n",
       "    .dataframe tbody tr th {\n",
       "        vertical-align: top;\n",
       "    }\n",
       "\n",
       "    .dataframe thead th {\n",
       "        text-align: right;\n",
       "    }\n",
       "</style>\n",
       "<table border=\"1\" class=\"dataframe\">\n",
       "  <thead>\n",
       "    <tr style=\"text-align: right;\">\n",
       "      <th></th>\n",
       "      <th>alcohol_deaths</th>\n",
       "      <th>alcohol_sales</th>\n",
       "      <th>drug_deaths</th>\n",
       "      <th>homicides</th>\n",
       "      <th>perc_unemp</th>\n",
       "      <th>suicide_deaths</th>\n",
       "      <th>h1n1_deaths</th>\n",
       "      <th>covid_deaths</th>\n",
       "    </tr>\n",
       "  </thead>\n",
       "  <tbody>\n",
       "    <tr>\n",
       "      <th>alcohol_deaths</th>\n",
       "      <td>1.000</td>\n",
       "      <td>0.651</td>\n",
       "      <td>0.945</td>\n",
       "      <td>0.644</td>\n",
       "      <td>0.192</td>\n",
       "      <td>0.740</td>\n",
       "      <td>-0.061</td>\n",
       "      <td>0.576</td>\n",
       "    </tr>\n",
       "    <tr>\n",
       "      <th>alcohol_sales</th>\n",
       "      <td>0.651</td>\n",
       "      <td>1.000</td>\n",
       "      <td>0.658</td>\n",
       "      <td>0.269</td>\n",
       "      <td>-0.163</td>\n",
       "      <td>0.603</td>\n",
       "      <td>-0.097</td>\n",
       "      <td>0.204</td>\n",
       "    </tr>\n",
       "    <tr>\n",
       "      <th>drug_deaths</th>\n",
       "      <td>0.945</td>\n",
       "      <td>0.658</td>\n",
       "      <td>1.000</td>\n",
       "      <td>0.715</td>\n",
       "      <td>0.252</td>\n",
       "      <td>0.799</td>\n",
       "      <td>-0.057</td>\n",
       "      <td>0.461</td>\n",
       "    </tr>\n",
       "    <tr>\n",
       "      <th>homicides</th>\n",
       "      <td>0.644</td>\n",
       "      <td>0.269</td>\n",
       "      <td>0.715</td>\n",
       "      <td>1.000</td>\n",
       "      <td>0.444</td>\n",
       "      <td>0.676</td>\n",
       "      <td>0.065</td>\n",
       "      <td>0.261</td>\n",
       "    </tr>\n",
       "    <tr>\n",
       "      <th>perc_unemp</th>\n",
       "      <td>0.192</td>\n",
       "      <td>-0.163</td>\n",
       "      <td>0.252</td>\n",
       "      <td>0.444</td>\n",
       "      <td>1.000</td>\n",
       "      <td>0.209</td>\n",
       "      <td>0.282</td>\n",
       "      <td>0.190</td>\n",
       "    </tr>\n",
       "    <tr>\n",
       "      <th>suicide_deaths</th>\n",
       "      <td>0.740</td>\n",
       "      <td>0.603</td>\n",
       "      <td>0.799</td>\n",
       "      <td>0.676</td>\n",
       "      <td>0.209</td>\n",
       "      <td>1.000</td>\n",
       "      <td>-0.073</td>\n",
       "      <td>0.147</td>\n",
       "    </tr>\n",
       "    <tr>\n",
       "      <th>h1n1_deaths</th>\n",
       "      <td>-0.061</td>\n",
       "      <td>-0.097</td>\n",
       "      <td>-0.057</td>\n",
       "      <td>0.065</td>\n",
       "      <td>0.282</td>\n",
       "      <td>-0.073</td>\n",
       "      <td>1.000</td>\n",
       "      <td>-0.031</td>\n",
       "    </tr>\n",
       "    <tr>\n",
       "      <th>covid_deaths</th>\n",
       "      <td>0.576</td>\n",
       "      <td>0.204</td>\n",
       "      <td>0.461</td>\n",
       "      <td>0.261</td>\n",
       "      <td>0.190</td>\n",
       "      <td>0.147</td>\n",
       "      <td>-0.031</td>\n",
       "      <td>1.000</td>\n",
       "    </tr>\n",
       "  </tbody>\n",
       "</table>\n",
       "</div>"
      ],
      "text/plain": [
       "                alcohol_deaths  alcohol_sales  drug_deaths  homicides  \\\n",
       "alcohol_deaths           1.000          0.651        0.945      0.644   \n",
       "alcohol_sales            0.651          1.000        0.658      0.269   \n",
       "drug_deaths              0.945          0.658        1.000      0.715   \n",
       "homicides                0.644          0.269        0.715      1.000   \n",
       "perc_unemp               0.192         -0.163        0.252      0.444   \n",
       "suicide_deaths           0.740          0.603        0.799      0.676   \n",
       "h1n1_deaths             -0.061         -0.097       -0.057      0.065   \n",
       "covid_deaths             0.576          0.204        0.461      0.261   \n",
       "\n",
       "                perc_unemp  suicide_deaths  h1n1_deaths  covid_deaths  \n",
       "alcohol_deaths       0.192           0.740       -0.061         0.576  \n",
       "alcohol_sales       -0.163           0.603       -0.097         0.204  \n",
       "drug_deaths          0.252           0.799       -0.057         0.461  \n",
       "homicides            0.444           0.676        0.065         0.261  \n",
       "perc_unemp           1.000           0.209        0.282         0.190  \n",
       "suicide_deaths       0.209           1.000       -0.073         0.147  \n",
       "h1n1_deaths          0.282          -0.073        1.000        -0.031  \n",
       "covid_deaths         0.190           0.147       -0.031         1.000  "
      ]
     },
     "execution_count": 5,
     "metadata": {},
     "output_type": "execute_result"
    }
   ],
   "source": [
    "df.corr().round(3)"
   ]
  },
  {
   "cell_type": "markdown",
   "id": "2234ef1f-a441-4574-8776-7c730ee8cbe0",
   "metadata": {},
   "source": [
    "The table has a diagnol line of 1.000 running through it. This is because the each factor is featured on both the x axis and y axis, 1 is a result of a measuring correlation between two like items. Positive numbers are interpretted as positive correlations. The stronger the positive correlation the more likely the factors will \"move\" together(when one goes up the other one does too). Negative numbers are interepretted as negative correlations. The closer to -1 the stronger the NEGATIVE relationship the more like factors will \"move\" apart,  one factor will increase and the other will decrease. "
   ]
  },
  {
   "cell_type": "code",
   "execution_count": 6,
   "id": "d250d8d7-a649-40df-aa33-d89e990d3936",
   "metadata": {},
   "outputs": [
    {
     "data": {
      "text/plain": [
       "homicides       drug_deaths       0.715119\n",
       "alcohol_deaths  suicide_deaths    0.739877\n",
       "suicide_deaths  drug_deaths       0.799104\n",
       "alcohol_deaths  drug_deaths       0.945271\n",
       "                alcohol_deaths    1.000000\n",
       "dtype: float64"
      ]
     },
     "execution_count": 6,
     "metadata": {},
     "output_type": "execute_result"
    }
   ],
   "source": [
    "df.corr().unstack().sort_values().drop_duplicates().tail()\n",
    "# this command will output the strongest positive correlations"
   ]
  },
  {
   "cell_type": "markdown",
   "id": "20e75ec4-5f76-4544-955e-b37da059e565",
   "metadata": {},
   "source": [
    "We can see that alcohol_deaths and drug_deaths have the strongest correlation; however, lets focus on the factor that has the highest correlation with our dependent varaible(suicide_deaths). The strongest positive correlation is drug_deaths, followed closely by alcohol deaths. The only negative correlation is with h1n1_deaths. The relationship with covid_deaths is postive but only slightly. These correlations support that the strongest indication of mental health decline is alcohol_sales and that the COVID had a stronger relationship wiwth mental health decline than the h1n1 pandemic. "
   ]
  },
  {
   "cell_type": "code",
   "execution_count": 7,
   "id": "2df49d57-96b6-48c4-9569-f607cb04fb38",
   "metadata": {},
   "outputs": [
    {
     "data": {
      "text/plain": [
       "alcohol_sales   perc_unemp       -0.162979\n",
       "h1n1_deaths     alcohol_sales    -0.097120\n",
       "                suicide_deaths   -0.073000\n",
       "alcohol_deaths  h1n1_deaths      -0.061280\n",
       "drug_deaths     h1n1_deaths      -0.057400\n",
       "dtype: float64"
      ]
     },
     "execution_count": 7,
     "metadata": {},
     "output_type": "execute_result"
    }
   ],
   "source": [
    "df.corr().unstack().sort_values().drop_duplicates().head()\n",
    "# this command will output the strongest negative correlations"
   ]
  },
  {
   "cell_type": "markdown",
   "id": "bbd8102b-9946-4937-b82b-e42cf29b523c",
   "metadata": {},
   "source": [
    "### Partial Correlation"
   ]
  },
  {
   "cell_type": "markdown",
   "id": "49bcfd57-3298-4309-b3e2-4180a74f428f",
   "metadata": {},
   "source": [
    "is a measure of correlation between two factors that excludes the influence of the surrounding factors. This meaasure gives us a better idea of how two factors are truly related to each other. "
   ]
  },
  {
   "cell_type": "code",
   "execution_count": 8,
   "id": "ef08ad22-bd3f-4b5b-ac48-8fd1f1479b37",
   "metadata": {},
   "outputs": [
    {
     "data": {
      "text/html": [
       "<div>\n",
       "<style scoped>\n",
       "    .dataframe tbody tr th:only-of-type {\n",
       "        vertical-align: middle;\n",
       "    }\n",
       "\n",
       "    .dataframe tbody tr th {\n",
       "        vertical-align: top;\n",
       "    }\n",
       "\n",
       "    .dataframe thead th {\n",
       "        text-align: right;\n",
       "    }\n",
       "</style>\n",
       "<table border=\"1\" class=\"dataframe\">\n",
       "  <thead>\n",
       "    <tr style=\"text-align: right;\">\n",
       "      <th></th>\n",
       "      <th>alcohol_deaths</th>\n",
       "      <th>alcohol_sales</th>\n",
       "      <th>drug_deaths</th>\n",
       "      <th>homicides</th>\n",
       "      <th>perc_unemp</th>\n",
       "      <th>suicide_deaths</th>\n",
       "      <th>h1n1_deaths</th>\n",
       "      <th>covid_deaths</th>\n",
       "    </tr>\n",
       "  </thead>\n",
       "  <tbody>\n",
       "    <tr>\n",
       "      <th>alcohol_deaths</th>\n",
       "      <td>1.000</td>\n",
       "      <td>0.100</td>\n",
       "      <td>0.751</td>\n",
       "      <td>-0.022</td>\n",
       "      <td>-0.152</td>\n",
       "      <td>0.153</td>\n",
       "      <td>0.053</td>\n",
       "      <td>0.525</td>\n",
       "    </tr>\n",
       "    <tr>\n",
       "      <th>alcohol_sales</th>\n",
       "      <td>0.100</td>\n",
       "      <td>1.000</td>\n",
       "      <td>0.250</td>\n",
       "      <td>-0.327</td>\n",
       "      <td>-0.328</td>\n",
       "      <td>0.227</td>\n",
       "      <td>0.095</td>\n",
       "      <td>-0.105</td>\n",
       "    </tr>\n",
       "    <tr>\n",
       "      <th>drug_deaths</th>\n",
       "      <td>0.751</td>\n",
       "      <td>0.250</td>\n",
       "      <td>1.000</td>\n",
       "      <td>0.309</td>\n",
       "      <td>0.187</td>\n",
       "      <td>0.179</td>\n",
       "      <td>-0.084</td>\n",
       "      <td>-0.110</td>\n",
       "    </tr>\n",
       "    <tr>\n",
       "      <th>homicides</th>\n",
       "      <td>-0.022</td>\n",
       "      <td>-0.327</td>\n",
       "      <td>0.309</td>\n",
       "      <td>1.000</td>\n",
       "      <td>0.210</td>\n",
       "      <td>0.288</td>\n",
       "      <td>0.080</td>\n",
       "      <td>-0.046</td>\n",
       "    </tr>\n",
       "    <tr>\n",
       "      <th>perc_unemp</th>\n",
       "      <td>-0.152</td>\n",
       "      <td>-0.328</td>\n",
       "      <td>0.187</td>\n",
       "      <td>0.210</td>\n",
       "      <td>1.000</td>\n",
       "      <td>0.091</td>\n",
       "      <td>0.293</td>\n",
       "      <td>0.159</td>\n",
       "    </tr>\n",
       "    <tr>\n",
       "      <th>suicide_deaths</th>\n",
       "      <td>0.153</td>\n",
       "      <td>0.227</td>\n",
       "      <td>0.179</td>\n",
       "      <td>0.288</td>\n",
       "      <td>0.091</td>\n",
       "      <td>1.000</td>\n",
       "      <td>-0.110</td>\n",
       "      <td>-0.391</td>\n",
       "    </tr>\n",
       "    <tr>\n",
       "      <th>h1n1_deaths</th>\n",
       "      <td>0.053</td>\n",
       "      <td>0.095</td>\n",
       "      <td>-0.084</td>\n",
       "      <td>0.080</td>\n",
       "      <td>0.293</td>\n",
       "      <td>-0.110</td>\n",
       "      <td>1.000</td>\n",
       "      <td>-0.071</td>\n",
       "    </tr>\n",
       "    <tr>\n",
       "      <th>covid_deaths</th>\n",
       "      <td>0.525</td>\n",
       "      <td>-0.105</td>\n",
       "      <td>-0.110</td>\n",
       "      <td>-0.046</td>\n",
       "      <td>0.159</td>\n",
       "      <td>-0.391</td>\n",
       "      <td>-0.071</td>\n",
       "      <td>1.000</td>\n",
       "    </tr>\n",
       "  </tbody>\n",
       "</table>\n",
       "</div>"
      ],
      "text/plain": [
       "                alcohol_deaths  alcohol_sales  drug_deaths  homicides  \\\n",
       "alcohol_deaths           1.000          0.100        0.751     -0.022   \n",
       "alcohol_sales            0.100          1.000        0.250     -0.327   \n",
       "drug_deaths              0.751          0.250        1.000      0.309   \n",
       "homicides               -0.022         -0.327        0.309      1.000   \n",
       "perc_unemp              -0.152         -0.328        0.187      0.210   \n",
       "suicide_deaths           0.153          0.227        0.179      0.288   \n",
       "h1n1_deaths              0.053          0.095       -0.084      0.080   \n",
       "covid_deaths             0.525         -0.105       -0.110     -0.046   \n",
       "\n",
       "                perc_unemp  suicide_deaths  h1n1_deaths  covid_deaths  \n",
       "alcohol_deaths      -0.152           0.153        0.053         0.525  \n",
       "alcohol_sales       -0.328           0.227        0.095        -0.105  \n",
       "drug_deaths          0.187           0.179       -0.084        -0.110  \n",
       "homicides            0.210           0.288        0.080        -0.046  \n",
       "perc_unemp           1.000           0.091        0.293         0.159  \n",
       "suicide_deaths       0.091           1.000       -0.110        -0.391  \n",
       "h1n1_deaths          0.293          -0.110        1.000        -0.071  \n",
       "covid_deaths         0.159          -0.391       -0.071         1.000  "
      ]
     },
     "execution_count": 8,
     "metadata": {},
     "output_type": "execute_result"
    }
   ],
   "source": [
    "df.pcorr().round(3)"
   ]
  },
  {
   "cell_type": "markdown",
   "id": "d1ab0e9c-b6bf-4348-801d-ea724c1a0042",
   "metadata": {},
   "source": [
    "This table once again shows that the strongest indicator of a mental health decline is alcohol_sales; however, the relationships between suicide and the pandemics have changed. In this table the strongest negative correlation is linked to covid_deaths. While h1n1_deaths is still negatively correlated to suicide deaths, it is only 1/3 of the strength of the relationship between covid and suicide. This could mean that the actual relationship between covid and suicide does not exist. "
   ]
  },
  {
   "cell_type": "code",
   "execution_count": 9,
   "id": "d9a894ef-c0e8-4365-8411-3ca3280a5a8e",
   "metadata": {},
   "outputs": [
    {
     "data": {
      "text/plain": [
       "alcohol_deaths  covid_deaths      0.525439\n",
       "covid_deaths    alcohol_deaths    0.525439\n",
       "alcohol_deaths  drug_deaths       0.750968\n",
       "drug_deaths     alcohol_deaths    0.750968\n",
       "alcohol_deaths  alcohol_deaths    1.000000\n",
       "dtype: float64"
      ]
     },
     "execution_count": 9,
     "metadata": {},
     "output_type": "execute_result"
    }
   ],
   "source": [
    "df.pcorr().unstack().sort_values().drop_duplicates().tail()"
   ]
  },
  {
   "cell_type": "code",
   "execution_count": 10,
   "id": "3a54c2ea-c284-45a6-a9a6-f56cdde18cd7",
   "metadata": {},
   "outputs": [
    {
     "data": {
      "text/plain": [
       "suicide_deaths  covid_deaths     -0.391165\n",
       "covid_deaths    suicide_deaths   -0.391165\n",
       "perc_unemp      alcohol_sales    -0.327772\n",
       "homicides       alcohol_sales    -0.327360\n",
       "alcohol_sales   homicides        -0.327360\n",
       "dtype: float64"
      ]
     },
     "execution_count": 10,
     "metadata": {},
     "output_type": "execute_result"
    }
   ],
   "source": [
    "df.pcorr().unstack().sort_values().drop_duplicates().head()"
   ]
  },
  {
   "cell_type": "markdown",
   "id": "53d47bd3-7f53-44d0-a058-05708a565fea",
   "metadata": {},
   "source": [
    "# 2. LINEAR_REGRESSION\n",
    "<hr>\n",
    "Linear Regression is a statistical approach that models the relationship of indepencdent variables and a single dependent variable. We will be using the 3 dummy variables we created as our dependent variables(as we are trying to prove how much a pandemic \"depends\" on our selected factors). The linear regression will help us deteremine how strongly each independent variable affects the different dependent variables. "
   ]
  },
  {
   "cell_type": "code",
   "execution_count": 11,
   "id": "cf88220c-555a-458c-bcd3-3195011e08b5",
   "metadata": {},
   "outputs": [],
   "source": [
    "# here we set our variables. \"X\" = independent, \"y\" = dependent. \n",
    "X=df[['alcohol_deaths','alcohol_sales','drug_deaths','homicides','covid_deaths','h1n1_deaths','perc_unemp']]\n",
    "\n",
    "\n",
    "y=df[['suicide_deaths']]"
   ]
  },
  {
   "cell_type": "markdown",
   "id": "45b5ad85-4203-4013-8af8-73c97c511de9",
   "metadata": {},
   "source": [
    "The commanand below splits our data into the test and training set. The training set is used to train the model, basically teaching the model the best weights to set each vaiable at. The test set is used for testing the trained model on. The testing of the model will be explained via demonstration below. \n",
    "\n",
    "As for my split, I put 20% of the data in the training set and 80% of data in the testing set. This is set with the \"test_size\" parameter in the \"train_test_split\" function. I found this split to be effective at building a good model; however, feel free to play around with differnt sizes to see how it affects your model. "
   ]
  },
  {
   "cell_type": "code",
   "execution_count": 12,
   "id": "37f72768-3a32-4245-9b56-565a8edc493d",
   "metadata": {},
   "outputs": [],
   "source": [
    "X_train, X_test, y_train, y_test = train_test_split(X, y, test_size=0.2, random_state=1)"
   ]
  },
  {
   "cell_type": "code",
   "execution_count": 13,
   "id": "17bef750-0198-4f7a-938f-31ae9cb23022",
   "metadata": {},
   "outputs": [
    {
     "data": {
      "text/plain": [
       "LinearRegression()"
      ]
     },
     "execution_count": 13,
     "metadata": {},
     "output_type": "execute_result"
    }
   ],
   "source": [
    "regression_model = LinearRegression()\n",
    "regression_model.fit(X_train, y_train)"
   ]
  },
  {
   "cell_type": "markdown",
   "id": "2bf3dc06-5e94-4ffb-acfd-d73b9017e337",
   "metadata": {},
   "source": [
    "### Model"
   ]
  },
  {
   "cell_type": "code",
   "execution_count": 14,
   "id": "d1fc8664-0746-4742-998b-b5e0744e4612",
   "metadata": {},
   "outputs": [
    {
     "name": "stdout",
     "output_type": "stream",
     "text": [
      "The coefficient for alcohol_deaths is 0.2014426957866886\n",
      "The coefficient for alcohol_sales is 0.06383911678283272\n",
      "The coefficient for drug_deaths is 0.10994217199717744\n",
      "The coefficient for homicides is 0.1402404000766146\n",
      "The coefficient for covid_deaths is -0.00406350777845936\n",
      "The coefficient for h1n1_deaths is -0.010422560069357907\n",
      "The coefficient for perc_unemp is 0.003774750741826838\n"
     ]
    }
   ],
   "source": [
    "for idx, col_name in enumerate(X_train.columns):\n",
    "    print(\"The coefficient for {} is {}\".format(col_name, regression_model.coef_[0][idx]))\n",
    "    # This function trains the model and assigns the weight for each function. The higher the value of coefficient indicates that as the \n",
    "# indepenent variable increases the dependent variable also tends to increase."
   ]
  },
  {
   "cell_type": "code",
   "execution_count": 15,
   "id": "a3a83a87-fb25-4493-8f67-22c633d543f0",
   "metadata": {},
   "outputs": [
    {
     "name": "stdout",
     "output_type": "stream",
     "text": [
      "The intercept for our model is 0.6512591332874984\n"
     ]
    }
   ],
   "source": [
    "intercept = regression_model.intercept_[0]\n",
    "print(\"The intercept for our model is {}\".format(intercept))\n",
    "# this function is used to find the y intercept of our data(the value of our y variable when x = 0)"
   ]
  },
  {
   "cell_type": "code",
   "execution_count": 16,
   "id": "b1b3fdd2-9f37-4118-becd-15dd39ff6011",
   "metadata": {},
   "outputs": [
    {
     "name": "stdout",
     "output_type": "stream",
     "text": [
      "y =  0.6512591332874984 +\n",
      "alcohol_deaths(0.2) + \n",
      "alcohol_sales(0.06) + \n",
      "drug_deaths(0.11) + \n",
      "homicides(0.14) + \n",
      "covid_deaths(-0.0) + \n",
      "h1n1_deaths(-0.01) + \n",
      "perc_unemp(0.0) + \n"
     ]
    }
   ],
   "source": [
    "print(\"y = \",intercept, \"+\")\n",
    "for idx, col_name in enumerate(X_train.columns):\n",
    "    print(\"{}({}) + \".format(col_name, round(regression_model.coef_[0][idx],2)))\n",
    "#Our regression line for this model is: "
   ]
  },
  {
   "cell_type": "markdown",
   "id": "2db8c6cc-39c3-42f7-b581-8ae605be6d07",
   "metadata": {},
   "source": [
    " In THIS model(COVID) the highest coeffecient is for alcohol_deaths. This means that it is likely more alcohol deaths will occur if COVID deaths rise. The other variables in this model have negative correlations. This means the as COVID deaths rise their repspective values will fall. "
   ]
  },
  {
   "cell_type": "markdown",
   "id": "d807dc6a-8500-48dd-96b0-661961f94d43",
   "metadata": {},
   "source": [
    "### R squared"
   ]
  },
  {
   "cell_type": "code",
   "execution_count": 17,
   "id": "e4d7ce4f-c041-4f65-a573-a6dc517451a6",
   "metadata": {},
   "outputs": [
    {
     "data": {
      "text/plain": [
       "0.659510747172463"
      ]
     },
     "execution_count": 17,
     "metadata": {},
     "output_type": "execute_result"
    }
   ],
   "source": [
    "regression_model.score(X_test, y_test)"
   ]
  },
  {
   "cell_type": "code",
   "execution_count": 18,
   "id": "4f649163-e42a-433b-9d0a-48d9222b190d",
   "metadata": {},
   "outputs": [
    {
     "data": {
      "text/html": [
       "<table class=\"simpletable\">\n",
       "<caption>OLS Regression Results</caption>\n",
       "<tr>\n",
       "  <th>Dep. Variable:</th>     <td>suicide_deaths</td>  <th>  R-squared:         </th> <td>   0.742</td>\n",
       "</tr>\n",
       "<tr>\n",
       "  <th>Model:</th>                   <td>OLS</td>       <th>  Adj. R-squared:    </th> <td>   0.734</td>\n",
       "</tr>\n",
       "<tr>\n",
       "  <th>Method:</th>             <td>Least Squares</td>  <th>  F-statistic:       </th> <td>   100.1</td>\n",
       "</tr>\n",
       "<tr>\n",
       "  <th>Date:</th>             <td>Wed, 03 Aug 2022</td> <th>  Prob (F-statistic):</th> <td>4.61e-68</td>\n",
       "</tr>\n",
       "<tr>\n",
       "  <th>Time:</th>                 <td>13:49:21</td>     <th>  Log-Likelihood:    </th> <td>  326.63</td>\n",
       "</tr>\n",
       "<tr>\n",
       "  <th>No. Observations:</th>      <td>   252</td>      <th>  AIC:               </th> <td>  -637.3</td>\n",
       "</tr>\n",
       "<tr>\n",
       "  <th>Df Residuals:</th>          <td>   244</td>      <th>  BIC:               </th> <td>  -609.0</td>\n",
       "</tr>\n",
       "<tr>\n",
       "  <th>Df Model:</th>              <td>     7</td>      <th>                     </th>     <td> </td>   \n",
       "</tr>\n",
       "<tr>\n",
       "  <th>Covariance Type:</th>      <td>nonrobust</td>    <th>                     </th>     <td> </td>   \n",
       "</tr>\n",
       "</table>\n",
       "<table class=\"simpletable\">\n",
       "<tr>\n",
       "         <td></td>           <th>coef</th>     <th>std err</th>      <th>t</th>      <th>P>|t|</th>  <th>[0.025</th>    <th>0.975]</th>  \n",
       "</tr>\n",
       "<tr>\n",
       "  <th>Intercept</th>      <td>    0.6658</td> <td>    0.035</td> <td>   18.835</td> <td> 0.000</td> <td>    0.596</td> <td>    0.735</td>\n",
       "</tr>\n",
       "<tr>\n",
       "  <th>alcohol_deaths</th> <td>    0.2128</td> <td>    0.088</td> <td>    2.416</td> <td> 0.016</td> <td>    0.039</td> <td>    0.386</td>\n",
       "</tr>\n",
       "<tr>\n",
       "  <th>alcohol_sales</th>  <td>    0.0566</td> <td>    0.016</td> <td>    3.648</td> <td> 0.000</td> <td>    0.026</td> <td>    0.087</td>\n",
       "</tr>\n",
       "<tr>\n",
       "  <th>drug_deaths</th>    <td>    0.0960</td> <td>    0.034</td> <td>    2.835</td> <td> 0.005</td> <td>    0.029</td> <td>    0.163</td>\n",
       "</tr>\n",
       "<tr>\n",
       "  <th>homicides</th>      <td>    0.1463</td> <td>    0.031</td> <td>    4.692</td> <td> 0.000</td> <td>    0.085</td> <td>    0.208</td>\n",
       "</tr>\n",
       "<tr>\n",
       "  <th>covid_deaths</th>   <td>   -0.0033</td> <td>    0.001</td> <td>   -6.639</td> <td> 0.000</td> <td>   -0.004</td> <td>   -0.002</td>\n",
       "</tr>\n",
       "<tr>\n",
       "  <th>h1n1_deaths</th>    <td>   -0.0129</td> <td>    0.007</td> <td>   -1.726</td> <td> 0.086</td> <td>   -0.028</td> <td>    0.002</td>\n",
       "</tr>\n",
       "<tr>\n",
       "  <th>perc_unemp</th>     <td>    0.0028</td> <td>    0.002</td> <td>    1.432</td> <td> 0.153</td> <td>   -0.001</td> <td>    0.007</td>\n",
       "</tr>\n",
       "</table>\n",
       "<table class=\"simpletable\">\n",
       "<tr>\n",
       "  <th>Omnibus:</th>       <td> 3.048</td> <th>  Durbin-Watson:     </th> <td>   0.828</td>\n",
       "</tr>\n",
       "<tr>\n",
       "  <th>Prob(Omnibus):</th> <td> 0.218</td> <th>  Jarque-Bera (JB):  </th> <td>   2.870</td>\n",
       "</tr>\n",
       "<tr>\n",
       "  <th>Skew:</th>          <td>-0.261</td> <th>  Prob(JB):          </th> <td>   0.238</td>\n",
       "</tr>\n",
       "<tr>\n",
       "  <th>Kurtosis:</th>      <td> 3.041</td> <th>  Cond. No.          </th> <td>    271.</td>\n",
       "</tr>\n",
       "</table><br/><br/>Notes:<br/>[1] Standard Errors assume that the covariance matrix of the errors is correctly specified."
      ],
      "text/plain": [
       "<class 'statsmodels.iolib.summary.Summary'>\n",
       "\"\"\"\n",
       "                            OLS Regression Results                            \n",
       "==============================================================================\n",
       "Dep. Variable:         suicide_deaths   R-squared:                       0.742\n",
       "Model:                            OLS   Adj. R-squared:                  0.734\n",
       "Method:                 Least Squares   F-statistic:                     100.1\n",
       "Date:                Wed, 03 Aug 2022   Prob (F-statistic):           4.61e-68\n",
       "Time:                        13:49:21   Log-Likelihood:                 326.63\n",
       "No. Observations:                 252   AIC:                            -637.3\n",
       "Df Residuals:                     244   BIC:                            -609.0\n",
       "Df Model:                           7                                         \n",
       "Covariance Type:            nonrobust                                         \n",
       "==================================================================================\n",
       "                     coef    std err          t      P>|t|      [0.025      0.975]\n",
       "----------------------------------------------------------------------------------\n",
       "Intercept          0.6658      0.035     18.835      0.000       0.596       0.735\n",
       "alcohol_deaths     0.2128      0.088      2.416      0.016       0.039       0.386\n",
       "alcohol_sales      0.0566      0.016      3.648      0.000       0.026       0.087\n",
       "drug_deaths        0.0960      0.034      2.835      0.005       0.029       0.163\n",
       "homicides          0.1463      0.031      4.692      0.000       0.085       0.208\n",
       "covid_deaths      -0.0033      0.001     -6.639      0.000      -0.004      -0.002\n",
       "h1n1_deaths       -0.0129      0.007     -1.726      0.086      -0.028       0.002\n",
       "perc_unemp         0.0028      0.002      1.432      0.153      -0.001       0.007\n",
       "==============================================================================\n",
       "Omnibus:                        3.048   Durbin-Watson:                   0.828\n",
       "Prob(Omnibus):                  0.218   Jarque-Bera (JB):                2.870\n",
       "Skew:                          -0.261   Prob(JB):                        0.238\n",
       "Kurtosis:                       3.041   Cond. No.                         271.\n",
       "==============================================================================\n",
       "\n",
       "Notes:\n",
       "[1] Standard Errors assume that the covariance matrix of the errors is correctly specified.\n",
       "\"\"\""
      ]
     },
     "execution_count": 18,
     "metadata": {},
     "output_type": "execute_result"
    }
   ],
   "source": [
    "#lm = sm.ols(formula='covid_dum ~ alcohol_deaths + alcohol_sales + drug_deaths + homicides + suicide_deaths + perc_unemp + gdp_period + yearly_infl', data=df)\n",
    "lm = sm.ols(formula='suicide_deaths ~ alcohol_deaths + alcohol_sales + drug_deaths + homicides + covid_deaths + h1n1_deaths + perc_unemp', data=df)\n",
    "fit = lm.fit()\n",
    "fit.summary()"
   ]
  },
  {
   "cell_type": "markdown",
   "id": "b7bfa31b-7ca0-4879-bce1-f84f51ea1d03",
   "metadata": {},
   "source": [
    "This statistics table has many numbers and it cna be quite confusing at first. I will walk you through interpretting the more important values. \n",
    "\n",
    "Our **adjusted R-squared** for this model is 0.736. This value represents the percent of variation in the dependent variable that can be predicted by the indendent variable(s). In other words this is how well the different factors can be used to forecast when there will be suicide deaths. The optimal range for adjusted r is above 0.75. Our value is extremeley close to fitting that range meaning our model is relatively accurate prediction. \n",
    "\n",
    "The **Prob(F-statistic)** represents the likliehood of these results occuring randomly. Since our value is very low, this means that our regression is statistically significant. The lower you the value means more confidence to reject the null hypothesis with. \n",
    "\n",
    "The **P>|t|**(p-value) column shows us the significance for the individual factors. A value below 0.005 indicates statistical significance. In our model the alcohol_deaths variable has a p value of 0.016, meaning that its role in the regression is not significant. This is somewhat intersteing becasue this on first glance this would be the most significant variable because of its large coefficent. This reinforces the fact that you NEED to use multiply values/measures to make any type of accurate conclusion. \n",
    "\n",
    "\n",
    "The link below provides explanaations about other values in the table that I chose not to cover. \n",
    "https://jyotiyadav99111.medium.com/statistics-how-should-i-interpret-results-of-ols-3bde1ebeec01#:~:text=Prob(F%2DStatistic)%3A%20This,coefficients%20are%20equal%20to%20zero%E2%80%9D.\n"
   ]
  },
  {
   "cell_type": "code",
   "execution_count": 19,
   "id": "1aed67a8-b7b7-4702-882d-166cdc595f34",
   "metadata": {},
   "outputs": [
    {
     "data": {
      "text/html": [
       "<div>\n",
       "<style scoped>\n",
       "    .dataframe tbody tr th:only-of-type {\n",
       "        vertical-align: middle;\n",
       "    }\n",
       "\n",
       "    .dataframe tbody tr th {\n",
       "        vertical-align: top;\n",
       "    }\n",
       "\n",
       "    .dataframe thead th {\n",
       "        text-align: right;\n",
       "    }\n",
       "</style>\n",
       "<table border=\"1\" class=\"dataframe\">\n",
       "  <thead>\n",
       "    <tr style=\"text-align: right;\">\n",
       "      <th></th>\n",
       "      <th>alcohol_deaths</th>\n",
       "      <th>alcohol_sales</th>\n",
       "      <th>drug_deaths</th>\n",
       "      <th>homicides</th>\n",
       "      <th>covid_deaths</th>\n",
       "      <th>h1n1_deaths</th>\n",
       "      <th>perc_unemp</th>\n",
       "    </tr>\n",
       "  </thead>\n",
       "  <tbody>\n",
       "    <tr>\n",
       "      <th>67</th>\n",
       "      <td>0.584914</td>\n",
       "      <td>0.464975</td>\n",
       "      <td>0.908476</td>\n",
       "      <td>0.000000</td>\n",
       "      <td>0.000000</td>\n",
       "      <td>0.0</td>\n",
       "      <td>4.9</td>\n",
       "    </tr>\n",
       "    <tr>\n",
       "      <th>251</th>\n",
       "      <td>1.399548</td>\n",
       "      <td>1.207504</td>\n",
       "      <td>2.387641</td>\n",
       "      <td>0.667069</td>\n",
       "      <td>104.310475</td>\n",
       "      <td>0.0</td>\n",
       "      <td>6.7</td>\n",
       "    </tr>\n",
       "    <tr>\n",
       "      <th>231</th>\n",
       "      <td>0.951684</td>\n",
       "      <td>1.077418</td>\n",
       "      <td>1.788982</td>\n",
       "      <td>0.440459</td>\n",
       "      <td>0.000000</td>\n",
       "      <td>0.0</td>\n",
       "      <td>3.6</td>\n",
       "    </tr>\n",
       "    <tr>\n",
       "      <th>161</th>\n",
       "      <td>0.726703</td>\n",
       "      <td>0.347508</td>\n",
       "      <td>1.233020</td>\n",
       "      <td>0.471169</td>\n",
       "      <td>0.000000</td>\n",
       "      <td>0.0</td>\n",
       "      <td>7.5</td>\n",
       "    </tr>\n",
       "    <tr>\n",
       "      <th>91</th>\n",
       "      <td>0.633499</td>\n",
       "      <td>0.346180</td>\n",
       "      <td>1.093864</td>\n",
       "      <td>0.566833</td>\n",
       "      <td>0.000000</td>\n",
       "      <td>0.0</td>\n",
       "      <td>4.6</td>\n",
       "    </tr>\n",
       "  </tbody>\n",
       "</table>\n",
       "</div>"
      ],
      "text/plain": [
       "     alcohol_deaths  alcohol_sales  drug_deaths  homicides  covid_deaths  \\\n",
       "67         0.584914       0.464975     0.908476   0.000000      0.000000   \n",
       "251        1.399548       1.207504     2.387641   0.667069    104.310475   \n",
       "231        0.951684       1.077418     1.788982   0.440459      0.000000   \n",
       "161        0.726703       0.347508     1.233020   0.471169      0.000000   \n",
       "91         0.633499       0.346180     1.093864   0.566833      0.000000   \n",
       "\n",
       "     h1n1_deaths  perc_unemp  \n",
       "67           0.0         4.9  \n",
       "251          0.0         6.7  \n",
       "231          0.0         3.6  \n",
       "161          0.0         7.5  \n",
       "91           0.0         4.6  "
      ]
     },
     "execution_count": 19,
     "metadata": {},
     "output_type": "execute_result"
    }
   ],
   "source": [
    "X_test.head()"
   ]
  },
  {
   "cell_type": "code",
   "execution_count": 20,
   "id": "18f043e7-88ed-40b0-8c12-3ff564c46b1c",
   "metadata": {},
   "outputs": [],
   "source": [
    "from sklearn.metrics import mean_squared_error\n",
    "y_predict = regression_model.predict(X_test)"
   ]
  },
  {
   "cell_type": "code",
   "execution_count": 21,
   "id": "4e6bce4b-cf8d-4080-b72d-a63d81752186",
   "metadata": {},
   "outputs": [
    {
     "data": {
      "text/plain": [
       "0.005785532712317225"
      ]
     },
     "execution_count": 21,
     "metadata": {},
     "output_type": "execute_result"
    }
   ],
   "source": [
    "regression_model_mse = mean_squared_error(y_predict, y_test)\n",
    "regression_model_mse"
   ]
  },
  {
   "cell_type": "markdown",
   "id": "b6b72e82-ac65-4e52-9945-b565c81bb15a",
   "metadata": {},
   "source": [
    "### RMSE"
   ]
  },
  {
   "cell_type": "code",
   "execution_count": 22,
   "id": "d986da18-0285-4ad9-a9a9-65468147f5e5",
   "metadata": {},
   "outputs": [
    {
     "data": {
      "text/plain": [
       "0.07606268935764252"
      ]
     },
     "execution_count": 22,
     "metadata": {},
     "output_type": "execute_result"
    }
   ],
   "source": [
    "import math\n",
    "math.sqrt(regression_model_mse)"
   ]
  },
  {
   "cell_type": "markdown",
   "id": "a0302deb-4055-48a5-bde9-b90f519377ea",
   "metadata": {},
   "source": [
    "Our model has an RMSE above 0.2 meaning that the average variation of the data from the linear model is somewhat large. This indicates that the model is less effective at prediction."
   ]
  },
  {
   "cell_type": "markdown",
   "id": "e3a78da1-fc58-48b6-92d6-9b187e5c56db",
   "metadata": {},
   "source": [
    "# 3. Discussion"
   ]
  },
  {
   "cell_type": "markdown",
   "id": "539bc9db-af3f-4651-9a36-e192c85937fa",
   "metadata": {},
   "source": [
    "Research question:\n",
    "- What factors are correlated most with mental health decline during a pandemic?\n",
    "- Which pandemic had a more profound effect on mental health?\n",
    "\n",
    "Null Hypothesis: \n",
    "- No factors exhibited any behaivior that was statiscally significent in the specificied period meaning that ther is no differnce between the pandemics.\n",
    "\n",
    "Aleternative Hypothesis:\n",
    "- The percentage unemployed had the most significant effect on suicide rates/mental health and the COVID pandemic showed a decline in mental health. \n"
   ]
  },
  {
   "cell_type": "markdown",
   "id": "c89963df-c098-4b46-9fde-9dee03a0f3cd",
   "metadata": {},
   "source": [
    "After our analysis, which includes the visualitions as well as the linear models above, we have created a story that shows the how each factor contributes to the mental health patterns in the US. In our scaled visualizations we saw the differences between many factors, the highlight being the vast diffference between the number of h1n1 and COVID deaths. \n",
    "\n",
    "We investigated the differnces further by conduction a linear regression that we built to predict the occurence of deaths due to each virus based on the a group of independent  variables: alcohol_deaths, alcohol sales, drug_deaths, homicides, suicide_deaths, percent unemployed. The adjusted r score of our COVID model was 0.565, 3 times higher than the R score for the H1N1 model. This indicates that the COVID model was a much better fit for the data; the changes in the data could be explained 3 times better with the COVID model than the h1n1 model. Our RMSE scores for both models were slightly more similiar. COVID scored 0.18 and H1N1 scored 0.21. This score also supports that the covid model was more prescise as the average varaince of the model from the data was lower. I ran a third model that group the dummy variables from bith H1N1 and COVID. The R score was right in the middle of the other two but the RMSE was the highest out of all three. I believe that this is because the model was being built to predict at two different points, making the likelihood for error higher."
   ]
  },
  {
   "cell_type": "code",
   "execution_count": null,
   "id": "a98d4af4-1060-4b83-9e7c-d9ed45077467",
   "metadata": {},
   "outputs": [],
   "source": []
  }
 ],
 "metadata": {
  "kernelspec": {
   "display_name": "Python 3",
   "language": "python",
   "name": "python3"
  },
  "language_info": {
   "codemirror_mode": {
    "name": "ipython",
    "version": 3
   },
   "file_extension": ".py",
   "mimetype": "text/x-python",
   "name": "python",
   "nbconvert_exporter": "python",
   "pygments_lexer": "ipython3",
   "version": "3.8.8"
  }
 },
 "nbformat": 4,
 "nbformat_minor": 5
}
