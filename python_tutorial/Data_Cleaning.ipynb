{
 "cells": [
  {
   "cell_type": "code",
   "execution_count": 1,
   "id": "2b4f4b75-021d-4bfb-a084-34f964432a65",
   "metadata": {},
   "outputs": [],
   "source": [
    "import pandas as pd\n",
    "import seaborn as sns\n",
    "import numpy as np\n",
    "import matplotlib.pyplot as plt\n",
    "from functools import reduce"
   ]
  },
  {
   "cell_type": "code",
   "execution_count": 2,
   "id": "73a55c30-cb80-4a96-83f2-23a95f50a698",
   "metadata": {},
   "outputs": [],
   "source": [
    "def resample(dataframe,column, period):\n",
    "    dataframe = dataframe.set_index(column).resample(period).ffill().reset_index()\n",
    "    return dataframe"
   ]
  },
  {
   "cell_type": "markdown",
   "id": "cc51c368-023c-40b4-aee6-68dd17e0b3a4",
   "metadata": {},
   "source": [
    "The first step of any Jupytr/Python project is importing the libraries you will be using to conduct your analysis. These four libraries are among the most commonly used Python libraries. We will be using PANDAS to create easy to manipulate dataframes, NUMPY for applying and arithmetic functinos, and seaborn + MatPlotLib for creating visualizations"
   ]
  },
  {
   "cell_type": "markdown",
   "id": "8514a6ad-9dc9-4f0b-b177-a00759b73662",
   "metadata": {},
   "source": [
    "<hr>\n",
    "\n",
    "# Contents\n",
    "\n",
    "\n",
    "\n",
    "1. [Overview](#1.-Overview)\n",
    "\n",
    "    1.1 [Background](#1.1-Background)\n",
    "    \n",
    "    1.2 [Data](#1.2-Data)\n",
    "    \n",
    "    1.3 [Objectives](#1.3-Objectives)\n",
    "    \n",
    "2. [Cleaning](#2.-Cleaning)\n",
    "\n",
    "    2.1 [US Population](#2.1-US-Population)\n",
    "    \n",
    "    2.2 [Alcohol Deaths](#2.2-Alcohol-Deaths)\n",
    "    \n",
    "    2.3 [Alcohol Sales](#2.3-Alcohol-Sales)\n",
    "    \n",
    "    2.4 [Drug Deaths](#2.4-Drug-Deaths)\n",
    "    \n",
    "    2.5 [Homicides](#2.5-Homicides)\n",
    "    \n",
    "    2.6 [Suicide Rate](#2.6-Suicide-Rate)\n",
    "    \n",
    "    2.7 [Unemployment](#2.7-Unemployment)\n",
    "    \n",
    "    2.8 [Inflation](#2.8-Inflation)\n",
    "    \n",
    "    2.9 [GDP](#2.9-GDP)\n",
    "    \n",
    "    2.10 [H1N1](#2.10-H1N1)\n",
    "    \n",
    "    2.11 [COVID](#2.11-COVID)\n",
    "   \n",
    "    \n",
    "3. [Merging](#3.-Merging)\n",
    "    \n",
    "<hr>\n",
    "    \n",
    "    "
   ]
  },
  {
   "cell_type": "markdown",
   "id": "9df3c484-c152-40d1-b50f-1f7817c7cb69",
   "metadata": {},
   "source": [
    "\n",
    "# 1. Overview\n",
    "\n"
   ]
  },
  {
   "cell_type": "markdown",
   "id": "6b345db8-b1c5-48ec-a4a2-a0ed2901fec4",
   "metadata": {},
   "source": [
    "## 1.1 Background\n",
    "This project is an adaptation of the project Tony Robol completed in DataJam handbook(available on PGH Dataworks website). My version of the project will be analazying the relationship between mental health and economic factors in relation to the H1N1 and COVID 19 pandemic. My central research question is \"How do pandemics affect american individual and long term?\". This question will also help todetermine if the H1N1 \"pandemic\" truly qualifies as pandemic after the effect COVID has had on the world. "
   ]
  },
  {
   "cell_type": "markdown",
   "id": "6c4ac73c-2ac0-4137-a0dd-259a24b82730",
   "metadata": {},
   "source": [
    "## 1.2 Data\n",
    "The data for this project is cited in the links below: \n",
    "- Unemployment Rate\n",
    "    - Source: https://www.bls.gov/charts/employment-situation/civilian-unemployment-rate.htm.\n",
    "    - Copy and paste into excel file. Will then convert to pdf\n",
    "- Suicide Rate \n",
    "    - Source: https://www.cdc.gov/nchs/data/databriefs/db241_table.pdf#1\n",
    "    - Had to save the data table pdf to my desktop then use https://www.cleverpdf.com/ to convert it to a excel file. Include a note about never using manual data entry. IMO,  if you are thinking about entering the data manually you should switch your approach\n",
    "    - This data is yearly, I want the data to be monthly, I will split the data up monthly through some sort of plotting process \n",
    "    https://www.cdc.gov/nchs/data/databriefs/db433-tables.pdf#1\n",
    "- Homicide Rate \n",
    "    - Source: https://wonder.cdc.gov/controller/datarequest/D76;jsessionid=22B4DBCFDC0FE213B87A96923C50 \n",
    "    - Deaths are just the total number of homicides in the US. Only totals. Need to get the US Population each year/month to caca\n",
    "- US population\n",
    "    - Source: https://www.multpl.com/united-states-population/table/by-month\n",
    "    - Data collected from the US census bureau \n",
    "- H1N1 Data(2009)\n",
    "    - Source: https://www.cdc.gov/h1n1flu/estimates_2009_h1n1.htm\n",
    "    -  https://www.kaggle.com/datasets/arashnic/flu-data\n",
    "    - From April 12, 2009 to April 10, 2010, CDC estimated there were 60.8 million cases (range: 43.3-89.3 million), 274,304 hospitalizations (range: 195,086-402,719), and 12,469 deaths (range: 8868-18,306) in the United States due to the (H1N1)pdm09 virus.\n",
    "    \n",
    "- Drug data\n",
    "    - Source: https://wonder.cdc.gov/controller/datarequest/D76;jsessionid=22B4DBCFDC0FE213B87A96923C50\n"
   ]
  },
  {
   "cell_type": "markdown",
   "id": "be4198f5-4588-4b0e-8fef-003bd0d0dd34",
   "metadata": {},
   "source": [
    "## 1.3 Objectives\n",
    "In this notebook I hope to demonstrate best practices for clearning and merging datasets. I will use a variety og methods as to show you how similar tasks can be done in different ways. Throughout the notebook there will be comments about what the code actually does/means. There will. also be notes describing my approach to handling problems. Pay special tips to these anecdotes because using a logical approach is the most potent form of problem solving. \n",
    "<hr>"
   ]
  },
  {
   "cell_type": "markdown",
   "id": "a5b67dbe-a7bf-4c4c-a104-e3af0a3be27f",
   "metadata": {},
   "source": [
    "\n",
    "# 2. Cleaning\n",
    "\n",
    "In this section I will be demonstrating my process of cleaning datasets with Pyhton. Keep in mind that there are many alternate approaches to the methods I use; however, I will demonstarte what I consider to be bnest practice. \n"
   ]
  },
  {
   "cell_type": "markdown",
   "id": "807d0996-b735-4196-970d-b0308b90b1d3",
   "metadata": {},
   "source": [
    "## 2.1 US Population"
   ]
  },
  {
   "cell_type": "code",
   "execution_count": 3,
   "id": "07da57ca-f4ea-4ac3-bbb7-efe1ada3b4a8",
   "metadata": {},
   "outputs": [],
   "source": [
    "population = pd.read_excel(\"/Users/natemcdowell/Desktop/crf/datasets/us_pop.xlsx\")"
   ]
  },
  {
   "cell_type": "markdown",
   "id": "2c519a79-5fd5-45a7-bdee-0f3849ae33a8",
   "metadata": {},
   "source": [
    "In the cell above we are using PANDAS to create our first dataframe. The function *pd.read* can be applied to many different types of files such as csv, json, ______ by using their respective functions. ____. "
   ]
  },
  {
   "cell_type": "code",
   "execution_count": 4,
   "id": "077f8b0c-3e2d-43d1-a056-916834c4d944",
   "metadata": {},
   "outputs": [
    {
     "data": {
      "text/html": [
       "<div>\n",
       "<style scoped>\n",
       "    .dataframe tbody tr th:only-of-type {\n",
       "        vertical-align: middle;\n",
       "    }\n",
       "\n",
       "    .dataframe tbody tr th {\n",
       "        vertical-align: top;\n",
       "    }\n",
       "\n",
       "    .dataframe thead th {\n",
       "        text-align: right;\n",
       "    }\n",
       "</style>\n",
       "<table border=\"1\" class=\"dataframe\">\n",
       "  <thead>\n",
       "    <tr style=\"text-align: right;\">\n",
       "      <th></th>\n",
       "      <th>Date</th>\n",
       "      <th>Value</th>\n",
       "    </tr>\n",
       "  </thead>\n",
       "  <tbody>\n",
       "    <tr>\n",
       "      <th>0</th>\n",
       "      <td>2022-05-01</td>\n",
       "      <td>332.64 million</td>\n",
       "    </tr>\n",
       "    <tr>\n",
       "      <th>1</th>\n",
       "      <td>2022-04-01</td>\n",
       "      <td>332.60 million</td>\n",
       "    </tr>\n",
       "    <tr>\n",
       "      <th>2</th>\n",
       "      <td>2022-03-01</td>\n",
       "      <td>332.54 million</td>\n",
       "    </tr>\n",
       "    <tr>\n",
       "      <th>3</th>\n",
       "      <td>2022-02-01</td>\n",
       "      <td>332.47 million</td>\n",
       "    </tr>\n",
       "    <tr>\n",
       "      <th>4</th>\n",
       "      <td>2022-01-01</td>\n",
       "      <td>332.40 million</td>\n",
       "    </tr>\n",
       "    <tr>\n",
       "      <th>...</th>\n",
       "      <td>...</td>\n",
       "      <td>...</td>\n",
       "    </tr>\n",
       "    <tr>\n",
       "      <th>471</th>\n",
       "      <td>1904-07-01</td>\n",
       "      <td>82.17 million</td>\n",
       "    </tr>\n",
       "    <tr>\n",
       "      <th>472</th>\n",
       "      <td>1903-07-01</td>\n",
       "      <td>80.63 million</td>\n",
       "    </tr>\n",
       "    <tr>\n",
       "      <th>473</th>\n",
       "      <td>1902-07-01</td>\n",
       "      <td>79.16 million</td>\n",
       "    </tr>\n",
       "    <tr>\n",
       "      <th>474</th>\n",
       "      <td>1901-07-01</td>\n",
       "      <td>77.58 million</td>\n",
       "    </tr>\n",
       "    <tr>\n",
       "      <th>475</th>\n",
       "      <td>1900-07-01</td>\n",
       "      <td>76.09 million</td>\n",
       "    </tr>\n",
       "  </tbody>\n",
       "</table>\n",
       "<p>476 rows × 2 columns</p>\n",
       "</div>"
      ],
      "text/plain": [
       "          Date           Value\n",
       "0   2022-05-01  332.64 million\n",
       "1   2022-04-01  332.60 million\n",
       "2   2022-03-01  332.54 million\n",
       "3   2022-02-01  332.47 million\n",
       "4   2022-01-01  332.40 million\n",
       "..         ...             ...\n",
       "471 1904-07-01   82.17 million\n",
       "472 1903-07-01   80.63 million\n",
       "473 1902-07-01   79.16 million\n",
       "474 1901-07-01   77.58 million\n",
       "475 1900-07-01   76.09 million\n",
       "\n",
       "[476 rows x 2 columns]"
      ]
     },
     "execution_count": 4,
     "metadata": {},
     "output_type": "execute_result"
    }
   ],
   "source": [
    "population"
   ]
  },
  {
   "cell_type": "markdown",
   "id": "f58cfc0a-4e2c-489d-9612-e657816e94cc",
   "metadata": {},
   "source": [
    "to view the dataframe you just created, simply type in the name of the dataset. I usually name my datasets \"df\" (short for dataframe); however, you can name yours whatever you want. If your dataframe consisted of heart disease data you might name your dataframe \"heart\"."
   ]
  },
  {
   "cell_type": "code",
   "execution_count": 5,
   "id": "a9930871-1de2-4513-af35-f138f39e3480",
   "metadata": {},
   "outputs": [],
   "source": [
    "population = population.rename(columns = {'Date':'date','Value':'pop'})"
   ]
  },
  {
   "cell_type": "markdown",
   "id": "344100be-fac5-4dd3-8db5-9150d58fb56e",
   "metadata": {},
   "source": [
    "Before working further with your data you should decide on how you want to name your columns. I choose to always name my columns with lowercase letters with no spaces(I use underscores in place of spaces). "
   ]
  },
  {
   "cell_type": "code",
   "execution_count": 6,
   "id": "545f945b-e582-42e8-9aaf-518bb54f8d0c",
   "metadata": {},
   "outputs": [
    {
     "data": {
      "text/plain": [
       "date    datetime64[ns]\n",
       "pop             object\n",
       "dtype: object"
      ]
     },
     "execution_count": 6,
     "metadata": {},
     "output_type": "execute_result"
    }
   ],
   "source": [
    "population.dtypes"
   ]
  },
  {
   "cell_type": "markdown",
   "id": "09b08e26-dbe9-4219-87c7-51ee0123f6cf",
   "metadata": {},
   "source": [
    "Using the *.dtypes* command shows you the data type for each dataframe column. In this case, we have the *date* column in datetime format(perfect) and the *pop* column in object format, not ideal. We want to convert this column into a numerical datatype like int or float. To do this we have to get rid of the \"million\" that ends each data point."
   ]
  },
  {
   "cell_type": "code",
   "execution_count": 7,
   "id": "cfba8401-4317-461f-92bf-0bdb0dfddd0a",
   "metadata": {},
   "outputs": [
    {
     "data": {
      "text/html": [
       "<div>\n",
       "<style scoped>\n",
       "    .dataframe tbody tr th:only-of-type {\n",
       "        vertical-align: middle;\n",
       "    }\n",
       "\n",
       "    .dataframe tbody tr th {\n",
       "        vertical-align: top;\n",
       "    }\n",
       "\n",
       "    .dataframe thead th {\n",
       "        text-align: right;\n",
       "    }\n",
       "</style>\n",
       "<table border=\"1\" class=\"dataframe\">\n",
       "  <thead>\n",
       "    <tr style=\"text-align: right;\">\n",
       "      <th></th>\n",
       "      <th>0</th>\n",
       "      <th>1</th>\n",
       "    </tr>\n",
       "  </thead>\n",
       "  <tbody>\n",
       "    <tr>\n",
       "      <th>0</th>\n",
       "      <td>332.64</td>\n",
       "      <td>million</td>\n",
       "    </tr>\n",
       "    <tr>\n",
       "      <th>1</th>\n",
       "      <td>332.60</td>\n",
       "      <td>million</td>\n",
       "    </tr>\n",
       "    <tr>\n",
       "      <th>2</th>\n",
       "      <td>332.54</td>\n",
       "      <td>million</td>\n",
       "    </tr>\n",
       "    <tr>\n",
       "      <th>3</th>\n",
       "      <td>332.47</td>\n",
       "      <td>million</td>\n",
       "    </tr>\n",
       "    <tr>\n",
       "      <th>4</th>\n",
       "      <td>332.40</td>\n",
       "      <td>million</td>\n",
       "    </tr>\n",
       "    <tr>\n",
       "      <th>...</th>\n",
       "      <td>...</td>\n",
       "      <td>...</td>\n",
       "    </tr>\n",
       "    <tr>\n",
       "      <th>471</th>\n",
       "      <td>82.17</td>\n",
       "      <td>million</td>\n",
       "    </tr>\n",
       "    <tr>\n",
       "      <th>472</th>\n",
       "      <td>80.63</td>\n",
       "      <td>million</td>\n",
       "    </tr>\n",
       "    <tr>\n",
       "      <th>473</th>\n",
       "      <td>79.16</td>\n",
       "      <td>million</td>\n",
       "    </tr>\n",
       "    <tr>\n",
       "      <th>474</th>\n",
       "      <td>77.58</td>\n",
       "      <td>million</td>\n",
       "    </tr>\n",
       "    <tr>\n",
       "      <th>475</th>\n",
       "      <td>76.09</td>\n",
       "      <td>million</td>\n",
       "    </tr>\n",
       "  </tbody>\n",
       "</table>\n",
       "<p>476 rows × 2 columns</p>\n",
       "</div>"
      ],
      "text/plain": [
       "          0        1\n",
       "0    332.64  million\n",
       "1    332.60  million\n",
       "2    332.54  million\n",
       "3    332.47  million\n",
       "4    332.40  million\n",
       "..      ...      ...\n",
       "471   82.17  million\n",
       "472   80.63  million\n",
       "473   79.16  million\n",
       "474   77.58  million\n",
       "475   76.09  million\n",
       "\n",
       "[476 rows x 2 columns]"
      ]
     },
     "execution_count": 7,
     "metadata": {},
     "output_type": "execute_result"
    }
   ],
   "source": [
    "population[\"pop\"].str.split(\" \", n = 1, expand = True)"
   ]
  },
  {
   "cell_type": "code",
   "execution_count": 8,
   "id": "a9ce12ad-3b11-4071-b038-3fc370c2943a",
   "metadata": {},
   "outputs": [],
   "source": [
    "test = population[\"pop\"].str.split(\" \", n = 1, expand = True)"
   ]
  },
  {
   "cell_type": "markdown",
   "id": "66e2689f-5625-42f7-8f12-26a48072b6c4",
   "metadata": {},
   "source": [
    "This function, *str.split* can be used to split a string(aka object) at any character specficied within first parameter. In my case I want to split on the space between the number and the word million. I will first set my function equal to *test*. This will save the split reseults to a new dataframe instead of creating changes to your current dataframe. Then I will set what column i want to split, followed by str.split. The first parameter will be the character to split on *\" \"*, the second parameter you will set to *n = 1*, to return all splits, and the third parameter will be set to *expand = True* to return the split as a dataframe. "
   ]
  },
  {
   "cell_type": "code",
   "execution_count": 9,
   "id": "8ba72c92-2fb3-42b8-877b-4dd54ee8697e",
   "metadata": {},
   "outputs": [],
   "source": [
    "population['us_pop'] = test[0].astype(float)"
   ]
  },
  {
   "cell_type": "markdown",
   "id": "4e857d88-ed85-414c-a54f-7a47dc8eacb4",
   "metadata": {},
   "source": [
    "We will now assign the value of the *test* dataframe column 0 to a new column in our real dataframe. We add the function *.astype* to to this statement to input the number as a float. "
   ]
  },
  {
   "cell_type": "code",
   "execution_count": 10,
   "id": "75f4ec7f-0668-4bd9-aa7c-3c75de77787a",
   "metadata": {},
   "outputs": [],
   "source": [
    "population['us_pop'] = population[\"us_pop\"] *1000000"
   ]
  },
  {
   "cell_type": "markdown",
   "id": "06580155-10e6-44bd-b699-a6f0cfdbcd35",
   "metadata": {},
   "source": [
    "Since the column was expressed in the million decimal for we want to transform the value to is proper form. This can be done by multiplying the number by 1000000 to move the decimal places the proper amount of spaces. "
   ]
  },
  {
   "cell_type": "code",
   "execution_count": 11,
   "id": "e50a49d1-6f29-42e4-a647-cb8a661bf144",
   "metadata": {},
   "outputs": [
    {
     "data": {
      "text/html": [
       "<div>\n",
       "<style scoped>\n",
       "    .dataframe tbody tr th:only-of-type {\n",
       "        vertical-align: middle;\n",
       "    }\n",
       "\n",
       "    .dataframe tbody tr th {\n",
       "        vertical-align: top;\n",
       "    }\n",
       "\n",
       "    .dataframe thead th {\n",
       "        text-align: right;\n",
       "    }\n",
       "</style>\n",
       "<table border=\"1\" class=\"dataframe\">\n",
       "  <thead>\n",
       "    <tr style=\"text-align: right;\">\n",
       "      <th></th>\n",
       "      <th>date</th>\n",
       "      <th>pop</th>\n",
       "      <th>us_pop</th>\n",
       "    </tr>\n",
       "  </thead>\n",
       "  <tbody>\n",
       "    <tr>\n",
       "      <th>0</th>\n",
       "      <td>2022-05-01</td>\n",
       "      <td>332.64 million</td>\n",
       "      <td>332640000.0</td>\n",
       "    </tr>\n",
       "    <tr>\n",
       "      <th>1</th>\n",
       "      <td>2022-04-01</td>\n",
       "      <td>332.60 million</td>\n",
       "      <td>332600000.0</td>\n",
       "    </tr>\n",
       "    <tr>\n",
       "      <th>2</th>\n",
       "      <td>2022-03-01</td>\n",
       "      <td>332.54 million</td>\n",
       "      <td>332540000.0</td>\n",
       "    </tr>\n",
       "    <tr>\n",
       "      <th>3</th>\n",
       "      <td>2022-02-01</td>\n",
       "      <td>332.47 million</td>\n",
       "      <td>332470000.0</td>\n",
       "    </tr>\n",
       "    <tr>\n",
       "      <th>4</th>\n",
       "      <td>2022-01-01</td>\n",
       "      <td>332.40 million</td>\n",
       "      <td>332400000.0</td>\n",
       "    </tr>\n",
       "  </tbody>\n",
       "</table>\n",
       "</div>"
      ],
      "text/plain": [
       "        date             pop       us_pop\n",
       "0 2022-05-01  332.64 million  332640000.0\n",
       "1 2022-04-01  332.60 million  332600000.0\n",
       "2 2022-03-01  332.54 million  332540000.0\n",
       "3 2022-02-01  332.47 million  332470000.0\n",
       "4 2022-01-01  332.40 million  332400000.0"
      ]
     },
     "execution_count": 11,
     "metadata": {},
     "output_type": "execute_result"
    }
   ],
   "source": [
    "population.head()"
   ]
  },
  {
   "cell_type": "code",
   "execution_count": 12,
   "id": "96b2d5d5-4f63-494f-9006-a96fa119f8b2",
   "metadata": {},
   "outputs": [],
   "source": [
    "population =population.drop(columns = ['pop'])"
   ]
  },
  {
   "cell_type": "markdown",
   "id": "25fd04f1-a859-4ae7-8a43-071ee4785ddc",
   "metadata": {},
   "source": [
    "We can now drop the old column containing the data in an improper form."
   ]
  },
  {
   "cell_type": "code",
   "execution_count": 13,
   "id": "53fc4bf4-e005-4a1f-91ac-eeb98fbffb58",
   "metadata": {},
   "outputs": [
    {
     "data": {
      "text/plain": [
       "[Text(0.5, 1.0, 'US  POP Over Time')]"
      ]
     },
     "execution_count": 13,
     "metadata": {},
     "output_type": "execute_result"
    },
    {
     "data": {
      "image/png": "[encoded data removed]",
      "text/plain": [
       "<Figure size 432x288 with 1 Axes>"
      ]
     },
     "metadata": {
      "needs_background": "light"
     },
     "output_type": "display_data"
    }
   ],
   "source": [
    "sns.lineplot(x = \"date\", y = \"us_pop\",\n",
    "             data = population,markers = True).set(title='US  POP Over Time')"
   ]
  },
  {
   "cell_type": "markdown",
   "id": "60439b8d-492a-451e-812b-03c02b43f723",
   "metadata": {},
   "source": [
    "At the top of this notebook we imported the seaborn library as sns. We did this so we can call seaborn in a shorthand way, simply by typing sns. Seaborn has many different types of figures, but for this notebook we are going to be using the lineplot figure frequently. To create a lineplot you will set the x and y values to the colmuns that you want on the x and y axis. Next you will let seaborn where the data is located, *ex. data = df*. I then set markers to True ___ , as well as set the title to \"US Pop Over Time\". "
   ]
  },
  {
   "cell_type": "code",
   "execution_count": 14,
   "id": "a86c08b1-dcac-4965-9cbf-bea7bc9ce9a3",
   "metadata": {},
   "outputs": [],
   "source": [
    "#population  = df.copy()"
   ]
  },
  {
   "cell_type": "markdown",
   "id": "4dfe71ec-a08f-4206-bc6a-2fb7f1b783dd",
   "metadata": {},
   "source": [
    "Now we can save the finished dataframe with a unique name so that we can work with it later. "
   ]
  },
  {
   "cell_type": "markdown",
   "id": "3e6707ad-1d5c-4347-8503-6be712a6261f",
   "metadata": {},
   "source": [
    "## 2.2 Alcohol Deaths\n",
    "\n",
    "\n"
   ]
  },
  {
   "cell_type": "code",
   "execution_count": 15,
   "id": "488bc61a-d518-46f5-b5ea-7a32464d8cce",
   "metadata": {},
   "outputs": [],
   "source": [
    "alc_d = pd.read_excel(\"/Users/natemcdowell/Desktop/crf/datasets/alcohol_death.xlsx\")"
   ]
  },
  {
   "cell_type": "code",
   "execution_count": 16,
   "id": "3df04ce1-364c-47f5-8ca8-862ea601417b",
   "metadata": {},
   "outputs": [
    {
     "data": {
      "text/plain": [
       "(301, 8)"
      ]
     },
     "execution_count": 16,
     "metadata": {},
     "output_type": "execute_result"
    }
   ],
   "source": [
    "alc_d.shape"
   ]
  },
  {
   "cell_type": "markdown",
   "id": "b78ae89e-397a-4451-b12c-fb65bc78e5af",
   "metadata": {},
   "source": [
    "this command shows me what the structure of the data, how much data I will be looking at. This dataset is reported to be 301 rows and 8 columns"
   ]
  },
  {
   "cell_type": "code",
   "execution_count": 17,
   "id": "58fa538f-05c7-48e0-a440-69028ada2177",
   "metadata": {},
   "outputs": [
    {
     "data": {
      "text/html": [
       "<div>\n",
       "<style scoped>\n",
       "    .dataframe tbody tr th:only-of-type {\n",
       "        vertical-align: middle;\n",
       "    }\n",
       "\n",
       "    .dataframe tbody tr th {\n",
       "        vertical-align: top;\n",
       "    }\n",
       "\n",
       "    .dataframe thead th {\n",
       "        text-align: right;\n",
       "    }\n",
       "</style>\n",
       "<table border=\"1\" class=\"dataframe\">\n",
       "  <thead>\n",
       "    <tr style=\"text-align: right;\">\n",
       "      <th></th>\n",
       "      <th>Notes</th>\n",
       "      <th>Drug/Alcohol Induced</th>\n",
       "      <th>Drug/Alcohol Induced Code</th>\n",
       "      <th>Month</th>\n",
       "      <th>Month Code</th>\n",
       "      <th>Deaths</th>\n",
       "      <th>Population</th>\n",
       "      <th>Crude Rate</th>\n",
       "    </tr>\n",
       "  </thead>\n",
       "  <tbody>\n",
       "    <tr>\n",
       "      <th>0</th>\n",
       "      <td>NaN</td>\n",
       "      <td>Alcohol-induced causes</td>\n",
       "      <td>A</td>\n",
       "      <td>Jan., 1999</td>\n",
       "      <td>1999/01</td>\n",
       "      <td>1783.0</td>\n",
       "      <td>Not Applicable</td>\n",
       "      <td>Not Applicable</td>\n",
       "    </tr>\n",
       "    <tr>\n",
       "      <th>1</th>\n",
       "      <td>NaN</td>\n",
       "      <td>Alcohol-induced causes</td>\n",
       "      <td>A</td>\n",
       "      <td>Feb., 1999</td>\n",
       "      <td>1999/02</td>\n",
       "      <td>1609.0</td>\n",
       "      <td>Not Applicable</td>\n",
       "      <td>Not Applicable</td>\n",
       "    </tr>\n",
       "    <tr>\n",
       "      <th>2</th>\n",
       "      <td>NaN</td>\n",
       "      <td>Alcohol-induced causes</td>\n",
       "      <td>A</td>\n",
       "      <td>Mar., 1999</td>\n",
       "      <td>1999/03</td>\n",
       "      <td>1723.0</td>\n",
       "      <td>Not Applicable</td>\n",
       "      <td>Not Applicable</td>\n",
       "    </tr>\n",
       "    <tr>\n",
       "      <th>3</th>\n",
       "      <td>NaN</td>\n",
       "      <td>Alcohol-induced causes</td>\n",
       "      <td>A</td>\n",
       "      <td>Apr., 1999</td>\n",
       "      <td>1999/04</td>\n",
       "      <td>1507.0</td>\n",
       "      <td>Not Applicable</td>\n",
       "      <td>Not Applicable</td>\n",
       "    </tr>\n",
       "    <tr>\n",
       "      <th>4</th>\n",
       "      <td>NaN</td>\n",
       "      <td>Alcohol-induced causes</td>\n",
       "      <td>A</td>\n",
       "      <td>May, 1999</td>\n",
       "      <td>1999/05</td>\n",
       "      <td>1583.0</td>\n",
       "      <td>Not Applicable</td>\n",
       "      <td>Not Applicable</td>\n",
       "    </tr>\n",
       "  </tbody>\n",
       "</table>\n",
       "</div>"
      ],
      "text/plain": [
       "  Notes    Drug/Alcohol Induced Drug/Alcohol Induced Code       Month  \\\n",
       "0   NaN  Alcohol-induced causes                         A  Jan., 1999   \n",
       "1   NaN  Alcohol-induced causes                         A  Feb., 1999   \n",
       "2   NaN  Alcohol-induced causes                         A  Mar., 1999   \n",
       "3   NaN  Alcohol-induced causes                         A  Apr., 1999   \n",
       "4   NaN  Alcohol-induced causes                         A   May, 1999   \n",
       "\n",
       "  Month Code  Deaths      Population      Crude Rate  \n",
       "0    1999/01  1783.0  Not Applicable  Not Applicable  \n",
       "1    1999/02  1609.0  Not Applicable  Not Applicable  \n",
       "2    1999/03  1723.0  Not Applicable  Not Applicable  \n",
       "3    1999/04  1507.0  Not Applicable  Not Applicable  \n",
       "4    1999/05  1583.0  Not Applicable  Not Applicable  "
      ]
     },
     "execution_count": 17,
     "metadata": {},
     "output_type": "execute_result"
    }
   ],
   "source": [
    "alc_d.head()"
   ]
  },
  {
   "cell_type": "markdown",
   "id": "4476be1f-61f3-44fe-adfc-e787b27facde",
   "metadata": {},
   "source": [
    "the head command, by default shows me the first 5 rows of the dataset. If I want, I can enter any number up to 50 for a custom amount of rows to be displayed."
   ]
  },
  {
   "cell_type": "code",
   "execution_count": 18,
   "id": "bc44ffe2-0a98-4392-bdd1-9fa3b4cd7ee0",
   "metadata": {},
   "outputs": [
    {
     "data": {
      "text/plain": [
       "<AxesSubplot:>"
      ]
     },
     "execution_count": 18,
     "metadata": {},
     "output_type": "execute_result"
    },
    {
     "data": {
      "image/png": "[encoded data removed]",
      "text/plain": [
       "<Figure size 432x288 with 1 Axes>"
      ]
     },
     "metadata": {
      "needs_background": "light"
     },
     "output_type": "display_data"
    }
   ],
   "source": [
    "sns.heatmap(alc_d.isnull(),yticklabels=False,cbar=False,cmap='viridis')"
   ]
  },
  {
   "cell_type": "markdown",
   "id": "ebb82aaf-5223-464d-bbf2-7a9b5d5fcf1f",
   "metadata": {},
   "source": [
    "As you can see above, the \"Notes\" column is filled with NaN values. The yellow sections of the heatmap below represent the instances of the NaN values "
   ]
  },
  {
   "cell_type": "code",
   "execution_count": 19,
   "id": "f48d7952-fbb9-469e-9eb6-6ed8beaacb64",
   "metadata": {},
   "outputs": [],
   "source": [
    "alc_d = alc_d.drop(columns = ['Notes'])"
   ]
  },
  {
   "cell_type": "markdown",
   "id": "58b50ad2-bea6-424a-9449-58e56bb4f482",
   "metadata": {},
   "source": [
    "since the notes column contains so many NaN values I chose to drop it. Everyytimme that you want to make a permanent change to a dataframe in pandas you have to redefine it. This is why I set \"df =\" to the change I want to make. If I don't do this the command will simply display the type of effect it *would* have but it would not actually make that change to the data. "
   ]
  },
  {
   "cell_type": "code",
   "execution_count": 20,
   "id": "0a7cb6a7-148e-443e-af1a-2a42f75d53a8",
   "metadata": {},
   "outputs": [
    {
     "data": {
      "text/plain": [
       "<AxesSubplot:>"
      ]
     },
     "execution_count": 20,
     "metadata": {},
     "output_type": "execute_result"
    },
    {
     "data": {
      "image/png": "[encoded data removed]",
      "text/plain": [
       "<Figure size 432x288 with 1 Axes>"
      ]
     },
     "metadata": {
      "needs_background": "light"
     },
     "output_type": "display_data"
    }
   ],
   "source": [
    "sns.heatmap(alc_d.isnull(),yticklabels=False,cbar=False,cmap='viridis')"
   ]
  },
  {
   "cell_type": "markdown",
   "id": "9705cf03-6c77-4cc3-9484-47e1658145ba",
   "metadata": {},
   "source": [
    "The new dataframe after wthe drop of notes:"
   ]
  },
  {
   "cell_type": "code",
   "execution_count": 21,
   "id": "8a949115-8dce-4450-bb02-f6905147ebf2",
   "metadata": {},
   "outputs": [],
   "source": [
    "alc_d = alc_d.dropna()"
   ]
  },
  {
   "cell_type": "markdown",
   "id": "ac3f48d4-5a03-442d-9563-16a7428ff571",
   "metadata": {},
   "source": [
    "This command will drop all rows containing a NaN value. Since all of the NaN's are isolated to the bottom,not dsispered through the dataframe, dropping them won't create and major change. "
   ]
  },
  {
   "cell_type": "code",
   "execution_count": 22,
   "id": "bca56517-578a-459f-9798-a3f4615b5d8d",
   "metadata": {},
   "outputs": [
    {
     "data": {
      "text/html": [
       "<div>\n",
       "<style scoped>\n",
       "    .dataframe tbody tr th:only-of-type {\n",
       "        vertical-align: middle;\n",
       "    }\n",
       "\n",
       "    .dataframe tbody tr th {\n",
       "        vertical-align: top;\n",
       "    }\n",
       "\n",
       "    .dataframe thead th {\n",
       "        text-align: right;\n",
       "    }\n",
       "</style>\n",
       "<table border=\"1\" class=\"dataframe\">\n",
       "  <thead>\n",
       "    <tr style=\"text-align: right;\">\n",
       "      <th></th>\n",
       "      <th>Drug/Alcohol Induced</th>\n",
       "      <th>Drug/Alcohol Induced Code</th>\n",
       "      <th>Month</th>\n",
       "      <th>Month Code</th>\n",
       "      <th>Deaths</th>\n",
       "      <th>Population</th>\n",
       "      <th>Crude Rate</th>\n",
       "    </tr>\n",
       "  </thead>\n",
       "  <tbody>\n",
       "    <tr>\n",
       "      <th>0</th>\n",
       "      <td>Alcohol-induced causes</td>\n",
       "      <td>A</td>\n",
       "      <td>Jan., 1999</td>\n",
       "      <td>1999/01</td>\n",
       "      <td>1783.0</td>\n",
       "      <td>Not Applicable</td>\n",
       "      <td>Not Applicable</td>\n",
       "    </tr>\n",
       "    <tr>\n",
       "      <th>1</th>\n",
       "      <td>Alcohol-induced causes</td>\n",
       "      <td>A</td>\n",
       "      <td>Feb., 1999</td>\n",
       "      <td>1999/02</td>\n",
       "      <td>1609.0</td>\n",
       "      <td>Not Applicable</td>\n",
       "      <td>Not Applicable</td>\n",
       "    </tr>\n",
       "    <tr>\n",
       "      <th>2</th>\n",
       "      <td>Alcohol-induced causes</td>\n",
       "      <td>A</td>\n",
       "      <td>Mar., 1999</td>\n",
       "      <td>1999/03</td>\n",
       "      <td>1723.0</td>\n",
       "      <td>Not Applicable</td>\n",
       "      <td>Not Applicable</td>\n",
       "    </tr>\n",
       "    <tr>\n",
       "      <th>3</th>\n",
       "      <td>Alcohol-induced causes</td>\n",
       "      <td>A</td>\n",
       "      <td>Apr., 1999</td>\n",
       "      <td>1999/04</td>\n",
       "      <td>1507.0</td>\n",
       "      <td>Not Applicable</td>\n",
       "      <td>Not Applicable</td>\n",
       "    </tr>\n",
       "    <tr>\n",
       "      <th>4</th>\n",
       "      <td>Alcohol-induced causes</td>\n",
       "      <td>A</td>\n",
       "      <td>May, 1999</td>\n",
       "      <td>1999/05</td>\n",
       "      <td>1583.0</td>\n",
       "      <td>Not Applicable</td>\n",
       "      <td>Not Applicable</td>\n",
       "    </tr>\n",
       "    <tr>\n",
       "      <th>...</th>\n",
       "      <td>...</td>\n",
       "      <td>...</td>\n",
       "      <td>...</td>\n",
       "      <td>...</td>\n",
       "      <td>...</td>\n",
       "      <td>...</td>\n",
       "      <td>...</td>\n",
       "    </tr>\n",
       "    <tr>\n",
       "      <th>259</th>\n",
       "      <td>Alcohol-induced causes</td>\n",
       "      <td>A</td>\n",
       "      <td>Aug., 2020</td>\n",
       "      <td>2020/08</td>\n",
       "      <td>4362.0</td>\n",
       "      <td>Not Applicable</td>\n",
       "      <td>Not Applicable</td>\n",
       "    </tr>\n",
       "    <tr>\n",
       "      <th>260</th>\n",
       "      <td>Alcohol-induced causes</td>\n",
       "      <td>A</td>\n",
       "      <td>Sep., 2020</td>\n",
       "      <td>2020/09</td>\n",
       "      <td>4226.0</td>\n",
       "      <td>Not Applicable</td>\n",
       "      <td>Not Applicable</td>\n",
       "    </tr>\n",
       "    <tr>\n",
       "      <th>261</th>\n",
       "      <td>Alcohol-induced causes</td>\n",
       "      <td>A</td>\n",
       "      <td>Oct., 2020</td>\n",
       "      <td>2020/10</td>\n",
       "      <td>4359.0</td>\n",
       "      <td>Not Applicable</td>\n",
       "      <td>Not Applicable</td>\n",
       "    </tr>\n",
       "    <tr>\n",
       "      <th>262</th>\n",
       "      <td>Alcohol-induced causes</td>\n",
       "      <td>A</td>\n",
       "      <td>Nov., 2020</td>\n",
       "      <td>2020/11</td>\n",
       "      <td>4427.0</td>\n",
       "      <td>Not Applicable</td>\n",
       "      <td>Not Applicable</td>\n",
       "    </tr>\n",
       "    <tr>\n",
       "      <th>263</th>\n",
       "      <td>Alcohol-induced causes</td>\n",
       "      <td>A</td>\n",
       "      <td>Dec., 2020</td>\n",
       "      <td>2020/12</td>\n",
       "      <td>4643.0</td>\n",
       "      <td>Not Applicable</td>\n",
       "      <td>Not Applicable</td>\n",
       "    </tr>\n",
       "  </tbody>\n",
       "</table>\n",
       "<p>264 rows × 7 columns</p>\n",
       "</div>"
      ],
      "text/plain": [
       "       Drug/Alcohol Induced Drug/Alcohol Induced Code        Month Month Code  \\\n",
       "0    Alcohol-induced causes                         A   Jan., 1999    1999/01   \n",
       "1    Alcohol-induced causes                         A   Feb., 1999    1999/02   \n",
       "2    Alcohol-induced causes                         A   Mar., 1999    1999/03   \n",
       "3    Alcohol-induced causes                         A   Apr., 1999    1999/04   \n",
       "4    Alcohol-induced causes                         A    May, 1999    1999/05   \n",
       "..                      ...                       ...          ...        ...   \n",
       "259  Alcohol-induced causes                         A  Aug., 2020     2020/08   \n",
       "260  Alcohol-induced causes                         A  Sep., 2020     2020/09   \n",
       "261  Alcohol-induced causes                         A  Oct., 2020     2020/10   \n",
       "262  Alcohol-induced causes                         A  Nov., 2020     2020/11   \n",
       "263  Alcohol-induced causes                         A  Dec., 2020     2020/12   \n",
       "\n",
       "     Deaths      Population      Crude Rate  \n",
       "0    1783.0  Not Applicable  Not Applicable  \n",
       "1    1609.0  Not Applicable  Not Applicable  \n",
       "2    1723.0  Not Applicable  Not Applicable  \n",
       "3    1507.0  Not Applicable  Not Applicable  \n",
       "4    1583.0  Not Applicable  Not Applicable  \n",
       "..      ...             ...             ...  \n",
       "259  4362.0  Not Applicable  Not Applicable  \n",
       "260  4226.0  Not Applicable  Not Applicable  \n",
       "261  4359.0  Not Applicable  Not Applicable  \n",
       "262  4427.0  Not Applicable  Not Applicable  \n",
       "263  4643.0  Not Applicable  Not Applicable  \n",
       "\n",
       "[264 rows x 7 columns]"
      ]
     },
     "execution_count": 22,
     "metadata": {},
     "output_type": "execute_result"
    }
   ],
   "source": [
    "alc_d"
   ]
  },
  {
   "cell_type": "code",
   "execution_count": 23,
   "id": "144cee77-e346-4534-85c8-f3837764b234",
   "metadata": {},
   "outputs": [
    {
     "data": {
      "text/plain": [
       "array(['Alcohol-induced causes'], dtype=object)"
      ]
     },
     "execution_count": 23,
     "metadata": {},
     "output_type": "execute_result"
    }
   ],
   "source": [
    "alc_d['Drug/Alcohol Induced'].unique()"
   ]
  },
  {
   "cell_type": "markdown",
   "id": "86180def-0a33-4da8-ad7f-d07355ec8cf8",
   "metadata": {},
   "source": [
    "I will now use the .unique() command to determine what columns contain meaningful data. If a column is comprised of identical data, then it will not help me with any type of analysis, so it is best to drop it. "
   ]
  },
  {
   "cell_type": "code",
   "execution_count": 24,
   "id": "d44f3fc7-56e4-46dd-9f64-4a2f4aa86c4e",
   "metadata": {},
   "outputs": [
    {
     "data": {
      "text/plain": [
       "array(['A'], dtype=object)"
      ]
     },
     "execution_count": 24,
     "metadata": {},
     "output_type": "execute_result"
    }
   ],
   "source": [
    "alc_d['Drug/Alcohol Induced Code'].unique()"
   ]
  },
  {
   "cell_type": "code",
   "execution_count": 25,
   "id": "58a9cc5c-402d-4c17-a2e1-c6fd798951b7",
   "metadata": {},
   "outputs": [
    {
     "data": {
      "text/plain": [
       "array(['Not Applicable'], dtype=object)"
      ]
     },
     "execution_count": 25,
     "metadata": {},
     "output_type": "execute_result"
    }
   ],
   "source": [
    "alc_d['Population'].unique()"
   ]
  },
  {
   "cell_type": "code",
   "execution_count": 26,
   "id": "84c04bd0-fd6a-4970-b107-b580bc6db856",
   "metadata": {},
   "outputs": [
    {
     "data": {
      "text/plain": [
       "array(['Not Applicable'], dtype=object)"
      ]
     },
     "execution_count": 26,
     "metadata": {},
     "output_type": "execute_result"
    }
   ],
   "source": [
    "alc_d['Crude Rate'].unique()"
   ]
  },
  {
   "cell_type": "code",
   "execution_count": 27,
   "id": "501a7bd3-7e39-4c95-8185-32dc5fd0503e",
   "metadata": {},
   "outputs": [
    {
     "data": {
      "text/html": [
       "<div>\n",
       "<style scoped>\n",
       "    .dataframe tbody tr th:only-of-type {\n",
       "        vertical-align: middle;\n",
       "    }\n",
       "\n",
       "    .dataframe tbody tr th {\n",
       "        vertical-align: top;\n",
       "    }\n",
       "\n",
       "    .dataframe thead th {\n",
       "        text-align: right;\n",
       "    }\n",
       "</style>\n",
       "<table border=\"1\" class=\"dataframe\">\n",
       "  <thead>\n",
       "    <tr style=\"text-align: right;\">\n",
       "      <th></th>\n",
       "      <th>Month Code</th>\n",
       "      <th>Deaths</th>\n",
       "    </tr>\n",
       "  </thead>\n",
       "  <tbody>\n",
       "    <tr>\n",
       "      <th>0</th>\n",
       "      <td>1999/01</td>\n",
       "      <td>1783.0</td>\n",
       "    </tr>\n",
       "    <tr>\n",
       "      <th>1</th>\n",
       "      <td>1999/02</td>\n",
       "      <td>1609.0</td>\n",
       "    </tr>\n",
       "    <tr>\n",
       "      <th>2</th>\n",
       "      <td>1999/03</td>\n",
       "      <td>1723.0</td>\n",
       "    </tr>\n",
       "    <tr>\n",
       "      <th>3</th>\n",
       "      <td>1999/04</td>\n",
       "      <td>1507.0</td>\n",
       "    </tr>\n",
       "    <tr>\n",
       "      <th>4</th>\n",
       "      <td>1999/05</td>\n",
       "      <td>1583.0</td>\n",
       "    </tr>\n",
       "  </tbody>\n",
       "</table>\n",
       "</div>"
      ],
      "text/plain": [
       "  Month Code  Deaths\n",
       "0    1999/01  1783.0\n",
       "1    1999/02  1609.0\n",
       "2    1999/03  1723.0\n",
       "3    1999/04  1507.0\n",
       "4    1999/05  1583.0"
      ]
     },
     "execution_count": 27,
     "metadata": {},
     "output_type": "execute_result"
    }
   ],
   "source": [
    "alc_d = alc_d.drop(columns = ['Drug/Alcohol Induced','Drug/Alcohol Induced Code','Population','Crude Rate','Month'])\n",
    "alc_d.head()"
   ]
  },
  {
   "cell_type": "code",
   "execution_count": 28,
   "id": "1102c862-07ac-4ed6-89da-88e42df080a2",
   "metadata": {},
   "outputs": [],
   "source": [
    "alc_d = alc_d.rename(columns = {'Month Code':'date','Deaths':'alcohol_deaths'})"
   ]
  },
  {
   "cell_type": "code",
   "execution_count": 29,
   "id": "3a3ba6f8-2335-4942-94d0-ae9d25b142d7",
   "metadata": {},
   "outputs": [
    {
     "data": {
      "text/html": [
       "<div>\n",
       "<style scoped>\n",
       "    .dataframe tbody tr th:only-of-type {\n",
       "        vertical-align: middle;\n",
       "    }\n",
       "\n",
       "    .dataframe tbody tr th {\n",
       "        vertical-align: top;\n",
       "    }\n",
       "\n",
       "    .dataframe thead th {\n",
       "        text-align: right;\n",
       "    }\n",
       "</style>\n",
       "<table border=\"1\" class=\"dataframe\">\n",
       "  <thead>\n",
       "    <tr style=\"text-align: right;\">\n",
       "      <th></th>\n",
       "      <th>date</th>\n",
       "      <th>alcohol_deaths</th>\n",
       "    </tr>\n",
       "  </thead>\n",
       "  <tbody>\n",
       "    <tr>\n",
       "      <th>0</th>\n",
       "      <td>1999/01</td>\n",
       "      <td>1783.0</td>\n",
       "    </tr>\n",
       "    <tr>\n",
       "      <th>1</th>\n",
       "      <td>1999/02</td>\n",
       "      <td>1609.0</td>\n",
       "    </tr>\n",
       "    <tr>\n",
       "      <th>2</th>\n",
       "      <td>1999/03</td>\n",
       "      <td>1723.0</td>\n",
       "    </tr>\n",
       "    <tr>\n",
       "      <th>3</th>\n",
       "      <td>1999/04</td>\n",
       "      <td>1507.0</td>\n",
       "    </tr>\n",
       "    <tr>\n",
       "      <th>4</th>\n",
       "      <td>1999/05</td>\n",
       "      <td>1583.0</td>\n",
       "    </tr>\n",
       "  </tbody>\n",
       "</table>\n",
       "</div>"
      ],
      "text/plain": [
       "      date  alcohol_deaths\n",
       "0  1999/01          1783.0\n",
       "1  1999/02          1609.0\n",
       "2  1999/03          1723.0\n",
       "3  1999/04          1507.0\n",
       "4  1999/05          1583.0"
      ]
     },
     "execution_count": 29,
     "metadata": {},
     "output_type": "execute_result"
    }
   ],
   "source": [
    "alc_d.head()"
   ]
  },
  {
   "cell_type": "code",
   "execution_count": 30,
   "id": "d9df647f-83b6-4c35-828b-3749a1e859bd",
   "metadata": {},
   "outputs": [
    {
     "data": {
      "text/plain": [
       "date               object\n",
       "alcohol_deaths    float64\n",
       "dtype: object"
      ]
     },
     "execution_count": 30,
     "metadata": {},
     "output_type": "execute_result"
    }
   ],
   "source": [
    "alc_d.dtypes"
   ]
  },
  {
   "cell_type": "code",
   "execution_count": 31,
   "id": "809bbe00-14b2-4b0c-82a4-612b4e5f123a",
   "metadata": {},
   "outputs": [],
   "source": [
    "alc_d.date = pd.to_datetime(alc_d.date)"
   ]
  },
  {
   "cell_type": "markdown",
   "id": "96118401-2821-4ea1-bf5d-b07c8885061b",
   "metadata": {},
   "source": [
    "I need the date column to be in datetime format to create proper visualizations. Changing to the datetime type is a bit different than other datatypes because you need to call the pandas library. The command above demonstrates this method. "
   ]
  },
  {
   "cell_type": "code",
   "execution_count": 32,
   "id": "9fc6ad2f-c805-4a95-b180-7c1ced8e5917",
   "metadata": {},
   "outputs": [
    {
     "data": {
      "text/plain": [
       "date              datetime64[ns]\n",
       "alcohol_deaths           float64\n",
       "dtype: object"
      ]
     },
     "execution_count": 32,
     "metadata": {},
     "output_type": "execute_result"
    }
   ],
   "source": [
    "alc_d.dtypes"
   ]
  },
  {
   "cell_type": "code",
   "execution_count": 33,
   "id": "5c6a27cd-3281-4302-b247-f2a84723b562",
   "metadata": {},
   "outputs": [
    {
     "data": {
      "text/html": [
       "<div>\n",
       "<style scoped>\n",
       "    .dataframe tbody tr th:only-of-type {\n",
       "        vertical-align: middle;\n",
       "    }\n",
       "\n",
       "    .dataframe tbody tr th {\n",
       "        vertical-align: top;\n",
       "    }\n",
       "\n",
       "    .dataframe thead th {\n",
       "        text-align: right;\n",
       "    }\n",
       "</style>\n",
       "<table border=\"1\" class=\"dataframe\">\n",
       "  <thead>\n",
       "    <tr style=\"text-align: right;\">\n",
       "      <th></th>\n",
       "      <th>date</th>\n",
       "      <th>alcohol_deaths</th>\n",
       "    </tr>\n",
       "  </thead>\n",
       "  <tbody>\n",
       "    <tr>\n",
       "      <th>0</th>\n",
       "      <td>1999-01-01</td>\n",
       "      <td>1783.0</td>\n",
       "    </tr>\n",
       "    <tr>\n",
       "      <th>1</th>\n",
       "      <td>1999-02-01</td>\n",
       "      <td>1609.0</td>\n",
       "    </tr>\n",
       "    <tr>\n",
       "      <th>2</th>\n",
       "      <td>1999-03-01</td>\n",
       "      <td>1723.0</td>\n",
       "    </tr>\n",
       "    <tr>\n",
       "      <th>3</th>\n",
       "      <td>1999-04-01</td>\n",
       "      <td>1507.0</td>\n",
       "    </tr>\n",
       "    <tr>\n",
       "      <th>4</th>\n",
       "      <td>1999-05-01</td>\n",
       "      <td>1583.0</td>\n",
       "    </tr>\n",
       "    <tr>\n",
       "      <th>...</th>\n",
       "      <td>...</td>\n",
       "      <td>...</td>\n",
       "    </tr>\n",
       "    <tr>\n",
       "      <th>259</th>\n",
       "      <td>2020-08-01</td>\n",
       "      <td>4362.0</td>\n",
       "    </tr>\n",
       "    <tr>\n",
       "      <th>260</th>\n",
       "      <td>2020-09-01</td>\n",
       "      <td>4226.0</td>\n",
       "    </tr>\n",
       "    <tr>\n",
       "      <th>261</th>\n",
       "      <td>2020-10-01</td>\n",
       "      <td>4359.0</td>\n",
       "    </tr>\n",
       "    <tr>\n",
       "      <th>262</th>\n",
       "      <td>2020-11-01</td>\n",
       "      <td>4427.0</td>\n",
       "    </tr>\n",
       "    <tr>\n",
       "      <th>263</th>\n",
       "      <td>2020-12-01</td>\n",
       "      <td>4643.0</td>\n",
       "    </tr>\n",
       "  </tbody>\n",
       "</table>\n",
       "<p>264 rows × 2 columns</p>\n",
       "</div>"
      ],
      "text/plain": [
       "          date  alcohol_deaths\n",
       "0   1999-01-01          1783.0\n",
       "1   1999-02-01          1609.0\n",
       "2   1999-03-01          1723.0\n",
       "3   1999-04-01          1507.0\n",
       "4   1999-05-01          1583.0\n",
       "..         ...             ...\n",
       "259 2020-08-01          4362.0\n",
       "260 2020-09-01          4226.0\n",
       "261 2020-10-01          4359.0\n",
       "262 2020-11-01          4427.0\n",
       "263 2020-12-01          4643.0\n",
       "\n",
       "[264 rows x 2 columns]"
      ]
     },
     "execution_count": 33,
     "metadata": {},
     "output_type": "execute_result"
    }
   ],
   "source": [
    "alc_d"
   ]
  },
  {
   "cell_type": "code",
   "execution_count": 34,
   "id": "4be889a0-7b07-4b68-8f63-c378ff30e6c7",
   "metadata": {},
   "outputs": [
    {
     "data": {
      "text/plain": [
       "[Text(0.5, 1.0, 'Alcohol Related Deaths Over Time')]"
      ]
     },
     "execution_count": 34,
     "metadata": {},
     "output_type": "execute_result"
    },
    {
     "data": {
      "image/png": "[encoded data removed]",
      "text/plain": [
       "<Figure size 432x288 with 1 Axes>"
      ]
     },
     "metadata": {
      "needs_background": "light"
     },
     "output_type": "display_data"
    }
   ],
   "source": [
    "sns.lineplot(x = \"date\", y = \"alcohol_deaths\",\n",
    "             data = alc_d,markers = True).set(title='Alcohol Related Deaths Over Time')"
   ]
  },
  {
   "cell_type": "code",
   "execution_count": 35,
   "id": "19511224-3b1a-4be2-b1f6-7c34d97036b7",
   "metadata": {},
   "outputs": [],
   "source": [
    "#alc_d = df.copy()"
   ]
  },
  {
   "cell_type": "markdown",
   "id": "1d1f2363-4656-4ecf-82bf-1f00cc32fa39",
   "metadata": {},
   "source": [
    "\n",
    "## 2.3 Alcohol Sales\n"
   ]
  },
  {
   "cell_type": "code",
   "execution_count": 36,
   "id": "5e7577ae-5157-4602-bf05-cccd10529657",
   "metadata": {},
   "outputs": [],
   "source": [
    "alc_s =  pd.read_csv(\"/Users/natemcdowell/Desktop/crf/datasets/alcohol_sales.csv\")"
   ]
  },
  {
   "cell_type": "code",
   "execution_count": 37,
   "id": "e9669fc2-c50e-406c-b49a-9616684dd2be",
   "metadata": {},
   "outputs": [
    {
     "data": {
      "text/html": [
       "<div>\n",
       "<style scoped>\n",
       "    .dataframe tbody tr th:only-of-type {\n",
       "        vertical-align: middle;\n",
       "    }\n",
       "\n",
       "    .dataframe tbody tr th {\n",
       "        vertical-align: top;\n",
       "    }\n",
       "\n",
       "    .dataframe thead th {\n",
       "        text-align: right;\n",
       "    }\n",
       "</style>\n",
       "<table border=\"1\" class=\"dataframe\">\n",
       "  <thead>\n",
       "    <tr style=\"text-align: right;\">\n",
       "      <th></th>\n",
       "      <th>DATE</th>\n",
       "      <th>S4248SM144NCEN</th>\n",
       "    </tr>\n",
       "  </thead>\n",
       "  <tbody>\n",
       "    <tr>\n",
       "      <th>0</th>\n",
       "      <td>1992-01-01</td>\n",
       "      <td>3459</td>\n",
       "    </tr>\n",
       "    <tr>\n",
       "      <th>1</th>\n",
       "      <td>1992-02-01</td>\n",
       "      <td>3458</td>\n",
       "    </tr>\n",
       "    <tr>\n",
       "      <th>2</th>\n",
       "      <td>1992-03-01</td>\n",
       "      <td>4002</td>\n",
       "    </tr>\n",
       "    <tr>\n",
       "      <th>3</th>\n",
       "      <td>1992-04-01</td>\n",
       "      <td>4564</td>\n",
       "    </tr>\n",
       "    <tr>\n",
       "      <th>4</th>\n",
       "      <td>1992-05-01</td>\n",
       "      <td>4221</td>\n",
       "    </tr>\n",
       "  </tbody>\n",
       "</table>\n",
       "</div>"
      ],
      "text/plain": [
       "         DATE  S4248SM144NCEN\n",
       "0  1992-01-01            3459\n",
       "1  1992-02-01            3458\n",
       "2  1992-03-01            4002\n",
       "3  1992-04-01            4564\n",
       "4  1992-05-01            4221"
      ]
     },
     "execution_count": 37,
     "metadata": {},
     "output_type": "execute_result"
    }
   ],
   "source": [
    "alc_s.head()"
   ]
  },
  {
   "cell_type": "code",
   "execution_count": 38,
   "id": "3c5e0020-04cb-42e8-b727-61cb0f8d9e2a",
   "metadata": {},
   "outputs": [
    {
     "data": {
      "text/plain": [
       "DATE              object\n",
       "S4248SM144NCEN     int64\n",
       "dtype: object"
      ]
     },
     "execution_count": 38,
     "metadata": {},
     "output_type": "execute_result"
    }
   ],
   "source": [
    "alc_s.dtypes"
   ]
  },
  {
   "cell_type": "code",
   "execution_count": 39,
   "id": "e15bffe3-4830-4099-a1e4-24e835f1ffdb",
   "metadata": {},
   "outputs": [],
   "source": [
    "alc_s = alc_s.rename(columns = {'DATE':'date','S4248SM144NCEN':'alcohol_sales'})"
   ]
  },
  {
   "cell_type": "code",
   "execution_count": 40,
   "id": "95980c3b-b0e3-4b97-9f14-6f071b3a4620",
   "metadata": {},
   "outputs": [],
   "source": [
    "alc_s['date'] = pd.to_datetime(alc_s.date)"
   ]
  },
  {
   "cell_type": "code",
   "execution_count": 41,
   "id": "533d0eef-f3c8-4014-b365-eb0add399269",
   "metadata": {},
   "outputs": [
    {
     "data": {
      "text/html": [
       "<div>\n",
       "<style scoped>\n",
       "    .dataframe tbody tr th:only-of-type {\n",
       "        vertical-align: middle;\n",
       "    }\n",
       "\n",
       "    .dataframe tbody tr th {\n",
       "        vertical-align: top;\n",
       "    }\n",
       "\n",
       "    .dataframe thead th {\n",
       "        text-align: right;\n",
       "    }\n",
       "</style>\n",
       "<table border=\"1\" class=\"dataframe\">\n",
       "  <thead>\n",
       "    <tr style=\"text-align: right;\">\n",
       "      <th></th>\n",
       "      <th>date</th>\n",
       "      <th>alcohol_sales</th>\n",
       "    </tr>\n",
       "  </thead>\n",
       "  <tbody>\n",
       "    <tr>\n",
       "      <th>0</th>\n",
       "      <td>1992-01-01</td>\n",
       "      <td>3459</td>\n",
       "    </tr>\n",
       "    <tr>\n",
       "      <th>1</th>\n",
       "      <td>1992-02-01</td>\n",
       "      <td>3458</td>\n",
       "    </tr>\n",
       "    <tr>\n",
       "      <th>2</th>\n",
       "      <td>1992-03-01</td>\n",
       "      <td>4002</td>\n",
       "    </tr>\n",
       "    <tr>\n",
       "      <th>3</th>\n",
       "      <td>1992-04-01</td>\n",
       "      <td>4564</td>\n",
       "    </tr>\n",
       "    <tr>\n",
       "      <th>4</th>\n",
       "      <td>1992-05-01</td>\n",
       "      <td>4221</td>\n",
       "    </tr>\n",
       "  </tbody>\n",
       "</table>\n",
       "</div>"
      ],
      "text/plain": [
       "        date  alcohol_sales\n",
       "0 1992-01-01           3459\n",
       "1 1992-02-01           3458\n",
       "2 1992-03-01           4002\n",
       "3 1992-04-01           4564\n",
       "4 1992-05-01           4221"
      ]
     },
     "execution_count": 41,
     "metadata": {},
     "output_type": "execute_result"
    }
   ],
   "source": [
    "alc_s.head()"
   ]
  },
  {
   "cell_type": "code",
   "execution_count": 42,
   "id": "067b8fd7-efd2-45e2-8fe9-7260f70f2529",
   "metadata": {},
   "outputs": [
    {
     "data": {
      "text/plain": [
       "[Text(0.5, 1.0, 'Alcohol Sales Over Time')]"
      ]
     },
     "execution_count": 42,
     "metadata": {},
     "output_type": "execute_result"
    },
    {
     "data": {
      "image/png": "[encoded data removed]",
      "text/plain": [
       "<Figure size 432x288 with 1 Axes>"
      ]
     },
     "metadata": {
      "needs_background": "light"
     },
     "output_type": "display_data"
    }
   ],
   "source": [
    "sns.lineplot(x = \"date\", y = \"alcohol_sales\",\n",
    "             data = alc_s,markers = True).set(title='Alcohol Sales Over Time')"
   ]
  },
  {
   "cell_type": "code",
   "execution_count": 43,
   "id": "05e5fcff-74c7-40b7-a4df-6a1c652049a7",
   "metadata": {},
   "outputs": [],
   "source": [
    "#alc_s =df.copy()"
   ]
  },
  {
   "cell_type": "markdown",
   "id": "43016c64-86d2-41b4-a9b9-c77397823ab2",
   "metadata": {},
   "source": [
    "## 2.4 Drug Deaths"
   ]
  },
  {
   "cell_type": "code",
   "execution_count": 44,
   "id": "7b99ad38-eb99-4366-b315-0adffbe0aef9",
   "metadata": {},
   "outputs": [],
   "source": [
    "drug_d = pd.read_excel(\"/Users/natemcdowell/Desktop/crf/datasets/drug_deaths.xlsx\")"
   ]
  },
  {
   "cell_type": "code",
   "execution_count": 45,
   "id": "765be390-c607-438d-be15-bd6a1f5739e1",
   "metadata": {},
   "outputs": [
    {
     "data": {
      "text/html": [
       "<div>\n",
       "<style scoped>\n",
       "    .dataframe tbody tr th:only-of-type {\n",
       "        vertical-align: middle;\n",
       "    }\n",
       "\n",
       "    .dataframe tbody tr th {\n",
       "        vertical-align: top;\n",
       "    }\n",
       "\n",
       "    .dataframe thead th {\n",
       "        text-align: right;\n",
       "    }\n",
       "</style>\n",
       "<table border=\"1\" class=\"dataframe\">\n",
       "  <thead>\n",
       "    <tr style=\"text-align: right;\">\n",
       "      <th></th>\n",
       "      <th>Notes</th>\n",
       "      <th>Drug/Alcohol Induced</th>\n",
       "      <th>Drug/Alcohol Induced Code</th>\n",
       "      <th>Month</th>\n",
       "      <th>Month Code</th>\n",
       "      <th>Deaths</th>\n",
       "      <th>Population</th>\n",
       "      <th>Crude Rate</th>\n",
       "    </tr>\n",
       "  </thead>\n",
       "  <tbody>\n",
       "    <tr>\n",
       "      <th>0</th>\n",
       "      <td>NaN</td>\n",
       "      <td>Drug-induced causes</td>\n",
       "      <td>D</td>\n",
       "      <td>Jan., 1999</td>\n",
       "      <td>1999/01</td>\n",
       "      <td>1592.0</td>\n",
       "      <td>Not Applicable</td>\n",
       "      <td>Not Applicable</td>\n",
       "    </tr>\n",
       "    <tr>\n",
       "      <th>1</th>\n",
       "      <td>NaN</td>\n",
       "      <td>Drug-induced causes</td>\n",
       "      <td>D</td>\n",
       "      <td>Feb., 1999</td>\n",
       "      <td>1999/02</td>\n",
       "      <td>1542.0</td>\n",
       "      <td>Not Applicable</td>\n",
       "      <td>Not Applicable</td>\n",
       "    </tr>\n",
       "    <tr>\n",
       "      <th>2</th>\n",
       "      <td>NaN</td>\n",
       "      <td>Drug-induced causes</td>\n",
       "      <td>D</td>\n",
       "      <td>Mar., 1999</td>\n",
       "      <td>1999/03</td>\n",
       "      <td>1559.0</td>\n",
       "      <td>Not Applicable</td>\n",
       "      <td>Not Applicable</td>\n",
       "    </tr>\n",
       "    <tr>\n",
       "      <th>3</th>\n",
       "      <td>NaN</td>\n",
       "      <td>Drug-induced causes</td>\n",
       "      <td>D</td>\n",
       "      <td>Apr., 1999</td>\n",
       "      <td>1999/04</td>\n",
       "      <td>1667.0</td>\n",
       "      <td>Not Applicable</td>\n",
       "      <td>Not Applicable</td>\n",
       "    </tr>\n",
       "    <tr>\n",
       "      <th>4</th>\n",
       "      <td>NaN</td>\n",
       "      <td>Drug-induced causes</td>\n",
       "      <td>D</td>\n",
       "      <td>May, 1999</td>\n",
       "      <td>1999/05</td>\n",
       "      <td>1606.0</td>\n",
       "      <td>Not Applicable</td>\n",
       "      <td>Not Applicable</td>\n",
       "    </tr>\n",
       "    <tr>\n",
       "      <th>...</th>\n",
       "      <td>...</td>\n",
       "      <td>...</td>\n",
       "      <td>...</td>\n",
       "      <td>...</td>\n",
       "      <td>...</td>\n",
       "      <td>...</td>\n",
       "      <td>...</td>\n",
       "      <td>...</td>\n",
       "    </tr>\n",
       "    <tr>\n",
       "      <th>296</th>\n",
       "      <td>most notably R95, \"Sudden Infant Death Syndrom...</td>\n",
       "      <td>NaN</td>\n",
       "      <td>NaN</td>\n",
       "      <td>NaN</td>\n",
       "      <td>NaN</td>\n",
       "      <td>NaN</td>\n",
       "      <td>NaN</td>\n",
       "      <td>NaN</td>\n",
       "    </tr>\n",
       "    <tr>\n",
       "      <th>297</th>\n",
       "      <td>interpreting these data. More information: htt...</td>\n",
       "      <td>NaN</td>\n",
       "      <td>NaN</td>\n",
       "      <td>NaN</td>\n",
       "      <td>NaN</td>\n",
       "      <td>NaN</td>\n",
       "      <td>NaN</td>\n",
       "      <td>NaN</td>\n",
       "    </tr>\n",
       "    <tr>\n",
       "      <th>298</th>\n",
       "      <td>5. Circumstances in California resulted in unu...</td>\n",
       "      <td>NaN</td>\n",
       "      <td>NaN</td>\n",
       "      <td>NaN</td>\n",
       "      <td>NaN</td>\n",
       "      <td>NaN</td>\n",
       "      <td>NaN</td>\n",
       "      <td>NaN</td>\n",
       "    </tr>\n",
       "    <tr>\n",
       "      <th>299</th>\n",
       "      <td>ill-defined and unspecified causes of mortalit...</td>\n",
       "      <td>NaN</td>\n",
       "      <td>NaN</td>\n",
       "      <td>NaN</td>\n",
       "      <td>NaN</td>\n",
       "      <td>NaN</td>\n",
       "      <td>NaN</td>\n",
       "      <td>NaN</td>\n",
       "    </tr>\n",
       "    <tr>\n",
       "      <th>300</th>\n",
       "      <td>interpreting these data. More information: htt...</td>\n",
       "      <td>NaN</td>\n",
       "      <td>NaN</td>\n",
       "      <td>NaN</td>\n",
       "      <td>NaN</td>\n",
       "      <td>NaN</td>\n",
       "      <td>NaN</td>\n",
       "      <td>NaN</td>\n",
       "    </tr>\n",
       "  </tbody>\n",
       "</table>\n",
       "<p>301 rows × 8 columns</p>\n",
       "</div>"
      ],
      "text/plain": [
       "                                                 Notes Drug/Alcohol Induced  \\\n",
       "0                                                  NaN  Drug-induced causes   \n",
       "1                                                  NaN  Drug-induced causes   \n",
       "2                                                  NaN  Drug-induced causes   \n",
       "3                                                  NaN  Drug-induced causes   \n",
       "4                                                  NaN  Drug-induced causes   \n",
       "..                                                 ...                  ...   \n",
       "296  most notably R95, \"Sudden Infant Death Syndrom...                  NaN   \n",
       "297  interpreting these data. More information: htt...                  NaN   \n",
       "298  5. Circumstances in California resulted in unu...                  NaN   \n",
       "299  ill-defined and unspecified causes of mortalit...                  NaN   \n",
       "300  interpreting these data. More information: htt...                  NaN   \n",
       "\n",
       "    Drug/Alcohol Induced Code       Month Month Code  Deaths      Population  \\\n",
       "0                           D  Jan., 1999    1999/01  1592.0  Not Applicable   \n",
       "1                           D  Feb., 1999    1999/02  1542.0  Not Applicable   \n",
       "2                           D  Mar., 1999    1999/03  1559.0  Not Applicable   \n",
       "3                           D  Apr., 1999    1999/04  1667.0  Not Applicable   \n",
       "4                           D   May, 1999    1999/05  1606.0  Not Applicable   \n",
       "..                        ...         ...        ...     ...             ...   \n",
       "296                       NaN         NaN        NaN     NaN             NaN   \n",
       "297                       NaN         NaN        NaN     NaN             NaN   \n",
       "298                       NaN         NaN        NaN     NaN             NaN   \n",
       "299                       NaN         NaN        NaN     NaN             NaN   \n",
       "300                       NaN         NaN        NaN     NaN             NaN   \n",
       "\n",
       "         Crude Rate  \n",
       "0    Not Applicable  \n",
       "1    Not Applicable  \n",
       "2    Not Applicable  \n",
       "3    Not Applicable  \n",
       "4    Not Applicable  \n",
       "..              ...  \n",
       "296             NaN  \n",
       "297             NaN  \n",
       "298             NaN  \n",
       "299             NaN  \n",
       "300             NaN  \n",
       "\n",
       "[301 rows x 8 columns]"
      ]
     },
     "execution_count": 45,
     "metadata": {},
     "output_type": "execute_result"
    }
   ],
   "source": [
    "drug_d"
   ]
  },
  {
   "cell_type": "code",
   "execution_count": 46,
   "id": "7c02d6c7-dd95-4f63-b423-8b05420442f2",
   "metadata": {},
   "outputs": [],
   "source": [
    "drug_d = drug_d.drop(columns = ['Notes'])"
   ]
  },
  {
   "cell_type": "code",
   "execution_count": 47,
   "id": "d017c1a3-c08b-435c-9fbf-7ba036274813",
   "metadata": {},
   "outputs": [],
   "source": [
    "drug_d = drug_d.dropna()"
   ]
  },
  {
   "cell_type": "code",
   "execution_count": 48,
   "id": "faca4161-6001-4f1e-81a7-231ff8e3adea",
   "metadata": {},
   "outputs": [
    {
     "data": {
      "text/html": [
       "<div>\n",
       "<style scoped>\n",
       "    .dataframe tbody tr th:only-of-type {\n",
       "        vertical-align: middle;\n",
       "    }\n",
       "\n",
       "    .dataframe tbody tr th {\n",
       "        vertical-align: top;\n",
       "    }\n",
       "\n",
       "    .dataframe thead th {\n",
       "        text-align: right;\n",
       "    }\n",
       "</style>\n",
       "<table border=\"1\" class=\"dataframe\">\n",
       "  <thead>\n",
       "    <tr style=\"text-align: right;\">\n",
       "      <th></th>\n",
       "      <th>Drug/Alcohol Induced</th>\n",
       "      <th>Drug/Alcohol Induced Code</th>\n",
       "      <th>Month</th>\n",
       "      <th>Month Code</th>\n",
       "      <th>Deaths</th>\n",
       "      <th>Population</th>\n",
       "      <th>Crude Rate</th>\n",
       "    </tr>\n",
       "  </thead>\n",
       "  <tbody>\n",
       "    <tr>\n",
       "      <th>0</th>\n",
       "      <td>Drug-induced causes</td>\n",
       "      <td>D</td>\n",
       "      <td>Jan., 1999</td>\n",
       "      <td>1999/01</td>\n",
       "      <td>1592.0</td>\n",
       "      <td>Not Applicable</td>\n",
       "      <td>Not Applicable</td>\n",
       "    </tr>\n",
       "    <tr>\n",
       "      <th>1</th>\n",
       "      <td>Drug-induced causes</td>\n",
       "      <td>D</td>\n",
       "      <td>Feb., 1999</td>\n",
       "      <td>1999/02</td>\n",
       "      <td>1542.0</td>\n",
       "      <td>Not Applicable</td>\n",
       "      <td>Not Applicable</td>\n",
       "    </tr>\n",
       "    <tr>\n",
       "      <th>2</th>\n",
       "      <td>Drug-induced causes</td>\n",
       "      <td>D</td>\n",
       "      <td>Mar., 1999</td>\n",
       "      <td>1999/03</td>\n",
       "      <td>1559.0</td>\n",
       "      <td>Not Applicable</td>\n",
       "      <td>Not Applicable</td>\n",
       "    </tr>\n",
       "    <tr>\n",
       "      <th>3</th>\n",
       "      <td>Drug-induced causes</td>\n",
       "      <td>D</td>\n",
       "      <td>Apr., 1999</td>\n",
       "      <td>1999/04</td>\n",
       "      <td>1667.0</td>\n",
       "      <td>Not Applicable</td>\n",
       "      <td>Not Applicable</td>\n",
       "    </tr>\n",
       "    <tr>\n",
       "      <th>4</th>\n",
       "      <td>Drug-induced causes</td>\n",
       "      <td>D</td>\n",
       "      <td>May, 1999</td>\n",
       "      <td>1999/05</td>\n",
       "      <td>1606.0</td>\n",
       "      <td>Not Applicable</td>\n",
       "      <td>Not Applicable</td>\n",
       "    </tr>\n",
       "  </tbody>\n",
       "</table>\n",
       "</div>"
      ],
      "text/plain": [
       "  Drug/Alcohol Induced Drug/Alcohol Induced Code       Month Month Code  \\\n",
       "0  Drug-induced causes                         D  Jan., 1999    1999/01   \n",
       "1  Drug-induced causes                         D  Feb., 1999    1999/02   \n",
       "2  Drug-induced causes                         D  Mar., 1999    1999/03   \n",
       "3  Drug-induced causes                         D  Apr., 1999    1999/04   \n",
       "4  Drug-induced causes                         D   May, 1999    1999/05   \n",
       "\n",
       "   Deaths      Population      Crude Rate  \n",
       "0  1592.0  Not Applicable  Not Applicable  \n",
       "1  1542.0  Not Applicable  Not Applicable  \n",
       "2  1559.0  Not Applicable  Not Applicable  \n",
       "3  1667.0  Not Applicable  Not Applicable  \n",
       "4  1606.0  Not Applicable  Not Applicable  "
      ]
     },
     "execution_count": 48,
     "metadata": {},
     "output_type": "execute_result"
    }
   ],
   "source": [
    "drug_d.head()"
   ]
  },
  {
   "cell_type": "code",
   "execution_count": 49,
   "id": "ed3b2f55-155f-488f-9e4b-9bd1cd4c6ed9",
   "metadata": {},
   "outputs": [
    {
     "data": {
      "text/html": [
       "<div>\n",
       "<style scoped>\n",
       "    .dataframe tbody tr th:only-of-type {\n",
       "        vertical-align: middle;\n",
       "    }\n",
       "\n",
       "    .dataframe tbody tr th {\n",
       "        vertical-align: top;\n",
       "    }\n",
       "\n",
       "    .dataframe thead th {\n",
       "        text-align: right;\n",
       "    }\n",
       "</style>\n",
       "<table border=\"1\" class=\"dataframe\">\n",
       "  <thead>\n",
       "    <tr style=\"text-align: right;\">\n",
       "      <th></th>\n",
       "      <th>Month</th>\n",
       "      <th>Month Code</th>\n",
       "      <th>Deaths</th>\n",
       "    </tr>\n",
       "  </thead>\n",
       "  <tbody>\n",
       "    <tr>\n",
       "      <th>0</th>\n",
       "      <td>Jan., 1999</td>\n",
       "      <td>1999/01</td>\n",
       "      <td>1592.0</td>\n",
       "    </tr>\n",
       "    <tr>\n",
       "      <th>1</th>\n",
       "      <td>Feb., 1999</td>\n",
       "      <td>1999/02</td>\n",
       "      <td>1542.0</td>\n",
       "    </tr>\n",
       "    <tr>\n",
       "      <th>2</th>\n",
       "      <td>Mar., 1999</td>\n",
       "      <td>1999/03</td>\n",
       "      <td>1559.0</td>\n",
       "    </tr>\n",
       "    <tr>\n",
       "      <th>3</th>\n",
       "      <td>Apr., 1999</td>\n",
       "      <td>1999/04</td>\n",
       "      <td>1667.0</td>\n",
       "    </tr>\n",
       "    <tr>\n",
       "      <th>4</th>\n",
       "      <td>May, 1999</td>\n",
       "      <td>1999/05</td>\n",
       "      <td>1606.0</td>\n",
       "    </tr>\n",
       "  </tbody>\n",
       "</table>\n",
       "</div>"
      ],
      "text/plain": [
       "        Month Month Code  Deaths\n",
       "0  Jan., 1999    1999/01  1592.0\n",
       "1  Feb., 1999    1999/02  1542.0\n",
       "2  Mar., 1999    1999/03  1559.0\n",
       "3  Apr., 1999    1999/04  1667.0\n",
       "4   May, 1999    1999/05  1606.0"
      ]
     },
     "execution_count": 49,
     "metadata": {},
     "output_type": "execute_result"
    }
   ],
   "source": [
    "drug_d = drug_d.drop(columns = ['Drug/Alcohol Induced','Drug/Alcohol Induced Code','Population','Crude Rate'])\n",
    "drug_d.head()"
   ]
  },
  {
   "cell_type": "markdown",
   "id": "3bd9915f-4af2-4588-8f39-246705a39b37",
   "metadata": {},
   "source": [
    "I know that this data is from the same source as the alcohol deaths data so the columns are going to follow the same pattern of redundancy making it easier for me to deterimne what columns ot drop."
   ]
  },
  {
   "cell_type": "code",
   "execution_count": 50,
   "id": "f9370f53-29b7-4aea-bfb5-6eecacdfd661",
   "metadata": {},
   "outputs": [],
   "source": [
    "drug_d = drug_d.drop(columns = ['Month'])"
   ]
  },
  {
   "cell_type": "code",
   "execution_count": 51,
   "id": "f1e6c60b-8114-495e-bdb3-ae27e2455919",
   "metadata": {},
   "outputs": [],
   "source": [
    "drug_d = drug_d.rename(columns = {'Month Code':'date','Deaths':'drug_deaths'})"
   ]
  },
  {
   "cell_type": "code",
   "execution_count": 52,
   "id": "f2b7e533-d958-4cce-9bd7-ec4bbceba907",
   "metadata": {},
   "outputs": [
    {
     "data": {
      "text/html": [
       "<div>\n",
       "<style scoped>\n",
       "    .dataframe tbody tr th:only-of-type {\n",
       "        vertical-align: middle;\n",
       "    }\n",
       "\n",
       "    .dataframe tbody tr th {\n",
       "        vertical-align: top;\n",
       "    }\n",
       "\n",
       "    .dataframe thead th {\n",
       "        text-align: right;\n",
       "    }\n",
       "</style>\n",
       "<table border=\"1\" class=\"dataframe\">\n",
       "  <thead>\n",
       "    <tr style=\"text-align: right;\">\n",
       "      <th></th>\n",
       "      <th>date</th>\n",
       "      <th>drug_deaths</th>\n",
       "    </tr>\n",
       "  </thead>\n",
       "  <tbody>\n",
       "    <tr>\n",
       "      <th>0</th>\n",
       "      <td>1999/01</td>\n",
       "      <td>1592.0</td>\n",
       "    </tr>\n",
       "    <tr>\n",
       "      <th>1</th>\n",
       "      <td>1999/02</td>\n",
       "      <td>1542.0</td>\n",
       "    </tr>\n",
       "    <tr>\n",
       "      <th>2</th>\n",
       "      <td>1999/03</td>\n",
       "      <td>1559.0</td>\n",
       "    </tr>\n",
       "    <tr>\n",
       "      <th>3</th>\n",
       "      <td>1999/04</td>\n",
       "      <td>1667.0</td>\n",
       "    </tr>\n",
       "    <tr>\n",
       "      <th>4</th>\n",
       "      <td>1999/05</td>\n",
       "      <td>1606.0</td>\n",
       "    </tr>\n",
       "  </tbody>\n",
       "</table>\n",
       "</div>"
      ],
      "text/plain": [
       "      date  drug_deaths\n",
       "0  1999/01       1592.0\n",
       "1  1999/02       1542.0\n",
       "2  1999/03       1559.0\n",
       "3  1999/04       1667.0\n",
       "4  1999/05       1606.0"
      ]
     },
     "execution_count": 52,
     "metadata": {},
     "output_type": "execute_result"
    }
   ],
   "source": [
    "drug_d.head()"
   ]
  },
  {
   "cell_type": "code",
   "execution_count": 53,
   "id": "c944067d-c09c-48b5-b389-ed4ed2105d02",
   "metadata": {},
   "outputs": [],
   "source": [
    "drug_d.date = pd.to_datetime(drug_d.date)"
   ]
  },
  {
   "cell_type": "code",
   "execution_count": 54,
   "id": "bd1126b3-42c5-40ea-9e8d-5bf349988ddc",
   "metadata": {},
   "outputs": [
    {
     "data": {
      "text/plain": [
       "[Text(0.5, 1.0, 'Drug Related Deaths Over Time')]"
      ]
     },
     "execution_count": 54,
     "metadata": {},
     "output_type": "execute_result"
    },
    {
     "data": {
      "image/png": "[encoded data removed]",
      "text/plain": [
       "<Figure size 432x288 with 1 Axes>"
      ]
     },
     "metadata": {
      "needs_background": "light"
     },
     "output_type": "display_data"
    }
   ],
   "source": [
    "sns.lineplot(x = \"date\", y = \"drug_deaths\",\n",
    "             data = drug_d,markers = True).set(title='Drug Related Deaths Over Time')"
   ]
  },
  {
   "cell_type": "code",
   "execution_count": 55,
   "id": "06c3817d-26cd-4d6f-88ea-8b7d92364068",
   "metadata": {},
   "outputs": [],
   "source": [
    "#drug_d = df.copy()"
   ]
  },
  {
   "cell_type": "markdown",
   "id": "57bfc8ed-d165-4fdd-a124-51f0722d095a",
   "metadata": {},
   "source": [
    "## 2.5 Homicides"
   ]
  },
  {
   "cell_type": "code",
   "execution_count": 56,
   "id": "03717231-2a7f-46f2-8d70-aef0cb29b208",
   "metadata": {},
   "outputs": [],
   "source": [
    "hom = pd.read_excel(\"/Users/natemcdowell/Desktop/crf/datasets/homicide.xlsx\")"
   ]
  },
  {
   "cell_type": "markdown",
   "id": "756f6ace-e8dc-488b-9d38-b1145a56e2f3",
   "metadata": {},
   "source": [
    "This data is also from the CDC's WONDER api so the cleaning will be nearly identical to the previous dataset. "
   ]
  },
  {
   "cell_type": "code",
   "execution_count": 57,
   "id": "575057bc-0b74-41e7-b1c5-2e00114128c5",
   "metadata": {},
   "outputs": [
    {
     "data": {
      "text/html": [
       "<div>\n",
       "<style scoped>\n",
       "    .dataframe tbody tr th:only-of-type {\n",
       "        vertical-align: middle;\n",
       "    }\n",
       "\n",
       "    .dataframe tbody tr th {\n",
       "        vertical-align: top;\n",
       "    }\n",
       "\n",
       "    .dataframe thead th {\n",
       "        text-align: right;\n",
       "    }\n",
       "</style>\n",
       "<table border=\"1\" class=\"dataframe\">\n",
       "  <thead>\n",
       "    <tr style=\"text-align: right;\">\n",
       "      <th></th>\n",
       "      <th>Notes</th>\n",
       "      <th>Injury Intent</th>\n",
       "      <th>Injury Intent Code</th>\n",
       "      <th>Month</th>\n",
       "      <th>Month Code</th>\n",
       "      <th>Deaths</th>\n",
       "      <th>Population</th>\n",
       "      <th>Crude Rate</th>\n",
       "      <th>Age Adjusted Rate</th>\n",
       "    </tr>\n",
       "  </thead>\n",
       "  <tbody>\n",
       "    <tr>\n",
       "      <th>0</th>\n",
       "      <td>NaN</td>\n",
       "      <td>Homicide</td>\n",
       "      <td>3.0</td>\n",
       "      <td>Jan., 2006</td>\n",
       "      <td>2006/01</td>\n",
       "      <td>1555.0</td>\n",
       "      <td>Not Applicable</td>\n",
       "      <td>Not Applicable</td>\n",
       "      <td>Not Applicable</td>\n",
       "    </tr>\n",
       "    <tr>\n",
       "      <th>1</th>\n",
       "      <td>NaN</td>\n",
       "      <td>Homicide</td>\n",
       "      <td>3.0</td>\n",
       "      <td>Feb., 2006</td>\n",
       "      <td>2006/02</td>\n",
       "      <td>1223.0</td>\n",
       "      <td>Not Applicable</td>\n",
       "      <td>Not Applicable</td>\n",
       "      <td>Not Applicable</td>\n",
       "    </tr>\n",
       "    <tr>\n",
       "      <th>2</th>\n",
       "      <td>NaN</td>\n",
       "      <td>Homicide</td>\n",
       "      <td>3.0</td>\n",
       "      <td>Mar., 2006</td>\n",
       "      <td>2006/03</td>\n",
       "      <td>1356.0</td>\n",
       "      <td>Not Applicable</td>\n",
       "      <td>Not Applicable</td>\n",
       "      <td>Not Applicable</td>\n",
       "    </tr>\n",
       "    <tr>\n",
       "      <th>3</th>\n",
       "      <td>NaN</td>\n",
       "      <td>Homicide</td>\n",
       "      <td>3.0</td>\n",
       "      <td>Apr., 2006</td>\n",
       "      <td>2006/04</td>\n",
       "      <td>1526.0</td>\n",
       "      <td>Not Applicable</td>\n",
       "      <td>Not Applicable</td>\n",
       "      <td>Not Applicable</td>\n",
       "    </tr>\n",
       "    <tr>\n",
       "      <th>4</th>\n",
       "      <td>NaN</td>\n",
       "      <td>Homicide</td>\n",
       "      <td>3.0</td>\n",
       "      <td>May, 2006</td>\n",
       "      <td>2006/05</td>\n",
       "      <td>1603.0</td>\n",
       "      <td>Not Applicable</td>\n",
       "      <td>Not Applicable</td>\n",
       "      <td>Not Applicable</td>\n",
       "    </tr>\n",
       "  </tbody>\n",
       "</table>\n",
       "</div>"
      ],
      "text/plain": [
       "  Notes Injury Intent  Injury Intent Code       Month Month Code  Deaths  \\\n",
       "0   NaN      Homicide                 3.0  Jan., 2006    2006/01  1555.0   \n",
       "1   NaN      Homicide                 3.0  Feb., 2006    2006/02  1223.0   \n",
       "2   NaN      Homicide                 3.0  Mar., 2006    2006/03  1356.0   \n",
       "3   NaN      Homicide                 3.0  Apr., 2006    2006/04  1526.0   \n",
       "4   NaN      Homicide                 3.0   May, 2006    2006/05  1603.0   \n",
       "\n",
       "       Population      Crude Rate Age Adjusted Rate  \n",
       "0  Not Applicable  Not Applicable    Not Applicable  \n",
       "1  Not Applicable  Not Applicable    Not Applicable  \n",
       "2  Not Applicable  Not Applicable    Not Applicable  \n",
       "3  Not Applicable  Not Applicable    Not Applicable  \n",
       "4  Not Applicable  Not Applicable    Not Applicable  "
      ]
     },
     "execution_count": 57,
     "metadata": {},
     "output_type": "execute_result"
    }
   ],
   "source": [
    "hom.head()"
   ]
  },
  {
   "cell_type": "code",
   "execution_count": 58,
   "id": "f3e2b8fd-fe1a-4c6b-8ef9-1526050299dd",
   "metadata": {},
   "outputs": [],
   "source": [
    "hom = hom.drop(columns = ['Notes'])"
   ]
  },
  {
   "cell_type": "code",
   "execution_count": 59,
   "id": "d9b10675-1e6c-409b-828b-c10df3321e1d",
   "metadata": {},
   "outputs": [],
   "source": [
    "hom = hom.dropna()"
   ]
  },
  {
   "cell_type": "code",
   "execution_count": 60,
   "id": "531f344f-bf61-48fe-8b47-9f80c4d2558a",
   "metadata": {},
   "outputs": [
    {
     "data": {
      "text/html": [
       "<div>\n",
       "<style scoped>\n",
       "    .dataframe tbody tr th:only-of-type {\n",
       "        vertical-align: middle;\n",
       "    }\n",
       "\n",
       "    .dataframe tbody tr th {\n",
       "        vertical-align: top;\n",
       "    }\n",
       "\n",
       "    .dataframe thead th {\n",
       "        text-align: right;\n",
       "    }\n",
       "</style>\n",
       "<table border=\"1\" class=\"dataframe\">\n",
       "  <thead>\n",
       "    <tr style=\"text-align: right;\">\n",
       "      <th></th>\n",
       "      <th>Injury Intent</th>\n",
       "      <th>Injury Intent Code</th>\n",
       "      <th>Month</th>\n",
       "      <th>Month Code</th>\n",
       "      <th>Deaths</th>\n",
       "      <th>Population</th>\n",
       "      <th>Crude Rate</th>\n",
       "      <th>Age Adjusted Rate</th>\n",
       "    </tr>\n",
       "  </thead>\n",
       "  <tbody>\n",
       "    <tr>\n",
       "      <th>0</th>\n",
       "      <td>Homicide</td>\n",
       "      <td>3.0</td>\n",
       "      <td>Jan., 2006</td>\n",
       "      <td>2006/01</td>\n",
       "      <td>1555.0</td>\n",
       "      <td>Not Applicable</td>\n",
       "      <td>Not Applicable</td>\n",
       "      <td>Not Applicable</td>\n",
       "    </tr>\n",
       "    <tr>\n",
       "      <th>1</th>\n",
       "      <td>Homicide</td>\n",
       "      <td>3.0</td>\n",
       "      <td>Feb., 2006</td>\n",
       "      <td>2006/02</td>\n",
       "      <td>1223.0</td>\n",
       "      <td>Not Applicable</td>\n",
       "      <td>Not Applicable</td>\n",
       "      <td>Not Applicable</td>\n",
       "    </tr>\n",
       "    <tr>\n",
       "      <th>2</th>\n",
       "      <td>Homicide</td>\n",
       "      <td>3.0</td>\n",
       "      <td>Mar., 2006</td>\n",
       "      <td>2006/03</td>\n",
       "      <td>1356.0</td>\n",
       "      <td>Not Applicable</td>\n",
       "      <td>Not Applicable</td>\n",
       "      <td>Not Applicable</td>\n",
       "    </tr>\n",
       "    <tr>\n",
       "      <th>3</th>\n",
       "      <td>Homicide</td>\n",
       "      <td>3.0</td>\n",
       "      <td>Apr., 2006</td>\n",
       "      <td>2006/04</td>\n",
       "      <td>1526.0</td>\n",
       "      <td>Not Applicable</td>\n",
       "      <td>Not Applicable</td>\n",
       "      <td>Not Applicable</td>\n",
       "    </tr>\n",
       "    <tr>\n",
       "      <th>4</th>\n",
       "      <td>Homicide</td>\n",
       "      <td>3.0</td>\n",
       "      <td>May, 2006</td>\n",
       "      <td>2006/05</td>\n",
       "      <td>1603.0</td>\n",
       "      <td>Not Applicable</td>\n",
       "      <td>Not Applicable</td>\n",
       "      <td>Not Applicable</td>\n",
       "    </tr>\n",
       "  </tbody>\n",
       "</table>\n",
       "</div>"
      ],
      "text/plain": [
       "  Injury Intent  Injury Intent Code       Month Month Code  Deaths  \\\n",
       "0      Homicide                 3.0  Jan., 2006    2006/01  1555.0   \n",
       "1      Homicide                 3.0  Feb., 2006    2006/02  1223.0   \n",
       "2      Homicide                 3.0  Mar., 2006    2006/03  1356.0   \n",
       "3      Homicide                 3.0  Apr., 2006    2006/04  1526.0   \n",
       "4      Homicide                 3.0   May, 2006    2006/05  1603.0   \n",
       "\n",
       "       Population      Crude Rate Age Adjusted Rate  \n",
       "0  Not Applicable  Not Applicable    Not Applicable  \n",
       "1  Not Applicable  Not Applicable    Not Applicable  \n",
       "2  Not Applicable  Not Applicable    Not Applicable  \n",
       "3  Not Applicable  Not Applicable    Not Applicable  \n",
       "4  Not Applicable  Not Applicable    Not Applicable  "
      ]
     },
     "execution_count": 60,
     "metadata": {},
     "output_type": "execute_result"
    }
   ],
   "source": [
    "hom.head()"
   ]
  },
  {
   "cell_type": "code",
   "execution_count": 61,
   "id": "b310dbc7-b554-436d-961e-b76f70d231f1",
   "metadata": {},
   "outputs": [],
   "source": [
    "hom = hom.drop(columns = ['Injury Intent','Injury Intent Code','Population','Crude Rate','Age Adjusted Rate','Month'])"
   ]
  },
  {
   "cell_type": "code",
   "execution_count": 62,
   "id": "76b1528d-2c4f-4de3-b357-97c26ad7e1b0",
   "metadata": {},
   "outputs": [],
   "source": [
    "hom = hom.rename(columns = {'Month Code':'date','Deaths':'homicides'})"
   ]
  },
  {
   "cell_type": "code",
   "execution_count": 63,
   "id": "8129bc71-6276-453e-a4b1-964f5351aad0",
   "metadata": {},
   "outputs": [],
   "source": [
    "hom.date = pd.to_datetime(hom.date)"
   ]
  },
  {
   "cell_type": "code",
   "execution_count": 64,
   "id": "c63c5e87-67b9-492e-9e97-3a16f7cb50f0",
   "metadata": {},
   "outputs": [
    {
     "data": {
      "text/plain": [
       "[Text(0.5, 1.0, 'Homicide Related Deaths Over Time')]"
      ]
     },
     "execution_count": 64,
     "metadata": {},
     "output_type": "execute_result"
    },
    {
     "data": {
      "image/png": "[encoded data removed]",
      "text/plain": [
       "<Figure size 432x288 with 1 Axes>"
      ]
     },
     "metadata": {
      "needs_background": "light"
     },
     "output_type": "display_data"
    }
   ],
   "source": [
    "sns.lineplot(x = \"date\", y = \"homicides\",\n",
    "             data = hom,markers = True).set(title='Homicide Related Deaths Over Time')"
   ]
  },
  {
   "cell_type": "code",
   "execution_count": 65,
   "id": "f4b052c8-0bc7-4324-9848-14f2943a854f",
   "metadata": {},
   "outputs": [],
   "source": [
    "# it dips around every new year meaning that winter shows a decline while summer is an incline"
   ]
  },
  {
   "cell_type": "code",
   "execution_count": 66,
   "id": "fb319908-4564-4fa3-bbc0-4624a118d681",
   "metadata": {},
   "outputs": [],
   "source": [
    "#hom = df.copy()"
   ]
  },
  {
   "cell_type": "markdown",
   "id": "89d4a0e6-6fe6-4719-8e87-dcecada94bdf",
   "metadata": {},
   "source": [
    "## 2.6 Suicide Rate"
   ]
  },
  {
   "cell_type": "code",
   "execution_count": 67,
   "id": "02609bcc-55d4-4a94-8d7b-f175dd1a089a",
   "metadata": {},
   "outputs": [],
   "source": [
    "sui = pd.read_excel(\"suicide_deaths.xlsx\")"
   ]
  },
  {
   "cell_type": "code",
   "execution_count": 68,
   "id": "c5b8dc9c-44fe-4c19-9cdb-c4c26b974155",
   "metadata": {},
   "outputs": [
    {
     "data": {
      "text/html": [
       "<div>\n",
       "<style scoped>\n",
       "    .dataframe tbody tr th:only-of-type {\n",
       "        vertical-align: middle;\n",
       "    }\n",
       "\n",
       "    .dataframe tbody tr th {\n",
       "        vertical-align: top;\n",
       "    }\n",
       "\n",
       "    .dataframe thead th {\n",
       "        text-align: right;\n",
       "    }\n",
       "</style>\n",
       "<table border=\"1\" class=\"dataframe\">\n",
       "  <thead>\n",
       "    <tr style=\"text-align: right;\">\n",
       "      <th></th>\n",
       "      <th>Notes</th>\n",
       "      <th>Year</th>\n",
       "      <th>Year Code</th>\n",
       "      <th>Month</th>\n",
       "      <th>Month Code</th>\n",
       "      <th>Injury Intent</th>\n",
       "      <th>Injury Intent Code</th>\n",
       "      <th>Deaths</th>\n",
       "      <th>Population</th>\n",
       "      <th>Crude Rate</th>\n",
       "    </tr>\n",
       "  </thead>\n",
       "  <tbody>\n",
       "    <tr>\n",
       "      <th>0</th>\n",
       "      <td>NaN</td>\n",
       "      <td>1999.0</td>\n",
       "      <td>1999.0</td>\n",
       "      <td>Jan., 1999</td>\n",
       "      <td>1999/01</td>\n",
       "      <td>Suicide</td>\n",
       "      <td>2.0</td>\n",
       "      <td>2498.0</td>\n",
       "      <td>Not Applicable</td>\n",
       "      <td>Not Applicable</td>\n",
       "    </tr>\n",
       "    <tr>\n",
       "      <th>1</th>\n",
       "      <td>Total</td>\n",
       "      <td>1999.0</td>\n",
       "      <td>1999.0</td>\n",
       "      <td>Jan., 1999</td>\n",
       "      <td>1999/01</td>\n",
       "      <td>NaN</td>\n",
       "      <td>NaN</td>\n",
       "      <td>2498.0</td>\n",
       "      <td>Not Applicable</td>\n",
       "      <td>Not Applicable</td>\n",
       "    </tr>\n",
       "    <tr>\n",
       "      <th>2</th>\n",
       "      <td>NaN</td>\n",
       "      <td>1999.0</td>\n",
       "      <td>1999.0</td>\n",
       "      <td>Feb., 1999</td>\n",
       "      <td>1999/02</td>\n",
       "      <td>Suicide</td>\n",
       "      <td>2.0</td>\n",
       "      <td>2296.0</td>\n",
       "      <td>Not Applicable</td>\n",
       "      <td>Not Applicable</td>\n",
       "    </tr>\n",
       "    <tr>\n",
       "      <th>3</th>\n",
       "      <td>Total</td>\n",
       "      <td>1999.0</td>\n",
       "      <td>1999.0</td>\n",
       "      <td>Feb., 1999</td>\n",
       "      <td>1999/02</td>\n",
       "      <td>NaN</td>\n",
       "      <td>NaN</td>\n",
       "      <td>2296.0</td>\n",
       "      <td>Not Applicable</td>\n",
       "      <td>Not Applicable</td>\n",
       "    </tr>\n",
       "    <tr>\n",
       "      <th>4</th>\n",
       "      <td>NaN</td>\n",
       "      <td>1999.0</td>\n",
       "      <td>1999.0</td>\n",
       "      <td>Mar., 1999</td>\n",
       "      <td>1999/03</td>\n",
       "      <td>Suicide</td>\n",
       "      <td>2.0</td>\n",
       "      <td>2465.0</td>\n",
       "      <td>Not Applicable</td>\n",
       "      <td>Not Applicable</td>\n",
       "    </tr>\n",
       "    <tr>\n",
       "      <th>...</th>\n",
       "      <td>...</td>\n",
       "      <td>...</td>\n",
       "      <td>...</td>\n",
       "      <td>...</td>\n",
       "      <td>...</td>\n",
       "      <td>...</td>\n",
       "      <td>...</td>\n",
       "      <td>...</td>\n",
       "      <td>...</td>\n",
       "      <td>...</td>\n",
       "    </tr>\n",
       "    <tr>\n",
       "      <th>581</th>\n",
       "      <td>most notably R95, \"Sudden Infant Death Syndrom...</td>\n",
       "      <td>NaN</td>\n",
       "      <td>NaN</td>\n",
       "      <td>NaN</td>\n",
       "      <td>NaN</td>\n",
       "      <td>NaN</td>\n",
       "      <td>NaN</td>\n",
       "      <td>NaN</td>\n",
       "      <td>NaN</td>\n",
       "      <td>NaN</td>\n",
       "    </tr>\n",
       "    <tr>\n",
       "      <th>582</th>\n",
       "      <td>interpreting these data. More information: htt...</td>\n",
       "      <td>NaN</td>\n",
       "      <td>NaN</td>\n",
       "      <td>NaN</td>\n",
       "      <td>NaN</td>\n",
       "      <td>NaN</td>\n",
       "      <td>NaN</td>\n",
       "      <td>NaN</td>\n",
       "      <td>NaN</td>\n",
       "      <td>NaN</td>\n",
       "    </tr>\n",
       "    <tr>\n",
       "      <th>583</th>\n",
       "      <td>5. Circumstances in California resulted in unu...</td>\n",
       "      <td>NaN</td>\n",
       "      <td>NaN</td>\n",
       "      <td>NaN</td>\n",
       "      <td>NaN</td>\n",
       "      <td>NaN</td>\n",
       "      <td>NaN</td>\n",
       "      <td>NaN</td>\n",
       "      <td>NaN</td>\n",
       "      <td>NaN</td>\n",
       "    </tr>\n",
       "    <tr>\n",
       "      <th>584</th>\n",
       "      <td>ill-defined and unspecified causes of mortalit...</td>\n",
       "      <td>NaN</td>\n",
       "      <td>NaN</td>\n",
       "      <td>NaN</td>\n",
       "      <td>NaN</td>\n",
       "      <td>NaN</td>\n",
       "      <td>NaN</td>\n",
       "      <td>NaN</td>\n",
       "      <td>NaN</td>\n",
       "      <td>NaN</td>\n",
       "    </tr>\n",
       "    <tr>\n",
       "      <th>585</th>\n",
       "      <td>interpreting these data. More information: htt...</td>\n",
       "      <td>NaN</td>\n",
       "      <td>NaN</td>\n",
       "      <td>NaN</td>\n",
       "      <td>NaN</td>\n",
       "      <td>NaN</td>\n",
       "      <td>NaN</td>\n",
       "      <td>NaN</td>\n",
       "      <td>NaN</td>\n",
       "      <td>NaN</td>\n",
       "    </tr>\n",
       "  </tbody>\n",
       "</table>\n",
       "<p>586 rows × 10 columns</p>\n",
       "</div>"
      ],
      "text/plain": [
       "                                                 Notes    Year  Year Code  \\\n",
       "0                                                  NaN  1999.0     1999.0   \n",
       "1                                                Total  1999.0     1999.0   \n",
       "2                                                  NaN  1999.0     1999.0   \n",
       "3                                                Total  1999.0     1999.0   \n",
       "4                                                  NaN  1999.0     1999.0   \n",
       "..                                                 ...     ...        ...   \n",
       "581  most notably R95, \"Sudden Infant Death Syndrom...     NaN        NaN   \n",
       "582  interpreting these data. More information: htt...     NaN        NaN   \n",
       "583  5. Circumstances in California resulted in unu...     NaN        NaN   \n",
       "584  ill-defined and unspecified causes of mortalit...     NaN        NaN   \n",
       "585  interpreting these data. More information: htt...     NaN        NaN   \n",
       "\n",
       "          Month Month Code Injury Intent  Injury Intent Code  Deaths  \\\n",
       "0    Jan., 1999    1999/01       Suicide                 2.0  2498.0   \n",
       "1    Jan., 1999    1999/01           NaN                 NaN  2498.0   \n",
       "2    Feb., 1999    1999/02       Suicide                 2.0  2296.0   \n",
       "3    Feb., 1999    1999/02           NaN                 NaN  2296.0   \n",
       "4    Mar., 1999    1999/03       Suicide                 2.0  2465.0   \n",
       "..          ...        ...           ...                 ...     ...   \n",
       "581         NaN        NaN           NaN                 NaN     NaN   \n",
       "582         NaN        NaN           NaN                 NaN     NaN   \n",
       "583         NaN        NaN           NaN                 NaN     NaN   \n",
       "584         NaN        NaN           NaN                 NaN     NaN   \n",
       "585         NaN        NaN           NaN                 NaN     NaN   \n",
       "\n",
       "         Population      Crude Rate  \n",
       "0    Not Applicable  Not Applicable  \n",
       "1    Not Applicable  Not Applicable  \n",
       "2    Not Applicable  Not Applicable  \n",
       "3    Not Applicable  Not Applicable  \n",
       "4    Not Applicable  Not Applicable  \n",
       "..              ...             ...  \n",
       "581             NaN             NaN  \n",
       "582             NaN             NaN  \n",
       "583             NaN             NaN  \n",
       "584             NaN             NaN  \n",
       "585             NaN             NaN  \n",
       "\n",
       "[586 rows x 10 columns]"
      ]
     },
     "execution_count": 68,
     "metadata": {},
     "output_type": "execute_result"
    }
   ],
   "source": [
    "sui"
   ]
  },
  {
   "cell_type": "code",
   "execution_count": 69,
   "id": "8cfd53d4-2a5c-42b7-9b25-c846eff09344",
   "metadata": {},
   "outputs": [],
   "source": [
    "sui = sui[[\"Month Code\",\"Deaths\"]]"
   ]
  },
  {
   "cell_type": "code",
   "execution_count": 70,
   "id": "d38e6e16-7c7f-4ba7-bad8-a18cf4ed9d90",
   "metadata": {},
   "outputs": [
    {
     "data": {
      "text/plain": [
       "<AxesSubplot:>"
      ]
     },
     "execution_count": 70,
     "metadata": {},
     "output_type": "execute_result"
    },
    {
     "data": {
      "image/png": "[encoded data removed]",
      "text/plain": [
       "<Figure size 432x288 with 1 Axes>"
      ]
     },
     "metadata": {
      "needs_background": "light"
     },
     "output_type": "display_data"
    }
   ],
   "source": [
    "sns.heatmap(sui.isnull(),yticklabels=False,cbar=False,cmap='viridis')"
   ]
  },
  {
   "cell_type": "code",
   "execution_count": 71,
   "id": "d6e9f091-7896-4ef4-b68a-d9b893cf6e51",
   "metadata": {},
   "outputs": [],
   "source": [
    "sui = sui.dropna()"
   ]
  },
  {
   "cell_type": "code",
   "execution_count": 72,
   "id": "1398fa0b-3cff-4c37-b827-fbcb89f56845",
   "metadata": {},
   "outputs": [],
   "source": [
    "sui = sui.drop_duplicates()"
   ]
  },
  {
   "cell_type": "code",
   "execution_count": 73,
   "id": "1773a5da-e419-4e48-8bc2-0a19fb463f93",
   "metadata": {},
   "outputs": [
    {
     "data": {
      "text/html": [
       "<div>\n",
       "<style scoped>\n",
       "    .dataframe tbody tr th:only-of-type {\n",
       "        vertical-align: middle;\n",
       "    }\n",
       "\n",
       "    .dataframe tbody tr th {\n",
       "        vertical-align: top;\n",
       "    }\n",
       "\n",
       "    .dataframe thead th {\n",
       "        text-align: right;\n",
       "    }\n",
       "</style>\n",
       "<table border=\"1\" class=\"dataframe\">\n",
       "  <thead>\n",
       "    <tr style=\"text-align: right;\">\n",
       "      <th></th>\n",
       "      <th>Month Code</th>\n",
       "      <th>Deaths</th>\n",
       "    </tr>\n",
       "  </thead>\n",
       "  <tbody>\n",
       "    <tr>\n",
       "      <th>0</th>\n",
       "      <td>1999/01</td>\n",
       "      <td>2498.0</td>\n",
       "    </tr>\n",
       "    <tr>\n",
       "      <th>2</th>\n",
       "      <td>1999/02</td>\n",
       "      <td>2296.0</td>\n",
       "    </tr>\n",
       "    <tr>\n",
       "      <th>4</th>\n",
       "      <td>1999/03</td>\n",
       "      <td>2465.0</td>\n",
       "    </tr>\n",
       "    <tr>\n",
       "      <th>6</th>\n",
       "      <td>1999/04</td>\n",
       "      <td>2475.0</td>\n",
       "    </tr>\n",
       "    <tr>\n",
       "      <th>8</th>\n",
       "      <td>1999/05</td>\n",
       "      <td>2542.0</td>\n",
       "    </tr>\n",
       "    <tr>\n",
       "      <th>...</th>\n",
       "      <td>...</td>\n",
       "      <td>...</td>\n",
       "    </tr>\n",
       "    <tr>\n",
       "      <th>539</th>\n",
       "      <td>2020/08</td>\n",
       "      <td>4040.0</td>\n",
       "    </tr>\n",
       "    <tr>\n",
       "      <th>541</th>\n",
       "      <td>2020/09</td>\n",
       "      <td>3908.0</td>\n",
       "    </tr>\n",
       "    <tr>\n",
       "      <th>543</th>\n",
       "      <td>2020/10</td>\n",
       "      <td>3781.0</td>\n",
       "    </tr>\n",
       "    <tr>\n",
       "      <th>545</th>\n",
       "      <td>2020/11</td>\n",
       "      <td>3704.0</td>\n",
       "    </tr>\n",
       "    <tr>\n",
       "      <th>547</th>\n",
       "      <td>2020/12</td>\n",
       "      <td>3559.0</td>\n",
       "    </tr>\n",
       "  </tbody>\n",
       "</table>\n",
       "<p>264 rows × 2 columns</p>\n",
       "</div>"
      ],
      "text/plain": [
       "    Month Code  Deaths\n",
       "0      1999/01  2498.0\n",
       "2      1999/02  2296.0\n",
       "4      1999/03  2465.0\n",
       "6      1999/04  2475.0\n",
       "8      1999/05  2542.0\n",
       "..         ...     ...\n",
       "539    2020/08  4040.0\n",
       "541    2020/09  3908.0\n",
       "543    2020/10  3781.0\n",
       "545    2020/11  3704.0\n",
       "547    2020/12  3559.0\n",
       "\n",
       "[264 rows x 2 columns]"
      ]
     },
     "execution_count": 73,
     "metadata": {},
     "output_type": "execute_result"
    }
   ],
   "source": [
    "sui"
   ]
  },
  {
   "cell_type": "code",
   "execution_count": 74,
   "id": "bdb4bb10-7248-4db3-84f5-eb648c610a00",
   "metadata": {},
   "outputs": [],
   "source": [
    "sui = sui.reset_index(drop = True)"
   ]
  },
  {
   "cell_type": "code",
   "execution_count": 75,
   "id": "fa1ec671-3a2c-4275-aaef-ff041a9e7bb4",
   "metadata": {},
   "outputs": [],
   "source": [
    "sui = sui.rename(columns = {\"Month Code\":\"date\", \"Deaths\":\"suicide_deaths\"})"
   ]
  },
  {
   "cell_type": "code",
   "execution_count": 76,
   "id": "34d709c6-9333-4967-a72a-45aba7bd03cf",
   "metadata": {},
   "outputs": [
    {
     "data": {
      "text/html": [
       "<div>\n",
       "<style scoped>\n",
       "    .dataframe tbody tr th:only-of-type {\n",
       "        vertical-align: middle;\n",
       "    }\n",
       "\n",
       "    .dataframe tbody tr th {\n",
       "        vertical-align: top;\n",
       "    }\n",
       "\n",
       "    .dataframe thead th {\n",
       "        text-align: right;\n",
       "    }\n",
       "</style>\n",
       "<table border=\"1\" class=\"dataframe\">\n",
       "  <thead>\n",
       "    <tr style=\"text-align: right;\">\n",
       "      <th></th>\n",
       "      <th>date</th>\n",
       "      <th>suicide_deaths</th>\n",
       "    </tr>\n",
       "  </thead>\n",
       "  <tbody>\n",
       "    <tr>\n",
       "      <th>0</th>\n",
       "      <td>1999/01</td>\n",
       "      <td>2498.0</td>\n",
       "    </tr>\n",
       "    <tr>\n",
       "      <th>1</th>\n",
       "      <td>1999/02</td>\n",
       "      <td>2296.0</td>\n",
       "    </tr>\n",
       "    <tr>\n",
       "      <th>2</th>\n",
       "      <td>1999/03</td>\n",
       "      <td>2465.0</td>\n",
       "    </tr>\n",
       "    <tr>\n",
       "      <th>3</th>\n",
       "      <td>1999/04</td>\n",
       "      <td>2475.0</td>\n",
       "    </tr>\n",
       "    <tr>\n",
       "      <th>4</th>\n",
       "      <td>1999/05</td>\n",
       "      <td>2542.0</td>\n",
       "    </tr>\n",
       "  </tbody>\n",
       "</table>\n",
       "</div>"
      ],
      "text/plain": [
       "      date  suicide_deaths\n",
       "0  1999/01          2498.0\n",
       "1  1999/02          2296.0\n",
       "2  1999/03          2465.0\n",
       "3  1999/04          2475.0\n",
       "4  1999/05          2542.0"
      ]
     },
     "execution_count": 76,
     "metadata": {},
     "output_type": "execute_result"
    }
   ],
   "source": [
    "sui.head()"
   ]
  },
  {
   "cell_type": "code",
   "execution_count": 77,
   "id": "6dbea4c1-a2c5-425b-b2ea-565b41006584",
   "metadata": {},
   "outputs": [],
   "source": [
    "sui.date = pd.to_datetime(sui.date)"
   ]
  },
  {
   "cell_type": "code",
   "execution_count": 78,
   "id": "495eb5a3-d5d6-45b0-9ba0-a1cdb7ccad67",
   "metadata": {},
   "outputs": [
    {
     "data": {
      "text/html": [
       "<div>\n",
       "<style scoped>\n",
       "    .dataframe tbody tr th:only-of-type {\n",
       "        vertical-align: middle;\n",
       "    }\n",
       "\n",
       "    .dataframe tbody tr th {\n",
       "        vertical-align: top;\n",
       "    }\n",
       "\n",
       "    .dataframe thead th {\n",
       "        text-align: right;\n",
       "    }\n",
       "</style>\n",
       "<table border=\"1\" class=\"dataframe\">\n",
       "  <thead>\n",
       "    <tr style=\"text-align: right;\">\n",
       "      <th></th>\n",
       "      <th>date</th>\n",
       "      <th>suicide_deaths</th>\n",
       "    </tr>\n",
       "  </thead>\n",
       "  <tbody>\n",
       "    <tr>\n",
       "      <th>0</th>\n",
       "      <td>1999-01-01</td>\n",
       "      <td>2498.0</td>\n",
       "    </tr>\n",
       "    <tr>\n",
       "      <th>1</th>\n",
       "      <td>1999-02-01</td>\n",
       "      <td>2296.0</td>\n",
       "    </tr>\n",
       "    <tr>\n",
       "      <th>2</th>\n",
       "      <td>1999-03-01</td>\n",
       "      <td>2465.0</td>\n",
       "    </tr>\n",
       "    <tr>\n",
       "      <th>3</th>\n",
       "      <td>1999-04-01</td>\n",
       "      <td>2475.0</td>\n",
       "    </tr>\n",
       "    <tr>\n",
       "      <th>4</th>\n",
       "      <td>1999-05-01</td>\n",
       "      <td>2542.0</td>\n",
       "    </tr>\n",
       "    <tr>\n",
       "      <th>...</th>\n",
       "      <td>...</td>\n",
       "      <td>...</td>\n",
       "    </tr>\n",
       "    <tr>\n",
       "      <th>259</th>\n",
       "      <td>2020-08-01</td>\n",
       "      <td>4040.0</td>\n",
       "    </tr>\n",
       "    <tr>\n",
       "      <th>260</th>\n",
       "      <td>2020-09-01</td>\n",
       "      <td>3908.0</td>\n",
       "    </tr>\n",
       "    <tr>\n",
       "      <th>261</th>\n",
       "      <td>2020-10-01</td>\n",
       "      <td>3781.0</td>\n",
       "    </tr>\n",
       "    <tr>\n",
       "      <th>262</th>\n",
       "      <td>2020-11-01</td>\n",
       "      <td>3704.0</td>\n",
       "    </tr>\n",
       "    <tr>\n",
       "      <th>263</th>\n",
       "      <td>2020-12-01</td>\n",
       "      <td>3559.0</td>\n",
       "    </tr>\n",
       "  </tbody>\n",
       "</table>\n",
       "<p>264 rows × 2 columns</p>\n",
       "</div>"
      ],
      "text/plain": [
       "          date  suicide_deaths\n",
       "0   1999-01-01          2498.0\n",
       "1   1999-02-01          2296.0\n",
       "2   1999-03-01          2465.0\n",
       "3   1999-04-01          2475.0\n",
       "4   1999-05-01          2542.0\n",
       "..         ...             ...\n",
       "259 2020-08-01          4040.0\n",
       "260 2020-09-01          3908.0\n",
       "261 2020-10-01          3781.0\n",
       "262 2020-11-01          3704.0\n",
       "263 2020-12-01          3559.0\n",
       "\n",
       "[264 rows x 2 columns]"
      ]
     },
     "execution_count": 78,
     "metadata": {},
     "output_type": "execute_result"
    }
   ],
   "source": [
    "sui"
   ]
  },
  {
   "cell_type": "markdown",
   "id": "46f640a2-02c3-4e41-8952-fb1fdd3c1d69",
   "metadata": {},
   "source": [
    "You can the effect that the resample function had on the data. "
   ]
  },
  {
   "cell_type": "markdown",
   "id": "c14dfed3-e8f1-4632-917b-b622a2449881",
   "metadata": {},
   "source": [
    "## 2.7 Unemployment "
   ]
  },
  {
   "cell_type": "code",
   "execution_count": 79,
   "id": "b7907dbb-e047-4d8e-936e-245d24bf6945",
   "metadata": {},
   "outputs": [],
   "source": [
    "unemp = pd.read_excel(\"/Users/natemcdowell/Desktop/crf/datasets/unemployment_bls.xlsx\")"
   ]
  },
  {
   "cell_type": "code",
   "execution_count": 80,
   "id": "41ccbacd-b970-4b7a-a295-274821325f6b",
   "metadata": {},
   "outputs": [
    {
     "data": {
      "text/html": [
       "<div>\n",
       "<style scoped>\n",
       "    .dataframe tbody tr th:only-of-type {\n",
       "        vertical-align: middle;\n",
       "    }\n",
       "\n",
       "    .dataframe tbody tr th {\n",
       "        vertical-align: top;\n",
       "    }\n",
       "\n",
       "    .dataframe thead th {\n",
       "        text-align: right;\n",
       "    }\n",
       "</style>\n",
       "<table border=\"1\" class=\"dataframe\">\n",
       "  <thead>\n",
       "    <tr style=\"text-align: right;\">\n",
       "      <th></th>\n",
       "      <th>Month</th>\n",
       "      <th>Total</th>\n",
       "      <th>Men, 20 years and over</th>\n",
       "      <th>Women, 20 years and over</th>\n",
       "      <th>16 to 19 years old</th>\n",
       "      <th>White</th>\n",
       "      <th>Black or African American</th>\n",
       "      <th>Asian</th>\n",
       "      <th>Hispanic or Latino</th>\n",
       "    </tr>\n",
       "  </thead>\n",
       "  <tbody>\n",
       "    <tr>\n",
       "      <th>0</th>\n",
       "      <td>2002-05-01</td>\n",
       "      <td>5.8</td>\n",
       "      <td>5.2</td>\n",
       "      <td>5.2</td>\n",
       "      <td>16.6</td>\n",
       "      <td>5.1</td>\n",
       "      <td>10.2</td>\n",
       "      <td>NaN</td>\n",
       "      <td>7.1</td>\n",
       "    </tr>\n",
       "    <tr>\n",
       "      <th>1</th>\n",
       "      <td>2002-06-01</td>\n",
       "      <td>5.8</td>\n",
       "      <td>5.3</td>\n",
       "      <td>5.1</td>\n",
       "      <td>16.7</td>\n",
       "      <td>5.1</td>\n",
       "      <td>10.5</td>\n",
       "      <td>NaN</td>\n",
       "      <td>7.4</td>\n",
       "    </tr>\n",
       "    <tr>\n",
       "      <th>2</th>\n",
       "      <td>2002-07-01</td>\n",
       "      <td>5.8</td>\n",
       "      <td>5.3</td>\n",
       "      <td>5.1</td>\n",
       "      <td>16.8</td>\n",
       "      <td>5.2</td>\n",
       "      <td>9.8</td>\n",
       "      <td>NaN</td>\n",
       "      <td>7.4</td>\n",
       "    </tr>\n",
       "    <tr>\n",
       "      <th>3</th>\n",
       "      <td>2002-08-01</td>\n",
       "      <td>5.7</td>\n",
       "      <td>5.2</td>\n",
       "      <td>5.0</td>\n",
       "      <td>17.0</td>\n",
       "      <td>5.1</td>\n",
       "      <td>9.8</td>\n",
       "      <td>NaN</td>\n",
       "      <td>7.5</td>\n",
       "    </tr>\n",
       "    <tr>\n",
       "      <th>4</th>\n",
       "      <td>2002-09-01</td>\n",
       "      <td>5.7</td>\n",
       "      <td>5.2</td>\n",
       "      <td>4.9</td>\n",
       "      <td>16.3</td>\n",
       "      <td>5.1</td>\n",
       "      <td>9.7</td>\n",
       "      <td>NaN</td>\n",
       "      <td>7.4</td>\n",
       "    </tr>\n",
       "    <tr>\n",
       "      <th>...</th>\n",
       "      <td>...</td>\n",
       "      <td>...</td>\n",
       "      <td>...</td>\n",
       "      <td>...</td>\n",
       "      <td>...</td>\n",
       "      <td>...</td>\n",
       "      <td>...</td>\n",
       "      <td>...</td>\n",
       "      <td>...</td>\n",
       "    </tr>\n",
       "    <tr>\n",
       "      <th>236</th>\n",
       "      <td>2022-01-01</td>\n",
       "      <td>4.0</td>\n",
       "      <td>3.8</td>\n",
       "      <td>3.6</td>\n",
       "      <td>10.9</td>\n",
       "      <td>3.4</td>\n",
       "      <td>6.9</td>\n",
       "      <td>3.6</td>\n",
       "      <td>4.9</td>\n",
       "    </tr>\n",
       "    <tr>\n",
       "      <th>237</th>\n",
       "      <td>2022-02-01</td>\n",
       "      <td>3.8</td>\n",
       "      <td>3.5</td>\n",
       "      <td>3.6</td>\n",
       "      <td>10.3</td>\n",
       "      <td>3.3</td>\n",
       "      <td>6.6</td>\n",
       "      <td>3.1</td>\n",
       "      <td>4.4</td>\n",
       "    </tr>\n",
       "    <tr>\n",
       "      <th>238</th>\n",
       "      <td>2022-03-01</td>\n",
       "      <td>3.6</td>\n",
       "      <td>3.4</td>\n",
       "      <td>3.3</td>\n",
       "      <td>10.0</td>\n",
       "      <td>3.2</td>\n",
       "      <td>6.2</td>\n",
       "      <td>2.8</td>\n",
       "      <td>4.2</td>\n",
       "    </tr>\n",
       "    <tr>\n",
       "      <th>239</th>\n",
       "      <td>2022-04-01</td>\n",
       "      <td>3.6</td>\n",
       "      <td>3.5</td>\n",
       "      <td>3.2</td>\n",
       "      <td>10.2</td>\n",
       "      <td>3.2</td>\n",
       "      <td>5.9</td>\n",
       "      <td>3.1</td>\n",
       "      <td>4.1</td>\n",
       "    </tr>\n",
       "    <tr>\n",
       "      <th>240</th>\n",
       "      <td>2022-05-01</td>\n",
       "      <td>3.6</td>\n",
       "      <td>3.4</td>\n",
       "      <td>3.4</td>\n",
       "      <td>10.4</td>\n",
       "      <td>3.2</td>\n",
       "      <td>6.2</td>\n",
       "      <td>2.4</td>\n",
       "      <td>4.3</td>\n",
       "    </tr>\n",
       "  </tbody>\n",
       "</table>\n",
       "<p>241 rows × 9 columns</p>\n",
       "</div>"
      ],
      "text/plain": [
       "         Month  Total  Men, 20 years and over  Women, 20 years and over  \\\n",
       "0   2002-05-01    5.8                     5.2                       5.2   \n",
       "1   2002-06-01    5.8                     5.3                       5.1   \n",
       "2   2002-07-01    5.8                     5.3                       5.1   \n",
       "3   2002-08-01    5.7                     5.2                       5.0   \n",
       "4   2002-09-01    5.7                     5.2                       4.9   \n",
       "..         ...    ...                     ...                       ...   \n",
       "236 2022-01-01    4.0                     3.8                       3.6   \n",
       "237 2022-02-01    3.8                     3.5                       3.6   \n",
       "238 2022-03-01    3.6                     3.4                       3.3   \n",
       "239 2022-04-01    3.6                     3.5                       3.2   \n",
       "240 2022-05-01    3.6                     3.4                       3.4   \n",
       "\n",
       "     16 to 19 years old  White  Black or African American  Asian  \\\n",
       "0                  16.6    5.1                       10.2    NaN   \n",
       "1                  16.7    5.1                       10.5    NaN   \n",
       "2                  16.8    5.2                        9.8    NaN   \n",
       "3                  17.0    5.1                        9.8    NaN   \n",
       "4                  16.3    5.1                        9.7    NaN   \n",
       "..                  ...    ...                        ...    ...   \n",
       "236                10.9    3.4                        6.9    3.6   \n",
       "237                10.3    3.3                        6.6    3.1   \n",
       "238                10.0    3.2                        6.2    2.8   \n",
       "239                10.2    3.2                        5.9    3.1   \n",
       "240                10.4    3.2                        6.2    2.4   \n",
       "\n",
       "     Hispanic or Latino  \n",
       "0                   7.1  \n",
       "1                   7.4  \n",
       "2                   7.4  \n",
       "3                   7.5  \n",
       "4                   7.4  \n",
       "..                  ...  \n",
       "236                 4.9  \n",
       "237                 4.4  \n",
       "238                 4.2  \n",
       "239                 4.1  \n",
       "240                 4.3  \n",
       "\n",
       "[241 rows x 9 columns]"
      ]
     },
     "execution_count": 80,
     "metadata": {},
     "output_type": "execute_result"
    }
   ],
   "source": [
    "unemp"
   ]
  },
  {
   "cell_type": "code",
   "execution_count": 81,
   "id": "b9fe12c4-d257-485d-bc82-2c9251eec18d",
   "metadata": {},
   "outputs": [],
   "source": [
    "unemp = unemp[['Month','Total']]"
   ]
  },
  {
   "cell_type": "code",
   "execution_count": 82,
   "id": "ad3efae2-51d1-494b-a1da-39e5a2280a91",
   "metadata": {},
   "outputs": [],
   "source": [
    "unemp = unemp.rename(columns = {'Month':'date','Total':'perc_unemp'})"
   ]
  },
  {
   "cell_type": "code",
   "execution_count": 83,
   "id": "643fe512-5d5b-4e23-b014-fa48f1dfda4b",
   "metadata": {},
   "outputs": [
    {
     "data": {
      "text/html": [
       "<div>\n",
       "<style scoped>\n",
       "    .dataframe tbody tr th:only-of-type {\n",
       "        vertical-align: middle;\n",
       "    }\n",
       "\n",
       "    .dataframe tbody tr th {\n",
       "        vertical-align: top;\n",
       "    }\n",
       "\n",
       "    .dataframe thead th {\n",
       "        text-align: right;\n",
       "    }\n",
       "</style>\n",
       "<table border=\"1\" class=\"dataframe\">\n",
       "  <thead>\n",
       "    <tr style=\"text-align: right;\">\n",
       "      <th></th>\n",
       "      <th>date</th>\n",
       "      <th>perc_unemp</th>\n",
       "    </tr>\n",
       "  </thead>\n",
       "  <tbody>\n",
       "    <tr>\n",
       "      <th>0</th>\n",
       "      <td>2002-05-01</td>\n",
       "      <td>5.8</td>\n",
       "    </tr>\n",
       "    <tr>\n",
       "      <th>1</th>\n",
       "      <td>2002-06-01</td>\n",
       "      <td>5.8</td>\n",
       "    </tr>\n",
       "    <tr>\n",
       "      <th>2</th>\n",
       "      <td>2002-07-01</td>\n",
       "      <td>5.8</td>\n",
       "    </tr>\n",
       "    <tr>\n",
       "      <th>3</th>\n",
       "      <td>2002-08-01</td>\n",
       "      <td>5.7</td>\n",
       "    </tr>\n",
       "    <tr>\n",
       "      <th>4</th>\n",
       "      <td>2002-09-01</td>\n",
       "      <td>5.7</td>\n",
       "    </tr>\n",
       "    <tr>\n",
       "      <th>...</th>\n",
       "      <td>...</td>\n",
       "      <td>...</td>\n",
       "    </tr>\n",
       "    <tr>\n",
       "      <th>236</th>\n",
       "      <td>2022-01-01</td>\n",
       "      <td>4.0</td>\n",
       "    </tr>\n",
       "    <tr>\n",
       "      <th>237</th>\n",
       "      <td>2022-02-01</td>\n",
       "      <td>3.8</td>\n",
       "    </tr>\n",
       "    <tr>\n",
       "      <th>238</th>\n",
       "      <td>2022-03-01</td>\n",
       "      <td>3.6</td>\n",
       "    </tr>\n",
       "    <tr>\n",
       "      <th>239</th>\n",
       "      <td>2022-04-01</td>\n",
       "      <td>3.6</td>\n",
       "    </tr>\n",
       "    <tr>\n",
       "      <th>240</th>\n",
       "      <td>2022-05-01</td>\n",
       "      <td>3.6</td>\n",
       "    </tr>\n",
       "  </tbody>\n",
       "</table>\n",
       "<p>241 rows × 2 columns</p>\n",
       "</div>"
      ],
      "text/plain": [
       "          date  perc_unemp\n",
       "0   2002-05-01         5.8\n",
       "1   2002-06-01         5.8\n",
       "2   2002-07-01         5.8\n",
       "3   2002-08-01         5.7\n",
       "4   2002-09-01         5.7\n",
       "..         ...         ...\n",
       "236 2022-01-01         4.0\n",
       "237 2022-02-01         3.8\n",
       "238 2022-03-01         3.6\n",
       "239 2022-04-01         3.6\n",
       "240 2022-05-01         3.6\n",
       "\n",
       "[241 rows x 2 columns]"
      ]
     },
     "execution_count": 83,
     "metadata": {},
     "output_type": "execute_result"
    }
   ],
   "source": [
    "unemp"
   ]
  },
  {
   "cell_type": "code",
   "execution_count": 84,
   "id": "07d48705-05d5-4cdd-8ca3-c3956c3d694e",
   "metadata": {},
   "outputs": [],
   "source": [
    "#unemp = df.copy()"
   ]
  },
  {
   "cell_type": "markdown",
   "id": "28a6a93e-8a4a-4a26-9a14-9ddf48232d8e",
   "metadata": {},
   "source": [
    "## 2.8 Inflation"
   ]
  },
  {
   "cell_type": "code",
   "execution_count": 85,
   "id": "381a30b8-07eb-43cf-994a-a1c5bca987fe",
   "metadata": {},
   "outputs": [
    {
     "data": {
      "text/html": [
       "<div>\n",
       "<style scoped>\n",
       "    .dataframe tbody tr th:only-of-type {\n",
       "        vertical-align: middle;\n",
       "    }\n",
       "\n",
       "    .dataframe tbody tr th {\n",
       "        vertical-align: top;\n",
       "    }\n",
       "\n",
       "    .dataframe thead th {\n",
       "        text-align: right;\n",
       "    }\n",
       "</style>\n",
       "<table border=\"1\" class=\"dataframe\">\n",
       "  <thead>\n",
       "    <tr style=\"text-align: right;\">\n",
       "      <th></th>\n",
       "      <th>DATE</th>\n",
       "      <th>FPCPITOTLZGUSA</th>\n",
       "    </tr>\n",
       "  </thead>\n",
       "  <tbody>\n",
       "    <tr>\n",
       "      <th>0</th>\n",
       "      <td>1960-01-01</td>\n",
       "      <td>1.457976</td>\n",
       "    </tr>\n",
       "    <tr>\n",
       "      <th>1</th>\n",
       "      <td>1961-01-01</td>\n",
       "      <td>1.070724</td>\n",
       "    </tr>\n",
       "    <tr>\n",
       "      <th>2</th>\n",
       "      <td>1962-01-01</td>\n",
       "      <td>1.198773</td>\n",
       "    </tr>\n",
       "    <tr>\n",
       "      <th>3</th>\n",
       "      <td>1963-01-01</td>\n",
       "      <td>1.239669</td>\n",
       "    </tr>\n",
       "    <tr>\n",
       "      <th>4</th>\n",
       "      <td>1964-01-01</td>\n",
       "      <td>1.278912</td>\n",
       "    </tr>\n",
       "  </tbody>\n",
       "</table>\n",
       "</div>"
      ],
      "text/plain": [
       "         DATE  FPCPITOTLZGUSA\n",
       "0  1960-01-01        1.457976\n",
       "1  1961-01-01        1.070724\n",
       "2  1962-01-01        1.198773\n",
       "3  1963-01-01        1.239669\n",
       "4  1964-01-01        1.278912"
      ]
     },
     "execution_count": 85,
     "metadata": {},
     "output_type": "execute_result"
    }
   ],
   "source": [
    "inflation = pd.read_csv(\"inflation.csv\")\n",
    "inflation.head()"
   ]
  },
  {
   "cell_type": "code",
   "execution_count": 86,
   "id": "6b77c7a1-b695-4dba-8636-12e9ef1f64d7",
   "metadata": {},
   "outputs": [],
   "source": [
    "inflation = inflation.rename(columns = {'FPCPITOTLZGUSA':'yearly_infl','DATE':'date'})"
   ]
  },
  {
   "cell_type": "code",
   "execution_count": 87,
   "id": "2b5823c3-8267-40e7-8e24-ea2a11cd64dc",
   "metadata": {},
   "outputs": [
    {
     "data": {
      "text/html": [
       "<div>\n",
       "<style scoped>\n",
       "    .dataframe tbody tr th:only-of-type {\n",
       "        vertical-align: middle;\n",
       "    }\n",
       "\n",
       "    .dataframe tbody tr th {\n",
       "        vertical-align: top;\n",
       "    }\n",
       "\n",
       "    .dataframe thead th {\n",
       "        text-align: right;\n",
       "    }\n",
       "</style>\n",
       "<table border=\"1\" class=\"dataframe\">\n",
       "  <thead>\n",
       "    <tr style=\"text-align: right;\">\n",
       "      <th></th>\n",
       "      <th>date</th>\n",
       "      <th>yearly_infl</th>\n",
       "    </tr>\n",
       "  </thead>\n",
       "  <tbody>\n",
       "    <tr>\n",
       "      <th>0</th>\n",
       "      <td>1960-01-01</td>\n",
       "      <td>1.457976</td>\n",
       "    </tr>\n",
       "    <tr>\n",
       "      <th>1</th>\n",
       "      <td>1961-01-01</td>\n",
       "      <td>1.070724</td>\n",
       "    </tr>\n",
       "    <tr>\n",
       "      <th>2</th>\n",
       "      <td>1962-01-01</td>\n",
       "      <td>1.198773</td>\n",
       "    </tr>\n",
       "    <tr>\n",
       "      <th>3</th>\n",
       "      <td>1963-01-01</td>\n",
       "      <td>1.239669</td>\n",
       "    </tr>\n",
       "    <tr>\n",
       "      <th>4</th>\n",
       "      <td>1964-01-01</td>\n",
       "      <td>1.278912</td>\n",
       "    </tr>\n",
       "  </tbody>\n",
       "</table>\n",
       "</div>"
      ],
      "text/plain": [
       "         date  yearly_infl\n",
       "0  1960-01-01     1.457976\n",
       "1  1961-01-01     1.070724\n",
       "2  1962-01-01     1.198773\n",
       "3  1963-01-01     1.239669\n",
       "4  1964-01-01     1.278912"
      ]
     },
     "execution_count": 87,
     "metadata": {},
     "output_type": "execute_result"
    }
   ],
   "source": [
    "inflation.head()"
   ]
  },
  {
   "cell_type": "code",
   "execution_count": 88,
   "id": "55e4d3d4-1215-4adf-90b0-ac2c05370d6a",
   "metadata": {},
   "outputs": [
    {
     "data": {
      "text/plain": [
       "date            object\n",
       "yearly_infl    float64\n",
       "dtype: object"
      ]
     },
     "execution_count": 88,
     "metadata": {},
     "output_type": "execute_result"
    }
   ],
   "source": [
    "inflation.dtypes"
   ]
  },
  {
   "cell_type": "code",
   "execution_count": 89,
   "id": "b4508413-9264-4701-ac08-307ef0db3a4a",
   "metadata": {},
   "outputs": [],
   "source": [
    "inflation.date = pd.to_datetime(inflation.date)"
   ]
  },
  {
   "cell_type": "code",
   "execution_count": 90,
   "id": "8b265fb8-d3c3-4a62-a847-fb5e8c209ec4",
   "metadata": {},
   "outputs": [
    {
     "data": {
      "text/plain": [
       "[Text(0.5, 1.0, 'US  Inflation Over Time')]"
      ]
     },
     "execution_count": 90,
     "metadata": {},
     "output_type": "execute_result"
    },
    {
     "data": {
      "image/png": "[encoded data removed]",
      "text/plain": [
       "<Figure size 432x288 with 1 Axes>"
      ]
     },
     "metadata": {
      "needs_background": "light"
     },
     "output_type": "display_data"
    }
   ],
   "source": [
    "sns.lineplot(x = \"date\", y = \"yearly_infl\",\n",
    "             data = inflation,markers = True).set(title='US  Inflation Over Time')"
   ]
  },
  {
   "cell_type": "code",
   "execution_count": 91,
   "id": "57482a68-04e0-4799-a06a-f7c18641ac10",
   "metadata": {},
   "outputs": [],
   "source": [
    "#inflation = df"
   ]
  },
  {
   "cell_type": "markdown",
   "id": "b4bc1b37-1a9b-4e06-bdab-03ef9f4557d7",
   "metadata": {},
   "source": [
    "## 2.9 GDP"
   ]
  },
  {
   "cell_type": "code",
   "execution_count": 92,
   "id": "7e051305-1bb4-4f96-843a-1d2f12770c21",
   "metadata": {},
   "outputs": [
    {
     "data": {
      "text/html": [
       "<div>\n",
       "<style scoped>\n",
       "    .dataframe tbody tr th:only-of-type {\n",
       "        vertical-align: middle;\n",
       "    }\n",
       "\n",
       "    .dataframe tbody tr th {\n",
       "        vertical-align: top;\n",
       "    }\n",
       "\n",
       "    .dataframe thead th {\n",
       "        text-align: right;\n",
       "    }\n",
       "</style>\n",
       "<table border=\"1\" class=\"dataframe\">\n",
       "  <thead>\n",
       "    <tr style=\"text-align: right;\">\n",
       "      <th></th>\n",
       "      <th>DATE</th>\n",
       "      <th>GDP</th>\n",
       "    </tr>\n",
       "  </thead>\n",
       "  <tbody>\n",
       "    <tr>\n",
       "      <th>0</th>\n",
       "      <td>1947-01-01</td>\n",
       "      <td>243.164</td>\n",
       "    </tr>\n",
       "    <tr>\n",
       "      <th>1</th>\n",
       "      <td>1947-04-01</td>\n",
       "      <td>245.968</td>\n",
       "    </tr>\n",
       "    <tr>\n",
       "      <th>2</th>\n",
       "      <td>1947-07-01</td>\n",
       "      <td>249.585</td>\n",
       "    </tr>\n",
       "    <tr>\n",
       "      <th>3</th>\n",
       "      <td>1947-10-01</td>\n",
       "      <td>259.745</td>\n",
       "    </tr>\n",
       "    <tr>\n",
       "      <th>4</th>\n",
       "      <td>1948-01-01</td>\n",
       "      <td>265.742</td>\n",
       "    </tr>\n",
       "  </tbody>\n",
       "</table>\n",
       "</div>"
      ],
      "text/plain": [
       "         DATE      GDP\n",
       "0  1947-01-01  243.164\n",
       "1  1947-04-01  245.968\n",
       "2  1947-07-01  249.585\n",
       "3  1947-10-01  259.745\n",
       "4  1948-01-01  265.742"
      ]
     },
     "execution_count": 92,
     "metadata": {},
     "output_type": "execute_result"
    }
   ],
   "source": [
    "gdp = pd.read_csv(\"GDP.csv\")\n",
    "gdp.head()"
   ]
  },
  {
   "cell_type": "code",
   "execution_count": 93,
   "id": "2234808c-7eba-4ade-b0e9-493c20a304f7",
   "metadata": {},
   "outputs": [],
   "source": [
    "gdp = gdp.rename(columns = {'DATE':'date','GDP':'gdp_period'})"
   ]
  },
  {
   "cell_type": "code",
   "execution_count": 94,
   "id": "a636abbf-c7d0-4977-9f88-60c7beecda23",
   "metadata": {},
   "outputs": [
    {
     "data": {
      "text/plain": [
       "date           object\n",
       "gdp_period    float64\n",
       "dtype: object"
      ]
     },
     "execution_count": 94,
     "metadata": {},
     "output_type": "execute_result"
    }
   ],
   "source": [
    "gdp.dtypes"
   ]
  },
  {
   "cell_type": "code",
   "execution_count": 95,
   "id": "dad56cc7-9b99-44a4-b33d-5ec4fceb53d8",
   "metadata": {},
   "outputs": [],
   "source": [
    "gdp.date = pd.to_datetime(gdp.date)"
   ]
  },
  {
   "cell_type": "code",
   "execution_count": 96,
   "id": "add7f3ec-a6d6-4435-9698-fe9e11675c24",
   "metadata": {},
   "outputs": [
    {
     "data": {
      "text/plain": [
       "[Text(0.5, 1.0, 'US  Inflation Over Time')]"
      ]
     },
     "execution_count": 96,
     "metadata": {},
     "output_type": "execute_result"
    },
    {
     "data": {
      "image/png": "[encoded data removed]",
      "text/plain": [
       "<Figure size 432x288 with 1 Axes>"
      ]
     },
     "metadata": {
      "needs_background": "light"
     },
     "output_type": "display_data"
    }
   ],
   "source": [
    "sns.lineplot(x = \"date\", y = \"gdp_period\",\n",
    "             data = gdp,markers = True).set(title='US  Inflation Over Time')"
   ]
  },
  {
   "cell_type": "code",
   "execution_count": 97,
   "id": "2c2353c5-77ea-4abf-ac08-c57c558a2c68",
   "metadata": {},
   "outputs": [],
   "source": [
    "#gdp = df"
   ]
  },
  {
   "cell_type": "markdown",
   "id": "1375da15-b5a7-4a01-955b-d20c1f9c27dd",
   "metadata": {},
   "source": [
    "## 2.10 H1N1"
   ]
  },
  {
   "cell_type": "code",
   "execution_count": 98,
   "id": "3eb4672d-3fcb-41cf-a014-5248e45f5263",
   "metadata": {},
   "outputs": [],
   "source": [
    "h1n1 = pd.read_excel(\"h1n1_cum_deaths.xlsx\")\n",
    "#h1n1 = h1n1.rename(columns ={\"US H1N1 Thousand Deaths\":\"h1n1_deaths_1000\",\"Month/Year\":\"date\"})"
   ]
  },
  {
   "cell_type": "code",
   "execution_count": 99,
   "id": "166d6ded-12ec-4c19-8b47-5ead704b49c8",
   "metadata": {},
   "outputs": [
    {
     "data": {
      "text/html": [
       "<div>\n",
       "<style scoped>\n",
       "    .dataframe tbody tr th:only-of-type {\n",
       "        vertical-align: middle;\n",
       "    }\n",
       "\n",
       "    .dataframe tbody tr th {\n",
       "        vertical-align: top;\n",
       "    }\n",
       "\n",
       "    .dataframe thead th {\n",
       "        text-align: right;\n",
       "    }\n",
       "</style>\n",
       "<table border=\"1\" class=\"dataframe\">\n",
       "  <thead>\n",
       "    <tr style=\"text-align: right;\">\n",
       "      <th></th>\n",
       "      <th>Date</th>\n",
       "      <th>Cumulative Deaths</th>\n",
       "    </tr>\n",
       "  </thead>\n",
       "  <tbody>\n",
       "    <tr>\n",
       "      <th>0</th>\n",
       "      <td>2009-04-12</td>\n",
       "      <td>0.0</td>\n",
       "    </tr>\n",
       "    <tr>\n",
       "      <th>1</th>\n",
       "      <td>2009-04-13</td>\n",
       "      <td>NaN</td>\n",
       "    </tr>\n",
       "    <tr>\n",
       "      <th>2</th>\n",
       "      <td>2009-04-14</td>\n",
       "      <td>NaN</td>\n",
       "    </tr>\n",
       "    <tr>\n",
       "      <th>3</th>\n",
       "      <td>2009-04-15</td>\n",
       "      <td>NaN</td>\n",
       "    </tr>\n",
       "    <tr>\n",
       "      <th>4</th>\n",
       "      <td>2009-04-16</td>\n",
       "      <td>NaN</td>\n",
       "    </tr>\n",
       "  </tbody>\n",
       "</table>\n",
       "</div>"
      ],
      "text/plain": [
       "        Date  Cumulative Deaths\n",
       "0 2009-04-12                0.0\n",
       "1 2009-04-13                NaN\n",
       "2 2009-04-14                NaN\n",
       "3 2009-04-15                NaN\n",
       "4 2009-04-16                NaN"
      ]
     },
     "execution_count": 99,
     "metadata": {},
     "output_type": "execute_result"
    }
   ],
   "source": [
    "h1n1.head()"
   ]
  },
  {
   "cell_type": "code",
   "execution_count": 100,
   "id": "2799c9ea-341a-4cc9-abb0-dd5f89a2dcf4",
   "metadata": {},
   "outputs": [],
   "source": [
    "h1n1 = h1n1.rename(columns = {'Date':'date','Cumulative Deaths':'h1n1_deaths'})"
   ]
  },
  {
   "cell_type": "code",
   "execution_count": 101,
   "id": "9868a887-6250-491f-a090-2f5acb0923cb",
   "metadata": {},
   "outputs": [
    {
     "data": {
      "text/html": [
       "<div>\n",
       "<style scoped>\n",
       "    .dataframe tbody tr th:only-of-type {\n",
       "        vertical-align: middle;\n",
       "    }\n",
       "\n",
       "    .dataframe tbody tr th {\n",
       "        vertical-align: top;\n",
       "    }\n",
       "\n",
       "    .dataframe thead th {\n",
       "        text-align: right;\n",
       "    }\n",
       "</style>\n",
       "<table border=\"1\" class=\"dataframe\">\n",
       "  <thead>\n",
       "    <tr style=\"text-align: right;\">\n",
       "      <th></th>\n",
       "      <th>date</th>\n",
       "      <th>h1n1_deaths</th>\n",
       "    </tr>\n",
       "  </thead>\n",
       "  <tbody>\n",
       "    <tr>\n",
       "      <th>0</th>\n",
       "      <td>2009-04-12</td>\n",
       "      <td>0.0</td>\n",
       "    </tr>\n",
       "    <tr>\n",
       "      <th>1</th>\n",
       "      <td>2009-04-13</td>\n",
       "      <td>NaN</td>\n",
       "    </tr>\n",
       "    <tr>\n",
       "      <th>2</th>\n",
       "      <td>2009-04-14</td>\n",
       "      <td>NaN</td>\n",
       "    </tr>\n",
       "    <tr>\n",
       "      <th>3</th>\n",
       "      <td>2009-04-15</td>\n",
       "      <td>NaN</td>\n",
       "    </tr>\n",
       "    <tr>\n",
       "      <th>4</th>\n",
       "      <td>2009-04-16</td>\n",
       "      <td>NaN</td>\n",
       "    </tr>\n",
       "    <tr>\n",
       "      <th>...</th>\n",
       "      <td>...</td>\n",
       "      <td>...</td>\n",
       "    </tr>\n",
       "    <tr>\n",
       "      <th>359</th>\n",
       "      <td>2010-04-06</td>\n",
       "      <td>NaN</td>\n",
       "    </tr>\n",
       "    <tr>\n",
       "      <th>360</th>\n",
       "      <td>2010-04-07</td>\n",
       "      <td>NaN</td>\n",
       "    </tr>\n",
       "    <tr>\n",
       "      <th>361</th>\n",
       "      <td>2010-04-08</td>\n",
       "      <td>NaN</td>\n",
       "    </tr>\n",
       "    <tr>\n",
       "      <th>362</th>\n",
       "      <td>2010-04-09</td>\n",
       "      <td>NaN</td>\n",
       "    </tr>\n",
       "    <tr>\n",
       "      <th>363</th>\n",
       "      <td>2010-04-10</td>\n",
       "      <td>12469.0</td>\n",
       "    </tr>\n",
       "  </tbody>\n",
       "</table>\n",
       "<p>364 rows × 2 columns</p>\n",
       "</div>"
      ],
      "text/plain": [
       "          date  h1n1_deaths\n",
       "0   2009-04-12          0.0\n",
       "1   2009-04-13          NaN\n",
       "2   2009-04-14          NaN\n",
       "3   2009-04-15          NaN\n",
       "4   2009-04-16          NaN\n",
       "..         ...          ...\n",
       "359 2010-04-06          NaN\n",
       "360 2010-04-07          NaN\n",
       "361 2010-04-08          NaN\n",
       "362 2010-04-09          NaN\n",
       "363 2010-04-10      12469.0\n",
       "\n",
       "[364 rows x 2 columns]"
      ]
     },
     "execution_count": 101,
     "metadata": {},
     "output_type": "execute_result"
    }
   ],
   "source": [
    "h1n1"
   ]
  },
  {
   "cell_type": "code",
   "execution_count": 102,
   "id": "79d12896-820f-43ee-9e9a-02201a57c67c",
   "metadata": {},
   "outputs": [],
   "source": [
    "h1n1 = resample(h1n1,'date','M')"
   ]
  },
  {
   "cell_type": "markdown",
   "id": "f9c9bd07-e65d-4d7c-89ef-dd611a8255ee",
   "metadata": {},
   "source": [
    "## 2.11 COVID"
   ]
  },
  {
   "cell_type": "code",
   "execution_count": 103,
   "id": "7ad8f67c-4d24-4fd5-be6f-93a1fc3eca90",
   "metadata": {},
   "outputs": [],
   "source": [
    "covid = pd.read_csv(\"covid.csv\")"
   ]
  },
  {
   "cell_type": "code",
   "execution_count": 104,
   "id": "a47022ef-bafc-4791-b95b-71b48c45f0fb",
   "metadata": {},
   "outputs": [
    {
     "data": {
      "text/html": [
       "<div>\n",
       "<style scoped>\n",
       "    .dataframe tbody tr th:only-of-type {\n",
       "        vertical-align: middle;\n",
       "    }\n",
       "\n",
       "    .dataframe tbody tr th {\n",
       "        vertical-align: top;\n",
       "    }\n",
       "\n",
       "    .dataframe thead th {\n",
       "        text-align: right;\n",
       "    }\n",
       "</style>\n",
       "<table border=\"1\" class=\"dataframe\">\n",
       "  <thead>\n",
       "    <tr style=\"text-align: right;\">\n",
       "      <th></th>\n",
       "      <th>date</th>\n",
       "      <th>cases</th>\n",
       "      <th>deaths</th>\n",
       "    </tr>\n",
       "  </thead>\n",
       "  <tbody>\n",
       "    <tr>\n",
       "      <th>0</th>\n",
       "      <td>2020-01-21</td>\n",
       "      <td>1</td>\n",
       "      <td>0</td>\n",
       "    </tr>\n",
       "    <tr>\n",
       "      <th>1</th>\n",
       "      <td>2020-01-22</td>\n",
       "      <td>1</td>\n",
       "      <td>0</td>\n",
       "    </tr>\n",
       "    <tr>\n",
       "      <th>2</th>\n",
       "      <td>2020-01-23</td>\n",
       "      <td>1</td>\n",
       "      <td>0</td>\n",
       "    </tr>\n",
       "    <tr>\n",
       "      <th>3</th>\n",
       "      <td>2020-01-24</td>\n",
       "      <td>2</td>\n",
       "      <td>0</td>\n",
       "    </tr>\n",
       "    <tr>\n",
       "      <th>4</th>\n",
       "      <td>2020-01-25</td>\n",
       "      <td>3</td>\n",
       "      <td>0</td>\n",
       "    </tr>\n",
       "    <tr>\n",
       "      <th>...</th>\n",
       "      <td>...</td>\n",
       "      <td>...</td>\n",
       "      <td>...</td>\n",
       "    </tr>\n",
       "    <tr>\n",
       "      <th>885</th>\n",
       "      <td>2022-06-24</td>\n",
       "      <td>86833864</td>\n",
       "      <td>1012317</td>\n",
       "    </tr>\n",
       "    <tr>\n",
       "      <th>886</th>\n",
       "      <td>2022-06-25</td>\n",
       "      <td>86881533</td>\n",
       "      <td>1012480</td>\n",
       "    </tr>\n",
       "    <tr>\n",
       "      <th>887</th>\n",
       "      <td>2022-06-26</td>\n",
       "      <td>86899773</td>\n",
       "      <td>1012486</td>\n",
       "    </tr>\n",
       "    <tr>\n",
       "      <th>888</th>\n",
       "      <td>2022-06-27</td>\n",
       "      <td>87031752</td>\n",
       "      <td>1012765</td>\n",
       "    </tr>\n",
       "    <tr>\n",
       "      <th>889</th>\n",
       "      <td>2022-06-28</td>\n",
       "      <td>87154263</td>\n",
       "      <td>1013306</td>\n",
       "    </tr>\n",
       "  </tbody>\n",
       "</table>\n",
       "<p>890 rows × 3 columns</p>\n",
       "</div>"
      ],
      "text/plain": [
       "           date     cases   deaths\n",
       "0    2020-01-21         1        0\n",
       "1    2020-01-22         1        0\n",
       "2    2020-01-23         1        0\n",
       "3    2020-01-24         2        0\n",
       "4    2020-01-25         3        0\n",
       "..          ...       ...      ...\n",
       "885  2022-06-24  86833864  1012317\n",
       "886  2022-06-25  86881533  1012480\n",
       "887  2022-06-26  86899773  1012486\n",
       "888  2022-06-27  87031752  1012765\n",
       "889  2022-06-28  87154263  1013306\n",
       "\n",
       "[890 rows x 3 columns]"
      ]
     },
     "execution_count": 104,
     "metadata": {},
     "output_type": "execute_result"
    }
   ],
   "source": [
    "covid"
   ]
  },
  {
   "cell_type": "code",
   "execution_count": 105,
   "id": "14a90403-fa85-4e94-bb09-1f7612c17efb",
   "metadata": {},
   "outputs": [],
   "source": [
    "covid = covid.drop(columns = ['cases'])\n",
    "covid = covid.rename(columns = {'deaths':'covid_deaths'})"
   ]
  },
  {
   "cell_type": "code",
   "execution_count": 106,
   "id": "195478fa-1b61-4880-86a5-fba9d1157acc",
   "metadata": {},
   "outputs": [
    {
     "data": {
      "text/plain": [
       "date            object\n",
       "covid_deaths     int64\n",
       "dtype: object"
      ]
     },
     "execution_count": 106,
     "metadata": {},
     "output_type": "execute_result"
    }
   ],
   "source": [
    "covid.dtypes"
   ]
  },
  {
   "cell_type": "code",
   "execution_count": 107,
   "id": "5b3b1115-58fd-4d72-a77e-054595bf6864",
   "metadata": {},
   "outputs": [],
   "source": [
    "covid.date = pd.to_datetime(covid.date)"
   ]
  },
  {
   "cell_type": "code",
   "execution_count": 108,
   "id": "08a65220-95e1-4ead-b8e1-82aa55f20a2b",
   "metadata": {},
   "outputs": [],
   "source": [
    "covid = resample(covid,'date','M')"
   ]
  },
  {
   "cell_type": "markdown",
   "id": "97368a48-4396-4aea-99a4-128af5b62194",
   "metadata": {},
   "source": [
    "# 3. Merging\n",
    "<hr>"
   ]
  },
  {
   "cell_type": "markdown",
   "id": "90379c97-b442-40f6-b801-1f1deaa3efdd",
   "metadata": {},
   "source": [
    "I will now prepare all of the dataframes for merging. This will require me to resample each dataframe that hasn't been so already to create an identical column(date) to merge on. "
   ]
  },
  {
   "cell_type": "code",
   "execution_count": 109,
   "id": "3ac30457-e50f-4f30-9315-af1aadf0cf2e",
   "metadata": {},
   "outputs": [
    {
     "data": {
      "text/html": [
       "<div>\n",
       "<style scoped>\n",
       "    .dataframe tbody tr th:only-of-type {\n",
       "        vertical-align: middle;\n",
       "    }\n",
       "\n",
       "    .dataframe tbody tr th {\n",
       "        vertical-align: top;\n",
       "    }\n",
       "\n",
       "    .dataframe thead th {\n",
       "        text-align: right;\n",
       "    }\n",
       "</style>\n",
       "<table border=\"1\" class=\"dataframe\">\n",
       "  <thead>\n",
       "    <tr style=\"text-align: right;\">\n",
       "      <th></th>\n",
       "      <th>date</th>\n",
       "      <th>us_pop</th>\n",
       "    </tr>\n",
       "  </thead>\n",
       "  <tbody>\n",
       "    <tr>\n",
       "      <th>0</th>\n",
       "      <td>1900-07-31</td>\n",
       "      <td>76090000.0</td>\n",
       "    </tr>\n",
       "    <tr>\n",
       "      <th>1</th>\n",
       "      <td>1900-08-31</td>\n",
       "      <td>76090000.0</td>\n",
       "    </tr>\n",
       "    <tr>\n",
       "      <th>2</th>\n",
       "      <td>1900-09-30</td>\n",
       "      <td>76090000.0</td>\n",
       "    </tr>\n",
       "    <tr>\n",
       "      <th>3</th>\n",
       "      <td>1900-10-31</td>\n",
       "      <td>76090000.0</td>\n",
       "    </tr>\n",
       "    <tr>\n",
       "      <th>4</th>\n",
       "      <td>1900-11-30</td>\n",
       "      <td>76090000.0</td>\n",
       "    </tr>\n",
       "  </tbody>\n",
       "</table>\n",
       "</div>"
      ],
      "text/plain": [
       "        date      us_pop\n",
       "0 1900-07-31  76090000.0\n",
       "1 1900-08-31  76090000.0\n",
       "2 1900-09-30  76090000.0\n",
       "3 1900-10-31  76090000.0\n",
       "4 1900-11-30  76090000.0"
      ]
     },
     "execution_count": 109,
     "metadata": {},
     "output_type": "execute_result"
    }
   ],
   "source": [
    "population = resample(population,'date','M')\n",
    "population.head()"
   ]
  },
  {
   "cell_type": "code",
   "execution_count": 110,
   "id": "f8341870-9559-435e-a12c-8f8270d514d2",
   "metadata": {},
   "outputs": [
    {
     "data": {
      "text/html": [
       "<div>\n",
       "<style scoped>\n",
       "    .dataframe tbody tr th:only-of-type {\n",
       "        vertical-align: middle;\n",
       "    }\n",
       "\n",
       "    .dataframe tbody tr th {\n",
       "        vertical-align: top;\n",
       "    }\n",
       "\n",
       "    .dataframe thead th {\n",
       "        text-align: right;\n",
       "    }\n",
       "</style>\n",
       "<table border=\"1\" class=\"dataframe\">\n",
       "  <thead>\n",
       "    <tr style=\"text-align: right;\">\n",
       "      <th></th>\n",
       "      <th>date</th>\n",
       "      <th>alcohol_deaths</th>\n",
       "    </tr>\n",
       "  </thead>\n",
       "  <tbody>\n",
       "    <tr>\n",
       "      <th>0</th>\n",
       "      <td>1999-01-31</td>\n",
       "      <td>1783.0</td>\n",
       "    </tr>\n",
       "    <tr>\n",
       "      <th>1</th>\n",
       "      <td>1999-02-28</td>\n",
       "      <td>1609.0</td>\n",
       "    </tr>\n",
       "    <tr>\n",
       "      <th>2</th>\n",
       "      <td>1999-03-31</td>\n",
       "      <td>1723.0</td>\n",
       "    </tr>\n",
       "    <tr>\n",
       "      <th>3</th>\n",
       "      <td>1999-04-30</td>\n",
       "      <td>1507.0</td>\n",
       "    </tr>\n",
       "    <tr>\n",
       "      <th>4</th>\n",
       "      <td>1999-05-31</td>\n",
       "      <td>1583.0</td>\n",
       "    </tr>\n",
       "  </tbody>\n",
       "</table>\n",
       "</div>"
      ],
      "text/plain": [
       "        date  alcohol_deaths\n",
       "0 1999-01-31          1783.0\n",
       "1 1999-02-28          1609.0\n",
       "2 1999-03-31          1723.0\n",
       "3 1999-04-30          1507.0\n",
       "4 1999-05-31          1583.0"
      ]
     },
     "execution_count": 110,
     "metadata": {},
     "output_type": "execute_result"
    }
   ],
   "source": [
    "alc_d = resample(alc_d,'date','M')\n",
    "alc_d.head()"
   ]
  },
  {
   "cell_type": "code",
   "execution_count": 111,
   "id": "6fbb580c-ba11-48b5-8808-1f68e3cdc23d",
   "metadata": {},
   "outputs": [
    {
     "data": {
      "text/html": [
       "<div>\n",
       "<style scoped>\n",
       "    .dataframe tbody tr th:only-of-type {\n",
       "        vertical-align: middle;\n",
       "    }\n",
       "\n",
       "    .dataframe tbody tr th {\n",
       "        vertical-align: top;\n",
       "    }\n",
       "\n",
       "    .dataframe thead th {\n",
       "        text-align: right;\n",
       "    }\n",
       "</style>\n",
       "<table border=\"1\" class=\"dataframe\">\n",
       "  <thead>\n",
       "    <tr style=\"text-align: right;\">\n",
       "      <th></th>\n",
       "      <th>date</th>\n",
       "      <th>alcohol_sales</th>\n",
       "    </tr>\n",
       "  </thead>\n",
       "  <tbody>\n",
       "    <tr>\n",
       "      <th>0</th>\n",
       "      <td>1992-01-31</td>\n",
       "      <td>3459</td>\n",
       "    </tr>\n",
       "    <tr>\n",
       "      <th>1</th>\n",
       "      <td>1992-02-29</td>\n",
       "      <td>3458</td>\n",
       "    </tr>\n",
       "    <tr>\n",
       "      <th>2</th>\n",
       "      <td>1992-03-31</td>\n",
       "      <td>4002</td>\n",
       "    </tr>\n",
       "    <tr>\n",
       "      <th>3</th>\n",
       "      <td>1992-04-30</td>\n",
       "      <td>4564</td>\n",
       "    </tr>\n",
       "    <tr>\n",
       "      <th>4</th>\n",
       "      <td>1992-05-31</td>\n",
       "      <td>4221</td>\n",
       "    </tr>\n",
       "  </tbody>\n",
       "</table>\n",
       "</div>"
      ],
      "text/plain": [
       "        date  alcohol_sales\n",
       "0 1992-01-31           3459\n",
       "1 1992-02-29           3458\n",
       "2 1992-03-31           4002\n",
       "3 1992-04-30           4564\n",
       "4 1992-05-31           4221"
      ]
     },
     "execution_count": 111,
     "metadata": {},
     "output_type": "execute_result"
    }
   ],
   "source": [
    "alc_s = resample(alc_s,'date','M')\n",
    "alc_s.head()"
   ]
  },
  {
   "cell_type": "code",
   "execution_count": 112,
   "id": "646a5677-fba9-47b3-8d13-b1dfd47462fb",
   "metadata": {},
   "outputs": [
    {
     "data": {
      "text/html": [
       "<div>\n",
       "<style scoped>\n",
       "    .dataframe tbody tr th:only-of-type {\n",
       "        vertical-align: middle;\n",
       "    }\n",
       "\n",
       "    .dataframe tbody tr th {\n",
       "        vertical-align: top;\n",
       "    }\n",
       "\n",
       "    .dataframe thead th {\n",
       "        text-align: right;\n",
       "    }\n",
       "</style>\n",
       "<table border=\"1\" class=\"dataframe\">\n",
       "  <thead>\n",
       "    <tr style=\"text-align: right;\">\n",
       "      <th></th>\n",
       "      <th>date</th>\n",
       "      <th>drug_deaths</th>\n",
       "    </tr>\n",
       "  </thead>\n",
       "  <tbody>\n",
       "    <tr>\n",
       "      <th>0</th>\n",
       "      <td>1999-01-31</td>\n",
       "      <td>1592.0</td>\n",
       "    </tr>\n",
       "    <tr>\n",
       "      <th>1</th>\n",
       "      <td>1999-02-28</td>\n",
       "      <td>1542.0</td>\n",
       "    </tr>\n",
       "    <tr>\n",
       "      <th>2</th>\n",
       "      <td>1999-03-31</td>\n",
       "      <td>1559.0</td>\n",
       "    </tr>\n",
       "    <tr>\n",
       "      <th>3</th>\n",
       "      <td>1999-04-30</td>\n",
       "      <td>1667.0</td>\n",
       "    </tr>\n",
       "    <tr>\n",
       "      <th>4</th>\n",
       "      <td>1999-05-31</td>\n",
       "      <td>1606.0</td>\n",
       "    </tr>\n",
       "  </tbody>\n",
       "</table>\n",
       "</div>"
      ],
      "text/plain": [
       "        date  drug_deaths\n",
       "0 1999-01-31       1592.0\n",
       "1 1999-02-28       1542.0\n",
       "2 1999-03-31       1559.0\n",
       "3 1999-04-30       1667.0\n",
       "4 1999-05-31       1606.0"
      ]
     },
     "execution_count": 112,
     "metadata": {},
     "output_type": "execute_result"
    }
   ],
   "source": [
    "drug_d = resample(drug_d,'date','M')\n",
    "drug_d.head()"
   ]
  },
  {
   "cell_type": "code",
   "execution_count": 113,
   "id": "72aef2f5-2ab1-412e-b3ba-2fceaf2cd2d5",
   "metadata": {},
   "outputs": [
    {
     "data": {
      "text/html": [
       "<div>\n",
       "<style scoped>\n",
       "    .dataframe tbody tr th:only-of-type {\n",
       "        vertical-align: middle;\n",
       "    }\n",
       "\n",
       "    .dataframe tbody tr th {\n",
       "        vertical-align: top;\n",
       "    }\n",
       "\n",
       "    .dataframe thead th {\n",
       "        text-align: right;\n",
       "    }\n",
       "</style>\n",
       "<table border=\"1\" class=\"dataframe\">\n",
       "  <thead>\n",
       "    <tr style=\"text-align: right;\">\n",
       "      <th></th>\n",
       "      <th>date</th>\n",
       "      <th>homicides</th>\n",
       "    </tr>\n",
       "  </thead>\n",
       "  <tbody>\n",
       "    <tr>\n",
       "      <th>0</th>\n",
       "      <td>2006-01-31</td>\n",
       "      <td>1555.0</td>\n",
       "    </tr>\n",
       "    <tr>\n",
       "      <th>1</th>\n",
       "      <td>2006-02-28</td>\n",
       "      <td>1223.0</td>\n",
       "    </tr>\n",
       "    <tr>\n",
       "      <th>2</th>\n",
       "      <td>2006-03-31</td>\n",
       "      <td>1356.0</td>\n",
       "    </tr>\n",
       "    <tr>\n",
       "      <th>3</th>\n",
       "      <td>2006-04-30</td>\n",
       "      <td>1526.0</td>\n",
       "    </tr>\n",
       "    <tr>\n",
       "      <th>4</th>\n",
       "      <td>2006-05-31</td>\n",
       "      <td>1603.0</td>\n",
       "    </tr>\n",
       "  </tbody>\n",
       "</table>\n",
       "</div>"
      ],
      "text/plain": [
       "        date  homicides\n",
       "0 2006-01-31     1555.0\n",
       "1 2006-02-28     1223.0\n",
       "2 2006-03-31     1356.0\n",
       "3 2006-04-30     1526.0\n",
       "4 2006-05-31     1603.0"
      ]
     },
     "execution_count": 113,
     "metadata": {},
     "output_type": "execute_result"
    }
   ],
   "source": [
    "hom = resample(hom,'date','M')\n",
    "hom.head()"
   ]
  },
  {
   "cell_type": "code",
   "execution_count": 114,
   "id": "bd46a57b-7e04-4e36-8906-d0a6c18fa361",
   "metadata": {},
   "outputs": [
    {
     "data": {
      "text/html": [
       "<div>\n",
       "<style scoped>\n",
       "    .dataframe tbody tr th:only-of-type {\n",
       "        vertical-align: middle;\n",
       "    }\n",
       "\n",
       "    .dataframe tbody tr th {\n",
       "        vertical-align: top;\n",
       "    }\n",
       "\n",
       "    .dataframe thead th {\n",
       "        text-align: right;\n",
       "    }\n",
       "</style>\n",
       "<table border=\"1\" class=\"dataframe\">\n",
       "  <thead>\n",
       "    <tr style=\"text-align: right;\">\n",
       "      <th></th>\n",
       "      <th>date</th>\n",
       "      <th>perc_unemp</th>\n",
       "    </tr>\n",
       "  </thead>\n",
       "  <tbody>\n",
       "    <tr>\n",
       "      <th>0</th>\n",
       "      <td>2002-05-31</td>\n",
       "      <td>5.8</td>\n",
       "    </tr>\n",
       "    <tr>\n",
       "      <th>1</th>\n",
       "      <td>2002-06-30</td>\n",
       "      <td>5.8</td>\n",
       "    </tr>\n",
       "    <tr>\n",
       "      <th>2</th>\n",
       "      <td>2002-07-31</td>\n",
       "      <td>5.8</td>\n",
       "    </tr>\n",
       "    <tr>\n",
       "      <th>3</th>\n",
       "      <td>2002-08-31</td>\n",
       "      <td>5.7</td>\n",
       "    </tr>\n",
       "    <tr>\n",
       "      <th>4</th>\n",
       "      <td>2002-09-30</td>\n",
       "      <td>5.7</td>\n",
       "    </tr>\n",
       "  </tbody>\n",
       "</table>\n",
       "</div>"
      ],
      "text/plain": [
       "        date  perc_unemp\n",
       "0 2002-05-31         5.8\n",
       "1 2002-06-30         5.8\n",
       "2 2002-07-31         5.8\n",
       "3 2002-08-31         5.7\n",
       "4 2002-09-30         5.7"
      ]
     },
     "execution_count": 114,
     "metadata": {},
     "output_type": "execute_result"
    }
   ],
   "source": [
    "unemp = resample(unemp,'date','M')\n",
    "unemp.head()"
   ]
  },
  {
   "cell_type": "code",
   "execution_count": 115,
   "id": "c5364327-4a5e-4988-a9cf-66e83e14be61",
   "metadata": {},
   "outputs": [
    {
     "data": {
      "text/html": [
       "<div>\n",
       "<style scoped>\n",
       "    .dataframe tbody tr th:only-of-type {\n",
       "        vertical-align: middle;\n",
       "    }\n",
       "\n",
       "    .dataframe tbody tr th {\n",
       "        vertical-align: top;\n",
       "    }\n",
       "\n",
       "    .dataframe thead th {\n",
       "        text-align: right;\n",
       "    }\n",
       "</style>\n",
       "<table border=\"1\" class=\"dataframe\">\n",
       "  <thead>\n",
       "    <tr style=\"text-align: right;\">\n",
       "      <th></th>\n",
       "      <th>date</th>\n",
       "      <th>yearly_infl</th>\n",
       "    </tr>\n",
       "  </thead>\n",
       "  <tbody>\n",
       "    <tr>\n",
       "      <th>0</th>\n",
       "      <td>1960-01-31</td>\n",
       "      <td>1.457976</td>\n",
       "    </tr>\n",
       "    <tr>\n",
       "      <th>1</th>\n",
       "      <td>1960-02-29</td>\n",
       "      <td>1.457976</td>\n",
       "    </tr>\n",
       "    <tr>\n",
       "      <th>2</th>\n",
       "      <td>1960-03-31</td>\n",
       "      <td>1.457976</td>\n",
       "    </tr>\n",
       "    <tr>\n",
       "      <th>3</th>\n",
       "      <td>1960-04-30</td>\n",
       "      <td>1.457976</td>\n",
       "    </tr>\n",
       "    <tr>\n",
       "      <th>4</th>\n",
       "      <td>1960-05-31</td>\n",
       "      <td>1.457976</td>\n",
       "    </tr>\n",
       "  </tbody>\n",
       "</table>\n",
       "</div>"
      ],
      "text/plain": [
       "        date  yearly_infl\n",
       "0 1960-01-31     1.457976\n",
       "1 1960-02-29     1.457976\n",
       "2 1960-03-31     1.457976\n",
       "3 1960-04-30     1.457976\n",
       "4 1960-05-31     1.457976"
      ]
     },
     "execution_count": 115,
     "metadata": {},
     "output_type": "execute_result"
    }
   ],
   "source": [
    "inflation = resample(inflation,'date','M')\n",
    "inflation.head()"
   ]
  },
  {
   "cell_type": "code",
   "execution_count": 116,
   "id": "d04c6e37-9795-4c7d-a39c-cfe5ee1ea61a",
   "metadata": {},
   "outputs": [
    {
     "data": {
      "text/html": [
       "<div>\n",
       "<style scoped>\n",
       "    .dataframe tbody tr th:only-of-type {\n",
       "        vertical-align: middle;\n",
       "    }\n",
       "\n",
       "    .dataframe tbody tr th {\n",
       "        vertical-align: top;\n",
       "    }\n",
       "\n",
       "    .dataframe thead th {\n",
       "        text-align: right;\n",
       "    }\n",
       "</style>\n",
       "<table border=\"1\" class=\"dataframe\">\n",
       "  <thead>\n",
       "    <tr style=\"text-align: right;\">\n",
       "      <th></th>\n",
       "      <th>date</th>\n",
       "      <th>gdp_period</th>\n",
       "    </tr>\n",
       "  </thead>\n",
       "  <tbody>\n",
       "    <tr>\n",
       "      <th>0</th>\n",
       "      <td>1947-01-31</td>\n",
       "      <td>243.164</td>\n",
       "    </tr>\n",
       "    <tr>\n",
       "      <th>1</th>\n",
       "      <td>1947-02-28</td>\n",
       "      <td>243.164</td>\n",
       "    </tr>\n",
       "    <tr>\n",
       "      <th>2</th>\n",
       "      <td>1947-03-31</td>\n",
       "      <td>243.164</td>\n",
       "    </tr>\n",
       "    <tr>\n",
       "      <th>3</th>\n",
       "      <td>1947-04-30</td>\n",
       "      <td>245.968</td>\n",
       "    </tr>\n",
       "    <tr>\n",
       "      <th>4</th>\n",
       "      <td>1947-05-31</td>\n",
       "      <td>245.968</td>\n",
       "    </tr>\n",
       "  </tbody>\n",
       "</table>\n",
       "</div>"
      ],
      "text/plain": [
       "        date  gdp_period\n",
       "0 1947-01-31     243.164\n",
       "1 1947-02-28     243.164\n",
       "2 1947-03-31     243.164\n",
       "3 1947-04-30     245.968\n",
       "4 1947-05-31     245.968"
      ]
     },
     "execution_count": 116,
     "metadata": {},
     "output_type": "execute_result"
    }
   ],
   "source": [
    "gdp = resample(gdp,'date','M')\n",
    "gdp.head()"
   ]
  },
  {
   "cell_type": "code",
   "execution_count": 117,
   "id": "31f22824-612e-4884-ac12-76fdabc0909e",
   "metadata": {},
   "outputs": [
    {
     "data": {
      "text/html": [
       "<div>\n",
       "<style scoped>\n",
       "    .dataframe tbody tr th:only-of-type {\n",
       "        vertical-align: middle;\n",
       "    }\n",
       "\n",
       "    .dataframe tbody tr th {\n",
       "        vertical-align: top;\n",
       "    }\n",
       "\n",
       "    .dataframe thead th {\n",
       "        text-align: right;\n",
       "    }\n",
       "</style>\n",
       "<table border=\"1\" class=\"dataframe\">\n",
       "  <thead>\n",
       "    <tr style=\"text-align: right;\">\n",
       "      <th></th>\n",
       "      <th>date</th>\n",
       "      <th>suicide_deaths</th>\n",
       "    </tr>\n",
       "  </thead>\n",
       "  <tbody>\n",
       "    <tr>\n",
       "      <th>0</th>\n",
       "      <td>1999-01-31</td>\n",
       "      <td>2498.0</td>\n",
       "    </tr>\n",
       "    <tr>\n",
       "      <th>1</th>\n",
       "      <td>1999-02-28</td>\n",
       "      <td>2296.0</td>\n",
       "    </tr>\n",
       "    <tr>\n",
       "      <th>2</th>\n",
       "      <td>1999-03-31</td>\n",
       "      <td>2465.0</td>\n",
       "    </tr>\n",
       "    <tr>\n",
       "      <th>3</th>\n",
       "      <td>1999-04-30</td>\n",
       "      <td>2475.0</td>\n",
       "    </tr>\n",
       "    <tr>\n",
       "      <th>4</th>\n",
       "      <td>1999-05-31</td>\n",
       "      <td>2542.0</td>\n",
       "    </tr>\n",
       "  </tbody>\n",
       "</table>\n",
       "</div>"
      ],
      "text/plain": [
       "        date  suicide_deaths\n",
       "0 1999-01-31          2498.0\n",
       "1 1999-02-28          2296.0\n",
       "2 1999-03-31          2465.0\n",
       "3 1999-04-30          2475.0\n",
       "4 1999-05-31          2542.0"
      ]
     },
     "execution_count": 117,
     "metadata": {},
     "output_type": "execute_result"
    }
   ],
   "source": [
    "sui = resample(sui,'date','M')\n",
    "sui.head()"
   ]
  },
  {
   "cell_type": "code",
   "execution_count": 118,
   "id": "1b51ee00-ccc2-4d5c-8b54-25feaa65e666",
   "metadata": {},
   "outputs": [],
   "source": [
    "dataframes = [population, alc_d ,alc_s ,drug_d, hom, unemp,sui,h1n1,covid,gdp,inflation]"
   ]
  },
  {
   "cell_type": "markdown",
   "id": "788652b4-686a-4928-bc93-14df4ffd955e",
   "metadata": {},
   "source": [
    "Before merging you want to create a list of all the dataframes that you want ot combine. My list is shown above. "
   ]
  },
  {
   "cell_type": "code",
   "execution_count": 119,
   "id": "8955192a-753d-4c44-8d3a-6831e799a087",
   "metadata": {},
   "outputs": [],
   "source": [
    "df_merged = reduce(lambda  left,right: pd.merge(left,right,on=['date'],\n",
    "                                            how='outer'), dataframes)"
   ]
  },
  {
   "cell_type": "markdown",
   "id": "d68f6937-60ab-40c0-8aa4-5e137884d54d",
   "metadata": {},
   "source": [
    "This the function that I used to merge all of my dataframes. I did not write this code myself, I simply adapted from code I found on the page linked below. Borrowing code is a very common occurence in the computing world; however, you should know what the code means if you want to use it properly. \n",
    "\n",
    "The function above is merging all of the dataframes on the 'date' column through an **outer** join. I chose to use an outer join, opposed to an inner join, because I wanted to keep all valid data points from each dataframe regardless of their asscociation to the other dataframes. The results of this method can be seen in the Seaborn heatmap below. \n",
    "https://stackoverflow.com/questions/44327999/python-pandas-merge-multiple-dataframes"
   ]
  },
  {
   "cell_type": "code",
   "execution_count": 120,
   "id": "fd7a0181-6c2e-419a-a2f8-b88252b0bfe8",
   "metadata": {},
   "outputs": [
    {
     "data": {
      "text/html": [
       "<div>\n",
       "<style scoped>\n",
       "    .dataframe tbody tr th:only-of-type {\n",
       "        vertical-align: middle;\n",
       "    }\n",
       "\n",
       "    .dataframe tbody tr th {\n",
       "        vertical-align: top;\n",
       "    }\n",
       "\n",
       "    .dataframe thead th {\n",
       "        text-align: right;\n",
       "    }\n",
       "</style>\n",
       "<table border=\"1\" class=\"dataframe\">\n",
       "  <thead>\n",
       "    <tr style=\"text-align: right;\">\n",
       "      <th></th>\n",
       "      <th>date</th>\n",
       "      <th>us_pop</th>\n",
       "      <th>alcohol_deaths</th>\n",
       "      <th>alcohol_sales</th>\n",
       "      <th>drug_deaths</th>\n",
       "      <th>homicides</th>\n",
       "      <th>perc_unemp</th>\n",
       "      <th>suicide_deaths</th>\n",
       "      <th>h1n1_deaths</th>\n",
       "      <th>covid_deaths</th>\n",
       "      <th>gdp_period</th>\n",
       "      <th>yearly_infl</th>\n",
       "    </tr>\n",
       "  </thead>\n",
       "  <tbody>\n",
       "    <tr>\n",
       "      <th>0</th>\n",
       "      <td>1900-07-31</td>\n",
       "      <td>76090000.0</td>\n",
       "      <td>NaN</td>\n",
       "      <td>NaN</td>\n",
       "      <td>NaN</td>\n",
       "      <td>NaN</td>\n",
       "      <td>NaN</td>\n",
       "      <td>NaN</td>\n",
       "      <td>NaN</td>\n",
       "      <td>NaN</td>\n",
       "      <td>NaN</td>\n",
       "      <td>NaN</td>\n",
       "    </tr>\n",
       "    <tr>\n",
       "      <th>1</th>\n",
       "      <td>1900-08-31</td>\n",
       "      <td>76090000.0</td>\n",
       "      <td>NaN</td>\n",
       "      <td>NaN</td>\n",
       "      <td>NaN</td>\n",
       "      <td>NaN</td>\n",
       "      <td>NaN</td>\n",
       "      <td>NaN</td>\n",
       "      <td>NaN</td>\n",
       "      <td>NaN</td>\n",
       "      <td>NaN</td>\n",
       "      <td>NaN</td>\n",
       "    </tr>\n",
       "    <tr>\n",
       "      <th>2</th>\n",
       "      <td>1900-09-30</td>\n",
       "      <td>76090000.0</td>\n",
       "      <td>NaN</td>\n",
       "      <td>NaN</td>\n",
       "      <td>NaN</td>\n",
       "      <td>NaN</td>\n",
       "      <td>NaN</td>\n",
       "      <td>NaN</td>\n",
       "      <td>NaN</td>\n",
       "      <td>NaN</td>\n",
       "      <td>NaN</td>\n",
       "      <td>NaN</td>\n",
       "    </tr>\n",
       "    <tr>\n",
       "      <th>3</th>\n",
       "      <td>1900-10-31</td>\n",
       "      <td>76090000.0</td>\n",
       "      <td>NaN</td>\n",
       "      <td>NaN</td>\n",
       "      <td>NaN</td>\n",
       "      <td>NaN</td>\n",
       "      <td>NaN</td>\n",
       "      <td>NaN</td>\n",
       "      <td>NaN</td>\n",
       "      <td>NaN</td>\n",
       "      <td>NaN</td>\n",
       "      <td>NaN</td>\n",
       "    </tr>\n",
       "    <tr>\n",
       "      <th>4</th>\n",
       "      <td>1900-11-30</td>\n",
       "      <td>76090000.0</td>\n",
       "      <td>NaN</td>\n",
       "      <td>NaN</td>\n",
       "      <td>NaN</td>\n",
       "      <td>NaN</td>\n",
       "      <td>NaN</td>\n",
       "      <td>NaN</td>\n",
       "      <td>NaN</td>\n",
       "      <td>NaN</td>\n",
       "      <td>NaN</td>\n",
       "      <td>NaN</td>\n",
       "    </tr>\n",
       "    <tr>\n",
       "      <th>...</th>\n",
       "      <td>...</td>\n",
       "      <td>...</td>\n",
       "      <td>...</td>\n",
       "      <td>...</td>\n",
       "      <td>...</td>\n",
       "      <td>...</td>\n",
       "      <td>...</td>\n",
       "      <td>...</td>\n",
       "      <td>...</td>\n",
       "      <td>...</td>\n",
       "      <td>...</td>\n",
       "      <td>...</td>\n",
       "    </tr>\n",
       "    <tr>\n",
       "      <th>1459</th>\n",
       "      <td>2022-02-28</td>\n",
       "      <td>332470000.0</td>\n",
       "      <td>NaN</td>\n",
       "      <td>13333.0</td>\n",
       "      <td>NaN</td>\n",
       "      <td>NaN</td>\n",
       "      <td>3.8</td>\n",
       "      <td>NaN</td>\n",
       "      <td>NaN</td>\n",
       "      <td>948855.0</td>\n",
       "      <td>NaN</td>\n",
       "      <td>NaN</td>\n",
       "    </tr>\n",
       "    <tr>\n",
       "      <th>1460</th>\n",
       "      <td>2022-03-31</td>\n",
       "      <td>332540000.0</td>\n",
       "      <td>NaN</td>\n",
       "      <td>16165.0</td>\n",
       "      <td>NaN</td>\n",
       "      <td>NaN</td>\n",
       "      <td>3.6</td>\n",
       "      <td>NaN</td>\n",
       "      <td>NaN</td>\n",
       "      <td>979236.0</td>\n",
       "      <td>NaN</td>\n",
       "      <td>NaN</td>\n",
       "    </tr>\n",
       "    <tr>\n",
       "      <th>1461</th>\n",
       "      <td>2022-04-30</td>\n",
       "      <td>332600000.0</td>\n",
       "      <td>NaN</td>\n",
       "      <td>15561.0</td>\n",
       "      <td>NaN</td>\n",
       "      <td>NaN</td>\n",
       "      <td>3.6</td>\n",
       "      <td>NaN</td>\n",
       "      <td>NaN</td>\n",
       "      <td>992010.0</td>\n",
       "      <td>NaN</td>\n",
       "      <td>NaN</td>\n",
       "    </tr>\n",
       "    <tr>\n",
       "      <th>1462</th>\n",
       "      <td>2022-05-31</td>\n",
       "      <td>332640000.0</td>\n",
       "      <td>NaN</td>\n",
       "      <td>NaN</td>\n",
       "      <td>NaN</td>\n",
       "      <td>NaN</td>\n",
       "      <td>3.6</td>\n",
       "      <td>NaN</td>\n",
       "      <td>NaN</td>\n",
       "      <td>1003571.0</td>\n",
       "      <td>NaN</td>\n",
       "      <td>NaN</td>\n",
       "    </tr>\n",
       "    <tr>\n",
       "      <th>1463</th>\n",
       "      <td>2022-06-30</td>\n",
       "      <td>NaN</td>\n",
       "      <td>NaN</td>\n",
       "      <td>NaN</td>\n",
       "      <td>NaN</td>\n",
       "      <td>NaN</td>\n",
       "      <td>NaN</td>\n",
       "      <td>NaN</td>\n",
       "      <td>NaN</td>\n",
       "      <td>1013306.0</td>\n",
       "      <td>NaN</td>\n",
       "      <td>NaN</td>\n",
       "    </tr>\n",
       "  </tbody>\n",
       "</table>\n",
       "<p>1464 rows × 12 columns</p>\n",
       "</div>"
      ],
      "text/plain": [
       "           date       us_pop  alcohol_deaths  alcohol_sales  drug_deaths  \\\n",
       "0    1900-07-31   76090000.0             NaN            NaN          NaN   \n",
       "1    1900-08-31   76090000.0             NaN            NaN          NaN   \n",
       "2    1900-09-30   76090000.0             NaN            NaN          NaN   \n",
       "3    1900-10-31   76090000.0             NaN            NaN          NaN   \n",
       "4    1900-11-30   76090000.0             NaN            NaN          NaN   \n",
       "...         ...          ...             ...            ...          ...   \n",
       "1459 2022-02-28  332470000.0             NaN        13333.0          NaN   \n",
       "1460 2022-03-31  332540000.0             NaN        16165.0          NaN   \n",
       "1461 2022-04-30  332600000.0             NaN        15561.0          NaN   \n",
       "1462 2022-05-31  332640000.0             NaN            NaN          NaN   \n",
       "1463 2022-06-30          NaN             NaN            NaN          NaN   \n",
       "\n",
       "      homicides  perc_unemp  suicide_deaths  h1n1_deaths  covid_deaths  \\\n",
       "0           NaN         NaN             NaN          NaN           NaN   \n",
       "1           NaN         NaN             NaN          NaN           NaN   \n",
       "2           NaN         NaN             NaN          NaN           NaN   \n",
       "3           NaN         NaN             NaN          NaN           NaN   \n",
       "4           NaN         NaN             NaN          NaN           NaN   \n",
       "...         ...         ...             ...          ...           ...   \n",
       "1459        NaN         3.8             NaN          NaN      948855.0   \n",
       "1460        NaN         3.6             NaN          NaN      979236.0   \n",
       "1461        NaN         3.6             NaN          NaN      992010.0   \n",
       "1462        NaN         3.6             NaN          NaN     1003571.0   \n",
       "1463        NaN         NaN             NaN          NaN     1013306.0   \n",
       "\n",
       "      gdp_period  yearly_infl  \n",
       "0            NaN          NaN  \n",
       "1            NaN          NaN  \n",
       "2            NaN          NaN  \n",
       "3            NaN          NaN  \n",
       "4            NaN          NaN  \n",
       "...          ...          ...  \n",
       "1459         NaN          NaN  \n",
       "1460         NaN          NaN  \n",
       "1461         NaN          NaN  \n",
       "1462         NaN          NaN  \n",
       "1463         NaN          NaN  \n",
       "\n",
       "[1464 rows x 12 columns]"
      ]
     },
     "execution_count": 120,
     "metadata": {},
     "output_type": "execute_result"
    }
   ],
   "source": [
    "df_merged"
   ]
  },
  {
   "cell_type": "code",
   "execution_count": 121,
   "id": "321b0bc4-5e29-4585-bbad-6c2986e05cc4",
   "metadata": {},
   "outputs": [
    {
     "data": {
      "text/plain": [
       "<AxesSubplot:>"
      ]
     },
     "execution_count": 121,
     "metadata": {},
     "output_type": "execute_result"
    },
    {
     "data": {
      "image/png": "[encoded data removed]",
      "text/plain": [
       "<Figure size 432x288 with 1 Axes>"
      ]
     },
     "metadata": {
      "needs_background": "light"
     },
     "output_type": "display_data"
    }
   ],
   "source": [
    "sns.heatmap(df_merged.isnull(),yticklabels=False,cbar=False,cmap='viridis')"
   ]
  },
  {
   "cell_type": "markdown",
   "id": "987bafdd-83da-49c4-91cb-4319f4eb52c0",
   "metadata": {},
   "source": [
    "This join succesfully incorporated the different data points from each dataframe; however, many null values were created durin this process. I do not want to keep the nulls in my dataframe but I can't drop them as they are very dispersed in my data. I will trim the bottom of the data set up to they year 2000 and see if that solves my problem."
   ]
  },
  {
   "cell_type": "code",
   "execution_count": 122,
   "id": "7e82904a-4141-4574-85b1-d0e052650155",
   "metadata": {},
   "outputs": [
    {
     "data": {
      "text/plain": [
       "0       False\n",
       "1       False\n",
       "2       False\n",
       "3       False\n",
       "4       False\n",
       "        ...  \n",
       "1459     True\n",
       "1460     True\n",
       "1461     True\n",
       "1462     True\n",
       "1463     True\n",
       "Name: date, Length: 1464, dtype: bool"
      ]
     },
     "execution_count": 122,
     "metadata": {},
     "output_type": "execute_result"
    }
   ],
   "source": [
    "mask = (df_merged['date'] > '2000-01-01')\n",
    "mask"
   ]
  },
  {
   "cell_type": "markdown",
   "id": "cacde7d2-edbf-4847-b310-b4c193f158f4",
   "metadata": {},
   "source": [
    "To do this, I created a mask list. This means that I create a boolean list(values of true or false) that show whether the data point has a date before or after the year 2000; if it does the value will return true, if not the value will return false. "
   ]
  },
  {
   "cell_type": "code",
   "execution_count": 123,
   "id": "394f973e-34a8-47af-bba9-5f804a5ab9a1",
   "metadata": {},
   "outputs": [],
   "source": [
    "df_merged = df_merged.loc[mask]"
   ]
  },
  {
   "cell_type": "markdown",
   "id": "5223ef69-6d06-434b-a3b8-6cbc650c8e35",
   "metadata": {},
   "source": [
    "I now set my dataframe equal to the loc(or indexes) that have true values. If you found this process confusing, trust me, thats okay. If you are trying to do somethinfg similar just try following my code exactly and it should work for you. "
   ]
  },
  {
   "cell_type": "code",
   "execution_count": 124,
   "id": "8792c058-e9fb-4253-9505-15e338b9e902",
   "metadata": {},
   "outputs": [
    {
     "data": {
      "text/plain": [
       "<AxesSubplot:>"
      ]
     },
     "execution_count": 124,
     "metadata": {},
     "output_type": "execute_result"
    },
    {
     "data": {
      "image/png": "[encoded data removed]",
      "text/plain": [
       "<Figure size 432x288 with 1 Axes>"
      ]
     },
     "metadata": {
      "needs_background": "light"
     },
     "output_type": "display_data"
    }
   ],
   "source": [
    "sns.heatmap(df_merged.isnull(),yticklabels=False,cbar=False,cmap='viridis')"
   ]
  },
  {
   "cell_type": "markdown",
   "id": "552a441b-cd30-4da4-91fd-bc6f40bcca04",
   "metadata": {},
   "source": [
    "That trim helped a lot! It seems that the alcohol deaths, drug deaths, homicides, suicides, and yearly iflation datasets all end at the same point. Since these facrtors are later going to be used in relation to the covid pandemic, replacing all nan with 0 would negatively affect the correlation we will try to estimate fro this reason i will drop all of the nan factors at the end of the dataset in line with yearly_infl. This is because inflation does not have any null values earlier in the dataset. Operating with this logic I could also reasonably drop based on suicide or alcohol deaths. "
   ]
  },
  {
   "cell_type": "code",
   "execution_count": 125,
   "id": "bfe27111-1f07-4d56-bd2d-2b1d97a5a8fc",
   "metadata": {},
   "outputs": [],
   "source": [
    "df_merged = df_merged.dropna(subset=['alcohol_deaths'])  "
   ]
  },
  {
   "cell_type": "code",
   "execution_count": 126,
   "id": "4849b23f-7b3a-49d2-928a-ee6570a036d1",
   "metadata": {},
   "outputs": [
    {
     "data": {
      "text/plain": [
       "<AxesSubplot:>"
      ]
     },
     "execution_count": 126,
     "metadata": {},
     "output_type": "execute_result"
    },
    {
     "data": {
      "image/png": "[encoded data removed]",
      "text/plain": [
       "<Figure size 432x288 with 1 Axes>"
      ]
     },
     "metadata": {
      "needs_background": "light"
     },
     "output_type": "display_data"
    }
   ],
   "source": [
    "sns.heatmap(df_merged.isnull(),yticklabels=False,cbar=False,cmap='viridis')"
   ]
  },
  {
   "cell_type": "code",
   "execution_count": 127,
   "id": "a8b1f28b-f07e-4732-9e85-ea214a2ee1e7",
   "metadata": {},
   "outputs": [],
   "source": [
    "df_merged = df_merged.fillna(0)"
   ]
  },
  {
   "cell_type": "markdown",
   "id": "2f5c8350-e9ff-4b1f-8547-26775b875bcb",
   "metadata": {},
   "source": [
    "The dataframe appears to be as filled out as it can, but since there are so few insstances of h1n1 deaths,or pandemic deaths, I chose to fill the null values with 0 instead of dropping them. THis will help preserve the most complete dataframe I could form. "
   ]
  },
  {
   "cell_type": "code",
   "execution_count": 128,
   "id": "36df9b61-9dbd-41a4-96fb-2cf830e08925",
   "metadata": {},
   "outputs": [
    {
     "data": {
      "text/html": [
       "<div>\n",
       "<style scoped>\n",
       "    .dataframe tbody tr th:only-of-type {\n",
       "        vertical-align: middle;\n",
       "    }\n",
       "\n",
       "    .dataframe tbody tr th {\n",
       "        vertical-align: top;\n",
       "    }\n",
       "\n",
       "    .dataframe thead th {\n",
       "        text-align: right;\n",
       "    }\n",
       "</style>\n",
       "<table border=\"1\" class=\"dataframe\">\n",
       "  <thead>\n",
       "    <tr style=\"text-align: right;\">\n",
       "      <th></th>\n",
       "      <th>date</th>\n",
       "      <th>us_pop</th>\n",
       "      <th>alcohol_deaths</th>\n",
       "      <th>alcohol_sales</th>\n",
       "      <th>drug_deaths</th>\n",
       "      <th>homicides</th>\n",
       "      <th>perc_unemp</th>\n",
       "      <th>suicide_deaths</th>\n",
       "      <th>h1n1_deaths</th>\n",
       "      <th>covid_deaths</th>\n",
       "      <th>gdp_period</th>\n",
       "      <th>yearly_infl</th>\n",
       "    </tr>\n",
       "  </thead>\n",
       "  <tbody>\n",
       "    <tr>\n",
       "      <th>1194</th>\n",
       "      <td>2000-01-31</td>\n",
       "      <td>280730000.0</td>\n",
       "      <td>1868.0</td>\n",
       "      <td>4243.0</td>\n",
       "      <td>1773.0</td>\n",
       "      <td>0.0</td>\n",
       "      <td>0.0</td>\n",
       "      <td>2592.0</td>\n",
       "      <td>0.0</td>\n",
       "      <td>0.0</td>\n",
       "      <td>10002.179</td>\n",
       "      <td>3.376857</td>\n",
       "    </tr>\n",
       "    <tr>\n",
       "      <th>1195</th>\n",
       "      <td>2000-02-29</td>\n",
       "      <td>280940000.0</td>\n",
       "      <td>1641.0</td>\n",
       "      <td>4952.0</td>\n",
       "      <td>1658.0</td>\n",
       "      <td>0.0</td>\n",
       "      <td>0.0</td>\n",
       "      <td>2338.0</td>\n",
       "      <td>0.0</td>\n",
       "      <td>0.0</td>\n",
       "      <td>10002.179</td>\n",
       "      <td>3.376857</td>\n",
       "    </tr>\n",
       "    <tr>\n",
       "      <th>1196</th>\n",
       "      <td>2000-03-31</td>\n",
       "      <td>281160000.0</td>\n",
       "      <td>1626.0</td>\n",
       "      <td>6008.0</td>\n",
       "      <td>1715.0</td>\n",
       "      <td>0.0</td>\n",
       "      <td>0.0</td>\n",
       "      <td>2520.0</td>\n",
       "      <td>0.0</td>\n",
       "      <td>0.0</td>\n",
       "      <td>10002.179</td>\n",
       "      <td>3.376857</td>\n",
       "    </tr>\n",
       "    <tr>\n",
       "      <th>1197</th>\n",
       "      <td>2000-04-30</td>\n",
       "      <td>281420000.0</td>\n",
       "      <td>1556.0</td>\n",
       "      <td>5353.0</td>\n",
       "      <td>1765.0</td>\n",
       "      <td>0.0</td>\n",
       "      <td>0.0</td>\n",
       "      <td>2483.0</td>\n",
       "      <td>0.0</td>\n",
       "      <td>0.0</td>\n",
       "      <td>10247.720</td>\n",
       "      <td>3.376857</td>\n",
       "    </tr>\n",
       "    <tr>\n",
       "      <th>1198</th>\n",
       "      <td>2000-05-31</td>\n",
       "      <td>281640000.0</td>\n",
       "      <td>1588.0</td>\n",
       "      <td>6435.0</td>\n",
       "      <td>1821.0</td>\n",
       "      <td>0.0</td>\n",
       "      <td>0.0</td>\n",
       "      <td>2622.0</td>\n",
       "      <td>0.0</td>\n",
       "      <td>0.0</td>\n",
       "      <td>10247.720</td>\n",
       "      <td>3.376857</td>\n",
       "    </tr>\n",
       "    <tr>\n",
       "      <th>...</th>\n",
       "      <td>...</td>\n",
       "      <td>...</td>\n",
       "      <td>...</td>\n",
       "      <td>...</td>\n",
       "      <td>...</td>\n",
       "      <td>...</td>\n",
       "      <td>...</td>\n",
       "      <td>...</td>\n",
       "      <td>...</td>\n",
       "      <td>...</td>\n",
       "      <td>...</td>\n",
       "      <td>...</td>\n",
       "    </tr>\n",
       "    <tr>\n",
       "      <th>1441</th>\n",
       "      <td>2020-08-31</td>\n",
       "      <td>331560000.0</td>\n",
       "      <td>4362.0</td>\n",
       "      <td>15281.0</td>\n",
       "      <td>8593.0</td>\n",
       "      <td>2326.0</td>\n",
       "      <td>8.4</td>\n",
       "      <td>4040.0</td>\n",
       "      <td>0.0</td>\n",
       "      <td>183472.0</td>\n",
       "      <td>21138.574</td>\n",
       "      <td>1.233584</td>\n",
       "    </tr>\n",
       "    <tr>\n",
       "      <th>1442</th>\n",
       "      <td>2020-09-30</td>\n",
       "      <td>331630000.0</td>\n",
       "      <td>4226.0</td>\n",
       "      <td>15506.0</td>\n",
       "      <td>7786.0</td>\n",
       "      <td>2162.0</td>\n",
       "      <td>7.9</td>\n",
       "      <td>3908.0</td>\n",
       "      <td>0.0</td>\n",
       "      <td>206852.0</td>\n",
       "      <td>21138.574</td>\n",
       "      <td>1.233584</td>\n",
       "    </tr>\n",
       "    <tr>\n",
       "      <th>1443</th>\n",
       "      <td>2020-10-31</td>\n",
       "      <td>331700000.0</td>\n",
       "      <td>4359.0</td>\n",
       "      <td>16188.0</td>\n",
       "      <td>7713.0</td>\n",
       "      <td>2348.0</td>\n",
       "      <td>6.9</td>\n",
       "      <td>3781.0</td>\n",
       "      <td>0.0</td>\n",
       "      <td>230512.0</td>\n",
       "      <td>21477.597</td>\n",
       "      <td>1.233584</td>\n",
       "    </tr>\n",
       "    <tr>\n",
       "      <th>1444</th>\n",
       "      <td>2020-11-30</td>\n",
       "      <td>331750000.0</td>\n",
       "      <td>4427.0</td>\n",
       "      <td>14946.0</td>\n",
       "      <td>7649.0</td>\n",
       "      <td>2222.0</td>\n",
       "      <td>6.7</td>\n",
       "      <td>3704.0</td>\n",
       "      <td>0.0</td>\n",
       "      <td>268031.0</td>\n",
       "      <td>21477.597</td>\n",
       "      <td>1.233584</td>\n",
       "    </tr>\n",
       "    <tr>\n",
       "      <th>1445</th>\n",
       "      <td>2020-12-31</td>\n",
       "      <td>331750000.0</td>\n",
       "      <td>4643.0</td>\n",
       "      <td>16335.0</td>\n",
       "      <td>7921.0</td>\n",
       "      <td>2213.0</td>\n",
       "      <td>6.7</td>\n",
       "      <td>3559.0</td>\n",
       "      <td>0.0</td>\n",
       "      <td>346050.0</td>\n",
       "      <td>21477.597</td>\n",
       "      <td>1.233584</td>\n",
       "    </tr>\n",
       "  </tbody>\n",
       "</table>\n",
       "<p>252 rows × 12 columns</p>\n",
       "</div>"
      ],
      "text/plain": [
       "           date       us_pop  alcohol_deaths  alcohol_sales  drug_deaths  \\\n",
       "1194 2000-01-31  280730000.0          1868.0         4243.0       1773.0   \n",
       "1195 2000-02-29  280940000.0          1641.0         4952.0       1658.0   \n",
       "1196 2000-03-31  281160000.0          1626.0         6008.0       1715.0   \n",
       "1197 2000-04-30  281420000.0          1556.0         5353.0       1765.0   \n",
       "1198 2000-05-31  281640000.0          1588.0         6435.0       1821.0   \n",
       "...         ...          ...             ...            ...          ...   \n",
       "1441 2020-08-31  331560000.0          4362.0        15281.0       8593.0   \n",
       "1442 2020-09-30  331630000.0          4226.0        15506.0       7786.0   \n",
       "1443 2020-10-31  331700000.0          4359.0        16188.0       7713.0   \n",
       "1444 2020-11-30  331750000.0          4427.0        14946.0       7649.0   \n",
       "1445 2020-12-31  331750000.0          4643.0        16335.0       7921.0   \n",
       "\n",
       "      homicides  perc_unemp  suicide_deaths  h1n1_deaths  covid_deaths  \\\n",
       "1194        0.0         0.0          2592.0          0.0           0.0   \n",
       "1195        0.0         0.0          2338.0          0.0           0.0   \n",
       "1196        0.0         0.0          2520.0          0.0           0.0   \n",
       "1197        0.0         0.0          2483.0          0.0           0.0   \n",
       "1198        0.0         0.0          2622.0          0.0           0.0   \n",
       "...         ...         ...             ...          ...           ...   \n",
       "1441     2326.0         8.4          4040.0          0.0      183472.0   \n",
       "1442     2162.0         7.9          3908.0          0.0      206852.0   \n",
       "1443     2348.0         6.9          3781.0          0.0      230512.0   \n",
       "1444     2222.0         6.7          3704.0          0.0      268031.0   \n",
       "1445     2213.0         6.7          3559.0          0.0      346050.0   \n",
       "\n",
       "      gdp_period  yearly_infl  \n",
       "1194   10002.179     3.376857  \n",
       "1195   10002.179     3.376857  \n",
       "1196   10002.179     3.376857  \n",
       "1197   10247.720     3.376857  \n",
       "1198   10247.720     3.376857  \n",
       "...          ...          ...  \n",
       "1441   21138.574     1.233584  \n",
       "1442   21138.574     1.233584  \n",
       "1443   21477.597     1.233584  \n",
       "1444   21477.597     1.233584  \n",
       "1445   21477.597     1.233584  \n",
       "\n",
       "[252 rows x 12 columns]"
      ]
     },
     "execution_count": 128,
     "metadata": {},
     "output_type": "execute_result"
    }
   ],
   "source": [
    "df_merged"
   ]
  },
  {
   "cell_type": "markdown",
   "id": "e993b77d-f994-416e-9fd7-afc6de7e31b0",
   "metadata": {},
   "source": [
    "Since the dataframe seems to be at the best I can get it to I can go ahead and fill the rest of the null values with 0. "
   ]
  },
  {
   "cell_type": "code",
   "execution_count": 129,
   "id": "d0289a2f-cf0e-4aca-b144-3c5b288802f6",
   "metadata": {},
   "outputs": [
    {
     "data": {
      "text/html": [
       "<div>\n",
       "<style scoped>\n",
       "    .dataframe tbody tr th:only-of-type {\n",
       "        vertical-align: middle;\n",
       "    }\n",
       "\n",
       "    .dataframe tbody tr th {\n",
       "        vertical-align: top;\n",
       "    }\n",
       "\n",
       "    .dataframe thead th {\n",
       "        text-align: right;\n",
       "    }\n",
       "</style>\n",
       "<table border=\"1\" class=\"dataframe\">\n",
       "  <thead>\n",
       "    <tr style=\"text-align: right;\">\n",
       "      <th></th>\n",
       "      <th>date</th>\n",
       "      <th>us_pop</th>\n",
       "      <th>alcohol_deaths</th>\n",
       "      <th>alcohol_sales</th>\n",
       "      <th>drug_deaths</th>\n",
       "      <th>homicides</th>\n",
       "      <th>perc_unemp</th>\n",
       "      <th>suicide_deaths</th>\n",
       "      <th>h1n1_deaths</th>\n",
       "      <th>covid_deaths</th>\n",
       "      <th>gdp_period</th>\n",
       "      <th>yearly_infl</th>\n",
       "    </tr>\n",
       "  </thead>\n",
       "  <tbody>\n",
       "    <tr>\n",
       "      <th>1194</th>\n",
       "      <td>2000-01-31</td>\n",
       "      <td>280730000.0</td>\n",
       "      <td>1868.0</td>\n",
       "      <td>4243.0</td>\n",
       "      <td>1773.0</td>\n",
       "      <td>0.0</td>\n",
       "      <td>0.0</td>\n",
       "      <td>2592.0</td>\n",
       "      <td>0.0</td>\n",
       "      <td>0.0</td>\n",
       "      <td>10002.179</td>\n",
       "      <td>3.376857</td>\n",
       "    </tr>\n",
       "    <tr>\n",
       "      <th>1195</th>\n",
       "      <td>2000-02-29</td>\n",
       "      <td>280940000.0</td>\n",
       "      <td>1641.0</td>\n",
       "      <td>4952.0</td>\n",
       "      <td>1658.0</td>\n",
       "      <td>0.0</td>\n",
       "      <td>0.0</td>\n",
       "      <td>2338.0</td>\n",
       "      <td>0.0</td>\n",
       "      <td>0.0</td>\n",
       "      <td>10002.179</td>\n",
       "      <td>3.376857</td>\n",
       "    </tr>\n",
       "    <tr>\n",
       "      <th>1196</th>\n",
       "      <td>2000-03-31</td>\n",
       "      <td>281160000.0</td>\n",
       "      <td>1626.0</td>\n",
       "      <td>6008.0</td>\n",
       "      <td>1715.0</td>\n",
       "      <td>0.0</td>\n",
       "      <td>0.0</td>\n",
       "      <td>2520.0</td>\n",
       "      <td>0.0</td>\n",
       "      <td>0.0</td>\n",
       "      <td>10002.179</td>\n",
       "      <td>3.376857</td>\n",
       "    </tr>\n",
       "    <tr>\n",
       "      <th>1197</th>\n",
       "      <td>2000-04-30</td>\n",
       "      <td>281420000.0</td>\n",
       "      <td>1556.0</td>\n",
       "      <td>5353.0</td>\n",
       "      <td>1765.0</td>\n",
       "      <td>0.0</td>\n",
       "      <td>0.0</td>\n",
       "      <td>2483.0</td>\n",
       "      <td>0.0</td>\n",
       "      <td>0.0</td>\n",
       "      <td>10247.720</td>\n",
       "      <td>3.376857</td>\n",
       "    </tr>\n",
       "    <tr>\n",
       "      <th>1198</th>\n",
       "      <td>2000-05-31</td>\n",
       "      <td>281640000.0</td>\n",
       "      <td>1588.0</td>\n",
       "      <td>6435.0</td>\n",
       "      <td>1821.0</td>\n",
       "      <td>0.0</td>\n",
       "      <td>0.0</td>\n",
       "      <td>2622.0</td>\n",
       "      <td>0.0</td>\n",
       "      <td>0.0</td>\n",
       "      <td>10247.720</td>\n",
       "      <td>3.376857</td>\n",
       "    </tr>\n",
       "    <tr>\n",
       "      <th>...</th>\n",
       "      <td>...</td>\n",
       "      <td>...</td>\n",
       "      <td>...</td>\n",
       "      <td>...</td>\n",
       "      <td>...</td>\n",
       "      <td>...</td>\n",
       "      <td>...</td>\n",
       "      <td>...</td>\n",
       "      <td>...</td>\n",
       "      <td>...</td>\n",
       "      <td>...</td>\n",
       "      <td>...</td>\n",
       "    </tr>\n",
       "    <tr>\n",
       "      <th>1441</th>\n",
       "      <td>2020-08-31</td>\n",
       "      <td>331560000.0</td>\n",
       "      <td>4362.0</td>\n",
       "      <td>15281.0</td>\n",
       "      <td>8593.0</td>\n",
       "      <td>2326.0</td>\n",
       "      <td>8.4</td>\n",
       "      <td>4040.0</td>\n",
       "      <td>0.0</td>\n",
       "      <td>183472.0</td>\n",
       "      <td>21138.574</td>\n",
       "      <td>1.233584</td>\n",
       "    </tr>\n",
       "    <tr>\n",
       "      <th>1442</th>\n",
       "      <td>2020-09-30</td>\n",
       "      <td>331630000.0</td>\n",
       "      <td>4226.0</td>\n",
       "      <td>15506.0</td>\n",
       "      <td>7786.0</td>\n",
       "      <td>2162.0</td>\n",
       "      <td>7.9</td>\n",
       "      <td>3908.0</td>\n",
       "      <td>0.0</td>\n",
       "      <td>206852.0</td>\n",
       "      <td>21138.574</td>\n",
       "      <td>1.233584</td>\n",
       "    </tr>\n",
       "    <tr>\n",
       "      <th>1443</th>\n",
       "      <td>2020-10-31</td>\n",
       "      <td>331700000.0</td>\n",
       "      <td>4359.0</td>\n",
       "      <td>16188.0</td>\n",
       "      <td>7713.0</td>\n",
       "      <td>2348.0</td>\n",
       "      <td>6.9</td>\n",
       "      <td>3781.0</td>\n",
       "      <td>0.0</td>\n",
       "      <td>230512.0</td>\n",
       "      <td>21477.597</td>\n",
       "      <td>1.233584</td>\n",
       "    </tr>\n",
       "    <tr>\n",
       "      <th>1444</th>\n",
       "      <td>2020-11-30</td>\n",
       "      <td>331750000.0</td>\n",
       "      <td>4427.0</td>\n",
       "      <td>14946.0</td>\n",
       "      <td>7649.0</td>\n",
       "      <td>2222.0</td>\n",
       "      <td>6.7</td>\n",
       "      <td>3704.0</td>\n",
       "      <td>0.0</td>\n",
       "      <td>268031.0</td>\n",
       "      <td>21477.597</td>\n",
       "      <td>1.233584</td>\n",
       "    </tr>\n",
       "    <tr>\n",
       "      <th>1445</th>\n",
       "      <td>2020-12-31</td>\n",
       "      <td>331750000.0</td>\n",
       "      <td>4643.0</td>\n",
       "      <td>16335.0</td>\n",
       "      <td>7921.0</td>\n",
       "      <td>2213.0</td>\n",
       "      <td>6.7</td>\n",
       "      <td>3559.0</td>\n",
       "      <td>0.0</td>\n",
       "      <td>346050.0</td>\n",
       "      <td>21477.597</td>\n",
       "      <td>1.233584</td>\n",
       "    </tr>\n",
       "  </tbody>\n",
       "</table>\n",
       "<p>252 rows × 12 columns</p>\n",
       "</div>"
      ],
      "text/plain": [
       "           date       us_pop  alcohol_deaths  alcohol_sales  drug_deaths  \\\n",
       "1194 2000-01-31  280730000.0          1868.0         4243.0       1773.0   \n",
       "1195 2000-02-29  280940000.0          1641.0         4952.0       1658.0   \n",
       "1196 2000-03-31  281160000.0          1626.0         6008.0       1715.0   \n",
       "1197 2000-04-30  281420000.0          1556.0         5353.0       1765.0   \n",
       "1198 2000-05-31  281640000.0          1588.0         6435.0       1821.0   \n",
       "...         ...          ...             ...            ...          ...   \n",
       "1441 2020-08-31  331560000.0          4362.0        15281.0       8593.0   \n",
       "1442 2020-09-30  331630000.0          4226.0        15506.0       7786.0   \n",
       "1443 2020-10-31  331700000.0          4359.0        16188.0       7713.0   \n",
       "1444 2020-11-30  331750000.0          4427.0        14946.0       7649.0   \n",
       "1445 2020-12-31  331750000.0          4643.0        16335.0       7921.0   \n",
       "\n",
       "      homicides  perc_unemp  suicide_deaths  h1n1_deaths  covid_deaths  \\\n",
       "1194        0.0         0.0          2592.0          0.0           0.0   \n",
       "1195        0.0         0.0          2338.0          0.0           0.0   \n",
       "1196        0.0         0.0          2520.0          0.0           0.0   \n",
       "1197        0.0         0.0          2483.0          0.0           0.0   \n",
       "1198        0.0         0.0          2622.0          0.0           0.0   \n",
       "...         ...         ...             ...          ...           ...   \n",
       "1441     2326.0         8.4          4040.0          0.0      183472.0   \n",
       "1442     2162.0         7.9          3908.0          0.0      206852.0   \n",
       "1443     2348.0         6.9          3781.0          0.0      230512.0   \n",
       "1444     2222.0         6.7          3704.0          0.0      268031.0   \n",
       "1445     2213.0         6.7          3559.0          0.0      346050.0   \n",
       "\n",
       "      gdp_period  yearly_infl  \n",
       "1194   10002.179     3.376857  \n",
       "1195   10002.179     3.376857  \n",
       "1196   10002.179     3.376857  \n",
       "1197   10247.720     3.376857  \n",
       "1198   10247.720     3.376857  \n",
       "...          ...          ...  \n",
       "1441   21138.574     1.233584  \n",
       "1442   21138.574     1.233584  \n",
       "1443   21477.597     1.233584  \n",
       "1444   21477.597     1.233584  \n",
       "1445   21477.597     1.233584  \n",
       "\n",
       "[252 rows x 12 columns]"
      ]
     },
     "execution_count": 129,
     "metadata": {},
     "output_type": "execute_result"
    }
   ],
   "source": [
    "df_merged"
   ]
  },
  {
   "cell_type": "markdown",
   "id": "52701fa2-931d-4e3d-ba09-379752a3bc6b",
   "metadata": {},
   "source": [
    "After merging I can see that each column is represented data in different ways. \"perc_unemp\" and \"sui\" represent rates per 100,000 while the other columns represented total values. To fix this I am going to perform some arithmetic. "
   ]
  },
  {
   "cell_type": "code",
   "execution_count": 130,
   "id": "4eaa5197-a7a8-4630-a34c-f4306e90e93a",
   "metadata": {},
   "outputs": [],
   "source": [
    "df_merged[['alcohol_deaths','alcohol_sales','drug_deaths','homicides','h1n1_deaths','covid_deaths','gdp_period','yearly_infl','suicide_deaths']] = 100000*(df_merged[['alcohol_deaths','alcohol_sales','drug_deaths','homicides','h1n1_deaths','covid_deaths','gdp_period','yearly_infl','suicide_deaths']].div(df_merged.us_pop, axis=0))"
   ]
  },
  {
   "cell_type": "markdown",
   "id": "6332fe3f-bdc8-4071-9ff2-d042e04f13e1",
   "metadata": {},
   "source": [
    "The above formula converts each column to rate per 100,000 (besides the ones already in that format). This is done by dividing each column by the corresponding value for \"us_pop\" then multiplying by 100,000. \n",
    "https://stackoverflow.com/questions/34540567/divide-multiple-columns-by-another-column-in-pandas"
   ]
  },
  {
   "cell_type": "markdown",
   "id": "3aae756c-05c9-4625-bbc2-4fcdd6e041b7",
   "metadata": {},
   "source": []
  },
  {
   "cell_type": "code",
   "execution_count": 131,
   "id": "c902bea7-4d77-451c-8861-56b83b23f843",
   "metadata": {},
   "outputs": [
    {
     "data": {
      "text/html": [
       "<div>\n",
       "<style scoped>\n",
       "    .dataframe tbody tr th:only-of-type {\n",
       "        vertical-align: middle;\n",
       "    }\n",
       "\n",
       "    .dataframe tbody tr th {\n",
       "        vertical-align: top;\n",
       "    }\n",
       "\n",
       "    .dataframe thead th {\n",
       "        text-align: right;\n",
       "    }\n",
       "</style>\n",
       "<table border=\"1\" class=\"dataframe\">\n",
       "  <thead>\n",
       "    <tr style=\"text-align: right;\">\n",
       "      <th></th>\n",
       "      <th>date</th>\n",
       "      <th>us_pop</th>\n",
       "      <th>alcohol_deaths</th>\n",
       "      <th>alcohol_sales</th>\n",
       "      <th>drug_deaths</th>\n",
       "      <th>homicides</th>\n",
       "      <th>perc_unemp</th>\n",
       "      <th>suicide_deaths</th>\n",
       "      <th>h1n1_deaths</th>\n",
       "      <th>covid_deaths</th>\n",
       "      <th>gdp_period</th>\n",
       "      <th>yearly_infl</th>\n",
       "    </tr>\n",
       "  </thead>\n",
       "  <tbody>\n",
       "    <tr>\n",
       "      <th>1194</th>\n",
       "      <td>2000-01-31</td>\n",
       "      <td>280730000.0</td>\n",
       "      <td>0.665408</td>\n",
       "      <td>1.511417</td>\n",
       "      <td>0.631568</td>\n",
       "      <td>0.0</td>\n",
       "      <td>0.0</td>\n",
       "      <td>0.923307</td>\n",
       "      <td>0.0</td>\n",
       "      <td>0.0</td>\n",
       "      <td>3.562918</td>\n",
       "      <td>0.001203</td>\n",
       "    </tr>\n",
       "    <tr>\n",
       "      <th>1195</th>\n",
       "      <td>2000-02-29</td>\n",
       "      <td>280940000.0</td>\n",
       "      <td>0.584110</td>\n",
       "      <td>1.762654</td>\n",
       "      <td>0.590162</td>\n",
       "      <td>0.0</td>\n",
       "      <td>0.0</td>\n",
       "      <td>0.832206</td>\n",
       "      <td>0.0</td>\n",
       "      <td>0.0</td>\n",
       "      <td>3.560255</td>\n",
       "      <td>0.001202</td>\n",
       "    </tr>\n",
       "    <tr>\n",
       "      <th>1196</th>\n",
       "      <td>2000-03-31</td>\n",
       "      <td>281160000.0</td>\n",
       "      <td>0.578318</td>\n",
       "      <td>2.136862</td>\n",
       "      <td>0.609973</td>\n",
       "      <td>0.0</td>\n",
       "      <td>0.0</td>\n",
       "      <td>0.896287</td>\n",
       "      <td>0.0</td>\n",
       "      <td>0.0</td>\n",
       "      <td>3.557469</td>\n",
       "      <td>0.001201</td>\n",
       "    </tr>\n",
       "    <tr>\n",
       "      <th>1197</th>\n",
       "      <td>2000-04-30</td>\n",
       "      <td>281420000.0</td>\n",
       "      <td>0.552910</td>\n",
       "      <td>1.902139</td>\n",
       "      <td>0.627176</td>\n",
       "      <td>0.0</td>\n",
       "      <td>0.0</td>\n",
       "      <td>0.882311</td>\n",
       "      <td>0.0</td>\n",
       "      <td>0.0</td>\n",
       "      <td>3.641433</td>\n",
       "      <td>0.001200</td>\n",
       "    </tr>\n",
       "    <tr>\n",
       "      <th>1198</th>\n",
       "      <td>2000-05-31</td>\n",
       "      <td>281640000.0</td>\n",
       "      <td>0.563840</td>\n",
       "      <td>2.284832</td>\n",
       "      <td>0.646570</td>\n",
       "      <td>0.0</td>\n",
       "      <td>0.0</td>\n",
       "      <td>0.930976</td>\n",
       "      <td>0.0</td>\n",
       "      <td>0.0</td>\n",
       "      <td>3.638588</td>\n",
       "      <td>0.001199</td>\n",
       "    </tr>\n",
       "  </tbody>\n",
       "</table>\n",
       "</div>"
      ],
      "text/plain": [
       "           date       us_pop  alcohol_deaths  alcohol_sales  drug_deaths  \\\n",
       "1194 2000-01-31  280730000.0        0.665408       1.511417     0.631568   \n",
       "1195 2000-02-29  280940000.0        0.584110       1.762654     0.590162   \n",
       "1196 2000-03-31  281160000.0        0.578318       2.136862     0.609973   \n",
       "1197 2000-04-30  281420000.0        0.552910       1.902139     0.627176   \n",
       "1198 2000-05-31  281640000.0        0.563840       2.284832     0.646570   \n",
       "\n",
       "      homicides  perc_unemp  suicide_deaths  h1n1_deaths  covid_deaths  \\\n",
       "1194        0.0         0.0        0.923307          0.0           0.0   \n",
       "1195        0.0         0.0        0.832206          0.0           0.0   \n",
       "1196        0.0         0.0        0.896287          0.0           0.0   \n",
       "1197        0.0         0.0        0.882311          0.0           0.0   \n",
       "1198        0.0         0.0        0.930976          0.0           0.0   \n",
       "\n",
       "      gdp_period  yearly_infl  \n",
       "1194    3.562918     0.001203  \n",
       "1195    3.560255     0.001202  \n",
       "1196    3.557469     0.001201  \n",
       "1197    3.641433     0.001200  \n",
       "1198    3.638588     0.001199  "
      ]
     },
     "execution_count": 131,
     "metadata": {},
     "output_type": "execute_result"
    }
   ],
   "source": [
    "df_merged.head()"
   ]
  },
  {
   "cell_type": "code",
   "execution_count": 132,
   "id": "6acc3b52-7d29-425a-9bf2-8be5e056cb76",
   "metadata": {},
   "outputs": [
    {
     "data": {
      "text/html": [
       "<div>\n",
       "<style scoped>\n",
       "    .dataframe tbody tr th:only-of-type {\n",
       "        vertical-align: middle;\n",
       "    }\n",
       "\n",
       "    .dataframe tbody tr th {\n",
       "        vertical-align: top;\n",
       "    }\n",
       "\n",
       "    .dataframe thead th {\n",
       "        text-align: right;\n",
       "    }\n",
       "</style>\n",
       "<table border=\"1\" class=\"dataframe\">\n",
       "  <thead>\n",
       "    <tr style=\"text-align: right;\">\n",
       "      <th></th>\n",
       "      <th>us_pop</th>\n",
       "      <th>alcohol_deaths</th>\n",
       "      <th>alcohol_sales</th>\n",
       "      <th>drug_deaths</th>\n",
       "      <th>homicides</th>\n",
       "      <th>perc_unemp</th>\n",
       "      <th>suicide_deaths</th>\n",
       "      <th>h1n1_deaths</th>\n",
       "      <th>covid_deaths</th>\n",
       "      <th>gdp_period</th>\n",
       "      <th>yearly_infl</th>\n",
       "    </tr>\n",
       "  </thead>\n",
       "  <tbody>\n",
       "    <tr>\n",
       "      <th>count</th>\n",
       "      <td>2.520000e+02</td>\n",
       "      <td>252.000000</td>\n",
       "      <td>252.000000</td>\n",
       "      <td>252.000000</td>\n",
       "      <td>252.000000</td>\n",
       "      <td>252.000000</td>\n",
       "      <td>252.000000</td>\n",
       "      <td>252.000000</td>\n",
       "      <td>252.000000</td>\n",
       "      <td>252.000000</td>\n",
       "      <td>252.000000</td>\n",
       "    </tr>\n",
       "    <tr>\n",
       "      <th>mean</th>\n",
       "      <td>3.078977e+08</td>\n",
       "      <td>0.748492</td>\n",
       "      <td>3.089993</td>\n",
       "      <td>1.239032</td>\n",
       "      <td>0.341695</td>\n",
       "      <td>5.480556</td>\n",
       "      <td>1.038086</td>\n",
       "      <td>0.104870</td>\n",
       "      <td>2.019956</td>\n",
       "      <td>5.008284</td>\n",
       "      <td>0.000700</td>\n",
       "    </tr>\n",
       "    <tr>\n",
       "      <th>std</th>\n",
       "      <td>1.495364e+07</td>\n",
       "      <td>0.174769</td>\n",
       "      <td>0.721880</td>\n",
       "      <td>0.466970</td>\n",
       "      <td>0.223510</td>\n",
       "      <td>2.715086</td>\n",
       "      <td>0.130518</td>\n",
       "      <td>0.602262</td>\n",
       "      <td>11.492530</td>\n",
       "      <td>0.864568</td>\n",
       "      <td>0.000358</td>\n",
       "    </tr>\n",
       "    <tr>\n",
       "      <th>min</th>\n",
       "      <td>2.807300e+08</td>\n",
       "      <td>0.532032</td>\n",
       "      <td>1.511417</td>\n",
       "      <td>0.505372</td>\n",
       "      <td>0.000000</td>\n",
       "      <td>0.000000</td>\n",
       "      <td>0.784293</td>\n",
       "      <td>0.000000</td>\n",
       "      <td>0.000000</td>\n",
       "      <td>3.557469</td>\n",
       "      <td>-0.000116</td>\n",
       "    </tr>\n",
       "    <tr>\n",
       "      <th>25%</th>\n",
       "      <td>2.947250e+08</td>\n",
       "      <td>0.613701</td>\n",
       "      <td>2.485569</td>\n",
       "      <td>0.923325</td>\n",
       "      <td>0.000000</td>\n",
       "      <td>4.400000</td>\n",
       "      <td>0.930433</td>\n",
       "      <td>0.000000</td>\n",
       "      <td>0.000000</td>\n",
       "      <td>4.367333</td>\n",
       "      <td>0.000509</td>\n",
       "    </tr>\n",
       "    <tr>\n",
       "      <th>50%</th>\n",
       "      <td>3.092200e+08</td>\n",
       "      <td>0.698647</td>\n",
       "      <td>3.062284</td>\n",
       "      <td>1.115141</td>\n",
       "      <td>0.443680</td>\n",
       "      <td>5.400000</td>\n",
       "      <td>1.018404</td>\n",
       "      <td>0.000000</td>\n",
       "      <td>0.000000</td>\n",
       "      <td>4.895671</td>\n",
       "      <td>0.000660</td>\n",
       "    </tr>\n",
       "    <tr>\n",
       "      <th>75%</th>\n",
       "      <td>3.211375e+08</td>\n",
       "      <td>0.865582</td>\n",
       "      <td>3.592220</td>\n",
       "      <td>1.480669</td>\n",
       "      <td>0.497302</td>\n",
       "      <td>7.200000</td>\n",
       "      <td>1.132105</td>\n",
       "      <td>0.000000</td>\n",
       "      <td>0.000000</td>\n",
       "      <td>5.702889</td>\n",
       "      <td>0.000994</td>\n",
       "    </tr>\n",
       "    <tr>\n",
       "      <th>max</th>\n",
       "      <td>3.317500e+08</td>\n",
       "      <td>1.399548</td>\n",
       "      <td>4.923888</td>\n",
       "      <td>2.940680</td>\n",
       "      <td>0.726395</td>\n",
       "      <td>14.700000</td>\n",
       "      <td>1.340765</td>\n",
       "      <td>4.038412</td>\n",
       "      <td>104.310475</td>\n",
       "      <td>6.599275</td>\n",
       "      <td>0.001268</td>\n",
       "    </tr>\n",
       "  </tbody>\n",
       "</table>\n",
       "</div>"
      ],
      "text/plain": [
       "             us_pop  alcohol_deaths  alcohol_sales  drug_deaths   homicides  \\\n",
       "count  2.520000e+02      252.000000     252.000000   252.000000  252.000000   \n",
       "mean   3.078977e+08        0.748492       3.089993     1.239032    0.341695   \n",
       "std    1.495364e+07        0.174769       0.721880     0.466970    0.223510   \n",
       "min    2.807300e+08        0.532032       1.511417     0.505372    0.000000   \n",
       "25%    2.947250e+08        0.613701       2.485569     0.923325    0.000000   \n",
       "50%    3.092200e+08        0.698647       3.062284     1.115141    0.443680   \n",
       "75%    3.211375e+08        0.865582       3.592220     1.480669    0.497302   \n",
       "max    3.317500e+08        1.399548       4.923888     2.940680    0.726395   \n",
       "\n",
       "       perc_unemp  suicide_deaths  h1n1_deaths  covid_deaths  gdp_period  \\\n",
       "count  252.000000      252.000000   252.000000    252.000000  252.000000   \n",
       "mean     5.480556        1.038086     0.104870      2.019956    5.008284   \n",
       "std      2.715086        0.130518     0.602262     11.492530    0.864568   \n",
       "min      0.000000        0.784293     0.000000      0.000000    3.557469   \n",
       "25%      4.400000        0.930433     0.000000      0.000000    4.367333   \n",
       "50%      5.400000        1.018404     0.000000      0.000000    4.895671   \n",
       "75%      7.200000        1.132105     0.000000      0.000000    5.702889   \n",
       "max     14.700000        1.340765     4.038412    104.310475    6.599275   \n",
       "\n",
       "       yearly_infl  \n",
       "count   252.000000  \n",
       "mean      0.000700  \n",
       "std       0.000358  \n",
       "min      -0.000116  \n",
       "25%       0.000509  \n",
       "50%       0.000660  \n",
       "75%       0.000994  \n",
       "max       0.001268  "
      ]
     },
     "execution_count": 132,
     "metadata": {},
     "output_type": "execute_result"
    }
   ],
   "source": [
    "df_merged.describe()"
   ]
  },
  {
   "cell_type": "markdown",
   "id": "1e8f330e-1513-474a-8ce5-3b5c752d5c33",
   "metadata": {},
   "source": [
    "The describe method will provide summary statistics for each column of your dataframe. This is great for data exploration, use this method to determeine if your data is to your liking or if you need to clean more. In my case, the data looks good! "
   ]
  },
  {
   "cell_type": "code",
   "execution_count": 133,
   "id": "9e8e0e42-4a17-4bdf-9616-7fee6ca72ef6",
   "metadata": {},
   "outputs": [
    {
     "data": {
      "text/html": [
       "<div>\n",
       "<style scoped>\n",
       "    .dataframe tbody tr th:only-of-type {\n",
       "        vertical-align: middle;\n",
       "    }\n",
       "\n",
       "    .dataframe tbody tr th {\n",
       "        vertical-align: top;\n",
       "    }\n",
       "\n",
       "    .dataframe thead th {\n",
       "        text-align: right;\n",
       "    }\n",
       "</style>\n",
       "<table border=\"1\" class=\"dataframe\">\n",
       "  <thead>\n",
       "    <tr style=\"text-align: right;\">\n",
       "      <th></th>\n",
       "      <th>us_pop</th>\n",
       "      <th>alcohol_deaths</th>\n",
       "      <th>alcohol_sales</th>\n",
       "      <th>drug_deaths</th>\n",
       "      <th>homicides</th>\n",
       "      <th>perc_unemp</th>\n",
       "      <th>suicide_deaths</th>\n",
       "      <th>h1n1_deaths</th>\n",
       "      <th>covid_deaths</th>\n",
       "      <th>gdp_period</th>\n",
       "      <th>yearly_infl</th>\n",
       "    </tr>\n",
       "  </thead>\n",
       "  <tbody>\n",
       "    <tr>\n",
       "      <th>us_pop</th>\n",
       "      <td>1.000000</td>\n",
       "      <td>0.872398</td>\n",
       "      <td>0.855837</td>\n",
       "      <td>0.912205</td>\n",
       "      <td>0.813831</td>\n",
       "      <td>0.384361</td>\n",
       "      <td>0.856993</td>\n",
       "      <td>0.003092</td>\n",
       "      <td>0.279993</td>\n",
       "      <td>0.981888</td>\n",
       "      <td>-0.536419</td>\n",
       "    </tr>\n",
       "    <tr>\n",
       "      <th>alcohol_deaths</th>\n",
       "      <td>0.872398</td>\n",
       "      <td>1.000000</td>\n",
       "      <td>0.797358</td>\n",
       "      <td>0.945271</td>\n",
       "      <td>0.643833</td>\n",
       "      <td>0.192005</td>\n",
       "      <td>0.739877</td>\n",
       "      <td>-0.061280</td>\n",
       "      <td>0.576005</td>\n",
       "      <td>0.878229</td>\n",
       "      <td>-0.458949</td>\n",
       "    </tr>\n",
       "    <tr>\n",
       "      <th>alcohol_sales</th>\n",
       "      <td>0.855837</td>\n",
       "      <td>0.797358</td>\n",
       "      <td>1.000000</td>\n",
       "      <td>0.823369</td>\n",
       "      <td>0.718512</td>\n",
       "      <td>0.295459</td>\n",
       "      <td>0.755424</td>\n",
       "      <td>-0.054427</td>\n",
       "      <td>0.386820</td>\n",
       "      <td>0.853760</td>\n",
       "      <td>-0.421153</td>\n",
       "    </tr>\n",
       "    <tr>\n",
       "      <th>drug_deaths</th>\n",
       "      <td>0.912205</td>\n",
       "      <td>0.945271</td>\n",
       "      <td>0.823369</td>\n",
       "      <td>1.000000</td>\n",
       "      <td>0.715119</td>\n",
       "      <td>0.251731</td>\n",
       "      <td>0.799104</td>\n",
       "      <td>-0.057400</td>\n",
       "      <td>0.461230</td>\n",
       "      <td>0.921489</td>\n",
       "      <td>-0.432672</td>\n",
       "    </tr>\n",
       "    <tr>\n",
       "      <th>homicides</th>\n",
       "      <td>0.813831</td>\n",
       "      <td>0.643833</td>\n",
       "      <td>0.718512</td>\n",
       "      <td>0.715119</td>\n",
       "      <td>1.000000</td>\n",
       "      <td>0.444478</td>\n",
       "      <td>0.676150</td>\n",
       "      <td>0.064509</td>\n",
       "      <td>0.261296</td>\n",
       "      <td>0.794969</td>\n",
       "      <td>-0.383620</td>\n",
       "    </tr>\n",
       "    <tr>\n",
       "      <th>perc_unemp</th>\n",
       "      <td>0.384361</td>\n",
       "      <td>0.192005</td>\n",
       "      <td>0.295459</td>\n",
       "      <td>0.251731</td>\n",
       "      <td>0.444478</td>\n",
       "      <td>1.000000</td>\n",
       "      <td>0.208767</td>\n",
       "      <td>0.282431</td>\n",
       "      <td>0.189666</td>\n",
       "      <td>0.253814</td>\n",
       "      <td>-0.406330</td>\n",
       "    </tr>\n",
       "    <tr>\n",
       "      <th>suicide_deaths</th>\n",
       "      <td>0.856993</td>\n",
       "      <td>0.739877</td>\n",
       "      <td>0.755424</td>\n",
       "      <td>0.799104</td>\n",
       "      <td>0.676150</td>\n",
       "      <td>0.208767</td>\n",
       "      <td>1.000000</td>\n",
       "      <td>-0.073000</td>\n",
       "      <td>0.147047</td>\n",
       "      <td>0.853731</td>\n",
       "      <td>-0.462661</td>\n",
       "    </tr>\n",
       "    <tr>\n",
       "      <th>h1n1_deaths</th>\n",
       "      <td>0.003092</td>\n",
       "      <td>-0.061280</td>\n",
       "      <td>-0.054427</td>\n",
       "      <td>-0.057400</td>\n",
       "      <td>0.064509</td>\n",
       "      <td>0.282431</td>\n",
       "      <td>-0.073000</td>\n",
       "      <td>1.000000</td>\n",
       "      <td>-0.030727</td>\n",
       "      <td>-0.045446</td>\n",
       "      <td>-0.208535</td>\n",
       "    </tr>\n",
       "    <tr>\n",
       "      <th>covid_deaths</th>\n",
       "      <td>0.279993</td>\n",
       "      <td>0.576005</td>\n",
       "      <td>0.386820</td>\n",
       "      <td>0.461230</td>\n",
       "      <td>0.261296</td>\n",
       "      <td>0.189666</td>\n",
       "      <td>0.147047</td>\n",
       "      <td>-0.030727</td>\n",
       "      <td>1.000000</td>\n",
       "      <td>0.271403</td>\n",
       "      <td>-0.161370</td>\n",
       "    </tr>\n",
       "    <tr>\n",
       "      <th>gdp_period</th>\n",
       "      <td>0.981888</td>\n",
       "      <td>0.878229</td>\n",
       "      <td>0.853760</td>\n",
       "      <td>0.921489</td>\n",
       "      <td>0.794969</td>\n",
       "      <td>0.253814</td>\n",
       "      <td>0.853731</td>\n",
       "      <td>-0.045446</td>\n",
       "      <td>0.271403</td>\n",
       "      <td>1.000000</td>\n",
       "      <td>-0.452648</td>\n",
       "    </tr>\n",
       "    <tr>\n",
       "      <th>yearly_infl</th>\n",
       "      <td>-0.536419</td>\n",
       "      <td>-0.458949</td>\n",
       "      <td>-0.421153</td>\n",
       "      <td>-0.432672</td>\n",
       "      <td>-0.383620</td>\n",
       "      <td>-0.406330</td>\n",
       "      <td>-0.462661</td>\n",
       "      <td>-0.208535</td>\n",
       "      <td>-0.161370</td>\n",
       "      <td>-0.452648</td>\n",
       "      <td>1.000000</td>\n",
       "    </tr>\n",
       "  </tbody>\n",
       "</table>\n",
       "</div>"
      ],
      "text/plain": [
       "                  us_pop  alcohol_deaths  alcohol_sales  drug_deaths  \\\n",
       "us_pop          1.000000        0.872398       0.855837     0.912205   \n",
       "alcohol_deaths  0.872398        1.000000       0.797358     0.945271   \n",
       "alcohol_sales   0.855837        0.797358       1.000000     0.823369   \n",
       "drug_deaths     0.912205        0.945271       0.823369     1.000000   \n",
       "homicides       0.813831        0.643833       0.718512     0.715119   \n",
       "perc_unemp      0.384361        0.192005       0.295459     0.251731   \n",
       "suicide_deaths  0.856993        0.739877       0.755424     0.799104   \n",
       "h1n1_deaths     0.003092       -0.061280      -0.054427    -0.057400   \n",
       "covid_deaths    0.279993        0.576005       0.386820     0.461230   \n",
       "gdp_period      0.981888        0.878229       0.853760     0.921489   \n",
       "yearly_infl    -0.536419       -0.458949      -0.421153    -0.432672   \n",
       "\n",
       "                homicides  perc_unemp  suicide_deaths  h1n1_deaths  \\\n",
       "us_pop           0.813831    0.384361        0.856993     0.003092   \n",
       "alcohol_deaths   0.643833    0.192005        0.739877    -0.061280   \n",
       "alcohol_sales    0.718512    0.295459        0.755424    -0.054427   \n",
       "drug_deaths      0.715119    0.251731        0.799104    -0.057400   \n",
       "homicides        1.000000    0.444478        0.676150     0.064509   \n",
       "perc_unemp       0.444478    1.000000        0.208767     0.282431   \n",
       "suicide_deaths   0.676150    0.208767        1.000000    -0.073000   \n",
       "h1n1_deaths      0.064509    0.282431       -0.073000     1.000000   \n",
       "covid_deaths     0.261296    0.189666        0.147047    -0.030727   \n",
       "gdp_period       0.794969    0.253814        0.853731    -0.045446   \n",
       "yearly_infl     -0.383620   -0.406330       -0.462661    -0.208535   \n",
       "\n",
       "                covid_deaths  gdp_period  yearly_infl  \n",
       "us_pop              0.279993    0.981888    -0.536419  \n",
       "alcohol_deaths      0.576005    0.878229    -0.458949  \n",
       "alcohol_sales       0.386820    0.853760    -0.421153  \n",
       "drug_deaths         0.461230    0.921489    -0.432672  \n",
       "homicides           0.261296    0.794969    -0.383620  \n",
       "perc_unemp          0.189666    0.253814    -0.406330  \n",
       "suicide_deaths      0.147047    0.853731    -0.462661  \n",
       "h1n1_deaths        -0.030727   -0.045446    -0.208535  \n",
       "covid_deaths        1.000000    0.271403    -0.161370  \n",
       "gdp_period          0.271403    1.000000    -0.452648  \n",
       "yearly_infl        -0.161370   -0.452648     1.000000  "
      ]
     },
     "execution_count": 133,
     "metadata": {},
     "output_type": "execute_result"
    }
   ],
   "source": [
    "df_merged.corr()"
   ]
  },
  {
   "cell_type": "markdown",
   "id": "65c7cffb-1b7e-438c-8305-a284cf6cfcde",
   "metadata": {},
   "source": [
    "The \".corr()\" method shows the correlation between each column. In statistics correlation \"normally refers to the degree to which a pair of variables are linearly related\"(https://en.wikipedia.org/wiki/Correlation). Correlation is alwats given as a measure between -1 and 1. A negative correlation means that the two varibales have an inverse relationship, if one goes up it is likely the other will go down. An "
   ]
  },
  {
   "cell_type": "code",
   "execution_count": 134,
   "id": "d73abbe8-813a-4391-a08f-1d11734ee952",
   "metadata": {},
   "outputs": [
    {
     "data": {
      "image/png": "[encoded data removed]",
      "text/plain": [
       "<Figure size 432x288 with 1 Axes>"
      ]
     },
     "metadata": {
      "needs_background": "light"
     },
     "output_type": "display_data"
    },
    {
     "data": {
      "image/png": "[encoded data removed]",
      "text/plain": [
       "<Figure size 432x288 with 1 Axes>"
      ]
     },
     "metadata": {
      "needs_background": "light"
     },
     "output_type": "display_data"
    },
    {
     "data": {
      "image/png": "[encoded data removed]",
      "text/plain": [
       "<Figure size 432x288 with 1 Axes>"
      ]
     },
     "metadata": {
      "needs_background": "light"
     },
     "output_type": "display_data"
    },
    {
     "data": {
      "image/png": "[encoded data removed]",
      "text/plain": [
       "<Figure size 432x288 with 1 Axes>"
      ]
     },
     "metadata": {
      "needs_background": "light"
     },
     "output_type": "display_data"
    },
    {
     "data": {
      "image/png": "[encoded data removed]",
      "text/plain": [
       "<Figure size 432x288 with 1 Axes>"
      ]
     },
     "metadata": {
      "needs_background": "light"
     },
     "output_type": "display_data"
    },
    {
     "data": {
      "image/png": "[encoded data removed]",
      "text/plain": [
       "<Figure size 432x288 with 1 Axes>"
      ]
     },
     "metadata": {
      "needs_background": "light"
     },
     "output_type": "display_data"
    },
    {
     "data": {
      "image/png": "[encoded data removed]",
      "text/plain": [
       "<Figure size 432x288 with 1 Axes>"
      ]
     },
     "metadata": {
      "needs_background": "light"
     },
     "output_type": "display_data"
    },
    {
     "data": {
      "image/png": "[encoded data removed]",
      "text/plain": [
       "<Figure size 432x288 with 1 Axes>"
      ]
     },
     "metadata": {
      "needs_background": "light"
     },
     "output_type": "display_data"
    },
    {
     "data": {
      "image/png": "[encoded data removed]",
      "text/plain": [
       "<Figure size 432x288 with 1 Axes>"
      ]
     },
     "metadata": {
      "needs_background": "light"
     },
     "output_type": "display_data"
    },
    {
     "data": {
      "image/png": "[encoded data removed]",
      "text/plain": [
       "<Figure size 432x288 with 1 Axes>"
      ]
     },
     "metadata": {
      "needs_background": "light"
     },
     "output_type": "display_data"
    },
    {
     "data": {
      "image/png": "[encoded data removed]",
      "text/plain": [
       "<Figure size 432x288 with 1 Axes>"
      ]
     },
     "metadata": {
      "needs_background": "light"
     },
     "output_type": "display_data"
    }
   ],
   "source": [
    "def make_charts(dataframe):\n",
    "    for x in dataframe:\n",
    "        if not x == 'date':\n",
    "            sns.lineplot( x = \"date\", y = x, data = dataframe,markers = True)\n",
    "            plt.show()\n",
    "make_charts(df_merged)"
   ]
  },
  {
   "cell_type": "markdown",
   "id": "23e9691a-51f7-4e6b-91ff-ab9d158a5a61",
   "metadata": {},
   "source": [
    "The function that produced these charts introduces a concept you have not seen before: nested loops. The funciton I wrote uses a for loop to iterate the through the dataframe; however, before exectuing any commands on the data, I filter the input with an \"if not\" statement. If any data passed to the if statement is true(i.e x is equal to date) the command with in the for loop will notbe excuted and the next element in the series will be read in. "
   ]
  },
  {
   "cell_type": "code",
   "execution_count": 135,
   "id": "b70527a3-2ed7-4024-b398-28426d03dadf",
   "metadata": {},
   "outputs": [],
   "source": [
    "#make_charts(df_merged)"
   ]
  },
  {
   "cell_type": "code",
   "execution_count": 136,
   "id": "55f0343f-29d4-4747-bcff-18736690656d",
   "metadata": {},
   "outputs": [
    {
     "data": {
      "image/png": "[encoded data removed]",
      "text/plain": [
       "<Figure size 432x288 with 1 Axes>"
      ]
     },
     "metadata": {
      "needs_background": "light"
     },
     "output_type": "display_data"
    }
   ],
   "source": [
    "for col in df_merged.columns:\n",
    "    if not col == 'date' and not col == 'us_pop':\n",
    "        plt.plot(df_merged['date'], df_merged[col], label=col)\n",
    "plt.legend()\n",
    "plt.show()"
   ]
  },
  {
   "cell_type": "markdown",
   "id": "86102c22-26aa-4dcc-9de0-5faa3fb94917",
   "metadata": {},
   "source": [
    "The above plots show the change of data over time in respect to US population; however, the differing scales make it hard to plot all of the data on the same chart. To solve this we can normalize the data. Normalizing the data will aslo prepare us run more machine learning methods on the data that might increase our knowledge of the data. "
   ]
  },
  {
   "cell_type": "code",
   "execution_count": 137,
   "id": "1d83b44b-c598-4951-b48e-34959dd34966",
   "metadata": {},
   "outputs": [],
   "source": [
    "#pop_test = test.copy()\n",
    "\n",
    "df_merged.to_csv(\"merged_data.csv\", index = False)"
   ]
  },
  {
   "cell_type": "markdown",
   "id": "4d5b67ce-04a7-46c4-a0ef-939fe7107033",
   "metadata": {},
   "source": [
    "I am saving my dataframe to the directory where this Jupyter Notebook is saved! "
   ]
  },
  {
   "cell_type": "code",
   "execution_count": null,
   "id": "55ab5746-6fb1-4a18-8db5-42217289c438",
   "metadata": {},
   "outputs": [],
   "source": []
  }
 ],
 "metadata": {
  "kernelspec": {
   "display_name": "Python 3",
   "language": "python",
   "name": "python3"
  },
  "language_info": {
   "codemirror_mode": {
    "name": "ipython",
    "version": 3
   },
   "file_extension": ".py",
   "mimetype": "text/x-python",
   "name": "python",
   "nbconvert_exporter": "python",
   "pygments_lexer": "ipython3",
   "version": "3.8.8"
  }
 },
 "nbformat": 4,
 "nbformat_minor": 5
}
