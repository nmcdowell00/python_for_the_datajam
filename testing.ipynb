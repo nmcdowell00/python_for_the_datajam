{
 "cells": [
  {
   "cell_type": "code",
   "execution_count": 1,
   "id": "c445d2d0-2d69-4806-8106-a2458077c703",
   "metadata": {},
   "outputs": [],
   "source": [
    "import pandas as pd\n",
    "import seaborn as sns\n",
    "import matplotlib.pyplot as plt\n",
    "from sklearn.model_selection import train_test_split\n",
    "from sklearn.linear_model import LogisticRegression\n",
    "from sklearn import metrics\n",
    "from sklearn.linear_model import LinearRegression\n",
    "from sklearn.metrics import r2_score\n",
    "import statsmodels.formula.api as sm\n",
    "import numpy as np\n",
    "import pingouin as pg"
   ]
  },
  {
   "cell_type": "code",
   "execution_count": 2,
   "id": "ca78be51-f047-44d4-85c4-248cd0dd2f5c",
   "metadata": {},
   "outputs": [],
   "source": [
    "df = pd.read_csv(\"for_ml.csv\")\n",
    "df.set_index('date',inplace=True)\n",
    "#df['h1n1_dum'] = 1 *(df['h1n1_deaths'] != 0)\n",
    "#df['covid_dum'] = 1 *(df['covid_deaths'] != 0)"
   ]
  },
  {
   "cell_type": "code",
   "execution_count": 3,
   "id": "6059d3df-05d4-425b-878d-4e10a6f6a8bd",
   "metadata": {},
   "outputs": [
    {
     "data": {
      "text/html": [
       "<div>\n",
       "<style scoped>\n",
       "    .dataframe tbody tr th:only-of-type {\n",
       "        vertical-align: middle;\n",
       "    }\n",
       "\n",
       "    .dataframe tbody tr th {\n",
       "        vertical-align: top;\n",
       "    }\n",
       "\n",
       "    .dataframe thead th {\n",
       "        text-align: right;\n",
       "    }\n",
       "</style>\n",
       "<table border=\"1\" class=\"dataframe\">\n",
       "  <thead>\n",
       "    <tr style=\"text-align: right;\">\n",
       "      <th></th>\n",
       "      <th>us_pop</th>\n",
       "      <th>alcohol_deaths</th>\n",
       "      <th>alcohol_sales</th>\n",
       "      <th>drug_deaths</th>\n",
       "      <th>homicides</th>\n",
       "      <th>perc_unemp</th>\n",
       "      <th>suicide_deaths</th>\n",
       "      <th>h1n1_deaths</th>\n",
       "      <th>covid_deaths</th>\n",
       "    </tr>\n",
       "  </thead>\n",
       "  <tbody>\n",
       "    <tr>\n",
       "      <th>us_pop</th>\n",
       "      <td>1.000</td>\n",
       "      <td>-0.350</td>\n",
       "      <td>0.170</td>\n",
       "      <td>0.022</td>\n",
       "      <td>-0.033</td>\n",
       "      <td>0.379</td>\n",
       "      <td>0.133</td>\n",
       "      <td>-0.178</td>\n",
       "      <td>0.212</td>\n",
       "    </tr>\n",
       "    <tr>\n",
       "      <th>alcohol_deaths</th>\n",
       "      <td>-0.350</td>\n",
       "      <td>1.000</td>\n",
       "      <td>0.671</td>\n",
       "      <td>0.307</td>\n",
       "      <td>-0.366</td>\n",
       "      <td>0.899</td>\n",
       "      <td>0.597</td>\n",
       "      <td>-0.692</td>\n",
       "      <td>-0.190</td>\n",
       "    </tr>\n",
       "    <tr>\n",
       "      <th>alcohol_sales</th>\n",
       "      <td>0.170</td>\n",
       "      <td>0.671</td>\n",
       "      <td>1.000</td>\n",
       "      <td>-0.912</td>\n",
       "      <td>0.934</td>\n",
       "      <td>-0.287</td>\n",
       "      <td>-0.995</td>\n",
       "      <td>1.000</td>\n",
       "      <td>0.071</td>\n",
       "    </tr>\n",
       "    <tr>\n",
       "      <th>drug_deaths</th>\n",
       "      <td>0.022</td>\n",
       "      <td>0.307</td>\n",
       "      <td>-0.912</td>\n",
       "      <td>1.000</td>\n",
       "      <td>0.997</td>\n",
       "      <td>0.131</td>\n",
       "      <td>-0.947</td>\n",
       "      <td>0.900</td>\n",
       "      <td>-0.007</td>\n",
       "    </tr>\n",
       "    <tr>\n",
       "      <th>homicides</th>\n",
       "      <td>-0.033</td>\n",
       "      <td>-0.366</td>\n",
       "      <td>0.934</td>\n",
       "      <td>0.997</td>\n",
       "      <td>1.000</td>\n",
       "      <td>-0.072</td>\n",
       "      <td>0.965</td>\n",
       "      <td>-0.924</td>\n",
       "      <td>-0.043</td>\n",
       "    </tr>\n",
       "    <tr>\n",
       "      <th>perc_unemp</th>\n",
       "      <td>0.379</td>\n",
       "      <td>0.899</td>\n",
       "      <td>-0.287</td>\n",
       "      <td>0.131</td>\n",
       "      <td>-0.072</td>\n",
       "      <td>1.000</td>\n",
       "      <td>-0.193</td>\n",
       "      <td>0.314</td>\n",
       "      <td>0.111</td>\n",
       "    </tr>\n",
       "    <tr>\n",
       "      <th>suicide_deaths</th>\n",
       "      <td>0.133</td>\n",
       "      <td>0.597</td>\n",
       "      <td>-0.995</td>\n",
       "      <td>-0.947</td>\n",
       "      <td>0.965</td>\n",
       "      <td>-0.193</td>\n",
       "      <td>1.000</td>\n",
       "      <td>0.992</td>\n",
       "      <td>0.074</td>\n",
       "    </tr>\n",
       "    <tr>\n",
       "      <th>h1n1_deaths</th>\n",
       "      <td>-0.178</td>\n",
       "      <td>-0.692</td>\n",
       "      <td>1.000</td>\n",
       "      <td>0.900</td>\n",
       "      <td>-0.924</td>\n",
       "      <td>0.314</td>\n",
       "      <td>0.992</td>\n",
       "      <td>1.000</td>\n",
       "      <td>-0.081</td>\n",
       "    </tr>\n",
       "    <tr>\n",
       "      <th>covid_deaths</th>\n",
       "      <td>0.212</td>\n",
       "      <td>-0.190</td>\n",
       "      <td>0.071</td>\n",
       "      <td>-0.007</td>\n",
       "      <td>-0.043</td>\n",
       "      <td>0.111</td>\n",
       "      <td>0.074</td>\n",
       "      <td>-0.081</td>\n",
       "      <td>1.000</td>\n",
       "    </tr>\n",
       "  </tbody>\n",
       "</table>\n",
       "</div>"
      ],
      "text/plain": [
       "                us_pop  alcohol_deaths  alcohol_sales  drug_deaths  homicides  \\\n",
       "us_pop           1.000          -0.350          0.170        0.022     -0.033   \n",
       "alcohol_deaths  -0.350           1.000          0.671        0.307     -0.366   \n",
       "alcohol_sales    0.170           0.671          1.000       -0.912      0.934   \n",
       "drug_deaths      0.022           0.307         -0.912        1.000      0.997   \n",
       "homicides       -0.033          -0.366          0.934        0.997      1.000   \n",
       "perc_unemp       0.379           0.899         -0.287        0.131     -0.072   \n",
       "suicide_deaths   0.133           0.597         -0.995       -0.947      0.965   \n",
       "h1n1_deaths     -0.178          -0.692          1.000        0.900     -0.924   \n",
       "covid_deaths     0.212          -0.190          0.071       -0.007     -0.043   \n",
       "\n",
       "                perc_unemp  suicide_deaths  h1n1_deaths  covid_deaths  \n",
       "us_pop               0.379           0.133       -0.178         0.212  \n",
       "alcohol_deaths       0.899           0.597       -0.692        -0.190  \n",
       "alcohol_sales       -0.287          -0.995        1.000         0.071  \n",
       "drug_deaths          0.131          -0.947        0.900        -0.007  \n",
       "homicides           -0.072           0.965       -0.924        -0.043  \n",
       "perc_unemp           1.000          -0.193        0.314         0.111  \n",
       "suicide_deaths      -0.193           1.000        0.992         0.074  \n",
       "h1n1_deaths          0.314           0.992        1.000        -0.081  \n",
       "covid_deaths         0.111           0.074       -0.081         1.000  "
      ]
     },
     "execution_count": 3,
     "metadata": {},
     "output_type": "execute_result"
    }
   ],
   "source": [
    "df.pcorr().round(3)"
   ]
  },
  {
   "cell_type": "code",
   "execution_count": 4,
   "id": "0e4dde6e-69a3-4222-872f-ca6a2f0e2fe5",
   "metadata": {},
   "outputs": [
    {
     "data": {
      "text/html": [
       "<div>\n",
       "<style scoped>\n",
       "    .dataframe tbody tr th:only-of-type {\n",
       "        vertical-align: middle;\n",
       "    }\n",
       "\n",
       "    .dataframe tbody tr th {\n",
       "        vertical-align: top;\n",
       "    }\n",
       "\n",
       "    .dataframe thead th {\n",
       "        text-align: right;\n",
       "    }\n",
       "</style>\n",
       "<table border=\"1\" class=\"dataframe\">\n",
       "  <thead>\n",
       "    <tr style=\"text-align: right;\">\n",
       "      <th></th>\n",
       "      <th>us_pop</th>\n",
       "      <th>alcohol_deaths</th>\n",
       "      <th>alcohol_sales</th>\n",
       "      <th>drug_deaths</th>\n",
       "      <th>homicides</th>\n",
       "      <th>perc_unemp</th>\n",
       "      <th>suicide_deaths</th>\n",
       "      <th>h1n1_deaths</th>\n",
       "      <th>covid_deaths</th>\n",
       "    </tr>\n",
       "  </thead>\n",
       "  <tbody>\n",
       "    <tr>\n",
       "      <th>us_pop</th>\n",
       "      <td>1.000</td>\n",
       "      <td>0.872</td>\n",
       "      <td>0.856</td>\n",
       "      <td>0.912</td>\n",
       "      <td>0.814</td>\n",
       "      <td>0.384</td>\n",
       "      <td>0.857</td>\n",
       "      <td>0.003</td>\n",
       "      <td>0.280</td>\n",
       "    </tr>\n",
       "    <tr>\n",
       "      <th>alcohol_deaths</th>\n",
       "      <td>0.872</td>\n",
       "      <td>1.000</td>\n",
       "      <td>0.797</td>\n",
       "      <td>0.945</td>\n",
       "      <td>0.644</td>\n",
       "      <td>0.192</td>\n",
       "      <td>0.740</td>\n",
       "      <td>-0.061</td>\n",
       "      <td>0.576</td>\n",
       "    </tr>\n",
       "    <tr>\n",
       "      <th>alcohol_sales</th>\n",
       "      <td>0.856</td>\n",
       "      <td>0.797</td>\n",
       "      <td>1.000</td>\n",
       "      <td>0.823</td>\n",
       "      <td>0.719</td>\n",
       "      <td>0.295</td>\n",
       "      <td>0.755</td>\n",
       "      <td>-0.054</td>\n",
       "      <td>0.387</td>\n",
       "    </tr>\n",
       "    <tr>\n",
       "      <th>drug_deaths</th>\n",
       "      <td>0.912</td>\n",
       "      <td>0.945</td>\n",
       "      <td>0.823</td>\n",
       "      <td>1.000</td>\n",
       "      <td>0.715</td>\n",
       "      <td>0.252</td>\n",
       "      <td>0.799</td>\n",
       "      <td>-0.057</td>\n",
       "      <td>0.461</td>\n",
       "    </tr>\n",
       "    <tr>\n",
       "      <th>homicides</th>\n",
       "      <td>0.814</td>\n",
       "      <td>0.644</td>\n",
       "      <td>0.719</td>\n",
       "      <td>0.715</td>\n",
       "      <td>1.000</td>\n",
       "      <td>0.444</td>\n",
       "      <td>0.676</td>\n",
       "      <td>0.065</td>\n",
       "      <td>0.261</td>\n",
       "    </tr>\n",
       "    <tr>\n",
       "      <th>perc_unemp</th>\n",
       "      <td>0.384</td>\n",
       "      <td>0.192</td>\n",
       "      <td>0.295</td>\n",
       "      <td>0.252</td>\n",
       "      <td>0.444</td>\n",
       "      <td>1.000</td>\n",
       "      <td>0.209</td>\n",
       "      <td>0.282</td>\n",
       "      <td>0.190</td>\n",
       "    </tr>\n",
       "    <tr>\n",
       "      <th>suicide_deaths</th>\n",
       "      <td>0.857</td>\n",
       "      <td>0.740</td>\n",
       "      <td>0.755</td>\n",
       "      <td>0.799</td>\n",
       "      <td>0.676</td>\n",
       "      <td>0.209</td>\n",
       "      <td>1.000</td>\n",
       "      <td>-0.073</td>\n",
       "      <td>0.147</td>\n",
       "    </tr>\n",
       "    <tr>\n",
       "      <th>h1n1_deaths</th>\n",
       "      <td>0.003</td>\n",
       "      <td>-0.061</td>\n",
       "      <td>-0.054</td>\n",
       "      <td>-0.057</td>\n",
       "      <td>0.065</td>\n",
       "      <td>0.282</td>\n",
       "      <td>-0.073</td>\n",
       "      <td>1.000</td>\n",
       "      <td>-0.031</td>\n",
       "    </tr>\n",
       "    <tr>\n",
       "      <th>covid_deaths</th>\n",
       "      <td>0.280</td>\n",
       "      <td>0.576</td>\n",
       "      <td>0.387</td>\n",
       "      <td>0.461</td>\n",
       "      <td>0.261</td>\n",
       "      <td>0.190</td>\n",
       "      <td>0.147</td>\n",
       "      <td>-0.031</td>\n",
       "      <td>1.000</td>\n",
       "    </tr>\n",
       "  </tbody>\n",
       "</table>\n",
       "</div>"
      ],
      "text/plain": [
       "                us_pop  alcohol_deaths  alcohol_sales  drug_deaths  homicides  \\\n",
       "us_pop           1.000           0.872          0.856        0.912      0.814   \n",
       "alcohol_deaths   0.872           1.000          0.797        0.945      0.644   \n",
       "alcohol_sales    0.856           0.797          1.000        0.823      0.719   \n",
       "drug_deaths      0.912           0.945          0.823        1.000      0.715   \n",
       "homicides        0.814           0.644          0.719        0.715      1.000   \n",
       "perc_unemp       0.384           0.192          0.295        0.252      0.444   \n",
       "suicide_deaths   0.857           0.740          0.755        0.799      0.676   \n",
       "h1n1_deaths      0.003          -0.061         -0.054       -0.057      0.065   \n",
       "covid_deaths     0.280           0.576          0.387        0.461      0.261   \n",
       "\n",
       "                perc_unemp  suicide_deaths  h1n1_deaths  covid_deaths  \n",
       "us_pop               0.384           0.857        0.003         0.280  \n",
       "alcohol_deaths       0.192           0.740       -0.061         0.576  \n",
       "alcohol_sales        0.295           0.755       -0.054         0.387  \n",
       "drug_deaths          0.252           0.799       -0.057         0.461  \n",
       "homicides            0.444           0.676        0.065         0.261  \n",
       "perc_unemp           1.000           0.209        0.282         0.190  \n",
       "suicide_deaths       0.209           1.000       -0.073         0.147  \n",
       "h1n1_deaths          0.282          -0.073        1.000        -0.031  \n",
       "covid_deaths         0.190           0.147       -0.031         1.000  "
      ]
     },
     "execution_count": 4,
     "metadata": {},
     "output_type": "execute_result"
    }
   ],
   "source": [
    "df.corr().round(3)"
   ]
  },
  {
   "cell_type": "code",
   "execution_count": 5,
   "id": "73012db4-3199-4842-99cb-818284a8badd",
   "metadata": {},
   "outputs": [],
   "source": [
    "X=df[['alcohol_deaths','alcohol_sales','drug_deaths','homicides','h1n1_deaths','perc_unemp']]\n",
    "\n",
    "\n",
    "y=df[['suicide_deaths']]"
   ]
  },
  {
   "cell_type": "code",
   "execution_count": 6,
   "id": "49932c02-29a2-4086-ac9a-509bd70f6e5a",
   "metadata": {},
   "outputs": [
    {
     "data": {
      "text/plain": [
       "LinearRegression()"
      ]
     },
     "execution_count": 6,
     "metadata": {},
     "output_type": "execute_result"
    }
   ],
   "source": [
    "X_train, X_test, y_train, y_test = train_test_split(X, y, test_size=0.2, random_state=1)\n",
    "regression_model = LinearRegression()\n",
    "regression_model.fit(X_train, y_train)"
   ]
  },
  {
   "cell_type": "code",
   "execution_count": 7,
   "id": "91a06ee9-2c78-4e43-837f-88267d61c763",
   "metadata": {},
   "outputs": [
    {
     "name": "stdout",
     "output_type": "stream",
     "text": [
      "The coefficient for alcohol_deaths is -0.07432222602728741\n",
      "The coefficient for alcohol_sales is 0.04938790523010525\n",
      "The coefficient for drug_deaths is 0.17690071195394608\n",
      "The coefficient for homicides is 0.08638356643815501\n",
      "The coefficient for h1n1_deaths is -0.004796184238336094\n",
      "The coefficient for perc_unemp is -0.0020511651641447054\n"
     ]
    }
   ],
   "source": [
    "for idx, col_name in enumerate(X_train.columns):\n",
    "    print(\"The coefficient for {} is {}\".format(col_name, regression_model.coef_[0][idx]))"
   ]
  },
  {
   "cell_type": "code",
   "execution_count": 8,
   "id": "5c77c24d-3418-4a0d-96c8-5fac21a9dd38",
   "metadata": {},
   "outputs": [
    {
     "name": "stdout",
     "output_type": "stream",
     "text": [
      "The intercept for our model is 0.7065326139417767\n"
     ]
    }
   ],
   "source": [
    "intercept = regression_model.intercept_[0]\n",
    "print(\"The intercept for our model is {}\".format(intercept))"
   ]
  },
  {
   "cell_type": "code",
   "execution_count": 9,
   "id": "e773f61f-1fc9-4e4a-b271-d73e86a1a0d9",
   "metadata": {},
   "outputs": [
    {
     "name": "stdout",
     "output_type": "stream",
     "text": [
      "y =  0.7065326139417767 +\n",
      "alcohol_deaths(-0.07) + \n",
      "alcohol_sales(0.05) + \n",
      "drug_deaths(0.18) + \n",
      "homicides(0.09) + \n",
      "h1n1_deaths(-0.0) + \n",
      "perc_unemp(-0.0) + \n"
     ]
    }
   ],
   "source": [
    "print(\"y = \",intercept, \"+\")\n",
    "for idx, col_name in enumerate(X_train.columns):\n",
    "    print(\"{}({}) + \".format(col_name, round(regression_model.coef_[0][idx],2)))\n",
    "#Our regression line for this model is: "
   ]
  },
  {
   "cell_type": "code",
   "execution_count": 10,
   "id": "4866c8a9-bffc-459e-a877-fbbc4e931a21",
   "metadata": {},
   "outputs": [
    {
     "data": {
      "text/plain": [
       "0.5351132009484352"
      ]
     },
     "execution_count": 10,
     "metadata": {},
     "output_type": "execute_result"
    }
   ],
   "source": [
    "regression_model.score(X_test, y_test)"
   ]
  },
  {
   "cell_type": "code",
   "execution_count": 11,
   "id": "8c2c67ac-3615-4670-a1da-1b6145da33a7",
   "metadata": {},
   "outputs": [
    {
     "data": {
      "text/html": [
       "<table class=\"simpletable\">\n",
       "<caption>OLS Regression Results</caption>\n",
       "<tr>\n",
       "  <th>Dep. Variable:</th>     <td>suicide_deaths</td>  <th>  R-squared:         </th> <td>   0.685</td>\n",
       "</tr>\n",
       "<tr>\n",
       "  <th>Model:</th>                   <td>OLS</td>       <th>  Adj. R-squared:    </th> <td>   0.677</td>\n",
       "</tr>\n",
       "<tr>\n",
       "  <th>Method:</th>             <td>Least Squares</td>  <th>  F-statistic:       </th> <td>   88.81</td>\n",
       "</tr>\n",
       "<tr>\n",
       "  <th>Date:</th>             <td>Fri, 29 Jul 2022</td> <th>  Prob (F-statistic):</th> <td>1.25e-58</td>\n",
       "</tr>\n",
       "<tr>\n",
       "  <th>Time:</th>                 <td>12:42:34</td>     <th>  Log-Likelihood:    </th> <td>  301.63</td>\n",
       "</tr>\n",
       "<tr>\n",
       "  <th>No. Observations:</th>      <td>   252</td>      <th>  AIC:               </th> <td>  -589.3</td>\n",
       "</tr>\n",
       "<tr>\n",
       "  <th>Df Residuals:</th>          <td>   245</td>      <th>  BIC:               </th> <td>  -564.6</td>\n",
       "</tr>\n",
       "<tr>\n",
       "  <th>Df Model:</th>              <td>     6</td>      <th>                     </th>     <td> </td>   \n",
       "</tr>\n",
       "<tr>\n",
       "  <th>Covariance Type:</th>      <td>nonrobust</td>    <th>                     </th>     <td> </td>   \n",
       "</tr>\n",
       "</table>\n",
       "<table class=\"simpletable\">\n",
       "<tr>\n",
       "         <td></td>           <th>coef</th>     <th>std err</th>      <th>t</th>      <th>P>|t|</th>  <th>[0.025</th>    <th>0.975]</th>  \n",
       "</tr>\n",
       "<tr>\n",
       "  <th>Intercept</th>      <td>    0.7507</td> <td>    0.034</td> <td>   22.070</td> <td> 0.000</td> <td>    0.684</td> <td>    0.818</td>\n",
       "</tr>\n",
       "<tr>\n",
       "  <th>alcohol_deaths</th> <td>   -0.1263</td> <td>    0.085</td> <td>   -1.495</td> <td> 0.136</td> <td>   -0.293</td> <td>    0.040</td>\n",
       "</tr>\n",
       "<tr>\n",
       "  <th>alcohol_sales</th>  <td>    0.0469</td> <td>    0.012</td> <td>    3.812</td> <td> 0.000</td> <td>    0.023</td> <td>    0.071</td>\n",
       "</tr>\n",
       "<tr>\n",
       "  <th>drug_deaths</th>    <td>    0.1775</td> <td>    0.035</td> <td>    5.106</td> <td> 0.000</td> <td>    0.109</td> <td>    0.246</td>\n",
       "</tr>\n",
       "<tr>\n",
       "  <th>homicides</th>      <td>    0.1025</td> <td>    0.034</td> <td>    2.980</td> <td> 0.003</td> <td>    0.035</td> <td>    0.170</td>\n",
       "</tr>\n",
       "<tr>\n",
       "  <th>h1n1_deaths</th>    <td>   -0.0055</td> <td>    0.008</td> <td>   -0.671</td> <td> 0.503</td> <td>   -0.022</td> <td>    0.011</td>\n",
       "</tr>\n",
       "<tr>\n",
       "  <th>perc_unemp</th>     <td>   -0.0032</td> <td>    0.002</td> <td>   -1.567</td> <td> 0.118</td> <td>   -0.007</td> <td>    0.001</td>\n",
       "</tr>\n",
       "</table>\n",
       "<table class=\"simpletable\">\n",
       "<tr>\n",
       "  <th>Omnibus:</th>       <td> 2.279</td> <th>  Durbin-Watson:     </th> <td>   0.939</td>\n",
       "</tr>\n",
       "<tr>\n",
       "  <th>Prob(Omnibus):</th> <td> 0.320</td> <th>  Jarque-Bera (JB):  </th> <td>   2.284</td>\n",
       "</tr>\n",
       "<tr>\n",
       "  <th>Skew:</th>          <td>-0.229</td> <th>  Prob(JB):          </th> <td>   0.319</td>\n",
       "</tr>\n",
       "<tr>\n",
       "  <th>Kurtosis:</th>      <td> 2.910</td> <th>  Cond. No.          </th> <td>    139.</td>\n",
       "</tr>\n",
       "</table><br/><br/>Notes:<br/>[1] Standard Errors assume that the covariance matrix of the errors is correctly specified."
      ],
      "text/plain": [
       "<class 'statsmodels.iolib.summary.Summary'>\n",
       "\"\"\"\n",
       "                            OLS Regression Results                            \n",
       "==============================================================================\n",
       "Dep. Variable:         suicide_deaths   R-squared:                       0.685\n",
       "Model:                            OLS   Adj. R-squared:                  0.677\n",
       "Method:                 Least Squares   F-statistic:                     88.81\n",
       "Date:                Fri, 29 Jul 2022   Prob (F-statistic):           1.25e-58\n",
       "Time:                        12:42:34   Log-Likelihood:                 301.63\n",
       "No. Observations:                 252   AIC:                            -589.3\n",
       "Df Residuals:                     245   BIC:                            -564.6\n",
       "Df Model:                           6                                         \n",
       "Covariance Type:            nonrobust                                         \n",
       "==================================================================================\n",
       "                     coef    std err          t      P>|t|      [0.025      0.975]\n",
       "----------------------------------------------------------------------------------\n",
       "Intercept          0.7507      0.034     22.070      0.000       0.684       0.818\n",
       "alcohol_deaths    -0.1263      0.085     -1.495      0.136      -0.293       0.040\n",
       "alcohol_sales      0.0469      0.012      3.812      0.000       0.023       0.071\n",
       "drug_deaths        0.1775      0.035      5.106      0.000       0.109       0.246\n",
       "homicides          0.1025      0.034      2.980      0.003       0.035       0.170\n",
       "h1n1_deaths       -0.0055      0.008     -0.671      0.503      -0.022       0.011\n",
       "perc_unemp        -0.0032      0.002     -1.567      0.118      -0.007       0.001\n",
       "==============================================================================\n",
       "Omnibus:                        2.279   Durbin-Watson:                   0.939\n",
       "Prob(Omnibus):                  0.320   Jarque-Bera (JB):                2.284\n",
       "Skew:                          -0.229   Prob(JB):                        0.319\n",
       "Kurtosis:                       2.910   Cond. No.                         139.\n",
       "==============================================================================\n",
       "\n",
       "Notes:\n",
       "[1] Standard Errors assume that the covariance matrix of the errors is correctly specified.\n",
       "\"\"\""
      ]
     },
     "execution_count": 11,
     "metadata": {},
     "output_type": "execute_result"
    }
   ],
   "source": [
    "lm = sm.ols(formula='suicide_deaths ~ alcohol_deaths + alcohol_sales + drug_deaths + homicides + h1n1_deaths + perc_unemp', data=df)\n",
    "fit = lm.fit()\n",
    "fit.summary()"
   ]
  },
  {
   "cell_type": "code",
   "execution_count": 12,
   "id": "c6f903ad-0990-4184-a719-8392eaebba3d",
   "metadata": {},
   "outputs": [
    {
     "data": {
      "text/html": [
       "<div>\n",
       "<style scoped>\n",
       "    .dataframe tbody tr th:only-of-type {\n",
       "        vertical-align: middle;\n",
       "    }\n",
       "\n",
       "    .dataframe tbody tr th {\n",
       "        vertical-align: top;\n",
       "    }\n",
       "\n",
       "    .dataframe thead th {\n",
       "        text-align: right;\n",
       "    }\n",
       "</style>\n",
       "<table border=\"1\" class=\"dataframe\">\n",
       "  <thead>\n",
       "    <tr style=\"text-align: right;\">\n",
       "      <th></th>\n",
       "      <th>n</th>\n",
       "      <th>r</th>\n",
       "      <th>CI95%</th>\n",
       "      <th>p-val</th>\n",
       "    </tr>\n",
       "  </thead>\n",
       "  <tbody>\n",
       "    <tr>\n",
       "      <th>pearson</th>\n",
       "      <td>252</td>\n",
       "      <td>-0.095059</td>\n",
       "      <td>[-0.22, 0.03]</td>\n",
       "      <td>0.136287</td>\n",
       "    </tr>\n",
       "  </tbody>\n",
       "</table>\n",
       "</div>"
      ],
      "text/plain": [
       "           n         r          CI95%     p-val\n",
       "pearson  252 -0.095059  [-0.22, 0.03]  0.136287"
      ]
     },
     "execution_count": 12,
     "metadata": {},
     "output_type": "execute_result"
    }
   ],
   "source": [
    "# partial Correlation\n",
    "pg.partial_corr(data=df, x='alcohol_deaths', y='suicide_deaths', covar=['alcohol_sales','drug_deaths','homicides','h1n1_deaths','perc_unemp'])"
   ]
  },
  {
   "cell_type": "code",
   "execution_count": 13,
   "id": "a3402fae-3190-4370-b425-dc171e4957f9",
   "metadata": {},
   "outputs": [],
   "source": [
    "from sklearn.metrics import mean_squared_error\n",
    "\n",
    "y_predict = regression_model.predict(X_test)\n",
    "\n",
    "#y_test\n",
    "#dates = y_test[y_test[\"su\"]==1]\n",
    "#print(dates)\n",
    "#print(y_test)\n",
    "#print(y_predict)"
   ]
  },
  {
   "cell_type": "code",
   "execution_count": 14,
   "id": "c161da27-f380-4c4c-afff-35b3b9fb2881",
   "metadata": {},
   "outputs": [
    {
     "data": {
      "text/plain": [
       "0.007899273651376024"
      ]
     },
     "execution_count": 14,
     "metadata": {},
     "output_type": "execute_result"
    }
   ],
   "source": [
    "regression_model_mse = mean_squared_error(y_predict, y_test)\n",
    "regression_model_mse"
   ]
  },
  {
   "cell_type": "code",
   "execution_count": 15,
   "id": "ce2f99f9-f402-4645-8c46-74efde8f2001",
   "metadata": {},
   "outputs": [],
   "source": [
    "#covid"
   ]
  },
  {
   "cell_type": "code",
   "execution_count": 16,
   "id": "1cacccf7-b730-4160-a88e-674ceb67fb19",
   "metadata": {},
   "outputs": [],
   "source": [
    "X=df[['alcohol_deaths','alcohol_sales','drug_deaths','homicides','covid_deaths','perc_unemp']]\n",
    "\n",
    "\n",
    "y=df[['suicide_deaths']]"
   ]
  },
  {
   "cell_type": "code",
   "execution_count": 17,
   "id": "65e0daa3-46e0-45b5-9c06-12f20e509cad",
   "metadata": {},
   "outputs": [
    {
     "data": {
      "text/plain": [
       "LinearRegression()"
      ]
     },
     "execution_count": 17,
     "metadata": {},
     "output_type": "execute_result"
    }
   ],
   "source": [
    "X_train, X_test, y_train, y_test = train_test_split(X, y, test_size=0.2, random_state=1)\n",
    "regression_model = LinearRegression()\n",
    "regression_model.fit(X_train, y_train)"
   ]
  },
  {
   "cell_type": "code",
   "execution_count": 18,
   "id": "31678087-f6cb-4a78-b62b-5a50c9972f38",
   "metadata": {},
   "outputs": [
    {
     "name": "stdout",
     "output_type": "stream",
     "text": [
      "The coefficient for alcohol_deaths is 0.1485380845044878\n",
      "The coefficient for alcohol_sales is 0.04480515728987717\n",
      "The coefficient for drug_deaths is 0.14336785590035936\n",
      "The coefficient for homicides is 0.06319369948404152\n",
      "The coefficient for covid_deaths is -0.004265621406160526\n",
      "The coefficient for perc_unemp is 0.0001690745428154219\n"
     ]
    }
   ],
   "source": [
    "for idx, col_name in enumerate(X_train.columns):\n",
    "    print(\"The coefficient for {} is {}\".format(col_name, regression_model.coef_[0][idx]))"
   ]
  },
  {
   "cell_type": "code",
   "execution_count": 19,
   "id": "30ccb376-9f0e-40ba-9f69-2dd77414a25b",
   "metadata": {},
   "outputs": [
    {
     "name": "stdout",
     "output_type": "stream",
     "text": [
      "The intercept for our model is 0.596730502871037\n"
     ]
    }
   ],
   "source": [
    "intercept = regression_model.intercept_[0]\n",
    "print(\"The intercept for our model is {}\".format(intercept))"
   ]
  },
  {
   "cell_type": "code",
   "execution_count": 20,
   "id": "18a18c2e-be11-4fd1-a9de-87f8c660126e",
   "metadata": {},
   "outputs": [
    {
     "name": "stdout",
     "output_type": "stream",
     "text": [
      "y =  0.596730502871037 +\n",
      "alcohol_deaths(0.15) + \n",
      "alcohol_sales(0.04) + \n",
      "drug_deaths(0.14) + \n",
      "homicides(0.06) + \n",
      "covid_deaths(-0.0) + \n",
      "perc_unemp(0.0) + \n"
     ]
    }
   ],
   "source": [
    "print(\"y = \",intercept, \"+\")\n",
    "for idx, col_name in enumerate(X_train.columns):\n",
    "    print(\"{}({}) + \".format(col_name, round(regression_model.coef_[0][idx],2)))\n",
    "#Our regression line for this model is: "
   ]
  },
  {
   "cell_type": "code",
   "execution_count": 21,
   "id": "2c147574-c93c-4455-9d7d-e0858166a820",
   "metadata": {},
   "outputs": [
    {
     "data": {
      "text/plain": [
       "0.6642966985775908"
      ]
     },
     "execution_count": 21,
     "metadata": {},
     "output_type": "execute_result"
    }
   ],
   "source": [
    "regression_model.score(X_test, y_test)"
   ]
  },
  {
   "cell_type": "code",
   "execution_count": 22,
   "id": "40235e2a-ef92-4b3c-b8fe-f4c7445530c9",
   "metadata": {},
   "outputs": [
    {
     "data": {
      "text/html": [
       "<table class=\"simpletable\">\n",
       "<caption>OLS Regression Results</caption>\n",
       "<tr>\n",
       "  <th>Dep. Variable:</th>     <td>suicide_deaths</td>  <th>  R-squared:         </th> <td>   0.742</td>\n",
       "</tr>\n",
       "<tr>\n",
       "  <th>Model:</th>                   <td>OLS</td>       <th>  Adj. R-squared:    </th> <td>   0.736</td>\n",
       "</tr>\n",
       "<tr>\n",
       "  <th>Method:</th>             <td>Least Squares</td>  <th>  F-statistic:       </th> <td>   117.6</td>\n",
       "</tr>\n",
       "<tr>\n",
       "  <th>Date:</th>             <td>Fri, 29 Jul 2022</td> <th>  Prob (F-statistic):</th> <td>3.19e-69</td>\n",
       "</tr>\n",
       "<tr>\n",
       "  <th>Time:</th>                 <td>12:42:34</td>     <th>  Log-Likelihood:    </th> <td>  326.88</td>\n",
       "</tr>\n",
       "<tr>\n",
       "  <th>No. Observations:</th>      <td>   252</td>      <th>  AIC:               </th> <td>  -639.8</td>\n",
       "</tr>\n",
       "<tr>\n",
       "  <th>Df Residuals:</th>          <td>   245</td>      <th>  BIC:               </th> <td>  -615.1</td>\n",
       "</tr>\n",
       "<tr>\n",
       "  <th>Df Model:</th>              <td>     6</td>      <th>                     </th>     <td> </td>   \n",
       "</tr>\n",
       "<tr>\n",
       "  <th>Covariance Type:</th>      <td>nonrobust</td>    <th>                     </th>     <td> </td>   \n",
       "</tr>\n",
       "</table>\n",
       "<table class=\"simpletable\">\n",
       "<tr>\n",
       "         <td></td>           <th>coef</th>     <th>std err</th>      <th>t</th>      <th>P>|t|</th>  <th>[0.025</th>    <th>0.975]</th>  \n",
       "</tr>\n",
       "<tr>\n",
       "  <th>Intercept</th>      <td>    0.5988</td> <td>    0.037</td> <td>   16.199</td> <td> 0.000</td> <td>    0.526</td> <td>    0.672</td>\n",
       "</tr>\n",
       "<tr>\n",
       "  <th>alcohol_deaths</th> <td>    0.1950</td> <td>    0.088</td> <td>    2.216</td> <td> 0.028</td> <td>    0.022</td> <td>    0.368</td>\n",
       "</tr>\n",
       "<tr>\n",
       "  <th>alcohol_sales</th>  <td>    0.0445</td> <td>    0.011</td> <td>    4.006</td> <td> 0.000</td> <td>    0.023</td> <td>    0.066</td>\n",
       "</tr>\n",
       "<tr>\n",
       "  <th>drug_deaths</th>    <td>    0.1139</td> <td>    0.033</td> <td>    3.494</td> <td> 0.001</td> <td>    0.050</td> <td>    0.178</td>\n",
       "</tr>\n",
       "<tr>\n",
       "  <th>homicides</th>      <td>    0.0754</td> <td>    0.031</td> <td>    2.411</td> <td> 0.017</td> <td>    0.014</td> <td>    0.137</td>\n",
       "</tr>\n",
       "<tr>\n",
       "  <th>covid_deaths</th>   <td>   -0.0036</td> <td>    0.000</td> <td>   -7.410</td> <td> 0.000</td> <td>   -0.005</td> <td>   -0.003</td>\n",
       "</tr>\n",
       "<tr>\n",
       "  <th>perc_unemp</th>     <td>   -0.0007</td> <td>    0.002</td> <td>   -0.366</td> <td> 0.715</td> <td>   -0.004</td> <td>    0.003</td>\n",
       "</tr>\n",
       "</table>\n",
       "<table class=\"simpletable\">\n",
       "<tr>\n",
       "  <th>Omnibus:</th>       <td> 5.428</td> <th>  Durbin-Watson:     </th> <td>   0.994</td>\n",
       "</tr>\n",
       "<tr>\n",
       "  <th>Prob(Omnibus):</th> <td> 0.066</td> <th>  Jarque-Bera (JB):  </th> <td>   5.285</td>\n",
       "</tr>\n",
       "<tr>\n",
       "  <th>Skew:</th>          <td>-0.353</td> <th>  Prob(JB):          </th> <td>  0.0712</td>\n",
       "</tr>\n",
       "<tr>\n",
       "  <th>Kurtosis:</th>      <td> 3.063</td> <th>  Cond. No.          </th> <td>    272.</td>\n",
       "</tr>\n",
       "</table><br/><br/>Notes:<br/>[1] Standard Errors assume that the covariance matrix of the errors is correctly specified."
      ],
      "text/plain": [
       "<class 'statsmodels.iolib.summary.Summary'>\n",
       "\"\"\"\n",
       "                            OLS Regression Results                            \n",
       "==============================================================================\n",
       "Dep. Variable:         suicide_deaths   R-squared:                       0.742\n",
       "Model:                            OLS   Adj. R-squared:                  0.736\n",
       "Method:                 Least Squares   F-statistic:                     117.6\n",
       "Date:                Fri, 29 Jul 2022   Prob (F-statistic):           3.19e-69\n",
       "Time:                        12:42:34   Log-Likelihood:                 326.88\n",
       "No. Observations:                 252   AIC:                            -639.8\n",
       "Df Residuals:                     245   BIC:                            -615.1\n",
       "Df Model:                           6                                         \n",
       "Covariance Type:            nonrobust                                         \n",
       "==================================================================================\n",
       "                     coef    std err          t      P>|t|      [0.025      0.975]\n",
       "----------------------------------------------------------------------------------\n",
       "Intercept          0.5988      0.037     16.199      0.000       0.526       0.672\n",
       "alcohol_deaths     0.1950      0.088      2.216      0.028       0.022       0.368\n",
       "alcohol_sales      0.0445      0.011      4.006      0.000       0.023       0.066\n",
       "drug_deaths        0.1139      0.033      3.494      0.001       0.050       0.178\n",
       "homicides          0.0754      0.031      2.411      0.017       0.014       0.137\n",
       "covid_deaths      -0.0036      0.000     -7.410      0.000      -0.005      -0.003\n",
       "perc_unemp        -0.0007      0.002     -0.366      0.715      -0.004       0.003\n",
       "==============================================================================\n",
       "Omnibus:                        5.428   Durbin-Watson:                   0.994\n",
       "Prob(Omnibus):                  0.066   Jarque-Bera (JB):                5.285\n",
       "Skew:                          -0.353   Prob(JB):                       0.0712\n",
       "Kurtosis:                       3.063   Cond. No.                         272.\n",
       "==============================================================================\n",
       "\n",
       "Notes:\n",
       "[1] Standard Errors assume that the covariance matrix of the errors is correctly specified.\n",
       "\"\"\""
      ]
     },
     "execution_count": 22,
     "metadata": {},
     "output_type": "execute_result"
    }
   ],
   "source": [
    "lm = sm.ols(formula='suicide_deaths ~ alcohol_deaths + alcohol_sales + drug_deaths + homicides + covid_deaths + perc_unemp', data=df)\n",
    "fit = lm.fit()\n",
    "fit.summary()"
   ]
  },
  {
   "cell_type": "code",
   "execution_count": 23,
   "id": "3c4b1a6f-aab2-4289-b692-1fef3cd86330",
   "metadata": {},
   "outputs": [],
   "source": [
    "from sklearn.metrics import mean_squared_error\n",
    "\n",
    "y_predict = regression_model.predict(X_test)\n",
    "\n",
    "#y_test\n",
    "#dates = y_test[y_test[\"su\"]==1]\n",
    "#print(dates)\n",
    "#print(y_test)\n",
    "#print(y_predict)"
   ]
  },
  {
   "cell_type": "code",
   "execution_count": 24,
   "id": "51f7e7f7-8a1b-46dc-875f-ff7b203fa44f",
   "metadata": {},
   "outputs": [
    {
     "data": {
      "text/plain": [
       "0.005704210678849249"
      ]
     },
     "execution_count": 24,
     "metadata": {},
     "output_type": "execute_result"
    }
   ],
   "source": [
    "regression_model_mse = mean_squared_error(y_predict, y_test)\n",
    "regression_model_mse"
   ]
  }
 ],
 "metadata": {
  "kernelspec": {
   "display_name": "Python 3",
   "language": "python",
   "name": "python3"
  },
  "language_info": {
   "codemirror_mode": {
    "name": "ipython",
    "version": 3
   },
   "file_extension": ".py",
   "mimetype": "text/x-python",
   "name": "python",
   "nbconvert_exporter": "python",
   "pygments_lexer": "ipython3",
   "version": "3.8.8"
  }
 },
 "nbformat": 4,
 "nbformat_minor": 5
}
