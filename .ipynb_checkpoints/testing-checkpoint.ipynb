{
 "cells": [
  {
   "cell_type": "code",
   "execution_count": null,
   "id": "c445d2d0-2d69-4806-8106-a2458077c703",
   "metadata": {},
   "outputs": [],
   "source": [
    "import pandas as pd\n",
    "import seaborn as sns\n",
    "import matplotlib.pyplot as plt\n",
    "from sklearn.model_selection import train_test_split\n",
    "from sklearn.linear_model import LogisticRegression\n",
    "from sklearn import metrics\n",
    "from sklearn.linear_model import LinearRegression\n",
    "from sklearn.metrics import r2_score\n",
    "import statsmodels.formula.api as sm\n",
    "import numpy as np"
   ]
  },
  {
   "cell_type": "code",
   "execution_count": null,
   "id": "ca78be51-f047-44d4-85c4-248cd0dd2f5c",
   "metadata": {},
   "outputs": [],
   "source": [
    "df = pd.read_csv(\"for_ml.csv\")"
   ]
  },
  {
   "cell_type": "code",
   "execution_count": 34,
   "id": "73012db4-3199-4842-99cb-818284a8badd",
   "metadata": {},
   "outputs": [],
   "source": [
    "X=df[['alcohol_deaths','alcohol_sales','drug_deaths','homicides','h1n1_dum','perc_unemp']]\n",
    "\n",
    "\n",
    "y=df[['suicide_deaths']]"
   ]
  },
  {
   "cell_type": "code",
   "execution_count": 35,
   "id": "49932c02-29a2-4086-ac9a-509bd70f6e5a",
   "metadata": {},
   "outputs": [
    {
     "data": {
      "text/plain": [
       "LinearRegression()"
      ]
     },
     "execution_count": 35,
     "metadata": {},
     "output_type": "execute_result"
    }
   ],
   "source": [
    "X_train, X_test, y_train, y_test = train_test_split(X, y, test_size=0.2, random_state=1)\n",
    "regression_model = LinearRegression()\n",
    "regression_model.fit(X_train, y_train)"
   ]
  },
  {
   "cell_type": "code",
   "execution_count": 36,
   "id": "91a06ee9-2c78-4e43-837f-88267d61c763",
   "metadata": {},
   "outputs": [
    {
     "name": "stdout",
     "output_type": "stream",
     "text": [
      "The coefficient for alcohol_deaths is -0.07083242686840303\n",
      "The coefficient for alcohol_sales is 0.05000797420470664\n",
      "The coefficient for drug_deaths is 0.176966312569154\n",
      "The coefficient for homicides is 0.08452633300576633\n",
      "The coefficient for h1n1_dum is 0.008862252924752782\n",
      "The coefficient for perc_unemp is -0.0025728344930176002\n"
     ]
    }
   ],
   "source": [
    "for idx, col_name in enumerate(X_train.columns):\n",
    "    print(\"The coefficient for {} is {}\".format(col_name, regression_model.coef_[0][idx]))"
   ]
  },
  {
   "cell_type": "code",
   "execution_count": 37,
   "id": "5c77c24d-3418-4a0d-96c8-5fac21a9dd38",
   "metadata": {},
   "outputs": [
    {
     "name": "stdout",
     "output_type": "stream",
     "text": [
      "The intercept for our model is 0.7046242111097667\n"
     ]
    }
   ],
   "source": [
    "intercept = regression_model.intercept_[0]\n",
    "print(\"The intercept for our model is {}\".format(intercept))"
   ]
  },
  {
   "cell_type": "code",
   "execution_count": 38,
   "id": "e773f61f-1fc9-4e4a-b271-d73e86a1a0d9",
   "metadata": {},
   "outputs": [
    {
     "name": "stdout",
     "output_type": "stream",
     "text": [
      "y =  0.7046242111097667 +\n",
      "alcohol_deaths(-0.07) + \n",
      "alcohol_sales(0.05) + \n",
      "drug_deaths(0.18) + \n",
      "homicides(0.08) + \n",
      "h1n1_dum(0.01) + \n",
      "perc_unemp(-0.0) + \n"
     ]
    }
   ],
   "source": [
    "print(\"y = \",intercept, \"+\")\n",
    "for idx, col_name in enumerate(X_train.columns):\n",
    "    print(\"{}({}) + \".format(col_name, round(regression_model.coef_[0][idx],2)))\n",
    "#Our regression line for this model is: "
   ]
  },
  {
   "cell_type": "code",
   "execution_count": 39,
   "id": "4866c8a9-bffc-459e-a877-fbbc4e931a21",
   "metadata": {},
   "outputs": [
    {
     "data": {
      "text/plain": [
       "0.5326852720585826"
      ]
     },
     "execution_count": 39,
     "metadata": {},
     "output_type": "execute_result"
    }
   ],
   "source": [
    "regression_model.score(X_test, y_test)"
   ]
  },
  {
   "cell_type": "code",
   "execution_count": 40,
   "id": "c5c91969-f0f1-44df-bea5-bcb69d027f31",
   "metadata": {},
   "outputs": [
    {
     "data": {
      "text/html": [
       "<table class=\"simpletable\">\n",
       "<caption>OLS Regression Results</caption>\n",
       "<tr>\n",
       "  <th>Dep. Variable:</th>        <td>covid_dum</td>    <th>  R-squared:         </th> <td>   0.576</td>\n",
       "</tr>\n",
       "<tr>\n",
       "  <th>Model:</th>                   <td>OLS</td>       <th>  Adj. R-squared:    </th> <td>   0.565</td>\n",
       "</tr>\n",
       "<tr>\n",
       "  <th>Method:</th>             <td>Least Squares</td>  <th>  F-statistic:       </th> <td>   55.38</td>\n",
       "</tr>\n",
       "<tr>\n",
       "  <th>Date:</th>             <td>Fri, 29 Jul 2022</td> <th>  Prob (F-statistic):</th> <td>6.49e-43</td>\n",
       "</tr>\n",
       "<tr>\n",
       "  <th>Time:</th>                 <td>12:07:01</td>     <th>  Log-Likelihood:    </th> <td>  150.62</td>\n",
       "</tr>\n",
       "<tr>\n",
       "  <th>No. Observations:</th>      <td>   252</td>      <th>  AIC:               </th> <td>  -287.2</td>\n",
       "</tr>\n",
       "<tr>\n",
       "  <th>Df Residuals:</th>          <td>   245</td>      <th>  BIC:               </th> <td>  -262.5</td>\n",
       "</tr>\n",
       "<tr>\n",
       "  <th>Df Model:</th>              <td>     6</td>      <th>                     </th>     <td> </td>   \n",
       "</tr>\n",
       "<tr>\n",
       "  <th>Covariance Type:</th>      <td>nonrobust</td>    <th>                     </th>     <td> </td>   \n",
       "</tr>\n",
       "</table>\n",
       "<table class=\"simpletable\">\n",
       "<tr>\n",
       "         <td></td>           <th>coef</th>     <th>std err</th>      <th>t</th>      <th>P>|t|</th>  <th>[0.025</th>    <th>0.975]</th>  \n",
       "</tr>\n",
       "<tr>\n",
       "  <th>Intercept</th>      <td>    0.1632</td> <td>    0.107</td> <td>    1.526</td> <td> 0.128</td> <td>   -0.048</td> <td>    0.374</td>\n",
       "</tr>\n",
       "<tr>\n",
       "  <th>alcohol_deaths</th> <td>    0.8868</td> <td>    0.154</td> <td>    5.741</td> <td> 0.000</td> <td>    0.583</td> <td>    1.191</td>\n",
       "</tr>\n",
       "<tr>\n",
       "  <th>alcohol_sales</th>  <td>   -0.0117</td> <td>    0.023</td> <td>   -0.507</td> <td> 0.612</td> <td>   -0.057</td> <td>    0.034</td>\n",
       "</tr>\n",
       "<tr>\n",
       "  <th>drug_deaths</th>    <td>    0.1927</td> <td>    0.067</td> <td>    2.897</td> <td> 0.004</td> <td>    0.062</td> <td>    0.324</td>\n",
       "</tr>\n",
       "<tr>\n",
       "  <th>homicides</th>      <td>   -0.1504</td> <td>    0.064</td> <td>   -2.364</td> <td> 0.019</td> <td>   -0.276</td> <td>   -0.025</td>\n",
       "</tr>\n",
       "<tr>\n",
       "  <th>suicide_deaths</th> <td>   -0.9793</td> <td>    0.116</td> <td>   -8.426</td> <td> 0.000</td> <td>   -1.208</td> <td>   -0.750</td>\n",
       "</tr>\n",
       "<tr>\n",
       "  <th>perc_unemp</th>     <td>    0.0149</td> <td>    0.004</td> <td>    4.188</td> <td> 0.000</td> <td>    0.008</td> <td>    0.022</td>\n",
       "</tr>\n",
       "</table>\n",
       "<table class=\"simpletable\">\n",
       "<tr>\n",
       "  <th>Omnibus:</th>       <td>89.129</td> <th>  Durbin-Watson:     </th> <td>   0.447</td>\n",
       "</tr>\n",
       "<tr>\n",
       "  <th>Prob(Omnibus):</th> <td> 0.000</td> <th>  Jarque-Bera (JB):  </th> <td> 436.488</td>\n",
       "</tr>\n",
       "<tr>\n",
       "  <th>Skew:</th>          <td> 1.340</td> <th>  Prob(JB):          </th> <td>1.65e-95</td>\n",
       "</tr>\n",
       "<tr>\n",
       "  <th>Kurtosis:</th>      <td> 8.864</td> <th>  Cond. No.          </th> <td>    152.</td>\n",
       "</tr>\n",
       "</table><br/><br/>Notes:<br/>[1] Standard Errors assume that the covariance matrix of the errors is correctly specified."
      ],
      "text/plain": [
       "<class 'statsmodels.iolib.summary.Summary'>\n",
       "\"\"\"\n",
       "                            OLS Regression Results                            \n",
       "==============================================================================\n",
       "Dep. Variable:              covid_dum   R-squared:                       0.576\n",
       "Model:                            OLS   Adj. R-squared:                  0.565\n",
       "Method:                 Least Squares   F-statistic:                     55.38\n",
       "Date:                Fri, 29 Jul 2022   Prob (F-statistic):           6.49e-43\n",
       "Time:                        12:07:01   Log-Likelihood:                 150.62\n",
       "No. Observations:                 252   AIC:                            -287.2\n",
       "Df Residuals:                     245   BIC:                            -262.5\n",
       "Df Model:                           6                                         \n",
       "Covariance Type:            nonrobust                                         \n",
       "==================================================================================\n",
       "                     coef    std err          t      P>|t|      [0.025      0.975]\n",
       "----------------------------------------------------------------------------------\n",
       "Intercept          0.1632      0.107      1.526      0.128      -0.048       0.374\n",
       "alcohol_deaths     0.8868      0.154      5.741      0.000       0.583       1.191\n",
       "alcohol_sales     -0.0117      0.023     -0.507      0.612      -0.057       0.034\n",
       "drug_deaths        0.1927      0.067      2.897      0.004       0.062       0.324\n",
       "homicides         -0.1504      0.064     -2.364      0.019      -0.276      -0.025\n",
       "suicide_deaths    -0.9793      0.116     -8.426      0.000      -1.208      -0.750\n",
       "perc_unemp         0.0149      0.004      4.188      0.000       0.008       0.022\n",
       "==============================================================================\n",
       "Omnibus:                       89.129   Durbin-Watson:                   0.447\n",
       "Prob(Omnibus):                  0.000   Jarque-Bera (JB):              436.488\n",
       "Skew:                           1.340   Prob(JB):                     1.65e-95\n",
       "Kurtosis:                       8.864   Cond. No.                         152.\n",
       "==============================================================================\n",
       "\n",
       "Notes:\n",
       "[1] Standard Errors assume that the covariance matrix of the errors is correctly specified.\n",
       "\"\"\""
      ]
     },
     "execution_count": 40,
     "metadata": {},
     "output_type": "execute_result"
    }
   ],
   "source": [
    "lm = sm.ols(formula='covid_dum ~ alcohol_deaths + alcohol_sales + drug_deaths + homicides + suicide_deaths + perc_unemp', data=df)\n",
    "fit = lm.fit()\n",
    "fit.summary()"
   ]
  },
  {
   "cell_type": "code",
   "execution_count": 41,
   "id": "fe96341c-14af-45e0-bf26-2d80615537e4",
   "metadata": {},
   "outputs": [],
   "source": [
    "from sklearn.metrics import mean_squared_error\n",
    "\n",
    "y_predict = regression_model.predict(X_test)\n",
    "\n",
    "#y_test\n",
    "#dates = y_test[y_test[\"su\"]==1]\n",
    "#print(dates)\n",
    "#print(y_test)\n",
    "#print(y_predict)"
   ]
  },
  {
   "cell_type": "code",
   "execution_count": 42,
   "id": "a5a39120-a4c1-429a-b192-2a504c69a1d2",
   "metadata": {},
   "outputs": [
    {
     "data": {
      "text/plain": [
       "0.00794052858644012"
      ]
     },
     "execution_count": 42,
     "metadata": {},
     "output_type": "execute_result"
    }
   ],
   "source": [
    "regression_model_mse = mean_squared_error(y_predict, y_test)\n",
    "regression_model_mse"
   ]
  }
 ],
 "metadata": {
  "kernelspec": {
   "display_name": "Python 3",
   "language": "python",
   "name": "python3"
  },
  "language_info": {
   "codemirror_mode": {
    "name": "ipython",
    "version": 3
   },
   "file_extension": ".py",
   "mimetype": "text/x-python",
   "name": "python",
   "nbconvert_exporter": "python",
   "pygments_lexer": "ipython3",
   "version": "3.8.8"
  }
 },
 "nbformat": 4,
 "nbformat_minor": 5
}
