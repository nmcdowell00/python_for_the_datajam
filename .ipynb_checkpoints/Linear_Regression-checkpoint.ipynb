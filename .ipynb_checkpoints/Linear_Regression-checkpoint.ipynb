{
 "cells": [
  {
   "cell_type": "markdown",
   "id": "f3bbae4c-9738-4eed-934b-39acda879d5c",
   "metadata": {},
   "source": [
    "# MACHINELEARNING"
   ]
  },
  {
   "cell_type": "code",
   "execution_count": 1,
   "id": "49d38ee0-3477-47d3-81de-890a7b3c72b0",
   "metadata": {},
   "outputs": [],
   "source": [
    "import pandas as pd\n",
    "import seaborn as sns\n",
    "import matplotlib.pyplot as plt\n",
    "from sklearn.model_selection import train_test_split\n",
    "from sklearn.linear_model import LogisticRegression\n",
    "from sklearn import metrics\n",
    "from sklearn.linear_model import LinearRegression\n",
    "from sklearn.metrics import r2_score\n",
    "import statsmodels.formula.api as sm\n",
    "import numpy as np"
   ]
  },
  {
   "cell_type": "code",
   "execution_count": 2,
   "id": "65beb76b-0eb7-4927-b4f6-736810978a2f",
   "metadata": {},
   "outputs": [],
   "source": [
    "def multiline(dataframe, exemptions):\n",
    "    for col in dataframe.columns:\n",
    "        if not col == exemptions:\n",
    "            ax = plt.plot(dataframe.index, dataframe[col], label=col)\n",
    "            listOf_Xticks = np.arange(0, len(dataframe), 24 )\n",
    "            plt.xticks(listOf_Xticks)\n",
    "    plt.xticks(rotation=45)\n",
    "    plt.legend()\n",
    "    plt.show()"
   ]
  },
  {
   "cell_type": "markdown",
   "id": "f78b0521-73f6-46b3-820b-a391a76bbc93",
   "metadata": {},
   "source": [
    "## Terms to Know\n",
    "- **R-squared**: the r2(2=squared) value represents how much of the variance in the data can be explained by the model. The higher the value, the better the model fits. \n",
    "- **Adjusted R-squared**: The adjusted r2 value is used to correct some of the problems with raw r2 score. Adjusted r2 accounts for the number of variables with a dataset, only increasing the r2 score if the variable aids in prediction to a degree greater than what would occur simply by chance. The adjusted r2 value can be used as a more accurate way to determine the fit of a model. \n",
    "    - **Best**: above 0.75\n",
    "    - **Decent**: above 0.4\n",
    "- **RMSE**: RMSE stands for root-mean-square deviation. In statistical terms, RMSE is the standard deviation of the residuals, residuals meausring the distance between data points and teh regression line. RMSE tells you how spread the data points are around the regression line; how well the data fits to the model. Lower values for RMSE mean a better fit because ethe data is *less* far from the model.\n",
    "    - **Best**: below 0.2\n",
    "    - **Decent**: below 0.5"
   ]
  },
  {
   "cell_type": "markdown",
   "id": "84c069aa-7109-45bb-8085-d3391d697b8d",
   "metadata": {},
   "source": [
    "## Contents\n",
    "1. [DUMMY_VARIABLES](#1.-DUMMY_VARIABLES)\n",
    "\n",
    "2. [LINEAR_REGRESSION](#2.-LINEAR_REGRESSION)\n",
    "    \n",
    "    2.1 [COVID](#2.1-COVID)\n",
    "    \n",
    "    2.2 [H1N1](#3.-H1N1)\n",
    "\n",
    "    2.3 [Both](#4.-Both)\n",
    "\n",
    "3. [DISCUSSION](#2.-DISCUSSION)"
   ]
  },
  {
   "cell_type": "markdown",
   "id": "93d22ff2-f0d0-4331-af4f-e77122e33a7f",
   "metadata": {},
   "source": [
    "## 1. DUMMY_VARIABLES\n",
    "\n",
    "\"A dummy variable is a variable that takes values of 0 and 1, where the values indicate the presence or absence of something\".(https://www.displayr.com/what-are-dummy-variables/). Dummy variables are very useful in statisitcs because they simply the approach to answering the question. By using dummy variablies, one simply has to estimate the likelihood of whether a 0 or 1 will appear at a certian instance, based on the surrounding variables. In our case, we are going to use dummy variables to show when there are covid deaths, h1n1 deaths, and then a variable for when either of them have deaths. "
   ]
  },
  {
   "cell_type": "code",
   "execution_count": 3,
   "id": "a4767da6-7ba8-47c7-939a-f1189d3d9eb9",
   "metadata": {},
   "outputs": [],
   "source": [
    "df = pd.read_csv(\"for_ml.csv\")"
   ]
  },
  {
   "cell_type": "code",
   "execution_count": 4,
   "id": "90272091-91c9-49e7-a7a6-4723fb8ec7ea",
   "metadata": {},
   "outputs": [
    {
     "data": {
      "text/html": [
       "<div>\n",
       "<style scoped>\n",
       "    .dataframe tbody tr th:only-of-type {\n",
       "        vertical-align: middle;\n",
       "    }\n",
       "\n",
       "    .dataframe tbody tr th {\n",
       "        vertical-align: top;\n",
       "    }\n",
       "\n",
       "    .dataframe thead th {\n",
       "        text-align: right;\n",
       "    }\n",
       "</style>\n",
       "<table border=\"1\" class=\"dataframe\">\n",
       "  <thead>\n",
       "    <tr style=\"text-align: right;\">\n",
       "      <th></th>\n",
       "      <th>date</th>\n",
       "      <th>us_pop</th>\n",
       "      <th>alcohol_deaths</th>\n",
       "      <th>alcohol_sales</th>\n",
       "      <th>drug_deaths</th>\n",
       "      <th>homicides</th>\n",
       "      <th>perc_unemp</th>\n",
       "      <th>suicide_deaths</th>\n",
       "      <th>h1n1_deaths</th>\n",
       "      <th>covid_deaths</th>\n",
       "      <th>gdp_period</th>\n",
       "      <th>yearly_infl</th>\n",
       "    </tr>\n",
       "  </thead>\n",
       "  <tbody>\n",
       "    <tr>\n",
       "      <th>0</th>\n",
       "      <td>2000-01-31</td>\n",
       "      <td>280730000.0</td>\n",
       "      <td>0.665408</td>\n",
       "      <td>1.511417</td>\n",
       "      <td>0.631568</td>\n",
       "      <td>0.0</td>\n",
       "      <td>0.0</td>\n",
       "      <td>0.923307</td>\n",
       "      <td>0.0</td>\n",
       "      <td>0.0</td>\n",
       "      <td>3.562918</td>\n",
       "      <td>0.001203</td>\n",
       "    </tr>\n",
       "    <tr>\n",
       "      <th>1</th>\n",
       "      <td>2000-02-29</td>\n",
       "      <td>280940000.0</td>\n",
       "      <td>0.584110</td>\n",
       "      <td>1.762654</td>\n",
       "      <td>0.590162</td>\n",
       "      <td>0.0</td>\n",
       "      <td>0.0</td>\n",
       "      <td>0.832206</td>\n",
       "      <td>0.0</td>\n",
       "      <td>0.0</td>\n",
       "      <td>3.560255</td>\n",
       "      <td>0.001202</td>\n",
       "    </tr>\n",
       "    <tr>\n",
       "      <th>2</th>\n",
       "      <td>2000-03-31</td>\n",
       "      <td>281160000.0</td>\n",
       "      <td>0.578318</td>\n",
       "      <td>2.136862</td>\n",
       "      <td>0.609973</td>\n",
       "      <td>0.0</td>\n",
       "      <td>0.0</td>\n",
       "      <td>0.896287</td>\n",
       "      <td>0.0</td>\n",
       "      <td>0.0</td>\n",
       "      <td>3.557469</td>\n",
       "      <td>0.001201</td>\n",
       "    </tr>\n",
       "    <tr>\n",
       "      <th>3</th>\n",
       "      <td>2000-04-30</td>\n",
       "      <td>281420000.0</td>\n",
       "      <td>0.552910</td>\n",
       "      <td>1.902139</td>\n",
       "      <td>0.627176</td>\n",
       "      <td>0.0</td>\n",
       "      <td>0.0</td>\n",
       "      <td>0.882311</td>\n",
       "      <td>0.0</td>\n",
       "      <td>0.0</td>\n",
       "      <td>3.641433</td>\n",
       "      <td>0.001200</td>\n",
       "    </tr>\n",
       "    <tr>\n",
       "      <th>4</th>\n",
       "      <td>2000-05-31</td>\n",
       "      <td>281640000.0</td>\n",
       "      <td>0.563840</td>\n",
       "      <td>2.284832</td>\n",
       "      <td>0.646570</td>\n",
       "      <td>0.0</td>\n",
       "      <td>0.0</td>\n",
       "      <td>0.930976</td>\n",
       "      <td>0.0</td>\n",
       "      <td>0.0</td>\n",
       "      <td>3.638588</td>\n",
       "      <td>0.001199</td>\n",
       "    </tr>\n",
       "  </tbody>\n",
       "</table>\n",
       "</div>"
      ],
      "text/plain": [
       "         date       us_pop  alcohol_deaths  alcohol_sales  drug_deaths  \\\n",
       "0  2000-01-31  280730000.0        0.665408       1.511417     0.631568   \n",
       "1  2000-02-29  280940000.0        0.584110       1.762654     0.590162   \n",
       "2  2000-03-31  281160000.0        0.578318       2.136862     0.609973   \n",
       "3  2000-04-30  281420000.0        0.552910       1.902139     0.627176   \n",
       "4  2000-05-31  281640000.0        0.563840       2.284832     0.646570   \n",
       "\n",
       "   homicides  perc_unemp  suicide_deaths  h1n1_deaths  covid_deaths  \\\n",
       "0        0.0         0.0        0.923307          0.0           0.0   \n",
       "1        0.0         0.0        0.832206          0.0           0.0   \n",
       "2        0.0         0.0        0.896287          0.0           0.0   \n",
       "3        0.0         0.0        0.882311          0.0           0.0   \n",
       "4        0.0         0.0        0.930976          0.0           0.0   \n",
       "\n",
       "   gdp_period  yearly_infl  \n",
       "0    3.562918     0.001203  \n",
       "1    3.560255     0.001202  \n",
       "2    3.557469     0.001201  \n",
       "3    3.641433     0.001200  \n",
       "4    3.638588     0.001199  "
      ]
     },
     "execution_count": 4,
     "metadata": {},
     "output_type": "execute_result"
    }
   ],
   "source": [
    "df.head()"
   ]
  },
  {
   "cell_type": "code",
   "execution_count": 5,
   "id": "d98c1de5-900c-4099-8937-b026519111fd",
   "metadata": {},
   "outputs": [
    {
     "name": "stdout",
     "output_type": "stream",
     "text": [
      "(252, 12)\n"
     ]
    },
    {
     "data": {
      "text/html": [
       "<div>\n",
       "<style scoped>\n",
       "    .dataframe tbody tr th:only-of-type {\n",
       "        vertical-align: middle;\n",
       "    }\n",
       "\n",
       "    .dataframe tbody tr th {\n",
       "        vertical-align: top;\n",
       "    }\n",
       "\n",
       "    .dataframe thead th {\n",
       "        text-align: right;\n",
       "    }\n",
       "</style>\n",
       "<table border=\"1\" class=\"dataframe\">\n",
       "  <thead>\n",
       "    <tr style=\"text-align: right;\">\n",
       "      <th></th>\n",
       "      <th>date</th>\n",
       "      <th>us_pop</th>\n",
       "      <th>alcohol_deaths</th>\n",
       "      <th>alcohol_sales</th>\n",
       "      <th>drug_deaths</th>\n",
       "      <th>homicides</th>\n",
       "      <th>perc_unemp</th>\n",
       "      <th>suicide_deaths</th>\n",
       "      <th>h1n1_deaths</th>\n",
       "      <th>covid_deaths</th>\n",
       "      <th>gdp_period</th>\n",
       "      <th>yearly_infl</th>\n",
       "    </tr>\n",
       "  </thead>\n",
       "  <tbody>\n",
       "    <tr>\n",
       "      <th>0</th>\n",
       "      <td>2000-01-31</td>\n",
       "      <td>280730000.0</td>\n",
       "      <td>0.665408</td>\n",
       "      <td>1.511417</td>\n",
       "      <td>0.631568</td>\n",
       "      <td>0.0</td>\n",
       "      <td>0.0</td>\n",
       "      <td>0.923307</td>\n",
       "      <td>0.0</td>\n",
       "      <td>0.0</td>\n",
       "      <td>3.562918</td>\n",
       "      <td>0.001203</td>\n",
       "    </tr>\n",
       "    <tr>\n",
       "      <th>1</th>\n",
       "      <td>2000-02-29</td>\n",
       "      <td>280940000.0</td>\n",
       "      <td>0.584110</td>\n",
       "      <td>1.762654</td>\n",
       "      <td>0.590162</td>\n",
       "      <td>0.0</td>\n",
       "      <td>0.0</td>\n",
       "      <td>0.832206</td>\n",
       "      <td>0.0</td>\n",
       "      <td>0.0</td>\n",
       "      <td>3.560255</td>\n",
       "      <td>0.001202</td>\n",
       "    </tr>\n",
       "    <tr>\n",
       "      <th>2</th>\n",
       "      <td>2000-03-31</td>\n",
       "      <td>281160000.0</td>\n",
       "      <td>0.578318</td>\n",
       "      <td>2.136862</td>\n",
       "      <td>0.609973</td>\n",
       "      <td>0.0</td>\n",
       "      <td>0.0</td>\n",
       "      <td>0.896287</td>\n",
       "      <td>0.0</td>\n",
       "      <td>0.0</td>\n",
       "      <td>3.557469</td>\n",
       "      <td>0.001201</td>\n",
       "    </tr>\n",
       "    <tr>\n",
       "      <th>3</th>\n",
       "      <td>2000-04-30</td>\n",
       "      <td>281420000.0</td>\n",
       "      <td>0.552910</td>\n",
       "      <td>1.902139</td>\n",
       "      <td>0.627176</td>\n",
       "      <td>0.0</td>\n",
       "      <td>0.0</td>\n",
       "      <td>0.882311</td>\n",
       "      <td>0.0</td>\n",
       "      <td>0.0</td>\n",
       "      <td>3.641433</td>\n",
       "      <td>0.001200</td>\n",
       "    </tr>\n",
       "    <tr>\n",
       "      <th>4</th>\n",
       "      <td>2000-05-31</td>\n",
       "      <td>281640000.0</td>\n",
       "      <td>0.563840</td>\n",
       "      <td>2.284832</td>\n",
       "      <td>0.646570</td>\n",
       "      <td>0.0</td>\n",
       "      <td>0.0</td>\n",
       "      <td>0.930976</td>\n",
       "      <td>0.0</td>\n",
       "      <td>0.0</td>\n",
       "      <td>3.638588</td>\n",
       "      <td>0.001199</td>\n",
       "    </tr>\n",
       "  </tbody>\n",
       "</table>\n",
       "</div>"
      ],
      "text/plain": [
       "         date       us_pop  alcohol_deaths  alcohol_sales  drug_deaths  \\\n",
       "0  2000-01-31  280730000.0        0.665408       1.511417     0.631568   \n",
       "1  2000-02-29  280940000.0        0.584110       1.762654     0.590162   \n",
       "2  2000-03-31  281160000.0        0.578318       2.136862     0.609973   \n",
       "3  2000-04-30  281420000.0        0.552910       1.902139     0.627176   \n",
       "4  2000-05-31  281640000.0        0.563840       2.284832     0.646570   \n",
       "\n",
       "   homicides  perc_unemp  suicide_deaths  h1n1_deaths  covid_deaths  \\\n",
       "0        0.0         0.0        0.923307          0.0           0.0   \n",
       "1        0.0         0.0        0.832206          0.0           0.0   \n",
       "2        0.0         0.0        0.896287          0.0           0.0   \n",
       "3        0.0         0.0        0.882311          0.0           0.0   \n",
       "4        0.0         0.0        0.930976          0.0           0.0   \n",
       "\n",
       "   gdp_period  yearly_infl  \n",
       "0    3.562918     0.001203  \n",
       "1    3.560255     0.001202  \n",
       "2    3.557469     0.001201  \n",
       "3    3.641433     0.001200  \n",
       "4    3.638588     0.001199  "
      ]
     },
     "execution_count": 5,
     "metadata": {},
     "output_type": "execute_result"
    }
   ],
   "source": [
    "print(df.shape)\n",
    "df.head()"
   ]
  },
  {
   "cell_type": "code",
   "execution_count": 6,
   "id": "156f320f-dca0-4bb3-8698-c4dfdd74d50f",
   "metadata": {},
   "outputs": [
    {
     "data": {
      "text/html": [
       "<div>\n",
       "<style scoped>\n",
       "    .dataframe tbody tr th:only-of-type {\n",
       "        vertical-align: middle;\n",
       "    }\n",
       "\n",
       "    .dataframe tbody tr th {\n",
       "        vertical-align: top;\n",
       "    }\n",
       "\n",
       "    .dataframe thead th {\n",
       "        text-align: right;\n",
       "    }\n",
       "</style>\n",
       "<table border=\"1\" class=\"dataframe\">\n",
       "  <thead>\n",
       "    <tr style=\"text-align: right;\">\n",
       "      <th></th>\n",
       "      <th>us_pop</th>\n",
       "      <th>alcohol_deaths</th>\n",
       "      <th>alcohol_sales</th>\n",
       "      <th>drug_deaths</th>\n",
       "      <th>homicides</th>\n",
       "      <th>perc_unemp</th>\n",
       "      <th>suicide_deaths</th>\n",
       "      <th>h1n1_deaths</th>\n",
       "      <th>covid_deaths</th>\n",
       "      <th>gdp_period</th>\n",
       "      <th>yearly_infl</th>\n",
       "    </tr>\n",
       "    <tr>\n",
       "      <th>date</th>\n",
       "      <th></th>\n",
       "      <th></th>\n",
       "      <th></th>\n",
       "      <th></th>\n",
       "      <th></th>\n",
       "      <th></th>\n",
       "      <th></th>\n",
       "      <th></th>\n",
       "      <th></th>\n",
       "      <th></th>\n",
       "      <th></th>\n",
       "    </tr>\n",
       "  </thead>\n",
       "  <tbody>\n",
       "    <tr>\n",
       "      <th>2000-01-31</th>\n",
       "      <td>280730000.0</td>\n",
       "      <td>0.665408</td>\n",
       "      <td>1.511417</td>\n",
       "      <td>0.631568</td>\n",
       "      <td>0.0</td>\n",
       "      <td>0.0</td>\n",
       "      <td>0.923307</td>\n",
       "      <td>0.0</td>\n",
       "      <td>0.0</td>\n",
       "      <td>3.562918</td>\n",
       "      <td>0.001203</td>\n",
       "    </tr>\n",
       "    <tr>\n",
       "      <th>2000-02-29</th>\n",
       "      <td>280940000.0</td>\n",
       "      <td>0.584110</td>\n",
       "      <td>1.762654</td>\n",
       "      <td>0.590162</td>\n",
       "      <td>0.0</td>\n",
       "      <td>0.0</td>\n",
       "      <td>0.832206</td>\n",
       "      <td>0.0</td>\n",
       "      <td>0.0</td>\n",
       "      <td>3.560255</td>\n",
       "      <td>0.001202</td>\n",
       "    </tr>\n",
       "    <tr>\n",
       "      <th>2000-03-31</th>\n",
       "      <td>281160000.0</td>\n",
       "      <td>0.578318</td>\n",
       "      <td>2.136862</td>\n",
       "      <td>0.609973</td>\n",
       "      <td>0.0</td>\n",
       "      <td>0.0</td>\n",
       "      <td>0.896287</td>\n",
       "      <td>0.0</td>\n",
       "      <td>0.0</td>\n",
       "      <td>3.557469</td>\n",
       "      <td>0.001201</td>\n",
       "    </tr>\n",
       "    <tr>\n",
       "      <th>2000-04-30</th>\n",
       "      <td>281420000.0</td>\n",
       "      <td>0.552910</td>\n",
       "      <td>1.902139</td>\n",
       "      <td>0.627176</td>\n",
       "      <td>0.0</td>\n",
       "      <td>0.0</td>\n",
       "      <td>0.882311</td>\n",
       "      <td>0.0</td>\n",
       "      <td>0.0</td>\n",
       "      <td>3.641433</td>\n",
       "      <td>0.001200</td>\n",
       "    </tr>\n",
       "    <tr>\n",
       "      <th>2000-05-31</th>\n",
       "      <td>281640000.0</td>\n",
       "      <td>0.563840</td>\n",
       "      <td>2.284832</td>\n",
       "      <td>0.646570</td>\n",
       "      <td>0.0</td>\n",
       "      <td>0.0</td>\n",
       "      <td>0.930976</td>\n",
       "      <td>0.0</td>\n",
       "      <td>0.0</td>\n",
       "      <td>3.638588</td>\n",
       "      <td>0.001199</td>\n",
       "    </tr>\n",
       "  </tbody>\n",
       "</table>\n",
       "</div>"
      ],
      "text/plain": [
       "                 us_pop  alcohol_deaths  alcohol_sales  drug_deaths  \\\n",
       "date                                                                  \n",
       "2000-01-31  280730000.0        0.665408       1.511417     0.631568   \n",
       "2000-02-29  280940000.0        0.584110       1.762654     0.590162   \n",
       "2000-03-31  281160000.0        0.578318       2.136862     0.609973   \n",
       "2000-04-30  281420000.0        0.552910       1.902139     0.627176   \n",
       "2000-05-31  281640000.0        0.563840       2.284832     0.646570   \n",
       "\n",
       "            homicides  perc_unemp  suicide_deaths  h1n1_deaths  covid_deaths  \\\n",
       "date                                                                           \n",
       "2000-01-31        0.0         0.0        0.923307          0.0           0.0   \n",
       "2000-02-29        0.0         0.0        0.832206          0.0           0.0   \n",
       "2000-03-31        0.0         0.0        0.896287          0.0           0.0   \n",
       "2000-04-30        0.0         0.0        0.882311          0.0           0.0   \n",
       "2000-05-31        0.0         0.0        0.930976          0.0           0.0   \n",
       "\n",
       "            gdp_period  yearly_infl  \n",
       "date                                 \n",
       "2000-01-31    3.562918     0.001203  \n",
       "2000-02-29    3.560255     0.001202  \n",
       "2000-03-31    3.557469     0.001201  \n",
       "2000-04-30    3.641433     0.001200  \n",
       "2000-05-31    3.638588     0.001199  "
      ]
     },
     "execution_count": 6,
     "metadata": {},
     "output_type": "execute_result"
    }
   ],
   "source": [
    "df.set_index('date',inplace=True)\n",
    "# the inplace parameter edits the object in place(alters the original item) so no new item is created. This makes it so we dont have to set\n",
    "# the command equal to the new dataframe.\n",
    "df.head()"
   ]
  },
  {
   "cell_type": "code",
   "execution_count": 7,
   "id": "c2943e80-29ec-4307-b5e3-7854de0fb2b4",
   "metadata": {},
   "outputs": [],
   "source": [
    "# these are the commands that are creating our dummy variables. We create a new column in the dataframe by fixing a unique name to the \n",
    "# dataframe, then setting it eqaul to our command. In this case or command finds whenever somethine(h1n1,covid, or both) is NOT equal to\n",
    "# zero, then adds a 1 at the repspective instance into the unique dummy column. \n",
    "\n",
    "df['h1n1_dum'] = 1 *(df['h1n1_deaths'] != 0)\n",
    "df['covid_dum'] = 1 *(df['covid_deaths'] != 0)\n",
    "df['pandemic'] = 1* ((df['h1n1_deaths'] != 0) | (df['covid_deaths'] != 0)  )"
   ]
  },
  {
   "cell_type": "code",
   "execution_count": 8,
   "id": "08af79d3-eb4b-44b4-9381-e83438195ee0",
   "metadata": {},
   "outputs": [
    {
     "data": {
      "text/plain": [
       "(252, 14)"
      ]
     },
     "metadata": {},
     "output_type": "display_data"
    },
    {
     "data": {
      "text/html": [
       "<div>\n",
       "<style scoped>\n",
       "    .dataframe tbody tr th:only-of-type {\n",
       "        vertical-align: middle;\n",
       "    }\n",
       "\n",
       "    .dataframe tbody tr th {\n",
       "        vertical-align: top;\n",
       "    }\n",
       "\n",
       "    .dataframe thead th {\n",
       "        text-align: right;\n",
       "    }\n",
       "</style>\n",
       "<table border=\"1\" class=\"dataframe\">\n",
       "  <thead>\n",
       "    <tr style=\"text-align: right;\">\n",
       "      <th></th>\n",
       "      <th>us_pop</th>\n",
       "      <th>alcohol_deaths</th>\n",
       "      <th>alcohol_sales</th>\n",
       "      <th>drug_deaths</th>\n",
       "      <th>homicides</th>\n",
       "      <th>perc_unemp</th>\n",
       "      <th>suicide_deaths</th>\n",
       "      <th>h1n1_deaths</th>\n",
       "      <th>covid_deaths</th>\n",
       "      <th>gdp_period</th>\n",
       "      <th>yearly_infl</th>\n",
       "      <th>h1n1_dum</th>\n",
       "      <th>covid_dum</th>\n",
       "      <th>pandemic</th>\n",
       "    </tr>\n",
       "    <tr>\n",
       "      <th>date</th>\n",
       "      <th></th>\n",
       "      <th></th>\n",
       "      <th></th>\n",
       "      <th></th>\n",
       "      <th></th>\n",
       "      <th></th>\n",
       "      <th></th>\n",
       "      <th></th>\n",
       "      <th></th>\n",
       "      <th></th>\n",
       "      <th></th>\n",
       "      <th></th>\n",
       "      <th></th>\n",
       "      <th></th>\n",
       "    </tr>\n",
       "  </thead>\n",
       "  <tbody>\n",
       "    <tr>\n",
       "      <th>2000-01-31</th>\n",
       "      <td>280730000.0</td>\n",
       "      <td>0.665408</td>\n",
       "      <td>1.511417</td>\n",
       "      <td>0.631568</td>\n",
       "      <td>0.0</td>\n",
       "      <td>0.0</td>\n",
       "      <td>0.923307</td>\n",
       "      <td>0.0</td>\n",
       "      <td>0.0</td>\n",
       "      <td>3.562918</td>\n",
       "      <td>0.001203</td>\n",
       "      <td>0</td>\n",
       "      <td>0</td>\n",
       "      <td>0</td>\n",
       "    </tr>\n",
       "    <tr>\n",
       "      <th>2000-02-29</th>\n",
       "      <td>280940000.0</td>\n",
       "      <td>0.584110</td>\n",
       "      <td>1.762654</td>\n",
       "      <td>0.590162</td>\n",
       "      <td>0.0</td>\n",
       "      <td>0.0</td>\n",
       "      <td>0.832206</td>\n",
       "      <td>0.0</td>\n",
       "      <td>0.0</td>\n",
       "      <td>3.560255</td>\n",
       "      <td>0.001202</td>\n",
       "      <td>0</td>\n",
       "      <td>0</td>\n",
       "      <td>0</td>\n",
       "    </tr>\n",
       "    <tr>\n",
       "      <th>2000-03-31</th>\n",
       "      <td>281160000.0</td>\n",
       "      <td>0.578318</td>\n",
       "      <td>2.136862</td>\n",
       "      <td>0.609973</td>\n",
       "      <td>0.0</td>\n",
       "      <td>0.0</td>\n",
       "      <td>0.896287</td>\n",
       "      <td>0.0</td>\n",
       "      <td>0.0</td>\n",
       "      <td>3.557469</td>\n",
       "      <td>0.001201</td>\n",
       "      <td>0</td>\n",
       "      <td>0</td>\n",
       "      <td>0</td>\n",
       "    </tr>\n",
       "    <tr>\n",
       "      <th>2000-04-30</th>\n",
       "      <td>281420000.0</td>\n",
       "      <td>0.552910</td>\n",
       "      <td>1.902139</td>\n",
       "      <td>0.627176</td>\n",
       "      <td>0.0</td>\n",
       "      <td>0.0</td>\n",
       "      <td>0.882311</td>\n",
       "      <td>0.0</td>\n",
       "      <td>0.0</td>\n",
       "      <td>3.641433</td>\n",
       "      <td>0.001200</td>\n",
       "      <td>0</td>\n",
       "      <td>0</td>\n",
       "      <td>0</td>\n",
       "    </tr>\n",
       "    <tr>\n",
       "      <th>2000-05-31</th>\n",
       "      <td>281640000.0</td>\n",
       "      <td>0.563840</td>\n",
       "      <td>2.284832</td>\n",
       "      <td>0.646570</td>\n",
       "      <td>0.0</td>\n",
       "      <td>0.0</td>\n",
       "      <td>0.930976</td>\n",
       "      <td>0.0</td>\n",
       "      <td>0.0</td>\n",
       "      <td>3.638588</td>\n",
       "      <td>0.001199</td>\n",
       "      <td>0</td>\n",
       "      <td>0</td>\n",
       "      <td>0</td>\n",
       "    </tr>\n",
       "  </tbody>\n",
       "</table>\n",
       "</div>"
      ],
      "text/plain": [
       "                 us_pop  alcohol_deaths  alcohol_sales  drug_deaths  \\\n",
       "date                                                                  \n",
       "2000-01-31  280730000.0        0.665408       1.511417     0.631568   \n",
       "2000-02-29  280940000.0        0.584110       1.762654     0.590162   \n",
       "2000-03-31  281160000.0        0.578318       2.136862     0.609973   \n",
       "2000-04-30  281420000.0        0.552910       1.902139     0.627176   \n",
       "2000-05-31  281640000.0        0.563840       2.284832     0.646570   \n",
       "\n",
       "            homicides  perc_unemp  suicide_deaths  h1n1_deaths  covid_deaths  \\\n",
       "date                                                                           \n",
       "2000-01-31        0.0         0.0        0.923307          0.0           0.0   \n",
       "2000-02-29        0.0         0.0        0.832206          0.0           0.0   \n",
       "2000-03-31        0.0         0.0        0.896287          0.0           0.0   \n",
       "2000-04-30        0.0         0.0        0.882311          0.0           0.0   \n",
       "2000-05-31        0.0         0.0        0.930976          0.0           0.0   \n",
       "\n",
       "            gdp_period  yearly_infl  h1n1_dum  covid_dum  pandemic  \n",
       "date                                                                \n",
       "2000-01-31    3.562918     0.001203         0          0         0  \n",
       "2000-02-29    3.560255     0.001202         0          0         0  \n",
       "2000-03-31    3.557469     0.001201         0          0         0  \n",
       "2000-04-30    3.641433     0.001200         0          0         0  \n",
       "2000-05-31    3.638588     0.001199         0          0         0  "
      ]
     },
     "execution_count": 8,
     "metadata": {},
     "output_type": "execute_result"
    }
   ],
   "source": [
    "display(df.shape)\n",
    "df.head()"
   ]
  },
  {
   "cell_type": "code",
   "execution_count": 9,
   "id": "dd2bbc6a-5ccb-488f-8820-806b7f5c7c8d",
   "metadata": {},
   "outputs": [
    {
     "data": {
      "text/html": [
       "<div>\n",
       "<style scoped>\n",
       "    .dataframe tbody tr th:only-of-type {\n",
       "        vertical-align: middle;\n",
       "    }\n",
       "\n",
       "    .dataframe tbody tr th {\n",
       "        vertical-align: top;\n",
       "    }\n",
       "\n",
       "    .dataframe thead th {\n",
       "        text-align: right;\n",
       "    }\n",
       "</style>\n",
       "<table border=\"1\" class=\"dataframe\">\n",
       "  <thead>\n",
       "    <tr style=\"text-align: right;\">\n",
       "      <th></th>\n",
       "      <th>us_pop</th>\n",
       "      <th>alcohol_deaths</th>\n",
       "      <th>alcohol_sales</th>\n",
       "      <th>drug_deaths</th>\n",
       "      <th>homicides</th>\n",
       "      <th>perc_unemp</th>\n",
       "      <th>suicide_deaths</th>\n",
       "      <th>h1n1_deaths</th>\n",
       "      <th>covid_deaths</th>\n",
       "      <th>gdp_period</th>\n",
       "      <th>yearly_infl</th>\n",
       "      <th>h1n1_dum</th>\n",
       "      <th>covid_dum</th>\n",
       "      <th>pandemic</th>\n",
       "    </tr>\n",
       "    <tr>\n",
       "      <th>date</th>\n",
       "      <th></th>\n",
       "      <th></th>\n",
       "      <th></th>\n",
       "      <th></th>\n",
       "      <th></th>\n",
       "      <th></th>\n",
       "      <th></th>\n",
       "      <th></th>\n",
       "      <th></th>\n",
       "      <th></th>\n",
       "      <th></th>\n",
       "      <th></th>\n",
       "      <th></th>\n",
       "      <th></th>\n",
       "    </tr>\n",
       "  </thead>\n",
       "  <tbody>\n",
       "    <tr>\n",
       "      <th>2020-02-29</th>\n",
       "      <td>329240000.0</td>\n",
       "      <td>0.983477</td>\n",
       "      <td>3.422124</td>\n",
       "      <td>2.032256</td>\n",
       "      <td>0.443749</td>\n",
       "      <td>3.5</td>\n",
       "      <td>1.109221</td>\n",
       "      <td>0.0</td>\n",
       "      <td>0.000304</td>\n",
       "      <td>6.524531</td>\n",
       "      <td>0.000375</td>\n",
       "      <td>0</td>\n",
       "      <td>1</td>\n",
       "      <td>1</td>\n",
       "    </tr>\n",
       "    <tr>\n",
       "      <th>2020-03-31</th>\n",
       "      <td>329340000.0</td>\n",
       "      <td>1.080646</td>\n",
       "      <td>4.062974</td>\n",
       "      <td>2.294286</td>\n",
       "      <td>0.511933</td>\n",
       "      <td>4.4</td>\n",
       "      <td>1.199976</td>\n",
       "      <td>0.0</td>\n",
       "      <td>1.306856</td>\n",
       "      <td>6.522550</td>\n",
       "      <td>0.000375</td>\n",
       "      <td>0</td>\n",
       "      <td>1</td>\n",
       "      <td>1</td>\n",
       "    </tr>\n",
       "    <tr>\n",
       "      <th>2020-04-30</th>\n",
       "      <td>331450000.0</td>\n",
       "      <td>1.156132</td>\n",
       "      <td>3.690451</td>\n",
       "      <td>2.493287</td>\n",
       "      <td>0.525569</td>\n",
       "      <td>14.7</td>\n",
       "      <td>1.047820</td>\n",
       "      <td>0.0</td>\n",
       "      <td>19.049630</td>\n",
       "      <td>5.876435</td>\n",
       "      <td>0.000372</td>\n",
       "      <td>0</td>\n",
       "      <td>1</td>\n",
       "      <td>1</td>\n",
       "    </tr>\n",
       "    <tr>\n",
       "      <th>2020-05-31</th>\n",
       "      <td>331420000.0</td>\n",
       "      <td>1.221713</td>\n",
       "      <td>4.223342</td>\n",
       "      <td>2.940680</td>\n",
       "      <td>0.621870</td>\n",
       "      <td>13.2</td>\n",
       "      <td>1.133305</td>\n",
       "      <td>0.0</td>\n",
       "      <td>31.494478</td>\n",
       "      <td>5.876967</td>\n",
       "      <td>0.000372</td>\n",
       "      <td>0</td>\n",
       "      <td>1</td>\n",
       "      <td>1</td>\n",
       "    </tr>\n",
       "    <tr>\n",
       "      <th>2020-06-30</th>\n",
       "      <td>331450000.0</td>\n",
       "      <td>1.272590</td>\n",
       "      <td>4.861065</td>\n",
       "      <td>2.562377</td>\n",
       "      <td>0.677327</td>\n",
       "      <td>11.0</td>\n",
       "      <td>1.194750</td>\n",
       "      <td>0.0</td>\n",
       "      <td>38.455876</td>\n",
       "      <td>5.876435</td>\n",
       "      <td>0.000372</td>\n",
       "      <td>0</td>\n",
       "      <td>1</td>\n",
       "      <td>1</td>\n",
       "    </tr>\n",
       "    <tr>\n",
       "      <th>2020-07-31</th>\n",
       "      <td>331500000.0</td>\n",
       "      <td>1.360181</td>\n",
       "      <td>4.726998</td>\n",
       "      <td>2.662142</td>\n",
       "      <td>0.726395</td>\n",
       "      <td>10.2</td>\n",
       "      <td>1.257315</td>\n",
       "      <td>0.0</td>\n",
       "      <td>46.413876</td>\n",
       "      <td>6.376644</td>\n",
       "      <td>0.000372</td>\n",
       "      <td>0</td>\n",
       "      <td>1</td>\n",
       "      <td>1</td>\n",
       "    </tr>\n",
       "    <tr>\n",
       "      <th>2020-08-31</th>\n",
       "      <td>331560000.0</td>\n",
       "      <td>1.315599</td>\n",
       "      <td>4.608819</td>\n",
       "      <td>2.591688</td>\n",
       "      <td>0.701532</td>\n",
       "      <td>8.4</td>\n",
       "      <td>1.218482</td>\n",
       "      <td>0.0</td>\n",
       "      <td>55.335987</td>\n",
       "      <td>6.375490</td>\n",
       "      <td>0.000372</td>\n",
       "      <td>0</td>\n",
       "      <td>1</td>\n",
       "      <td>1</td>\n",
       "    </tr>\n",
       "    <tr>\n",
       "      <th>2020-09-30</th>\n",
       "      <td>331630000.0</td>\n",
       "      <td>1.274312</td>\n",
       "      <td>4.675693</td>\n",
       "      <td>2.347797</td>\n",
       "      <td>0.651931</td>\n",
       "      <td>7.9</td>\n",
       "      <td>1.178422</td>\n",
       "      <td>0.0</td>\n",
       "      <td>62.374333</td>\n",
       "      <td>6.374144</td>\n",
       "      <td>0.000372</td>\n",
       "      <td>0</td>\n",
       "      <td>1</td>\n",
       "      <td>1</td>\n",
       "    </tr>\n",
       "    <tr>\n",
       "      <th>2020-10-31</th>\n",
       "      <td>331700000.0</td>\n",
       "      <td>1.314139</td>\n",
       "      <td>4.880314</td>\n",
       "      <td>2.325294</td>\n",
       "      <td>0.707869</td>\n",
       "      <td>6.9</td>\n",
       "      <td>1.139885</td>\n",
       "      <td>0.0</td>\n",
       "      <td>69.494121</td>\n",
       "      <td>6.475007</td>\n",
       "      <td>0.000372</td>\n",
       "      <td>0</td>\n",
       "      <td>1</td>\n",
       "      <td>1</td>\n",
       "    </tr>\n",
       "    <tr>\n",
       "      <th>2020-11-30</th>\n",
       "      <td>331750000.0</td>\n",
       "      <td>1.334439</td>\n",
       "      <td>4.505200</td>\n",
       "      <td>2.305652</td>\n",
       "      <td>0.669781</td>\n",
       "      <td>6.7</td>\n",
       "      <td>1.116503</td>\n",
       "      <td>0.0</td>\n",
       "      <td>80.793067</td>\n",
       "      <td>6.474031</td>\n",
       "      <td>0.000372</td>\n",
       "      <td>0</td>\n",
       "      <td>1</td>\n",
       "      <td>1</td>\n",
       "    </tr>\n",
       "    <tr>\n",
       "      <th>2020-12-31</th>\n",
       "      <td>331750000.0</td>\n",
       "      <td>1.399548</td>\n",
       "      <td>4.923888</td>\n",
       "      <td>2.387641</td>\n",
       "      <td>0.667069</td>\n",
       "      <td>6.7</td>\n",
       "      <td>1.072796</td>\n",
       "      <td>0.0</td>\n",
       "      <td>104.310475</td>\n",
       "      <td>6.474031</td>\n",
       "      <td>0.000372</td>\n",
       "      <td>0</td>\n",
       "      <td>1</td>\n",
       "      <td>1</td>\n",
       "    </tr>\n",
       "  </tbody>\n",
       "</table>\n",
       "</div>"
      ],
      "text/plain": [
       "                 us_pop  alcohol_deaths  alcohol_sales  drug_deaths  \\\n",
       "date                                                                  \n",
       "2020-02-29  329240000.0        0.983477       3.422124     2.032256   \n",
       "2020-03-31  329340000.0        1.080646       4.062974     2.294286   \n",
       "2020-04-30  331450000.0        1.156132       3.690451     2.493287   \n",
       "2020-05-31  331420000.0        1.221713       4.223342     2.940680   \n",
       "2020-06-30  331450000.0        1.272590       4.861065     2.562377   \n",
       "2020-07-31  331500000.0        1.360181       4.726998     2.662142   \n",
       "2020-08-31  331560000.0        1.315599       4.608819     2.591688   \n",
       "2020-09-30  331630000.0        1.274312       4.675693     2.347797   \n",
       "2020-10-31  331700000.0        1.314139       4.880314     2.325294   \n",
       "2020-11-30  331750000.0        1.334439       4.505200     2.305652   \n",
       "2020-12-31  331750000.0        1.399548       4.923888     2.387641   \n",
       "\n",
       "            homicides  perc_unemp  suicide_deaths  h1n1_deaths  covid_deaths  \\\n",
       "date                                                                           \n",
       "2020-02-29   0.443749         3.5        1.109221          0.0      0.000304   \n",
       "2020-03-31   0.511933         4.4        1.199976          0.0      1.306856   \n",
       "2020-04-30   0.525569        14.7        1.047820          0.0     19.049630   \n",
       "2020-05-31   0.621870        13.2        1.133305          0.0     31.494478   \n",
       "2020-06-30   0.677327        11.0        1.194750          0.0     38.455876   \n",
       "2020-07-31   0.726395        10.2        1.257315          0.0     46.413876   \n",
       "2020-08-31   0.701532         8.4        1.218482          0.0     55.335987   \n",
       "2020-09-30   0.651931         7.9        1.178422          0.0     62.374333   \n",
       "2020-10-31   0.707869         6.9        1.139885          0.0     69.494121   \n",
       "2020-11-30   0.669781         6.7        1.116503          0.0     80.793067   \n",
       "2020-12-31   0.667069         6.7        1.072796          0.0    104.310475   \n",
       "\n",
       "            gdp_period  yearly_infl  h1n1_dum  covid_dum  pandemic  \n",
       "date                                                                \n",
       "2020-02-29    6.524531     0.000375         0          1         1  \n",
       "2020-03-31    6.522550     0.000375         0          1         1  \n",
       "2020-04-30    5.876435     0.000372         0          1         1  \n",
       "2020-05-31    5.876967     0.000372         0          1         1  \n",
       "2020-06-30    5.876435     0.000372         0          1         1  \n",
       "2020-07-31    6.376644     0.000372         0          1         1  \n",
       "2020-08-31    6.375490     0.000372         0          1         1  \n",
       "2020-09-30    6.374144     0.000372         0          1         1  \n",
       "2020-10-31    6.475007     0.000372         0          1         1  \n",
       "2020-11-30    6.474031     0.000372         0          1         1  \n",
       "2020-12-31    6.474031     0.000372         0          1         1  "
      ]
     },
     "execution_count": 9,
     "metadata": {},
     "output_type": "execute_result"
    }
   ],
   "source": [
    "# testing to see if my command above worked correctly. It did! \n",
    "df.loc[df['covid_dum']==1]\n",
    "# this command returns all values equal to 1 in the repsective column I queried. You can use this formant to find all the instances of\n",
    "# any datatype within any column. "
   ]
  },
  {
   "cell_type": "markdown",
   "id": "53d47bd3-7f53-44d0-a058-05708a565fea",
   "metadata": {},
   "source": [
    "# 2. LINEAR_REGRESSION\n",
    "<hr>\n",
    "Linear Regression is a statistical approach that models the relationship of indepencdent variables and a single dependent variable. We will be using the 3 dummy variables we created as our dependent variables(as we are trying to prove how much a pandemic \"depends\" on our selected factors). The linear regression will help us deteremine how strongly each independent variable affects the different dependent variables. "
   ]
  },
  {
   "cell_type": "markdown",
   "id": "1e43e5ac-d095-4393-811c-9fdd383a736f",
   "metadata": {},
   "source": [
    "## 2.1 COVID"
   ]
  },
  {
   "cell_type": "code",
   "execution_count": 10,
   "id": "cf88220c-555a-458c-bcd3-3195011e08b5",
   "metadata": {},
   "outputs": [],
   "source": [
    "# here we set our variables. \"X\" = independent, \"y\" = dependent. \n",
    "#X=df[['alcohol_deaths','alcohol_sales','drug_deaths','homicides','suicide_deaths','perc_unemp','gdp_period','yearly_infl']]\n",
    "X=df[['alcohol_deaths','alcohol_sales','drug_deaths','homicides','suicide_deaths','perc_unemp']]\n",
    "\n",
    "\n",
    "y=df[['covid_dum']]"
   ]
  },
  {
   "cell_type": "markdown",
   "id": "45b5ad85-4203-4013-8af8-73c97c511de9",
   "metadata": {},
   "source": [
    "The commanand below splits our data into the test and training set. The training set is used to train the model, basically teaching the model the best weights to set each vaiable at. The test set is used for testing the trained model on. The testing of the model will be explained via demonstration below. \n",
    "\n",
    "As for my split, I put 20% of the data in the training set and 80% of data in the testing set. This is set with the \"test_size\" parameter in the \"train_test_split\" function. I found this split to be effective at building a good model; however, feel free to play around with differnt sizes to see how it affects your model. "
   ]
  },
  {
   "cell_type": "code",
   "execution_count": 11,
   "id": "37f72768-3a32-4245-9b56-565a8edc493d",
   "metadata": {},
   "outputs": [],
   "source": [
    "X_train, X_test, y_train, y_test = train_test_split(X, y, test_size=0.2, random_state=1)"
   ]
  },
  {
   "cell_type": "code",
   "execution_count": 12,
   "id": "17bef750-0198-4f7a-938f-31ae9cb23022",
   "metadata": {},
   "outputs": [
    {
     "data": {
      "text/plain": [
       "LinearRegression()"
      ]
     },
     "execution_count": 12,
     "metadata": {},
     "output_type": "execute_result"
    }
   ],
   "source": [
    "regression_model = LinearRegression()\n",
    "regression_model.fit(X_train, y_train)"
   ]
  },
  {
   "cell_type": "markdown",
   "id": "2bf3dc06-5e94-4ffb-acfd-d73b9017e337",
   "metadata": {},
   "source": [
    "### Model"
   ]
  },
  {
   "cell_type": "code",
   "execution_count": 13,
   "id": "d1fc8664-0746-4742-998b-b5e0744e4612",
   "metadata": {},
   "outputs": [
    {
     "name": "stdout",
     "output_type": "stream",
     "text": [
      "The coefficient for alcohol_deaths is 0.7934712813658187\n",
      "The coefficient for alcohol_sales is -0.008359996820817608\n",
      "The coefficient for drug_deaths is 0.15812528944120274\n",
      "The coefficient for homicides is -0.13470939302663698\n",
      "The coefficient for suicide_deaths is -0.832655245881351\n",
      "The coefficient for perc_unemp is 0.01456194530873043\n"
     ]
    }
   ],
   "source": [
    "for idx, col_name in enumerate(X_train.columns):\n",
    "    print(\"The coefficient for {} is {}\".format(col_name, regression_model.coef_[0][idx]))\n",
    "    # This function trains the model and assigns the weight for each function. The higher the value of coefficient indicates that as the \n",
    "# indepenent variable increases the dependent variable also tends to increase."
   ]
  },
  {
   "cell_type": "code",
   "execution_count": 14,
   "id": "a3a83a87-fb25-4493-8f67-22c633d543f0",
   "metadata": {},
   "outputs": [
    {
     "name": "stdout",
     "output_type": "stream",
     "text": [
      "The intercept for our model is 0.1042107130109392\n"
     ]
    }
   ],
   "source": [
    "intercept = regression_model.intercept_[0]\n",
    "print(\"The intercept for our model is {}\".format(intercept))\n",
    "# this function is used to find the y intercept of our data(the value of our y variable when x = 0)"
   ]
  },
  {
   "cell_type": "code",
   "execution_count": 15,
   "id": "b1b3fdd2-9f37-4118-becd-15dd39ff6011",
   "metadata": {},
   "outputs": [
    {
     "name": "stdout",
     "output_type": "stream",
     "text": [
      "y =  0.1042107130109392 +\n",
      "alcohol_deaths(0.79) + \n",
      "alcohol_sales(-0.01) + \n",
      "drug_deaths(0.16) + \n",
      "homicides(-0.13) + \n",
      "suicide_deaths(-0.83) + \n",
      "perc_unemp(0.01) + \n"
     ]
    }
   ],
   "source": [
    "print(\"y = \",intercept, \"+\")\n",
    "for idx, col_name in enumerate(X_train.columns):\n",
    "    print(\"{}({}) + \".format(col_name, round(regression_model.coef_[0][idx],2)))\n",
    "#Our regression line for this model is: "
   ]
  },
  {
   "cell_type": "markdown",
   "id": "2db8c6cc-39c3-42f7-b581-8ae605be6d07",
   "metadata": {},
   "source": [
    " In THIS model(COVID) the highest coeffecient is for alcohol_deaths. This means that it is likely more alcohol deaths will occur if COVID deaths rise. The other variables in this model have negative correlations. This means the as COVID deaths rise their repspective values will fall. "
   ]
  },
  {
   "cell_type": "markdown",
   "id": "d807dc6a-8500-48dd-96b0-661961f94d43",
   "metadata": {},
   "source": [
    "### R squared"
   ]
  },
  {
   "cell_type": "code",
   "execution_count": 16,
   "id": "e4d7ce4f-c041-4f65-a573-a6dc517451a6",
   "metadata": {},
   "outputs": [
    {
     "data": {
      "text/plain": [
       "0.6259613884585976"
      ]
     },
     "execution_count": 16,
     "metadata": {},
     "output_type": "execute_result"
    }
   ],
   "source": [
    "regression_model.score(X_test, y_test)"
   ]
  },
  {
   "cell_type": "code",
   "execution_count": 17,
   "id": "4f649163-e42a-433b-9d0a-48d9222b190d",
   "metadata": {},
   "outputs": [
    {
     "data": {
      "text/html": [
       "<table class=\"simpletable\">\n",
       "<caption>OLS Regression Results</caption>\n",
       "<tr>\n",
       "  <th>Dep. Variable:</th>        <td>covid_dum</td>    <th>  R-squared:         </th> <td>   0.576</td>\n",
       "</tr>\n",
       "<tr>\n",
       "  <th>Model:</th>                   <td>OLS</td>       <th>  Adj. R-squared:    </th> <td>   0.565</td>\n",
       "</tr>\n",
       "<tr>\n",
       "  <th>Method:</th>             <td>Least Squares</td>  <th>  F-statistic:       </th> <td>   55.38</td>\n",
       "</tr>\n",
       "<tr>\n",
       "  <th>Date:</th>             <td>Wed, 20 Jul 2022</td> <th>  Prob (F-statistic):</th> <td>6.49e-43</td>\n",
       "</tr>\n",
       "<tr>\n",
       "  <th>Time:</th>                 <td>16:10:23</td>     <th>  Log-Likelihood:    </th> <td>  150.62</td>\n",
       "</tr>\n",
       "<tr>\n",
       "  <th>No. Observations:</th>      <td>   252</td>      <th>  AIC:               </th> <td>  -287.2</td>\n",
       "</tr>\n",
       "<tr>\n",
       "  <th>Df Residuals:</th>          <td>   245</td>      <th>  BIC:               </th> <td>  -262.5</td>\n",
       "</tr>\n",
       "<tr>\n",
       "  <th>Df Model:</th>              <td>     6</td>      <th>                     </th>     <td> </td>   \n",
       "</tr>\n",
       "<tr>\n",
       "  <th>Covariance Type:</th>      <td>nonrobust</td>    <th>                     </th>     <td> </td>   \n",
       "</tr>\n",
       "</table>\n",
       "<table class=\"simpletable\">\n",
       "<tr>\n",
       "         <td></td>           <th>coef</th>     <th>std err</th>      <th>t</th>      <th>P>|t|</th>  <th>[0.025</th>    <th>0.975]</th>  \n",
       "</tr>\n",
       "<tr>\n",
       "  <th>Intercept</th>      <td>    0.1632</td> <td>    0.107</td> <td>    1.526</td> <td> 0.128</td> <td>   -0.048</td> <td>    0.374</td>\n",
       "</tr>\n",
       "<tr>\n",
       "  <th>alcohol_deaths</th> <td>    0.8868</td> <td>    0.154</td> <td>    5.741</td> <td> 0.000</td> <td>    0.583</td> <td>    1.191</td>\n",
       "</tr>\n",
       "<tr>\n",
       "  <th>alcohol_sales</th>  <td>   -0.0117</td> <td>    0.023</td> <td>   -0.507</td> <td> 0.612</td> <td>   -0.057</td> <td>    0.034</td>\n",
       "</tr>\n",
       "<tr>\n",
       "  <th>drug_deaths</th>    <td>    0.1927</td> <td>    0.067</td> <td>    2.897</td> <td> 0.004</td> <td>    0.062</td> <td>    0.324</td>\n",
       "</tr>\n",
       "<tr>\n",
       "  <th>homicides</th>      <td>   -0.1504</td> <td>    0.064</td> <td>   -2.364</td> <td> 0.019</td> <td>   -0.276</td> <td>   -0.025</td>\n",
       "</tr>\n",
       "<tr>\n",
       "  <th>suicide_deaths</th> <td>   -0.9793</td> <td>    0.116</td> <td>   -8.426</td> <td> 0.000</td> <td>   -1.208</td> <td>   -0.750</td>\n",
       "</tr>\n",
       "<tr>\n",
       "  <th>perc_unemp</th>     <td>    0.0149</td> <td>    0.004</td> <td>    4.188</td> <td> 0.000</td> <td>    0.008</td> <td>    0.022</td>\n",
       "</tr>\n",
       "</table>\n",
       "<table class=\"simpletable\">\n",
       "<tr>\n",
       "  <th>Omnibus:</th>       <td>89.129</td> <th>  Durbin-Watson:     </th> <td>   0.447</td>\n",
       "</tr>\n",
       "<tr>\n",
       "  <th>Prob(Omnibus):</th> <td> 0.000</td> <th>  Jarque-Bera (JB):  </th> <td> 436.488</td>\n",
       "</tr>\n",
       "<tr>\n",
       "  <th>Skew:</th>          <td> 1.340</td> <th>  Prob(JB):          </th> <td>1.65e-95</td>\n",
       "</tr>\n",
       "<tr>\n",
       "  <th>Kurtosis:</th>      <td> 8.864</td> <th>  Cond. No.          </th> <td>    152.</td>\n",
       "</tr>\n",
       "</table><br/><br/>Notes:<br/>[1] Standard Errors assume that the covariance matrix of the errors is correctly specified."
      ],
      "text/plain": [
       "<class 'statsmodels.iolib.summary.Summary'>\n",
       "\"\"\"\n",
       "                            OLS Regression Results                            \n",
       "==============================================================================\n",
       "Dep. Variable:              covid_dum   R-squared:                       0.576\n",
       "Model:                            OLS   Adj. R-squared:                  0.565\n",
       "Method:                 Least Squares   F-statistic:                     55.38\n",
       "Date:                Wed, 20 Jul 2022   Prob (F-statistic):           6.49e-43\n",
       "Time:                        16:10:23   Log-Likelihood:                 150.62\n",
       "No. Observations:                 252   AIC:                            -287.2\n",
       "Df Residuals:                     245   BIC:                            -262.5\n",
       "Df Model:                           6                                         \n",
       "Covariance Type:            nonrobust                                         \n",
       "==================================================================================\n",
       "                     coef    std err          t      P>|t|      [0.025      0.975]\n",
       "----------------------------------------------------------------------------------\n",
       "Intercept          0.1632      0.107      1.526      0.128      -0.048       0.374\n",
       "alcohol_deaths     0.8868      0.154      5.741      0.000       0.583       1.191\n",
       "alcohol_sales     -0.0117      0.023     -0.507      0.612      -0.057       0.034\n",
       "drug_deaths        0.1927      0.067      2.897      0.004       0.062       0.324\n",
       "homicides         -0.1504      0.064     -2.364      0.019      -0.276      -0.025\n",
       "suicide_deaths    -0.9793      0.116     -8.426      0.000      -1.208      -0.750\n",
       "perc_unemp         0.0149      0.004      4.188      0.000       0.008       0.022\n",
       "==============================================================================\n",
       "Omnibus:                       89.129   Durbin-Watson:                   0.447\n",
       "Prob(Omnibus):                  0.000   Jarque-Bera (JB):              436.488\n",
       "Skew:                           1.340   Prob(JB):                     1.65e-95\n",
       "Kurtosis:                       8.864   Cond. No.                         152.\n",
       "==============================================================================\n",
       "\n",
       "Notes:\n",
       "[1] Standard Errors assume that the covariance matrix of the errors is correctly specified.\n",
       "\"\"\""
      ]
     },
     "execution_count": 17,
     "metadata": {},
     "output_type": "execute_result"
    }
   ],
   "source": [
    "#lm = sm.ols(formula='covid_dum ~ alcohol_deaths + alcohol_sales + drug_deaths + homicides + suicide_deaths + perc_unemp + gdp_period + yearly_infl', data=df)\n",
    "lm = sm.ols(formula='covid_dum ~ alcohol_deaths + alcohol_sales + drug_deaths + homicides + suicide_deaths + perc_unemp', data=df)\n",
    "fit = lm.fit()\n",
    "fit.summary()"
   ]
  },
  {
   "cell_type": "markdown",
   "id": "b7bfa31b-7ca0-4879-bce1-f84f51ea1d03",
   "metadata": {},
   "source": [
    "Our adjusted R-squared for this model is 0.565. This value represents the percent of variation in the dependent variable that can be predicted by the indendent variable(s). In other words this is how well the different factors can be used to forecast when there will be covid deaths.  Although the optimal range for adjusted r is above 0.75, the value we produced still tells us that our model is relatively effective at predicting the dependent variable(covid_deaths). "
   ]
  },
  {
   "cell_type": "code",
   "execution_count": 18,
   "id": "1aed67a8-b7b7-4702-882d-166cdc595f34",
   "metadata": {},
   "outputs": [
    {
     "data": {
      "text/html": [
       "<div>\n",
       "<style scoped>\n",
       "    .dataframe tbody tr th:only-of-type {\n",
       "        vertical-align: middle;\n",
       "    }\n",
       "\n",
       "    .dataframe tbody tr th {\n",
       "        vertical-align: top;\n",
       "    }\n",
       "\n",
       "    .dataframe thead th {\n",
       "        text-align: right;\n",
       "    }\n",
       "</style>\n",
       "<table border=\"1\" class=\"dataframe\">\n",
       "  <thead>\n",
       "    <tr style=\"text-align: right;\">\n",
       "      <th></th>\n",
       "      <th>alcohol_deaths</th>\n",
       "      <th>alcohol_sales</th>\n",
       "      <th>drug_deaths</th>\n",
       "      <th>homicides</th>\n",
       "      <th>suicide_deaths</th>\n",
       "      <th>perc_unemp</th>\n",
       "    </tr>\n",
       "    <tr>\n",
       "      <th>date</th>\n",
       "      <th></th>\n",
       "      <th></th>\n",
       "      <th></th>\n",
       "      <th></th>\n",
       "      <th></th>\n",
       "      <th></th>\n",
       "    </tr>\n",
       "  </thead>\n",
       "  <tbody>\n",
       "    <tr>\n",
       "      <th>2005-08-31</th>\n",
       "      <td>0.584914</td>\n",
       "      <td>2.872502</td>\n",
       "      <td>0.908476</td>\n",
       "      <td>0.000000</td>\n",
       "      <td>0.930453</td>\n",
       "      <td>4.9</td>\n",
       "    </tr>\n",
       "    <tr>\n",
       "      <th>2020-12-31</th>\n",
       "      <td>1.399548</td>\n",
       "      <td>4.923888</td>\n",
       "      <td>2.387641</td>\n",
       "      <td>0.667069</td>\n",
       "      <td>1.072796</td>\n",
       "      <td>6.7</td>\n",
       "    </tr>\n",
       "    <tr>\n",
       "      <th>2019-04-30</th>\n",
       "      <td>0.951684</td>\n",
       "      <td>3.948267</td>\n",
       "      <td>1.788982</td>\n",
       "      <td>0.440459</td>\n",
       "      <td>1.228953</td>\n",
       "      <td>3.6</td>\n",
       "    </tr>\n",
       "    <tr>\n",
       "      <th>2013-06-30</th>\n",
       "      <td>0.726703</td>\n",
       "      <td>3.591400</td>\n",
       "      <td>1.233020</td>\n",
       "      <td>0.471169</td>\n",
       "      <td>1.101612</td>\n",
       "      <td>7.5</td>\n",
       "    </tr>\n",
       "    <tr>\n",
       "      <th>2007-08-31</th>\n",
       "      <td>0.633499</td>\n",
       "      <td>3.165174</td>\n",
       "      <td>1.093864</td>\n",
       "      <td>0.566833</td>\n",
       "      <td>0.994362</td>\n",
       "      <td>4.6</td>\n",
       "    </tr>\n",
       "  </tbody>\n",
       "</table>\n",
       "</div>"
      ],
      "text/plain": [
       "            alcohol_deaths  alcohol_sales  drug_deaths  homicides  \\\n",
       "date                                                                \n",
       "2005-08-31        0.584914       2.872502     0.908476   0.000000   \n",
       "2020-12-31        1.399548       4.923888     2.387641   0.667069   \n",
       "2019-04-30        0.951684       3.948267     1.788982   0.440459   \n",
       "2013-06-30        0.726703       3.591400     1.233020   0.471169   \n",
       "2007-08-31        0.633499       3.165174     1.093864   0.566833   \n",
       "\n",
       "            suicide_deaths  perc_unemp  \n",
       "date                                    \n",
       "2005-08-31        0.930453         4.9  \n",
       "2020-12-31        1.072796         6.7  \n",
       "2019-04-30        1.228953         3.6  \n",
       "2013-06-30        1.101612         7.5  \n",
       "2007-08-31        0.994362         4.6  "
      ]
     },
     "execution_count": 18,
     "metadata": {},
     "output_type": "execute_result"
    }
   ],
   "source": [
    "X_test.head()"
   ]
  },
  {
   "cell_type": "code",
   "execution_count": 19,
   "id": "18f043e7-88ed-40b0-8c12-3ff564c46b1c",
   "metadata": {},
   "outputs": [
    {
     "name": "stdout",
     "output_type": "stream",
     "text": [
      "            covid_dum\n",
      "date                 \n",
      "2020-12-31          1\n",
      "2020-11-30          1\n",
      "2020-05-31          1\n",
      "2020-09-30          1\n",
      "2020-02-29          1\n"
     ]
    }
   ],
   "source": [
    "from sklearn.metrics import mean_squared_error\n",
    "\n",
    "y_predict = regression_model.predict(X_test)\n",
    "\n",
    "#y_test\n",
    "dates = y_test[y_test[\"covid_dum\"]==1]\n",
    "print(dates)\n",
    "#print(y_test)\n",
    "#print(y_predict)"
   ]
  },
  {
   "cell_type": "code",
   "execution_count": 20,
   "id": "4e6bce4b-cf8d-4080-b72d-a63d81752186",
   "metadata": {},
   "outputs": [
    {
     "data": {
      "text/plain": [
       "0.03307530974799022"
      ]
     },
     "execution_count": 20,
     "metadata": {},
     "output_type": "execute_result"
    }
   ],
   "source": [
    "regression_model_mse = mean_squared_error(y_predict, y_test)\n",
    "regression_model_mse"
   ]
  },
  {
   "cell_type": "markdown",
   "id": "b6b72e82-ac65-4e52-9945-b565c81bb15a",
   "metadata": {},
   "source": [
    "### RMSE"
   ]
  },
  {
   "cell_type": "code",
   "execution_count": 21,
   "id": "d986da18-0285-4ad9-a9a9-65468147f5e5",
   "metadata": {},
   "outputs": [
    {
     "data": {
      "text/plain": [
       "0.18186618637885996"
      ]
     },
     "execution_count": 21,
     "metadata": {},
     "output_type": "execute_result"
    }
   ],
   "source": [
    "import math\n",
    "math.sqrt(regression_model_mse)"
   ]
  },
  {
   "cell_type": "markdown",
   "id": "a0302deb-4055-48a5-bde9-b90f519377ea",
   "metadata": {},
   "source": [
    "Our model has an RMSE below 0.2 meaning that the average variation of the data from the linear model is very small. This indicates that the model is effective at prediction."
   ]
  },
  {
   "cell_type": "code",
   "execution_count": 22,
   "id": "1253c992-0779-4a12-93df-8682a8442b13",
   "metadata": {},
   "outputs": [
    {
     "data": {
      "text/html": [
       "<div>\n",
       "<style scoped>\n",
       "    .dataframe tbody tr th:only-of-type {\n",
       "        vertical-align: middle;\n",
       "    }\n",
       "\n",
       "    .dataframe tbody tr th {\n",
       "        vertical-align: top;\n",
       "    }\n",
       "\n",
       "    .dataframe thead th {\n",
       "        text-align: right;\n",
       "    }\n",
       "</style>\n",
       "<table border=\"1\" class=\"dataframe\">\n",
       "  <thead>\n",
       "    <tr style=\"text-align: right;\">\n",
       "      <th></th>\n",
       "      <th>alcohol_deaths</th>\n",
       "      <th>alcohol_sales</th>\n",
       "      <th>drug_deaths</th>\n",
       "      <th>homicides</th>\n",
       "      <th>suicide_deaths</th>\n",
       "      <th>perc_unemp</th>\n",
       "    </tr>\n",
       "    <tr>\n",
       "      <th>date</th>\n",
       "      <th></th>\n",
       "      <th></th>\n",
       "      <th></th>\n",
       "      <th></th>\n",
       "      <th></th>\n",
       "      <th></th>\n",
       "    </tr>\n",
       "  </thead>\n",
       "  <tbody>\n",
       "    <tr>\n",
       "      <th>2005-08-31</th>\n",
       "      <td>0.584914</td>\n",
       "      <td>2.872502</td>\n",
       "      <td>0.908476</td>\n",
       "      <td>0.000000</td>\n",
       "      <td>0.930453</td>\n",
       "      <td>4.9</td>\n",
       "    </tr>\n",
       "    <tr>\n",
       "      <th>2020-12-31</th>\n",
       "      <td>1.399548</td>\n",
       "      <td>4.923888</td>\n",
       "      <td>2.387641</td>\n",
       "      <td>0.667069</td>\n",
       "      <td>1.072796</td>\n",
       "      <td>6.7</td>\n",
       "    </tr>\n",
       "    <tr>\n",
       "      <th>2019-04-30</th>\n",
       "      <td>0.951684</td>\n",
       "      <td>3.948267</td>\n",
       "      <td>1.788982</td>\n",
       "      <td>0.440459</td>\n",
       "      <td>1.228953</td>\n",
       "      <td>3.6</td>\n",
       "    </tr>\n",
       "    <tr>\n",
       "      <th>2013-06-30</th>\n",
       "      <td>0.726703</td>\n",
       "      <td>3.591400</td>\n",
       "      <td>1.233020</td>\n",
       "      <td>0.471169</td>\n",
       "      <td>1.101612</td>\n",
       "      <td>7.5</td>\n",
       "    </tr>\n",
       "    <tr>\n",
       "      <th>2007-08-31</th>\n",
       "      <td>0.633499</td>\n",
       "      <td>3.165174</td>\n",
       "      <td>1.093864</td>\n",
       "      <td>0.566833</td>\n",
       "      <td>0.994362</td>\n",
       "      <td>4.6</td>\n",
       "    </tr>\n",
       "  </tbody>\n",
       "</table>\n",
       "</div>"
      ],
      "text/plain": [
       "            alcohol_deaths  alcohol_sales  drug_deaths  homicides  \\\n",
       "date                                                                \n",
       "2005-08-31        0.584914       2.872502     0.908476   0.000000   \n",
       "2020-12-31        1.399548       4.923888     2.387641   0.667069   \n",
       "2019-04-30        0.951684       3.948267     1.788982   0.440459   \n",
       "2013-06-30        0.726703       3.591400     1.233020   0.471169   \n",
       "2007-08-31        0.633499       3.165174     1.093864   0.566833   \n",
       "\n",
       "            suicide_deaths  perc_unemp  \n",
       "date                                    \n",
       "2005-08-31        0.930453         4.9  \n",
       "2020-12-31        1.072796         6.7  \n",
       "2019-04-30        1.228953         3.6  \n",
       "2013-06-30        1.101612         7.5  \n",
       "2007-08-31        0.994362         4.6  "
      ]
     },
     "execution_count": 22,
     "metadata": {},
     "output_type": "execute_result"
    }
   ],
   "source": [
    "X_test.head()"
   ]
  },
  {
   "cell_type": "markdown",
   "id": "01954e33-25c7-4cbb-be35-0c3773e0b3e5",
   "metadata": {},
   "source": [
    "## 3. H1N1"
   ]
  },
  {
   "cell_type": "markdown",
   "id": "391a1ae9-2829-4e49-8a12-bc8bb28827da",
   "metadata": {},
   "source": [
    "We will be going through the same steps we did for COVID. "
   ]
  },
  {
   "cell_type": "code",
   "execution_count": 23,
   "id": "cda612f5-0d7b-41d9-83cf-c884836ac25b",
   "metadata": {},
   "outputs": [],
   "source": [
    "y=df[['h1n1_dum']]"
   ]
  },
  {
   "cell_type": "code",
   "execution_count": 24,
   "id": "a5306890-8552-453d-a777-c7f16a5c1bbb",
   "metadata": {},
   "outputs": [],
   "source": [
    "X_train, X_test, y_train, y_test = train_test_split(X, y, test_size=0.2, random_state=1)"
   ]
  },
  {
   "cell_type": "code",
   "execution_count": 25,
   "id": "7e3518cf-3ef7-4e4a-a341-9491f04a59fc",
   "metadata": {},
   "outputs": [
    {
     "data": {
      "text/plain": [
       "LinearRegression()"
      ]
     },
     "execution_count": 25,
     "metadata": {},
     "output_type": "execute_result"
    }
   ],
   "source": [
    "regression_model = LinearRegression()\n",
    "regression_model.fit(X_train, y_train)"
   ]
  },
  {
   "cell_type": "markdown",
   "id": "82b1db87-3c4a-4f8e-9e04-351450c35583",
   "metadata": {},
   "source": [
    "### MODEL"
   ]
  },
  {
   "cell_type": "code",
   "execution_count": 26,
   "id": "75edfe96-00f1-4e48-8e38-6c092e071c8c",
   "metadata": {},
   "outputs": [
    {
     "name": "stdout",
     "output_type": "stream",
     "text": [
      "The coefficient for alcohol_deaths is -0.23429776313547857\n",
      "The coefficient for alcohol_sales is -0.024199751903267033\n",
      "The coefficient for drug_deaths is -0.0340369072352831\n",
      "The coefficient for homicides is 0.1406696895454995\n",
      "The coefficient for suicide_deaths is 0.07304739433637272\n",
      "The coefficient for perc_unemp is 0.027684104666223553\n"
     ]
    }
   ],
   "source": [
    "for idx, col_name in enumerate(X_train.columns):\n",
    "    print(\"The coefficient for {} is {}\".format(col_name, regression_model.coef_[0][idx]))"
   ]
  },
  {
   "cell_type": "code",
   "execution_count": 27,
   "id": "973dce1e-1f66-422d-8aee-54c03579590f",
   "metadata": {},
   "outputs": [
    {
     "name": "stdout",
     "output_type": "stream",
     "text": [
      "The intercept for our model is 0.06134064104131683\n"
     ]
    }
   ],
   "source": [
    "intercept = regression_model.intercept_[0]\n",
    "print(\"The intercept for our model is {}\".format(intercept))"
   ]
  },
  {
   "cell_type": "code",
   "execution_count": 28,
   "id": "394cfb19-b2c8-4e16-b3eb-980240df25d6",
   "metadata": {},
   "outputs": [
    {
     "name": "stdout",
     "output_type": "stream",
     "text": [
      "y =  0.06134064104131683 +\n",
      "alcohol_deaths(-0.23) + \n",
      "alcohol_sales(-0.02) + \n",
      "drug_deaths(-0.03) + \n",
      "homicides(0.14) + \n",
      "suicide_deaths(0.07) + \n",
      "perc_unemp(0.03) + \n"
     ]
    }
   ],
   "source": [
    "print(\"y = \",intercept, \"+\")\n",
    "for idx, col_name in enumerate(X_train.columns):\n",
    "    print(\"{}({}) + \".format(col_name, round(regression_model.coef_[0][idx],2)))\n",
    "#Our regression line for this model is: —"
   ]
  },
  {
   "cell_type": "markdown",
   "id": "5349f0fe-0c4f-4f21-9f34-0db029094658",
   "metadata": {},
   "source": [
    "It seems that the coefficients for the h1n1 model exhibit opposite behavior than the ones from the covid model. The lowest coefficient in this model is alcohol deaths. In the Covid model alcohol_deaths was the highest coefficient. "
   ]
  },
  {
   "cell_type": "markdown",
   "id": "5ad7854b-005e-4ee2-a897-643ed79e4708",
   "metadata": {},
   "source": [
    "### R-Squared"
   ]
  },
  {
   "cell_type": "code",
   "execution_count": 29,
   "id": "fd78edab-8202-406f-84c3-1a195c292e11",
   "metadata": {},
   "outputs": [
    {
     "data": {
      "text/html": [
       "<table class=\"simpletable\">\n",
       "<caption>OLS Regression Results</caption>\n",
       "<tr>\n",
       "  <th>Dep. Variable:</th>        <td>h1n1_dum</td>     <th>  R-squared:         </th> <td>   0.176</td>\n",
       "</tr>\n",
       "<tr>\n",
       "  <th>Model:</th>                   <td>OLS</td>       <th>  Adj. R-squared:    </th> <td>   0.156</td>\n",
       "</tr>\n",
       "<tr>\n",
       "  <th>Method:</th>             <td>Least Squares</td>  <th>  F-statistic:       </th> <td>   8.741</td>\n",
       "</tr>\n",
       "<tr>\n",
       "  <th>Date:</th>             <td>Wed, 20 Jul 2022</td> <th>  Prob (F-statistic):</th> <td>1.23e-08</td>\n",
       "</tr>\n",
       "<tr>\n",
       "  <th>Time:</th>                 <td>16:10:23</td>     <th>  Log-Likelihood:    </th> <td>  47.068</td>\n",
       "</tr>\n",
       "<tr>\n",
       "  <th>No. Observations:</th>      <td>   252</td>      <th>  AIC:               </th> <td>  -80.14</td>\n",
       "</tr>\n",
       "<tr>\n",
       "  <th>Df Residuals:</th>          <td>   245</td>      <th>  BIC:               </th> <td>  -55.43</td>\n",
       "</tr>\n",
       "<tr>\n",
       "  <th>Df Model:</th>              <td>     6</td>      <th>                     </th>     <td> </td>   \n",
       "</tr>\n",
       "<tr>\n",
       "  <th>Covariance Type:</th>      <td>nonrobust</td>    <th>                     </th>     <td> </td>   \n",
       "</tr>\n",
       "</table>\n",
       "<table class=\"simpletable\">\n",
       "<tr>\n",
       "         <td></td>           <th>coef</th>     <th>std err</th>      <th>t</th>      <th>P>|t|</th>  <th>[0.025</th>    <th>0.975]</th>  \n",
       "</tr>\n",
       "<tr>\n",
       "  <th>Intercept</th>      <td>    0.0241</td> <td>    0.161</td> <td>    0.150</td> <td> 0.881</td> <td>   -0.294</td> <td>    0.342</td>\n",
       "</tr>\n",
       "<tr>\n",
       "  <th>alcohol_deaths</th> <td>   -0.0300</td> <td>    0.233</td> <td>   -0.129</td> <td> 0.898</td> <td>   -0.489</td> <td>    0.429</td>\n",
       "</tr>\n",
       "<tr>\n",
       "  <th>alcohol_sales</th>  <td>   -0.0311</td> <td>    0.035</td> <td>   -0.898</td> <td> 0.370</td> <td>   -0.099</td> <td>    0.037</td>\n",
       "</tr>\n",
       "<tr>\n",
       "  <th>drug_deaths</th>    <td>   -0.1017</td> <td>    0.100</td> <td>   -1.013</td> <td> 0.312</td> <td>   -0.299</td> <td>    0.096</td>\n",
       "</tr>\n",
       "<tr>\n",
       "  <th>homicides</th>      <td>    0.1712</td> <td>    0.096</td> <td>    1.784</td> <td> 0.076</td> <td>   -0.018</td> <td>    0.360</td>\n",
       "</tr>\n",
       "<tr>\n",
       "  <th>suicide_deaths</th> <td>    0.0470</td> <td>    0.175</td> <td>    0.268</td> <td> 0.789</td> <td>   -0.298</td> <td>    0.392</td>\n",
       "</tr>\n",
       "<tr>\n",
       "  <th>perc_unemp</th>     <td>    0.0301</td> <td>    0.005</td> <td>    5.586</td> <td> 0.000</td> <td>    0.019</td> <td>    0.041</td>\n",
       "</tr>\n",
       "</table>\n",
       "<table class=\"simpletable\">\n",
       "<tr>\n",
       "  <th>Omnibus:</th>       <td>174.850</td> <th>  Durbin-Watson:     </th> <td>   0.213</td> \n",
       "</tr>\n",
       "<tr>\n",
       "  <th>Prob(Omnibus):</th> <td> 0.000</td>  <th>  Jarque-Bera (JB):  </th> <td>1200.813</td> \n",
       "</tr>\n",
       "<tr>\n",
       "  <th>Skew:</th>          <td> 2.917</td>  <th>  Prob(JB):          </th> <td>1.76e-261</td>\n",
       "</tr>\n",
       "<tr>\n",
       "  <th>Kurtosis:</th>      <td>11.962</td>  <th>  Cond. No.          </th> <td>    152.</td> \n",
       "</tr>\n",
       "</table><br/><br/>Notes:<br/>[1] Standard Errors assume that the covariance matrix of the errors is correctly specified."
      ],
      "text/plain": [
       "<class 'statsmodels.iolib.summary.Summary'>\n",
       "\"\"\"\n",
       "                            OLS Regression Results                            \n",
       "==============================================================================\n",
       "Dep. Variable:               h1n1_dum   R-squared:                       0.176\n",
       "Model:                            OLS   Adj. R-squared:                  0.156\n",
       "Method:                 Least Squares   F-statistic:                     8.741\n",
       "Date:                Wed, 20 Jul 2022   Prob (F-statistic):           1.23e-08\n",
       "Time:                        16:10:23   Log-Likelihood:                 47.068\n",
       "No. Observations:                 252   AIC:                            -80.14\n",
       "Df Residuals:                     245   BIC:                            -55.43\n",
       "Df Model:                           6                                         \n",
       "Covariance Type:            nonrobust                                         \n",
       "==================================================================================\n",
       "                     coef    std err          t      P>|t|      [0.025      0.975]\n",
       "----------------------------------------------------------------------------------\n",
       "Intercept          0.0241      0.161      0.150      0.881      -0.294       0.342\n",
       "alcohol_deaths    -0.0300      0.233     -0.129      0.898      -0.489       0.429\n",
       "alcohol_sales     -0.0311      0.035     -0.898      0.370      -0.099       0.037\n",
       "drug_deaths       -0.1017      0.100     -1.013      0.312      -0.299       0.096\n",
       "homicides          0.1712      0.096      1.784      0.076      -0.018       0.360\n",
       "suicide_deaths     0.0470      0.175      0.268      0.789      -0.298       0.392\n",
       "perc_unemp         0.0301      0.005      5.586      0.000       0.019       0.041\n",
       "==============================================================================\n",
       "Omnibus:                      174.850   Durbin-Watson:                   0.213\n",
       "Prob(Omnibus):                  0.000   Jarque-Bera (JB):             1200.813\n",
       "Skew:                           2.917   Prob(JB):                    1.76e-261\n",
       "Kurtosis:                      11.962   Cond. No.                         152.\n",
       "==============================================================================\n",
       "\n",
       "Notes:\n",
       "[1] Standard Errors assume that the covariance matrix of the errors is correctly specified.\n",
       "\"\"\""
      ]
     },
     "execution_count": 29,
     "metadata": {},
     "output_type": "execute_result"
    }
   ],
   "source": [
    "import statsmodels.formula.api as sm\n",
    "#lm = sm.ols(formula='h1n1_dum ~ alcohol_deaths+alcohol_sales+drug_deaths+homicides+suicide_deaths+perc_unemp+gdp_period+yearly_infl', data=df)\n",
    "lm = sm.ols(formula='h1n1_dum ~ alcohol_deaths + alcohol_sales + drug_deaths + homicides + suicide_deaths + perc_unemp', data=df)\n",
    "fit = lm.fit()\n",
    "fit.summary()"
   ]
  },
  {
   "cell_type": "markdown",
   "id": "246dc972-0ec9-49e7-967a-6813b0bf6d53",
   "metadata": {},
   "source": [
    "As you can see the adjusted R squared is much lower for h1n1 than it was for COVID. This means that our independent variables at predicting a h1n1 pandemic as a COVID pandemic. This adjusted r squared shows that the model is only able to predict the occurence of h1n1 deaths with 3 times worse than it could predict covid deaths. This value indicates that model is not effective. "
   ]
  },
  {
   "cell_type": "code",
   "execution_count": 30,
   "id": "140626d5-0514-4eac-968f-75fa853da5ae",
   "metadata": {},
   "outputs": [
    {
     "data": {
      "text/html": [
       "<div>\n",
       "<style scoped>\n",
       "    .dataframe tbody tr th:only-of-type {\n",
       "        vertical-align: middle;\n",
       "    }\n",
       "\n",
       "    .dataframe tbody tr th {\n",
       "        vertical-align: top;\n",
       "    }\n",
       "\n",
       "    .dataframe thead th {\n",
       "        text-align: right;\n",
       "    }\n",
       "</style>\n",
       "<table border=\"1\" class=\"dataframe\">\n",
       "  <thead>\n",
       "    <tr style=\"text-align: right;\">\n",
       "      <th></th>\n",
       "      <th>alcohol_deaths</th>\n",
       "      <th>alcohol_sales</th>\n",
       "      <th>drug_deaths</th>\n",
       "      <th>homicides</th>\n",
       "      <th>suicide_deaths</th>\n",
       "      <th>perc_unemp</th>\n",
       "    </tr>\n",
       "    <tr>\n",
       "      <th>date</th>\n",
       "      <th></th>\n",
       "      <th></th>\n",
       "      <th></th>\n",
       "      <th></th>\n",
       "      <th></th>\n",
       "      <th></th>\n",
       "    </tr>\n",
       "  </thead>\n",
       "  <tbody>\n",
       "    <tr>\n",
       "      <th>2005-08-31</th>\n",
       "      <td>0.584914</td>\n",
       "      <td>2.872502</td>\n",
       "      <td>0.908476</td>\n",
       "      <td>0.000000</td>\n",
       "      <td>0.930453</td>\n",
       "      <td>4.9</td>\n",
       "    </tr>\n",
       "    <tr>\n",
       "      <th>2020-12-31</th>\n",
       "      <td>1.399548</td>\n",
       "      <td>4.923888</td>\n",
       "      <td>2.387641</td>\n",
       "      <td>0.667069</td>\n",
       "      <td>1.072796</td>\n",
       "      <td>6.7</td>\n",
       "    </tr>\n",
       "    <tr>\n",
       "      <th>2019-04-30</th>\n",
       "      <td>0.951684</td>\n",
       "      <td>3.948267</td>\n",
       "      <td>1.788982</td>\n",
       "      <td>0.440459</td>\n",
       "      <td>1.228953</td>\n",
       "      <td>3.6</td>\n",
       "    </tr>\n",
       "    <tr>\n",
       "      <th>2013-06-30</th>\n",
       "      <td>0.726703</td>\n",
       "      <td>3.591400</td>\n",
       "      <td>1.233020</td>\n",
       "      <td>0.471169</td>\n",
       "      <td>1.101612</td>\n",
       "      <td>7.5</td>\n",
       "    </tr>\n",
       "    <tr>\n",
       "      <th>2007-08-31</th>\n",
       "      <td>0.633499</td>\n",
       "      <td>3.165174</td>\n",
       "      <td>1.093864</td>\n",
       "      <td>0.566833</td>\n",
       "      <td>0.994362</td>\n",
       "      <td>4.6</td>\n",
       "    </tr>\n",
       "  </tbody>\n",
       "</table>\n",
       "</div>"
      ],
      "text/plain": [
       "            alcohol_deaths  alcohol_sales  drug_deaths  homicides  \\\n",
       "date                                                                \n",
       "2005-08-31        0.584914       2.872502     0.908476   0.000000   \n",
       "2020-12-31        1.399548       4.923888     2.387641   0.667069   \n",
       "2019-04-30        0.951684       3.948267     1.788982   0.440459   \n",
       "2013-06-30        0.726703       3.591400     1.233020   0.471169   \n",
       "2007-08-31        0.633499       3.165174     1.093864   0.566833   \n",
       "\n",
       "            suicide_deaths  perc_unemp  \n",
       "date                                    \n",
       "2005-08-31        0.930453         4.9  \n",
       "2020-12-31        1.072796         6.7  \n",
       "2019-04-30        1.228953         3.6  \n",
       "2013-06-30        1.101612         7.5  \n",
       "2007-08-31        0.994362         4.6  "
      ]
     },
     "execution_count": 30,
     "metadata": {},
     "output_type": "execute_result"
    }
   ],
   "source": [
    "X_test.head()"
   ]
  },
  {
   "cell_type": "code",
   "execution_count": 31,
   "id": "ebeb74a6-6b1d-45e7-8641-c78b3e2051cd",
   "metadata": {},
   "outputs": [
    {
     "data": {
      "text/plain": [
       "0.04402313983036657"
      ]
     },
     "execution_count": 31,
     "metadata": {},
     "output_type": "execute_result"
    }
   ],
   "source": [
    "y_predict = regression_model.predict(X_test)\n",
    "regression_model_mse = mean_squared_error(y_predict, y_test)\n",
    "regression_model_mse"
   ]
  },
  {
   "cell_type": "code",
   "execution_count": 32,
   "id": "409e8f3e-8c92-4d5b-9a23-390caa952d24",
   "metadata": {},
   "outputs": [
    {
     "name": "stdout",
     "output_type": "stream",
     "text": [
      "            h1n1_dum\n",
      "date                \n",
      "2009-09-30         1\n",
      "2010-01-31         1\n",
      "2009-12-31         1\n"
     ]
    }
   ],
   "source": [
    "dates = y_test[y_test[\"h1n1_dum\"]==1]\n",
    "print(dates)"
   ]
  },
  {
   "cell_type": "code",
   "execution_count": 33,
   "id": "65e77ab7-5e27-4cdb-bd1a-43ae4ff2c02b",
   "metadata": {},
   "outputs": [
    {
     "data": {
      "text/plain": [
       "0.20981691979048442"
      ]
     },
     "execution_count": 33,
     "metadata": {},
     "output_type": "execute_result"
    }
   ],
   "source": [
    "math.sqrt(regression_model_mse)"
   ]
  },
  {
   "cell_type": "markdown",
   "id": "c16b6696-7c92-473c-9d6e-5bbbac65179a",
   "metadata": {},
   "source": [
    "The RMSE of this model indicates low varaition of data from the model. This contradicts the low adjusted r score. This model still might be effective at predicting the occurence of h1n1 deaths. Still, it scored lower than the covid model. "
   ]
  },
  {
   "cell_type": "markdown",
   "id": "7f62f6e6-dcb9-42fa-aadf-d18b4365a646",
   "metadata": {},
   "source": [
    "## 4. Both "
   ]
  },
  {
   "cell_type": "code",
   "execution_count": 34,
   "id": "9a348847-6a7d-410f-82f8-f49128a5003c",
   "metadata": {},
   "outputs": [],
   "source": [
    "y=df[['pandemic']]"
   ]
  },
  {
   "cell_type": "code",
   "execution_count": 35,
   "id": "a5094b3f-7abe-443e-8934-3903593db234",
   "metadata": {},
   "outputs": [],
   "source": [
    "X_train, X_test, y_train, y_test = train_test_split(X, y, test_size=0.2, random_state=1)"
   ]
  },
  {
   "cell_type": "code",
   "execution_count": 36,
   "id": "869b8226-9b64-4031-82e2-acf61e781d11",
   "metadata": {},
   "outputs": [
    {
     "data": {
      "text/plain": [
       "LinearRegression()"
      ]
     },
     "execution_count": 36,
     "metadata": {},
     "output_type": "execute_result"
    }
   ],
   "source": [
    "regression_model = LinearRegression()\n",
    "regression_model.fit(X_train, y_train)"
   ]
  },
  {
   "cell_type": "code",
   "execution_count": 37,
   "id": "ad4f3a61-a81d-42d9-a92e-a4d0a63f30d1",
   "metadata": {},
   "outputs": [
    {
     "name": "stdout",
     "output_type": "stream",
     "text": [
      "The coefficient for alcohol_deaths is 0.5591735182303401\n",
      "The coefficient for alcohol_sales is -0.0325597487240848\n",
      "The coefficient for drug_deaths is 0.12408838220591967\n",
      "The coefficient for homicides is 0.005960296518862664\n",
      "The coefficient for suicide_deaths is -0.7596078515449779\n",
      "The coefficient for perc_unemp is 0.042246049974953966\n"
     ]
    }
   ],
   "source": [
    "for idx, col_name in enumerate(X_train.columns):\n",
    "    print(\"The coefficient for {} is {}\".format(col_name, regression_model.coef_[0][idx]))"
   ]
  },
  {
   "cell_type": "code",
   "execution_count": 38,
   "id": "6de61fe3-debc-4311-868a-41588b829445",
   "metadata": {},
   "outputs": [
    {
     "name": "stdout",
     "output_type": "stream",
     "text": [
      "The intercept for our model is 0.16555135405225618\n"
     ]
    }
   ],
   "source": [
    "intercept = regression_model.intercept_[0]\n",
    "print(\"The intercept for our model is {}\".format(intercept))"
   ]
  },
  {
   "cell_type": "code",
   "execution_count": 39,
   "id": "4e364ae7-ec63-4ff4-a664-5621238e526a",
   "metadata": {},
   "outputs": [
    {
     "name": "stdout",
     "output_type": "stream",
     "text": [
      "y =  0.16555135405225618 +\n",
      "alcohol_deaths(0.56) + \n",
      "alcohol_sales(-0.03) + \n",
      "drug_deaths(0.12) + \n",
      "homicides(0.01) + \n",
      "suicide_deaths(-0.76) + \n",
      "perc_unemp(0.04) + \n"
     ]
    }
   ],
   "source": [
    "print(\"y = \",intercept, \"+\")\n",
    "for idx, col_name in enumerate(X_train.columns):\n",
    "    print(\"{}({}) + \".format(col_name, round(regression_model.coef_[0][idx],2)))\n",
    "#Our regression line for this model is: —"
   ]
  },
  {
   "cell_type": "code",
   "execution_count": 40,
   "id": "e384e066-c001-4d65-9f7d-7f03ced52011",
   "metadata": {},
   "outputs": [
    {
     "data": {
      "text/plain": [
       "0.4493291115521598"
      ]
     },
     "execution_count": 40,
     "metadata": {},
     "output_type": "execute_result"
    }
   ],
   "source": [
    "regression_model.score(X_test, y_test)"
   ]
  },
  {
   "cell_type": "code",
   "execution_count": 41,
   "id": "3de565ce-09dd-4f1c-ac78-e1250371d134",
   "metadata": {},
   "outputs": [
    {
     "data": {
      "text/html": [
       "<table class=\"simpletable\">\n",
       "<caption>OLS Regression Results</caption>\n",
       "<tr>\n",
       "  <th>Dep. Variable:</th>        <td>pandemic</td>     <th>  R-squared:         </th> <td>   0.345</td>\n",
       "</tr>\n",
       "<tr>\n",
       "  <th>Model:</th>                   <td>OLS</td>       <th>  Adj. R-squared:    </th> <td>   0.329</td>\n",
       "</tr>\n",
       "<tr>\n",
       "  <th>Method:</th>             <td>Least Squares</td>  <th>  F-statistic:       </th> <td>   21.47</td>\n",
       "</tr>\n",
       "<tr>\n",
       "  <th>Date:</th>             <td>Wed, 20 Jul 2022</td> <th>  Prob (F-statistic):</th> <td>3.12e-20</td>\n",
       "</tr>\n",
       "<tr>\n",
       "  <th>Time:</th>                 <td>16:10:23</td>     <th>  Log-Likelihood:    </th> <td>  4.5517</td>\n",
       "</tr>\n",
       "<tr>\n",
       "  <th>No. Observations:</th>      <td>   252</td>      <th>  AIC:               </th> <td>   4.897</td>\n",
       "</tr>\n",
       "<tr>\n",
       "  <th>Df Residuals:</th>          <td>   245</td>      <th>  BIC:               </th> <td>   29.60</td>\n",
       "</tr>\n",
       "<tr>\n",
       "  <th>Df Model:</th>              <td>     6</td>      <th>                     </th>     <td> </td>   \n",
       "</tr>\n",
       "<tr>\n",
       "  <th>Covariance Type:</th>      <td>nonrobust</td>    <th>                     </th>     <td> </td>   \n",
       "</tr>\n",
       "</table>\n",
       "<table class=\"simpletable\">\n",
       "<tr>\n",
       "         <td></td>           <th>coef</th>     <th>std err</th>      <th>t</th>      <th>P>|t|</th>  <th>[0.025</th>    <th>0.975]</th>  \n",
       "</tr>\n",
       "<tr>\n",
       "  <th>Intercept</th>      <td>    0.1874</td> <td>    0.191</td> <td>    0.981</td> <td> 0.328</td> <td>   -0.189</td> <td>    0.564</td>\n",
       "</tr>\n",
       "<tr>\n",
       "  <th>alcohol_deaths</th> <td>    0.8568</td> <td>    0.276</td> <td>    3.107</td> <td> 0.002</td> <td>    0.314</td> <td>    1.400</td>\n",
       "</tr>\n",
       "<tr>\n",
       "  <th>alcohol_sales</th>  <td>   -0.0428</td> <td>    0.041</td> <td>   -1.043</td> <td> 0.298</td> <td>   -0.124</td> <td>    0.038</td>\n",
       "</tr>\n",
       "<tr>\n",
       "  <th>drug_deaths</th>    <td>    0.0910</td> <td>    0.119</td> <td>    0.766</td> <td> 0.444</td> <td>   -0.143</td> <td>    0.325</td>\n",
       "</tr>\n",
       "<tr>\n",
       "  <th>homicides</th>      <td>    0.0208</td> <td>    0.114</td> <td>    0.183</td> <td> 0.855</td> <td>   -0.203</td> <td>    0.244</td>\n",
       "</tr>\n",
       "<tr>\n",
       "  <th>suicide_deaths</th> <td>   -0.9323</td> <td>    0.207</td> <td>   -4.493</td> <td> 0.000</td> <td>   -1.341</td> <td>   -0.524</td>\n",
       "</tr>\n",
       "<tr>\n",
       "  <th>perc_unemp</th>     <td>    0.0450</td> <td>    0.006</td> <td>    7.065</td> <td> 0.000</td> <td>    0.032</td> <td>    0.058</td>\n",
       "</tr>\n",
       "</table>\n",
       "<table class=\"simpletable\">\n",
       "<tr>\n",
       "  <th>Omnibus:</th>       <td>113.645</td> <th>  Durbin-Watson:     </th> <td>   0.303</td>\n",
       "</tr>\n",
       "<tr>\n",
       "  <th>Prob(Omnibus):</th> <td> 0.000</td>  <th>  Jarque-Bera (JB):  </th> <td> 364.317</td>\n",
       "</tr>\n",
       "<tr>\n",
       "  <th>Skew:</th>          <td> 2.018</td>  <th>  Prob(JB):          </th> <td>7.75e-80</td>\n",
       "</tr>\n",
       "<tr>\n",
       "  <th>Kurtosis:</th>      <td> 7.291</td>  <th>  Cond. No.          </th> <td>    152.</td>\n",
       "</tr>\n",
       "</table><br/><br/>Notes:<br/>[1] Standard Errors assume that the covariance matrix of the errors is correctly specified."
      ],
      "text/plain": [
       "<class 'statsmodels.iolib.summary.Summary'>\n",
       "\"\"\"\n",
       "                            OLS Regression Results                            \n",
       "==============================================================================\n",
       "Dep. Variable:               pandemic   R-squared:                       0.345\n",
       "Model:                            OLS   Adj. R-squared:                  0.329\n",
       "Method:                 Least Squares   F-statistic:                     21.47\n",
       "Date:                Wed, 20 Jul 2022   Prob (F-statistic):           3.12e-20\n",
       "Time:                        16:10:23   Log-Likelihood:                 4.5517\n",
       "No. Observations:                 252   AIC:                             4.897\n",
       "Df Residuals:                     245   BIC:                             29.60\n",
       "Df Model:                           6                                         \n",
       "Covariance Type:            nonrobust                                         \n",
       "==================================================================================\n",
       "                     coef    std err          t      P>|t|      [0.025      0.975]\n",
       "----------------------------------------------------------------------------------\n",
       "Intercept          0.1874      0.191      0.981      0.328      -0.189       0.564\n",
       "alcohol_deaths     0.8568      0.276      3.107      0.002       0.314       1.400\n",
       "alcohol_sales     -0.0428      0.041     -1.043      0.298      -0.124       0.038\n",
       "drug_deaths        0.0910      0.119      0.766      0.444      -0.143       0.325\n",
       "homicides          0.0208      0.114      0.183      0.855      -0.203       0.244\n",
       "suicide_deaths    -0.9323      0.207     -4.493      0.000      -1.341      -0.524\n",
       "perc_unemp         0.0450      0.006      7.065      0.000       0.032       0.058\n",
       "==============================================================================\n",
       "Omnibus:                      113.645   Durbin-Watson:                   0.303\n",
       "Prob(Omnibus):                  0.000   Jarque-Bera (JB):              364.317\n",
       "Skew:                           2.018   Prob(JB):                     7.75e-80\n",
       "Kurtosis:                       7.291   Cond. No.                         152.\n",
       "==============================================================================\n",
       "\n",
       "Notes:\n",
       "[1] Standard Errors assume that the covariance matrix of the errors is correctly specified.\n",
       "\"\"\""
      ]
     },
     "execution_count": 41,
     "metadata": {},
     "output_type": "execute_result"
    }
   ],
   "source": [
    "import statsmodels.formula.api as sm\n",
    "#lm = sm.ols(formula='pandemic ~ alcohol_deaths+alcohol_sales+drug_deaths+homicides+suicide_deaths+perc_unemp+gdp_period+yearly_infl', data=df)\n",
    "lm = sm.ols(formula='pandemic ~ alcohol_deaths + alcohol_sales + drug_deaths + homicides + suicide_deaths + perc_unemp', data=df)\n",
    "fit = lm.fit()\n",
    "fit.summary()"
   ]
  },
  {
   "cell_type": "markdown",
   "id": "5620bbec-d939-4b1f-96d3-d340d8601067",
   "metadata": {},
   "source": [
    "This adjusted r scores right in the middle of thje other two models; however, it is a suboptimal value, indicationg bad predictive ability. "
   ]
  },
  {
   "cell_type": "code",
   "execution_count": 42,
   "id": "e9db4ba2-0446-4450-be6c-2c021d85bea2",
   "metadata": {},
   "outputs": [
    {
     "data": {
      "text/html": [
       "<div>\n",
       "<style scoped>\n",
       "    .dataframe tbody tr th:only-of-type {\n",
       "        vertical-align: middle;\n",
       "    }\n",
       "\n",
       "    .dataframe tbody tr th {\n",
       "        vertical-align: top;\n",
       "    }\n",
       "\n",
       "    .dataframe thead th {\n",
       "        text-align: right;\n",
       "    }\n",
       "</style>\n",
       "<table border=\"1\" class=\"dataframe\">\n",
       "  <thead>\n",
       "    <tr style=\"text-align: right;\">\n",
       "      <th></th>\n",
       "      <th>alcohol_deaths</th>\n",
       "      <th>alcohol_sales</th>\n",
       "      <th>drug_deaths</th>\n",
       "      <th>homicides</th>\n",
       "      <th>suicide_deaths</th>\n",
       "      <th>perc_unemp</th>\n",
       "    </tr>\n",
       "    <tr>\n",
       "      <th>date</th>\n",
       "      <th></th>\n",
       "      <th></th>\n",
       "      <th></th>\n",
       "      <th></th>\n",
       "      <th></th>\n",
       "      <th></th>\n",
       "    </tr>\n",
       "  </thead>\n",
       "  <tbody>\n",
       "    <tr>\n",
       "      <th>2005-08-31</th>\n",
       "      <td>0.584914</td>\n",
       "      <td>2.872502</td>\n",
       "      <td>0.908476</td>\n",
       "      <td>0.000000</td>\n",
       "      <td>0.930453</td>\n",
       "      <td>4.9</td>\n",
       "    </tr>\n",
       "    <tr>\n",
       "      <th>2020-12-31</th>\n",
       "      <td>1.399548</td>\n",
       "      <td>4.923888</td>\n",
       "      <td>2.387641</td>\n",
       "      <td>0.667069</td>\n",
       "      <td>1.072796</td>\n",
       "      <td>6.7</td>\n",
       "    </tr>\n",
       "    <tr>\n",
       "      <th>2019-04-30</th>\n",
       "      <td>0.951684</td>\n",
       "      <td>3.948267</td>\n",
       "      <td>1.788982</td>\n",
       "      <td>0.440459</td>\n",
       "      <td>1.228953</td>\n",
       "      <td>3.6</td>\n",
       "    </tr>\n",
       "    <tr>\n",
       "      <th>2013-06-30</th>\n",
       "      <td>0.726703</td>\n",
       "      <td>3.591400</td>\n",
       "      <td>1.233020</td>\n",
       "      <td>0.471169</td>\n",
       "      <td>1.101612</td>\n",
       "      <td>7.5</td>\n",
       "    </tr>\n",
       "    <tr>\n",
       "      <th>2007-08-31</th>\n",
       "      <td>0.633499</td>\n",
       "      <td>3.165174</td>\n",
       "      <td>1.093864</td>\n",
       "      <td>0.566833</td>\n",
       "      <td>0.994362</td>\n",
       "      <td>4.6</td>\n",
       "    </tr>\n",
       "  </tbody>\n",
       "</table>\n",
       "</div>"
      ],
      "text/plain": [
       "            alcohol_deaths  alcohol_sales  drug_deaths  homicides  \\\n",
       "date                                                                \n",
       "2005-08-31        0.584914       2.872502     0.908476   0.000000   \n",
       "2020-12-31        1.399548       4.923888     2.387641   0.667069   \n",
       "2019-04-30        0.951684       3.948267     1.788982   0.440459   \n",
       "2013-06-30        0.726703       3.591400     1.233020   0.471169   \n",
       "2007-08-31        0.633499       3.165174     1.093864   0.566833   \n",
       "\n",
       "            suicide_deaths  perc_unemp  \n",
       "date                                    \n",
       "2005-08-31        0.930453         4.9  \n",
       "2020-12-31        1.072796         6.7  \n",
       "2019-04-30        1.228953         3.6  \n",
       "2013-06-30        1.101612         7.5  \n",
       "2007-08-31        0.994362         4.6  "
      ]
     },
     "execution_count": 42,
     "metadata": {},
     "output_type": "execute_result"
    }
   ],
   "source": [
    "X_test.head()"
   ]
  },
  {
   "cell_type": "code",
   "execution_count": 43,
   "id": "ab180742-2582-4eb7-8c9e-2ba5bad882ec",
   "metadata": {},
   "outputs": [
    {
     "data": {
      "text/plain": [
       "0.07282998293966053"
      ]
     },
     "execution_count": 43,
     "metadata": {},
     "output_type": "execute_result"
    }
   ],
   "source": [
    "y_predict = regression_model.predict(X_test)\n",
    "regression_model_mse = mean_squared_error(y_predict, y_test)\n",
    "regression_model_mse"
   ]
  },
  {
   "cell_type": "code",
   "execution_count": 44,
   "id": "79bbc513-ed92-4770-a6b1-84268092d601",
   "metadata": {},
   "outputs": [
    {
     "name": "stdout",
     "output_type": "stream",
     "text": [
      "            pandemic\n",
      "date                \n",
      "2020-12-31         1\n",
      "2020-11-30         1\n",
      "2020-05-31         1\n",
      "2009-09-30         1\n",
      "2010-01-31         1\n",
      "2009-12-31         1\n",
      "2020-09-30         1\n",
      "2020-02-29         1\n"
     ]
    }
   ],
   "source": [
    "dates = y_test[y_test[\"pandemic\"]==1]\n",
    "print(dates)"
   ]
  },
  {
   "cell_type": "code",
   "execution_count": 45,
   "id": "29661dbf-9e69-45cb-872a-3ab6e293378f",
   "metadata": {},
   "outputs": [
    {
     "data": {
      "text/plain": [
       "0.26987030762879516"
      ]
     },
     "execution_count": 45,
     "metadata": {},
     "output_type": "execute_result"
    }
   ],
   "source": [
    "math.sqrt(regression_model_mse)"
   ]
  },
  {
   "cell_type": "markdown",
   "id": "48966ad4-167b-4be5-a013-71c7aa7a113d",
   "metadata": {},
   "source": [
    "This is our highest RMSE so far which means that at this model is the least effective at prediction. "
   ]
  },
  {
   "cell_type": "markdown",
   "id": "e3a78da1-fc58-48b6-92d6-9b187e5c56db",
   "metadata": {},
   "source": [
    "# 3. Discussion"
   ]
  },
  {
   "cell_type": "markdown",
   "id": "539bc9db-af3f-4651-9a36-e192c85937fa",
   "metadata": {},
   "source": [
    "Research question:\n",
    "- Do h1n1 classify as a pandemic compared to the covid 19 pandemic?\n",
    "- What factors are correlated most with mental health decline during a pandemic?\n",
    "- Did the H1N1 pandemic (2009-2010) have a negative effect on mental health?\n",
    "\n",
    "\n",
    "- Covid: \n",
    "    - alcohol_deaths(0.79) \n",
    "    - suicide_deaths(-0.83)\n",
    "    - R = 0.565\n",
    "    - RMSE = 0.18186618637885996\n",
    "- h1n1: \n",
    "    - alcohol_deaths(-0.23)\n",
    "    - homicide(0.14)\n",
    "    - R = 0.156\n",
    "    - RMSE = 0.20981691979048442\n",
    "- both: \n",
    "    - alcohol_deaths(0.56)\n",
    "    - suicide_deaths(-0.76)\n",
    "    - R = 0.329\n",
    "    - RMSE = 0.26987030762879516"
   ]
  },
  {
   "cell_type": "markdown",
   "id": "c89963df-c098-4b46-9fde-9dee03a0f3cd",
   "metadata": {},
   "source": [
    "After our analysis, which includes the visualitions as well as the linear models above, we have created a story that shows the differences between h1n1 and covid. In our scaled visualizations we saw the huge difference between the number of h1n1 deaths and the number of COVID deaths. We investigated the differnces further by conduction a linear regression that we built to predict the occurence of deaths due to each virus based on the a group of independent  variables: alcohol_deaths, alcohol sales, drug_deaths, homicides, suicide_deaths, percent unemployed. The adjusted r score of our COVID model was 0.565, 3 times higher than the R score for the H1N1 model. This indicates that the COVID model was a much better fit for the data; the changes in the data could be explained 3 times better with the COVID model than the h1n1 model. Our RMSE scores for both models were slightly more similiar. COVID scored 0.18 and H1N1 scored 0.21. This score also supports that the covid model was more prescise as the average varaince of the model from the data was lower. I ran a third model that group the dummy variables from bith H1N1 and COVID. The R score was right in the middle of the other two but the RMSE was the highest out of all three. I believe that this is because the model was being built to predict at two different points, making the likelihood for error higher."
   ]
  },
  {
   "cell_type": "code",
   "execution_count": null,
   "id": "a98d4af4-1060-4b83-9e7c-d9ed45077467",
   "metadata": {},
   "outputs": [],
   "source": []
  }
 ],
 "metadata": {
  "kernelspec": {
   "display_name": "Python 3",
   "language": "python",
   "name": "python3"
  },
  "language_info": {
   "codemirror_mode": {
    "name": "ipython",
    "version": 3
   },
   "file_extension": ".py",
   "mimetype": "text/x-python",
   "name": "python",
   "nbconvert_exporter": "python",
   "pygments_lexer": "ipython3",
   "version": "3.8.8"
  }
 },
 "nbformat": 4,
 "nbformat_minor": 5
}
